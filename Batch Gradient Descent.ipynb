{
 "cells": [
  {
   "cell_type": "markdown",
   "metadata": {},
   "source": [
    "### Katrina Hernandez: Machine Learning Homework #1, Linear Regression and Gradient Descent"
   ]
  },
  {
   "cell_type": "markdown",
   "metadata": {},
   "source": [
    "Notes: The goal of this assignment is to predict column 54 (number comments in H hours). Because we know that it is highly dependent on column 39 (H hours), make sure to include 39 as a feature in EVERY model."
   ]
  },
  {
   "cell_type": "markdown",
   "metadata": {},
   "source": [
    "### Loading packages and data."
   ]
  },
  {
   "cell_type": "code",
   "execution_count": 1,
   "metadata": {
    "collapsed": true
   },
   "outputs": [],
   "source": [
    "import pandas as pd\n",
    "import numpy as np\n",
    "import random as rand\n",
    "import matplotlib.pyplot as plt"
   ]
  },
  {
   "cell_type": "code",
   "execution_count": 2,
   "metadata": {
    "collapsed": true
   },
   "outputs": [],
   "source": [
    "facebook = pd.read_csv('Features_Variant_1.csv', header=None)"
   ]
  },
  {
   "cell_type": "code",
   "execution_count": 3,
   "metadata": {},
   "outputs": [
    {
     "name": "stdout",
     "output_type": "stream",
     "text": [
      "Length before adding test sets: 40949\n"
     ]
    }
   ],
   "source": [
    "print(\"Length before adding test sets:\", len(facebook))"
   ]
  },
  {
   "cell_type": "code",
   "execution_count": 4,
   "metadata": {
    "collapsed": true
   },
   "outputs": [],
   "source": [
    "test1 = pd.read_csv('Test_Case_1.csv', header=None)\n",
    "test2 = pd.read_csv('Test_Case_2.csv', header=None)\n",
    "test3 = pd.read_csv('Test_case_3.csv', header=None)\n",
    "test4 = pd.read_csv('Test_case_4.csv', header=None)\n",
    "test5 = pd.read_csv('Test_case_5.csv', header=None)\n",
    "test6 = pd.read_csv('Test_case_6.csv', header=None)\n",
    "test7 = pd.read_csv('Test_case_7.csv', header=None)\n",
    "test8 = pd.read_csv('Test_case_8.csv', header=None)\n",
    "test9 = pd.read_csv('Test_case_9.csv', header=None)\n",
    "test10 = pd.read_csv('Test_case_10.csv', header=None)"
   ]
  },
  {
   "cell_type": "code",
   "execution_count": 5,
   "metadata": {
    "collapsed": true
   },
   "outputs": [],
   "source": [
    "facebook = facebook.append([test1, test2, test3, test4, test5, test6, test7, test8, test9, test10], ignore_index=True)"
   ]
  },
  {
   "cell_type": "code",
   "execution_count": 6,
   "metadata": {},
   "outputs": [
    {
     "name": "stdout",
     "output_type": "stream",
     "text": [
      "Length after adding test sets: 41949\n"
     ]
    }
   ],
   "source": [
    "print(\"Length after adding test sets:\", len(facebook))"
   ]
  },
  {
   "cell_type": "code",
   "execution_count": 7,
   "metadata": {
    "collapsed": true
   },
   "outputs": [],
   "source": [
    "new_names = ['PagePopularity_1', 'PageCheckins_2', 'PageTalkingAbout_3', 'PageCategory_4']\n",
    "old_names = facebook.columns[0:4]\n",
    "facebook.rename(columns=dict(zip(old_names, new_names)), inplace=True)\n",
    "\n",
    "new_names2 = ['CommentsBeforeBase_30', 'CommentsLast24h_31', 'CommentsLast48to24h_32', 'CommentsFirst24h_33', 'CommentsDiffFirstSecondDay_34', 'BaseTime_35',\n",
    "'PostLength_36', 'PostShareCnt_37', 'PostPromoStatus_38', 'HoursReceived_39', 'SundayPublished_40', 'MondayPublished_41', 'TuesdayPublisher_42',\n",
    "'WednesdayPublished_43', 'ThursdayPublished_44', 'FridayPublished_45', 'SaturdayPublished_46', 'SundayBase_47', 'MondayBase_48', 'TuesdayBase_49',\n",
    "'WednesdayBase_50', 'ThursdayBase_51', 'FridayBase_52', 'SaturdayBase_53','CommentsNextH_Hours_54']\n",
    "old_names2 = facebook.columns[29:54]\n",
    "facebook.rename(columns=dict(zip(old_names2, new_names2)), inplace=True)\n",
    "\n",
    "facebook2 = facebook.iloc[:, np.r_[0:4, 29:54]]\n",
    "facebook2 = facebook2.drop('PostPromoStatus_38', axis=1)"
   ]
  },
  {
   "cell_type": "markdown",
   "metadata": {},
   "source": [
    "### Feature scaling."
   ]
  },
  {
   "cell_type": "code",
   "execution_count": 8,
   "metadata": {
    "collapsed": true
   },
   "outputs": [],
   "source": [
    "mean_1 = sum(facebook2['PagePopularity_1'])/len(facebook2['PagePopularity_1'])\n",
    "sd_1 = np.std(facebook2['PagePopularity_1'])\n",
    "mean_2 = sum(facebook2['PageCheckins_2'])/len(facebook2['PageCheckins_2'])\n",
    "sd_2 = np.std(facebook2['PageCheckins_2'])\n",
    "mean_3 = sum(facebook2['PageTalkingAbout_3'])/len(facebook2['PageTalkingAbout_3'])\n",
    "sd_3 = np.std(facebook2['PageTalkingAbout_3'])\n",
    "mean_4 = sum(facebook2['PageCategory_4'])/len(facebook2['PageCategory_4'])\n",
    "sd_4 = np.std(facebook2['PageCategory_4'])\n",
    "mean_30 = sum(facebook2['CommentsBeforeBase_30'])/len(facebook2['CommentsBeforeBase_30'])\n",
    "sd_30 = np.std(facebook2['CommentsBeforeBase_30'])\n",
    "mean_31 = sum(facebook2['CommentsLast24h_31'])/len(facebook2['CommentsLast24h_31'])\n",
    "sd_31 = np.std(facebook2['CommentsLast24h_31'])\n",
    "mean_32= sum(facebook2['CommentsLast48to24h_32'])/len(facebook2['CommentsLast48to24h_32'])\n",
    "sd_32 = np.std(facebook2['CommentsLast48to24h_32'])\n",
    "mean_33= sum(facebook2['CommentsFirst24h_33'])/len(facebook2['CommentsFirst24h_33'])\n",
    "sd_33 = np.std(facebook2['CommentsFirst24h_33'])\n",
    "mean_34 = sum(facebook2['CommentsDiffFirstSecondDay_34'])/len(facebook2['CommentsDiffFirstSecondDay_34'])\n",
    "sd_34 = np.std(facebook2['CommentsDiffFirstSecondDay_34'])\n",
    "### find out if you should scale BaseTime \n",
    "mean_36 = sum(facebook2['PostLength_36'])/len(facebook2['PostLength_36'])\n",
    "sd_36 = np.std(facebook2['PostLength_36'])\n",
    "mean_37 = sum(facebook2['PostShareCnt_37'])/len(facebook2['PostShareCnt_37'])\n",
    "sd_37 = np.std(facebook2['PostShareCnt_37'])\n",
    "### find out if you should scale HoursReceived \n",
    "mean_39 = sum(facebook2['HoursReceived_39'])/len(facebook2['HoursReceived_39'])\n",
    "sd_39 = np.std(facebook2['HoursReceived_39'])\n",
    "mean_40 = sum(facebook2['SundayPublished_40'])/len(facebook2['SundayPublished_40'])\n",
    "sd_40 = np.std(facebook2['SundayPublished_40'])\n",
    "mean_41 = sum(facebook2['MondayPublished_41'])/len(facebook2['MondayPublished_41'])\n",
    "sd_41 = np.std(facebook2['MondayPublished_41'])\n",
    "mean_42 = sum(facebook2['TuesdayPublisher_42'])/len(facebook2['TuesdayPublisher_42'])\n",
    "sd_42 = np.std(facebook2['TuesdayPublisher_42'])\n",
    "mean_43 = sum(facebook2['WednesdayPublished_43'])/len(facebook2['WednesdayPublished_43'])\n",
    "sd_43 = np.std(facebook2['WednesdayPublished_43'])\n",
    "mean_44 = sum(facebook2['ThursdayPublished_44'])/len(facebook2['ThursdayPublished_44'])\n",
    "sd_44 = np.std(facebook2['ThursdayPublished_44'])\n",
    "mean_45 = sum(facebook2['FridayPublished_45'])/len(facebook2['FridayPublished_45'])\n",
    "sd_45 = np.std(facebook2['FridayPublished_45'])\n",
    "mean_46 = sum(facebook2['SaturdayPublished_46'])/len(facebook2['SaturdayPublished_46'])\n",
    "sd_46 = np.std(facebook2['SaturdayPublished_46'])\n",
    "mean_47 = sum(facebook2['SundayBase_47'])/len(facebook2['SundayBase_47'])\n",
    "sd_47 = np.std(facebook2['SundayBase_47'])\n",
    "mean_48 = sum(facebook2['MondayBase_48'])/len(facebook2['MondayBase_48'])\n",
    "sd_48 = np.std(facebook2['MondayBase_48'])\n",
    "mean_49 = sum(facebook2['TuesdayBase_49'])/len(facebook2['TuesdayBase_49'])\n",
    "sd_49 = np.std(facebook2['TuesdayBase_49'])\n",
    "mean_50 = sum(facebook2['WednesdayBase_50'])/len(facebook2['WednesdayBase_50'])\n",
    "sd_50 = np.std(facebook2['WednesdayBase_50'])\n",
    "mean_51 = sum(facebook2['ThursdayBase_51'])/len(facebook2['ThursdayBase_51'])\n",
    "sd_51 = np.std(facebook2['ThursdayBase_51'])\n",
    "mean_52 = sum(facebook2['FridayBase_52'])/len(facebook2['FridayBase_52'])\n",
    "sd_52 = np.std(facebook2['FridayBase_52'])\n",
    "mean_53 = sum(facebook2['SaturdayBase_53'])/len(facebook2['SaturdayBase_53'])\n",
    "sd_53 = np.std(facebook2['SaturdayBase_53'])\n",
    "## DO NOT scale the target (54)"
   ]
  },
  {
   "cell_type": "code",
   "execution_count": 9,
   "metadata": {
    "collapsed": true
   },
   "outputs": [],
   "source": [
    "### make a copy for manipulations\n",
    "facebook2_s = facebook2"
   ]
  },
  {
   "cell_type": "code",
   "execution_count": 10,
   "metadata": {
    "collapsed": true
   },
   "outputs": [],
   "source": [
    "facebook2_s['PagePopularity_1'] = (facebook2['PagePopularity_1'] - mean_1)/sd_1\n",
    "facebook2_s['PageCheckins_2'] = (facebook2['PageCheckins_2'] - mean_2)/sd_2\n",
    "facebook2_s['PageTalkingAbout_3'] = (facebook2['PageTalkingAbout_3'] - mean_3)/sd_3\n",
    "facebook2_s['PageCategory_4'] = (facebook2['PageCategory_4'] - mean_4)/sd_4\n",
    "facebook2_s['CommentsBeforeBase_30'] = (facebook2['CommentsBeforeBase_30'] - mean_30)/sd_30\n",
    "facebook2_s['CommentsLast24h_31'] = (facebook2['CommentsLast24h_31'] - mean_31)/sd_31\n",
    "facebook2_s['CommentsLast48to24h_32'] = (facebook2['CommentsLast48to24h_32'] - mean_32)/sd_32\n",
    "facebook2_s['CommentsFirst24h_33'] = (facebook2['CommentsFirst24h_33'] - mean_33)/sd_33\n",
    "facebook2_s['CommentsDiffFirstSecondDay_34'] = (facebook2['CommentsDiffFirstSecondDay_34'] - mean_34)/sd_34\n",
    "## check to see if 35 should be scaled\n",
    "facebook2_s['BaseTime_35'] = facebook2['BaseTime_35']\n",
    "facebook2_s['PostLength_36'] = (facebook2['PostLength_36'] - mean_36)/sd_36\n",
    "facebook2_s['PostShareCnt_37'] = (facebook2['PostShareCnt_37'] - mean_37)/sd_37\n",
    "##facebook2_s['PostPromoStatus_38'] = (facebook2['PostPromoStatus_38'] - mean_38)/sd_38 --- appears to be zero\n",
    "## check to see if 39 should be scaled\n",
    "facebook2_s['HoursReceived_39'] = (facebook2['HoursReceived_39'] - mean_39)/sd_39\n",
    "facebook2_s['SundayPublished_40'] = (facebook2['SundayPublished_40'] - mean_40)/sd_40\n",
    "facebook2_s['MondayPublished_41'] = (facebook2['MondayPublished_41'] - mean_41)/sd_41\n",
    "facebook2_s['TuesdayPublisher_42'] = (facebook2['TuesdayPublisher_42'] - mean_42)/sd_42\n",
    "facebook2_s['WednesdayPublished_43'] = (facebook2['WednesdayPublished_43'] - mean_43)/sd_43\n",
    "facebook2_s['ThursdayPublished_44'] = (facebook2['ThursdayPublished_44'] - mean_44)/sd_44\n",
    "facebook2_s['FridayPublished_45'] = (facebook2['FridayPublished_45'] - mean_45)/sd_45\n",
    "facebook2_s['SaturdayPublished_46'] = (facebook2['SaturdayPublished_46'] - mean_46)/sd_46\n",
    "facebook2_s['SundayBase_47'] = (facebook2['SundayBase_47'] - mean_47)/sd_47\n",
    "facebook2_s['MondayBase_48'] = (facebook2['MondayBase_48'] - mean_48)/sd_48\n",
    "facebook2_s['TuesdayBase_49'] = (facebook2['TuesdayBase_49'] - mean_49)/sd_49\n",
    "facebook2_s['WednesdayBase_50'] = (facebook2['WednesdayBase_50'] - mean_50)/sd_50\n",
    "facebook2_s['ThursdayBase_51'] = (facebook2['ThursdayBase_51'] - mean_51)/sd_51\n",
    "facebook2_s['FridayBase_52'] = (facebook2['FridayBase_52'] - mean_52)/sd_52\n",
    "facebook2_s['SaturdayBase_53'] = (facebook2['SaturdayBase_53'] - mean_53)/sd_53\n",
    "## don't scales the target\n",
    "facebook2_s['CommentsNextH_Hours_54'] = facebook2['CommentsNextH_Hours_54']"
   ]
  },
  {
   "cell_type": "code",
   "execution_count": 11,
   "metadata": {},
   "outputs": [
    {
     "name": "stdout",
     "output_type": "stream",
     "text": [
      "min:  PagePopularity_1   -0.200393\n",
      "dtype: float64 max:  PagePopularity_1    70.851069\n",
      "dtype: float64 avg:  PagePopularity_1    6.736237e-16\n",
      "dtype: float64\n",
      "min:  PageCheckins_2   -0.220202\n",
      "dtype: float64 max:  PageCheckins_2    51.426992\n",
      "dtype: float64 avg:  PageCheckins_2   -4.903442e-15\n",
      "dtype: float64\n",
      "min:  PageTalkingAbout_3   -0.363327\n",
      "dtype: float64 max:  PageTalkingAbout_3    48.775627\n",
      "dtype: float64 avg:  PageTalkingAbout_3   -8.406349e-16\n",
      "dtype: float64\n",
      "min:  PageCategory_4   -1.161633\n",
      "dtype: float64 max:  PageCategory_4    4.096188\n",
      "dtype: float64 avg:  PageCategory_4   -1.389540e-14\n",
      "dtype: float64\n",
      "min:  CommentsBeforeBase_30   -0.396924\n",
      "dtype: float64 max:  CommentsBeforeBase_30    19.047724\n",
      "dtype: float64 avg:  CommentsBeforeBase_30    3.455704e-15\n",
      "dtype: float64\n",
      "min:  CommentsLast24h_31   -0.277312\n",
      "dtype: float64 max:  CommentsLast24h_31    32.700824\n",
      "dtype: float64 avg:  CommentsLast24h_31   -4.537555e-15\n",
      "dtype: float64\n",
      "min:  CommentsLast48to24h_32   -0.269467\n",
      "dtype: float64 max:  CommentsLast48to24h_32    24.40017\n",
      "dtype: float64 avg:  CommentsLast48to24h_32    5.066205e-15\n",
      "dtype: float64\n",
      "min:  CommentsFirst24h_33   -0.400045\n",
      "dtype: float64 max:  CommentsFirst24h_33    20.325318\n",
      "dtype: float64 avg:  CommentsFirst24h_33    2.966565e-15\n",
      "dtype: float64\n",
      "min:  CommentsDiffFirstSecondDay_34   -13.636922\n",
      "dtype: float64 max:  CommentsDiffFirstSecondDay_34    27.673161\n",
      "dtype: float64 avg:  CommentsDiffFirstSecondDay_34   -1.297308e-15\n",
      "dtype: float64\n",
      "min:  BaseTime_35    0\n",
      "dtype: int64 max:  BaseTime_35    72\n",
      "dtype: int64 avg:  BaseTime_35    34.904575\n",
      "dtype: float64\n",
      "min:  PostLength_36   -0.434645\n",
      "dtype: float64 max:  PostLength_36    56.688747\n",
      "dtype: float64 avg:  PostLength_36    3.637159e-17\n",
      "dtype: float64\n",
      "min:  PostShareCnt_37   -0.124345\n",
      "dtype: float64 max:  PostShareCnt_37    154.791357\n",
      "dtype: float64 avg:  PostShareCnt_37   -2.852220e-16\n",
      "dtype: float64\n",
      "min:  HoursReceived_39   -8.613471\n",
      "dtype: float64 max:  HoursReceived_39    0.164766\n",
      "dtype: float64 avg:  HoursReceived_39   -4.687417e-14\n",
      "dtype: float64\n",
      "min:  SundayPublished_40   -0.376496\n",
      "dtype: float64 max:  SundayPublished_40    2.656073\n",
      "dtype: float64 avg:  SundayPublished_40    8.792422e-16\n",
      "dtype: float64\n",
      "min:  MondayPublished_41   -0.406151\n",
      "dtype: float64 max:  MondayPublished_41    2.462138\n",
      "dtype: float64 avg:  MondayPublished_41   -6.762594e-15\n",
      "dtype: float64\n",
      "min:  TuesdayPublisher_42   -0.413768\n",
      "dtype: float64 max:  TuesdayPublisher_42    2.416816\n",
      "dtype: float64 avg:  TuesdayPublisher_42    4.066485e-15\n",
      "dtype: float64\n",
      "min:  WednesdayPublished_43   -0.426218\n",
      "dtype: float64 max:  WednesdayPublished_43    2.346216\n",
      "dtype: float64 avg:  WednesdayPublished_43   -2.042414e-15\n",
      "dtype: float64\n",
      "min:  ThursdayPublished_44   -0.414518\n",
      "dtype: float64 max:  ThursdayPublished_44    2.41244\n",
      "dtype: float64 avg:  ThursdayPublished_44    1.391541e-15\n",
      "dtype: float64\n",
      "min:  FridayPublished_45   -0.41779\n",
      "dtype: float64 max:  FridayPublished_45    2.393547\n",
      "dtype: float64 avg:  FridayPublished_45   -2.691705e-15\n",
      "dtype: float64\n",
      "min:  SaturdayPublished_46   -0.40196\n",
      "dtype: float64 max:  SaturdayPublished_46    2.487811\n",
      "dtype: float64 avg:  SaturdayPublished_46   -4.680849e-15\n",
      "dtype: float64\n",
      "min:  SundayBase_47   -0.413886\n",
      "dtype: float64 max:  SundayBase_47    2.416124\n",
      "dtype: float64 avg:  SundayBase_47   -9.636870e-15\n",
      "dtype: float64\n",
      "min:  MondayBase_48   -0.393397\n",
      "dtype: float64 max:  MondayBase_48    2.541964\n",
      "dtype: float64 avg:  MondayBase_48    5.397030e-16\n",
      "dtype: float64\n",
      "min:  TuesdayBase_49   -0.393962\n",
      "dtype: float64 max:  TuesdayBase_49    2.538315\n",
      "dtype: float64 avg:  TuesdayBase_49    8.327258e-15\n",
      "dtype: float64\n",
      "min:  WednesdayBase_50   -0.411909\n",
      "dtype: float64 max:  WednesdayBase_50    2.427723\n",
      "dtype: float64 avg:  WednesdayBase_50    4.582017e-15\n",
      "dtype: float64\n",
      "min:  ThursdayBase_51   -0.418774\n",
      "dtype: float64 max:  ThursdayBase_51    2.387926\n",
      "dtype: float64 avg:  ThursdayBase_51   -4.869133e-15\n",
      "dtype: float64\n",
      "min:  FridayBase_52   -0.411513\n",
      "dtype: float64 max:  FridayBase_52    2.430059\n",
      "dtype: float64 avg:  FridayBase_52    8.181176e-16\n",
      "dtype: float64\n",
      "min:  SaturdayBase_53   -0.413965\n",
      "dtype: float64 max:  SaturdayBase_53    2.415662\n",
      "dtype: float64 avg:  SaturdayBase_53   -3.459553e-15\n",
      "dtype: float64\n"
     ]
    }
   ],
   "source": [
    "i = 0\n",
    "while (i < 27):\n",
    "    print('min: ', facebook2_s.iloc[:, i:(i+1)].min(), 'max: ', facebook2_s.iloc[:, i:(i+1)].max(), 'avg: ', facebook2_s.iloc[:, i:(i+1)].mean())\n",
    "    i += 1    "
   ]
  },
  {
   "cell_type": "markdown",
   "metadata": {},
   "source": [
    "### Outlier detection."
   ]
  },
  {
   "cell_type": "code",
   "execution_count": 12,
   "metadata": {},
   "outputs": [
    {
     "name": "stdout",
     "output_type": "stream",
     "text": [
      "-0.194508164337 -0.0114906200353 0.183017544302\n",
      "PagePopularity_1    4662\n",
      "dtype: int64\n",
      "-0.220202487092 -0.215556596292 0.0046458907995\n",
      "PagePopularity_1    8198\n",
      "dtype: int64\n",
      "-0.357930765771 0.022055649996 0.379986415767\n",
      "PagePopularity_1    3766\n",
      "dtype: int64\n",
      "-0.761036927143 0.390676246522 1.15171317367\n",
      "PagePopularity_1    2286\n",
      "dtype: int64\n",
      "-0.382950118455 -0.0755248525305 0.307425265925\n",
      "PagePopularity_1    5405\n",
      "dtype: int64\n",
      "-0.277311771209 -0.135113557214 0.142198213994\n",
      "PagePopularity_1    6170\n",
      "dtype: int64\n",
      "-0.269466714453 -0.146800013011 0.122666701442\n",
      "PagePopularity_1    6538\n",
      "dtype: int64\n",
      "-0.385150970412 -0.0723714991797 0.312779471233\n",
      "PagePopularity_1    5359\n",
      "dtype: int64\n",
      "-0.0958971514214 -0.00628742730423 0.0896097241172\n",
      "PagePopularity_1    11977\n",
      "dtype: int64\n",
      "17.0 53.0 36.0\n",
      "PagePopularity_1    0\n",
      "dtype: int64\n",
      "-0.333588576279 0.022767778975 0.356356355254\n",
      "PagePopularity_1    3271\n",
      "dtype: int64\n",
      "-0.123275413021 -0.0601793928478 0.0630960201728\n",
      "PagePopularity_1    5662\n",
      "dtype: int64\n",
      "0.164765895284 0.164765895284 0.0\n",
      "PagePopularity_1    1402\n",
      "dtype: int64\n",
      "-0.376495683581 -0.376495683581 0.0\n",
      "PagePopularity_1    5208\n",
      "dtype: int64\n",
      "-0.40615115451 -0.40615115451 0.0\n",
      "PagePopularity_1    5940\n",
      "dtype: int64\n",
      "-0.41376758983 -0.41376758983 0.0\n",
      "PagePopularity_1    6132\n",
      "dtype: int64\n",
      "-0.426218220904 -0.426218220904 0.0\n",
      "PagePopularity_1    6449\n",
      "dtype: int64\n",
      "-0.414518083603 -0.414518083603 0.0\n",
      "PagePopularity_1    6151\n",
      "dtype: int64\n",
      "-0.417790029835 -0.417790029835 0.0\n",
      "PagePopularity_1    6234\n",
      "dtype: int64\n",
      "-0.401959810988 -0.401959810988 0.0\n",
      "PagePopularity_1    5835\n",
      "dtype: int64\n",
      "-0.413886126347 -0.413886126347 0.0\n",
      "PagePopularity_1    6135\n",
      "dtype: int64\n",
      "-0.393396646692 -0.393396646692 0.0\n",
      "PagePopularity_1    5622\n",
      "dtype: int64\n",
      "-0.393962085141 -0.393962085141 0.0\n",
      "PagePopularity_1    5636\n",
      "dtype: int64\n",
      "-0.411908665369 -0.411908665369 0.0\n",
      "PagePopularity_1    6085\n",
      "dtype: int64\n",
      "-0.41877350973 -0.41877350973 0.0\n",
      "PagePopularity_1    6259\n",
      "dtype: int64\n",
      "-0.411512696582 -0.411512696582 0.0\n",
      "PagePopularity_1    6075\n",
      "dtype: int64\n",
      "-0.413965142864 -0.413965142864 0.0\n",
      "PagePopularity_1    6137\n",
      "dtype: int64\n"
     ]
    }
   ],
   "source": [
    "## note: not sure why column names isn't changing but values are\n",
    "i = 0\n",
    "while (i < 27):\n",
    "    q25 = np.percentile(facebook2_s.iloc[:, i:(i+1)].values, [25, 75])[0]\n",
    "    q75 = np.percentile(facebook2_s.iloc[:, i:(i+1)].values, [25, 75])[1]\n",
    "    iqr = q75-q25\n",
    "    print(q25, q75, iqr)\n",
    "    lower = q25-(1.5*iqr)\n",
    "    upper = q75 + (1.5*iqr)\n",
    "    print(facebook2_s[(facebook2_s.iloc[:, i:(i+1)] > upper).values].iloc[:, 0:1].count() + facebook2_s[(facebook2_s.iloc[:, i:(i+1)] < lower).values].iloc[:, 0:1].count())\n",
    "    i += 1"
   ]
  },
  {
   "cell_type": "markdown",
   "metadata": {},
   "source": [
    "### Partition data into Testing & Training."
   ]
  },
  {
   "cell_type": "code",
   "execution_count": 13,
   "metadata": {
    "collapsed": true
   },
   "outputs": [],
   "source": [
    "X = facebook2_s.iloc[:, 0:27]\n",
    "y = pd.DataFrame(facebook2_s.iloc[:, 27:28])"
   ]
  },
  {
   "cell_type": "code",
   "execution_count": 14,
   "metadata": {
    "collapsed": true
   },
   "outputs": [],
   "source": [
    "from sklearn.model_selection import train_test_split\n",
    "\n",
    "X_train, X_test, y_train, y_test = train_test_split(X, y, test_size=0.3, random_state=4786)"
   ]
  },
  {
   "cell_type": "markdown",
   "metadata": {},
   "source": [
    "### Version 1: Setting up a baseline for experimentation with Batch Gradient Descent."
   ]
  },
  {
   "cell_type": "code",
   "execution_count": 15,
   "metadata": {},
   "outputs": [
    {
     "name": "stderr",
     "output_type": "stream",
     "text": [
      "C:\\Users\\katri\\Anaconda3\\lib\\site-packages\\ipykernel_launcher.py:22: SettingWithCopyWarning: \n",
      "A value is trying to be set on a copy of a slice from a DataFrame.\n",
      "Try using .loc[row_indexer,col_indexer] = value instead\n",
      "\n",
      "See the caveats in the documentation: http://pandas.pydata.org/pandas-docs/stable/indexing.html#indexing-view-versus-copy\n"
     ]
    }
   ],
   "source": [
    "m = len(X_train)\n",
    "y = y_train\n",
    "\n",
    "alpha = .1\n",
    "\n",
    "np.random.seed(2019)\n",
    "beta_0 = rand.random()\n",
    "beta_1 = rand.random()\n",
    "beta_2 = rand.random()\n",
    "beta_3 = rand.random()\n",
    "beta_4 = rand.random()\n",
    "beta_5 = rand.random()\n",
    "beta_6 = rand.random()\n",
    "beta_7 = rand.random()\n",
    "beta_8 = rand.random()\n",
    "beta_9 = rand.random()\n",
    "beta_10 = rand.random()\n",
    "beta_11 = rand.random()\n",
    "\n",
    "X = X_train[['HoursReceived_39', 'PostShareCnt_37', 'CommentsFirst24h_33', 'PageCheckins_2', 'SundayPublished_40', 'FridayPublished_45', 'SaturdayPublished_46', 'MondayPublished_41', 'CommentsDiffFirstSecondDay_34', 'PagePopularity_1', 'PageTalkingAbout_3']]\n",
    "\n",
    "X['y-int'] = 1\n",
    "\n",
    "betas = {'HoursReceived_39': beta_1, 'PostShareCnt_37': beta_2, 'CommentsFirst24h_33': beta_3, 'PageCheckins_2': beta_4, 'SundayPublished_40': beta_5, 'FridayPublished_45': beta_6, 'SaturdayPublished_46': beta_7, 'MondayPublished_41': beta_8\n",
    "         , 'CommentsDiffFirstSecondDay_34': beta_9, 'PagePopularity_1': beta_10, 'PageTalkingAbout_3': beta_11, 'y-int': beta_0}\n",
    "beta_j = pd.Series(betas)\n",
    "beta_j\n",
    "\n",
    "beta_df = pd.DataFrame(beta_j)\n",
    "\n",
    "train_MSE = pd.Series([])"
   ]
  },
  {
   "cell_type": "code",
   "execution_count": 16,
   "metadata": {
    "collapsed": true
   },
   "outputs": [],
   "source": [
    "for i in range(50):\n",
    "\n",
    "    XtimesBeta = X.multiply(other=beta_j, axis=1)\n",
    "\n",
    "    ### y-hat: sum all of the columns for each row\n",
    "    XtimesBeta['y-hat'] = XtimesBeta.sum(axis=1)\n",
    "\n",
    "    XtimesBeta = pd.merge(XtimesBeta, y, left_index=True, right_index=True)\n",
    "\n",
    "    XtimesBeta['resid'] = XtimesBeta['y-hat'] - XtimesBeta['CommentsNextH_Hours_54']\n",
    "\n",
    "    train_MSE[i] = sum((XtimesBeta['resid']*XtimesBeta['resid']))/m\n",
    "\n",
    "    d0 = sum(XtimesBeta['resid'])/m\n",
    "    d1 = sum(XtimesBeta['resid']*X['HoursReceived_39'])/m\n",
    "    d2 = sum(XtimesBeta['resid']*X['PostShareCnt_37'])/m\n",
    "    d3 = sum(XtimesBeta['resid']*X['CommentsFirst24h_33'])/m\n",
    "    d4 = sum(XtimesBeta['resid']*X['PageCheckins_2'])/m\n",
    "    d5 = sum(XtimesBeta['resid']*X['SundayPublished_40'])/m\n",
    "    d6 = sum(XtimesBeta['resid']*X['FridayPublished_45'])/m\n",
    "    d7 = sum(XtimesBeta['resid']*X['SaturdayPublished_46'])/m\n",
    "    d8 = sum(XtimesBeta['resid']*X['MondayPublished_41'])/m\n",
    "    d9 = sum(XtimesBeta['resid']*X['CommentsDiffFirstSecondDay_34'])/m\n",
    "    d10 = sum(XtimesBeta['resid']*X['PagePopularity_1'])/m\n",
    "    d11 = sum(XtimesBeta['resid']*X['PageTalkingAbout_3'])/m\n",
    "\n",
    "    newBeta_j = pd.Series([])\n",
    "    newBeta_j['y-int'] = beta_j['y-int'] - alpha*(d0)\n",
    "    newBeta_j['HoursReceived_39'] = beta_j['HoursReceived_39'] - alpha*(d1)\n",
    "    newBeta_j['PostShareCnt_37'] = beta_j['PostShareCnt_37'] - alpha*(d2)\n",
    "    newBeta_j['CommentsFirst24h_33'] = beta_j['CommentsFirst24h_33'] - alpha*(d3)\n",
    "    newBeta_j['PageCheckins_2'] = beta_j['PageCheckins_2'] - alpha*(d4)\n",
    "    newBeta_j['SundayPublished_40'] = beta_j['SundayPublished_40'] - alpha*(d5)\n",
    "    newBeta_j['FridayPublished_45'] = beta_j['FridayPublished_45'] - alpha*(d6)\n",
    "    newBeta_j['SaturdayPublished_46'] = beta_j['SaturdayPublished_46'] - alpha*(d7)\n",
    "    newBeta_j['MondayPublished_41'] = beta_j['MondayPublished_41'] - alpha*(d8)\n",
    "    newBeta_j['CommentsDiffFirstSecondDay_34'] = beta_j['CommentsDiffFirstSecondDay_34'] - alpha*(d9)\n",
    "    newBeta_j['PagePopularity_1'] = beta_j['PagePopularity_1'] - alpha*(d10)\n",
    "    newBeta_j['PageTalkingAbout_3'] = beta_j['PageTalkingAbout_3'] - alpha*(d11)\n",
    "\n",
    "    beta_df = pd.concat([beta_df, newBeta_j], axis=1)\n",
    "    \n",
    "    beta_df = beta_df.rename(columns={beta_df.columns[-1]: i })\n",
    "\n",
    "    beta_j = newBeta_j"
   ]
  },
  {
   "cell_type": "code",
   "execution_count": 17,
   "metadata": {},
   "outputs": [
    {
     "data": {
      "text/plain": [
       "CommentsDiffFirstSecondDay_34    13.692615\n",
       "CommentsFirst24h_33              11.656124\n",
       "FridayPublished_45                0.257061\n",
       "HoursReceived_39                  0.360434\n",
       "MondayPublished_41                0.141763\n",
       "PageCheckins_2                   -0.785999\n",
       "PagePopularity_1                 -0.531646\n",
       "PageTalkingAbout_3                2.074168\n",
       "PostShareCnt_37                   1.319732\n",
       "SaturdayPublished_46             -0.071911\n",
       "SundayPublished_40                0.000622\n",
       "y-int                             7.804076\n",
       "Name: 49, dtype: float64"
      ]
     },
     "execution_count": 17,
     "metadata": {},
     "output_type": "execute_result"
    }
   ],
   "source": [
    "beta_df[49]"
   ]
  },
  {
   "cell_type": "code",
   "execution_count": 18,
   "metadata": {
    "scrolled": true
   },
   "outputs": [
    {
     "name": "stderr",
     "output_type": "stream",
     "text": [
      "C:\\Users\\katri\\Anaconda3\\lib\\site-packages\\ipykernel_launcher.py:10: SettingWithCopyWarning: \n",
      "A value is trying to be set on a copy of a slice from a DataFrame.\n",
      "Try using .loc[row_indexer,col_indexer] = value instead\n",
      "\n",
      "See the caveats in the documentation: http://pandas.pydata.org/pandas-docs/stable/indexing.html#indexing-view-versus-copy\n",
      "  # Remove the CWD from sys.path while we load stuff.\n"
     ]
    }
   ],
   "source": [
    "train_MSE_versions = pd.DataFrame(pd.Series(train_MSE))\n",
    "train_MSE_versions = train_MSE_versions.rename(columns={0:'Version1- alpha of 0.1'})\n",
    "\n",
    "coef_v1 = beta_df[49]\n",
    "\n",
    "mm = len(X_test)\n",
    "\n",
    "test = X_test[['HoursReceived_39', 'PostShareCnt_37', 'CommentsFirst24h_33', 'PageCheckins_2', 'SundayPublished_40', 'FridayPublished_45', 'SaturdayPublished_46', 'MondayPublished_41', 'CommentsDiffFirstSecondDay_34', 'PagePopularity_1', 'PageTalkingAbout_3']]\n",
    "\n",
    "test['y-int'] = 1\n",
    "testTimesBeta = test.multiply(other=coef_v1, axis=1)\n",
    "\n",
    "testTimesBeta['y-hat'] = testTimesBeta.sum(axis=1)\n",
    "\n",
    "testTimesBeta = pd.merge(testTimesBeta, y_test, left_index=True, right_index=True)\n",
    "testTimesBeta['resid'] = testTimesBeta['y-hat'] - testTimesBeta['CommentsNextH_Hours_54']\n",
    "MSE_test_v1 = sum(testTimesBeta['resid']*testTimesBeta['resid'])/mm"
   ]
  },
  {
   "cell_type": "code",
   "execution_count": 19,
   "metadata": {},
   "outputs": [
    {
     "name": "stdout",
     "output_type": "stream",
     "text": [
      "Test MSE for Version 1:  958.27\n"
     ]
    }
   ],
   "source": [
    "print(\"Test MSE for Version 1: \", round(MSE_test_v1, 2))"
   ]
  },
  {
   "cell_type": "markdown",
   "metadata": {},
   "source": [
    "## Experimentation Part 1: Varying the Learning Rate (alpha)"
   ]
  },
  {
   "cell_type": "markdown",
   "metadata": {},
   "source": [
    "### Version 2: Experimenting with a learning rate of 0.2 (Version 1 was 0.1)."
   ]
  },
  {
   "cell_type": "code",
   "execution_count": 20,
   "metadata": {},
   "outputs": [
    {
     "name": "stderr",
     "output_type": "stream",
     "text": [
      "C:\\Users\\katri\\Anaconda3\\lib\\site-packages\\ipykernel_launcher.py:22: SettingWithCopyWarning: \n",
      "A value is trying to be set on a copy of a slice from a DataFrame.\n",
      "Try using .loc[row_indexer,col_indexer] = value instead\n",
      "\n",
      "See the caveats in the documentation: http://pandas.pydata.org/pandas-docs/stable/indexing.html#indexing-view-versus-copy\n"
     ]
    }
   ],
   "source": [
    "m = len(X_train)\n",
    "y = y_train\n",
    "\n",
    "alpha = .2\n",
    "\n",
    "np.random.seed(2019)\n",
    "beta_0 = rand.random()\n",
    "beta_1 = rand.random()\n",
    "beta_2 = rand.random()\n",
    "beta_3 = rand.random()\n",
    "beta_4 = rand.random()\n",
    "beta_5 = rand.random()\n",
    "beta_6 = rand.random()\n",
    "beta_7 = rand.random()\n",
    "beta_8 = rand.random()\n",
    "beta_9 = rand.random()\n",
    "beta_10 = rand.random()\n",
    "beta_11 = rand.random()\n",
    "\n",
    "X = X_train[['HoursReceived_39', 'PostShareCnt_37', 'CommentsFirst24h_33', 'PageCheckins_2', 'SundayPublished_40', 'FridayPublished_45', 'SaturdayPublished_46', 'MondayPublished_41', 'CommentsDiffFirstSecondDay_34', 'PagePopularity_1', 'PageTalkingAbout_3']]\n",
    "\n",
    "X['y-int'] = 1\n",
    "\n",
    "betas = {'HoursReceived_39': beta_1, 'PostShareCnt_37': beta_2, 'CommentsFirst24h_33': beta_3, 'PageCheckins_2': beta_4, 'SundayPublished_40': beta_5, 'FridayPublished_45': beta_6, 'SaturdayPublished_46': beta_7, 'MondayPublished_41': beta_8\n",
    "         , 'CommentsDiffFirstSecondDay_34': beta_9, 'PagePopularity_1': beta_10, 'PageTalkingAbout_3': beta_11, 'y-int': beta_0}\n",
    "beta_j = pd.Series(betas)\n",
    "beta_j\n",
    "\n",
    "beta_df = pd.DataFrame(beta_j)\n",
    "\n",
    "train_MSE = pd.Series([])"
   ]
  },
  {
   "cell_type": "code",
   "execution_count": 21,
   "metadata": {
    "collapsed": true
   },
   "outputs": [],
   "source": [
    "for i in range(50):\n",
    "\n",
    "    XtimesBeta = X.multiply(other=beta_j, axis=1)\n",
    "\n",
    "    ### y-hat: sum all of the columns for each row\n",
    "    XtimesBeta['y-hat'] = XtimesBeta.sum(axis=1)\n",
    "\n",
    "    XtimesBeta = pd.merge(XtimesBeta, y, left_index=True, right_index=True)\n",
    "\n",
    "    XtimesBeta['resid'] = XtimesBeta['y-hat'] - XtimesBeta['CommentsNextH_Hours_54']\n",
    "\n",
    "    train_MSE[i] = sum((XtimesBeta['resid']*XtimesBeta['resid']))/m\n",
    "\n",
    "    d0 = sum(XtimesBeta['resid'])/m\n",
    "    d1 = sum(XtimesBeta['resid']*X['HoursReceived_39'])/m\n",
    "    d2 = sum(XtimesBeta['resid']*X['PostShareCnt_37'])/m\n",
    "    d3 = sum(XtimesBeta['resid']*X['CommentsFirst24h_33'])/m\n",
    "    d4 = sum(XtimesBeta['resid']*X['PageCheckins_2'])/m\n",
    "    d5 = sum(XtimesBeta['resid']*X['SundayPublished_40'])/m\n",
    "    d6 = sum(XtimesBeta['resid']*X['FridayPublished_45'])/m\n",
    "    d7 = sum(XtimesBeta['resid']*X['SaturdayPublished_46'])/m\n",
    "    d8 = sum(XtimesBeta['resid']*X['MondayPublished_41'])/m\n",
    "    d9 = sum(XtimesBeta['resid']*X['CommentsDiffFirstSecondDay_34'])/m\n",
    "    d10 = sum(XtimesBeta['resid']*X['PagePopularity_1'])/m\n",
    "    d11 = sum(XtimesBeta['resid']*X['PageTalkingAbout_3'])/m\n",
    "\n",
    "    newBeta_j = pd.Series([])\n",
    "    newBeta_j['y-int'] = beta_j['y-int'] - alpha*(d0)\n",
    "    newBeta_j['HoursReceived_39'] = beta_j['HoursReceived_39'] - alpha*(d1)\n",
    "    newBeta_j['PostShareCnt_37'] = beta_j['PostShareCnt_37'] - alpha*(d2)\n",
    "    newBeta_j['CommentsFirst24h_33'] = beta_j['CommentsFirst24h_33'] - alpha*(d3)\n",
    "    newBeta_j['PageCheckins_2'] = beta_j['PageCheckins_2'] - alpha*(d4)\n",
    "    newBeta_j['SundayPublished_40'] = beta_j['SundayPublished_40'] - alpha*(d5)\n",
    "    newBeta_j['FridayPublished_45'] = beta_j['FridayPublished_45'] - alpha*(d6)\n",
    "    newBeta_j['SaturdayPublished_46'] = beta_j['SaturdayPublished_46'] - alpha*(d7)\n",
    "    newBeta_j['MondayPublished_41'] = beta_j['MondayPublished_41'] - alpha*(d8)\n",
    "    newBeta_j['CommentsDiffFirstSecondDay_34'] = beta_j['CommentsDiffFirstSecondDay_34'] - alpha*(d9)\n",
    "    newBeta_j['PagePopularity_1'] = beta_j['PagePopularity_1'] - alpha*(d10)\n",
    "    newBeta_j['PageTalkingAbout_3'] = beta_j['PageTalkingAbout_3'] - alpha*(d11)\n",
    "\n",
    "    beta_df = pd.concat([beta_df, newBeta_j], axis=1)\n",
    "    \n",
    "    beta_df = beta_df.rename(columns={beta_df.columns[-1]: i })\n",
    "\n",
    "    beta_j = newBeta_j"
   ]
  },
  {
   "cell_type": "code",
   "execution_count": 22,
   "metadata": {
    "collapsed": true
   },
   "outputs": [],
   "source": [
    "train_MSE_versions = pd.merge(pd.DataFrame(train_MSE_versions), pd.DataFrame(pd.Series(train_MSE)), right_index=True, left_index=True)\n",
    "train_MSE_versions = train_MSE_versions.rename(columns={0:'Version2- alpha of 0.2'})"
   ]
  },
  {
   "cell_type": "code",
   "execution_count": 23,
   "metadata": {},
   "outputs": [
    {
     "data": {
      "text/html": [
       "<div>\n",
       "<style>\n",
       "    .dataframe thead tr:only-child th {\n",
       "        text-align: right;\n",
       "    }\n",
       "\n",
       "    .dataframe thead th {\n",
       "        text-align: left;\n",
       "    }\n",
       "\n",
       "    .dataframe tbody tr th {\n",
       "        vertical-align: top;\n",
       "    }\n",
       "</style>\n",
       "<table border=\"1\" class=\"dataframe\">\n",
       "  <thead>\n",
       "    <tr style=\"text-align: right;\">\n",
       "      <th></th>\n",
       "      <th>Version1- alpha of 0.1</th>\n",
       "      <th>Version2- alpha of 0.2</th>\n",
       "    </tr>\n",
       "  </thead>\n",
       "  <tbody>\n",
       "    <tr>\n",
       "      <th>0</th>\n",
       "      <td>1646.836341</td>\n",
       "      <td>1642.012462</td>\n",
       "    </tr>\n",
       "    <tr>\n",
       "      <th>1</th>\n",
       "      <td>1550.648822</td>\n",
       "      <td>1469.878312</td>\n",
       "    </tr>\n",
       "    <tr>\n",
       "      <th>2</th>\n",
       "      <td>1478.938168</td>\n",
       "      <td>1374.701598</td>\n",
       "    </tr>\n",
       "    <tr>\n",
       "      <th>3</th>\n",
       "      <td>1424.724185</td>\n",
       "      <td>1319.029019</td>\n",
       "    </tr>\n",
       "    <tr>\n",
       "      <th>4</th>\n",
       "      <td>1383.242454</td>\n",
       "      <td>1285.356073</td>\n",
       "    </tr>\n",
       "    <tr>\n",
       "      <th>5</th>\n",
       "      <td>1351.180304</td>\n",
       "      <td>1264.601885</td>\n",
       "    </tr>\n",
       "    <tr>\n",
       "      <th>6</th>\n",
       "      <td>1326.190982</td>\n",
       "      <td>1251.674282</td>\n",
       "    </tr>\n",
       "    <tr>\n",
       "      <th>7</th>\n",
       "      <td>1306.581404</td>\n",
       "      <td>1243.571684</td>\n",
       "    </tr>\n",
       "    <tr>\n",
       "      <th>8</th>\n",
       "      <td>1291.108923</td>\n",
       "      <td>1238.472630</td>\n",
       "    </tr>\n",
       "    <tr>\n",
       "      <th>9</th>\n",
       "      <td>1278.847132</td>\n",
       "      <td>1235.253795</td>\n",
       "    </tr>\n",
       "    <tr>\n",
       "      <th>10</th>\n",
       "      <td>1269.095787</td>\n",
       "      <td>1233.216202</td>\n",
       "    </tr>\n",
       "    <tr>\n",
       "      <th>11</th>\n",
       "      <td>1261.319279</td>\n",
       "      <td>1231.922683</td>\n",
       "    </tr>\n",
       "    <tr>\n",
       "      <th>12</th>\n",
       "      <td>1255.103825</td>\n",
       "      <td>1231.098941</td>\n",
       "    </tr>\n",
       "    <tr>\n",
       "      <th>13</th>\n",
       "      <td>1250.127116</td>\n",
       "      <td>1230.572471</td>\n",
       "    </tr>\n",
       "    <tr>\n",
       "      <th>14</th>\n",
       "      <td>1246.136414</td>\n",
       "      <td>1230.234574</td>\n",
       "    </tr>\n",
       "    <tr>\n",
       "      <th>15</th>\n",
       "      <td>1242.932466</td>\n",
       "      <td>1230.016629</td>\n",
       "    </tr>\n",
       "    <tr>\n",
       "      <th>16</th>\n",
       "      <td>1240.357513</td>\n",
       "      <td>1229.875229</td>\n",
       "    </tr>\n",
       "    <tr>\n",
       "      <th>17</th>\n",
       "      <td>1238.286221</td>\n",
       "      <td>1229.782857</td>\n",
       "    </tr>\n",
       "    <tr>\n",
       "      <th>18</th>\n",
       "      <td>1236.618747</td>\n",
       "      <td>1229.722027</td>\n",
       "    </tr>\n",
       "    <tr>\n",
       "      <th>19</th>\n",
       "      <td>1235.275387</td>\n",
       "      <td>1229.681594</td>\n",
       "    </tr>\n",
       "    <tr>\n",
       "      <th>20</th>\n",
       "      <td>1234.192402</td>\n",
       "      <td>1229.654430</td>\n",
       "    </tr>\n",
       "    <tr>\n",
       "      <th>21</th>\n",
       "      <td>1233.318748</td>\n",
       "      <td>1229.635961</td>\n",
       "    </tr>\n",
       "    <tr>\n",
       "      <th>22</th>\n",
       "      <td>1232.613508</td>\n",
       "      <td>1229.623236</td>\n",
       "    </tr>\n",
       "    <tr>\n",
       "      <th>23</th>\n",
       "      <td>1232.043844</td>\n",
       "      <td>1229.614340</td>\n",
       "    </tr>\n",
       "    <tr>\n",
       "      <th>24</th>\n",
       "      <td>1231.583389</td>\n",
       "      <td>1229.608027</td>\n",
       "    </tr>\n",
       "    <tr>\n",
       "      <th>25</th>\n",
       "      <td>1231.210951</td>\n",
       "      <td>1229.603475</td>\n",
       "    </tr>\n",
       "    <tr>\n",
       "      <th>26</th>\n",
       "      <td>1230.909490</td>\n",
       "      <td>1229.600141</td>\n",
       "    </tr>\n",
       "    <tr>\n",
       "      <th>27</th>\n",
       "      <td>1230.665299</td>\n",
       "      <td>1229.597661</td>\n",
       "    </tr>\n",
       "    <tr>\n",
       "      <th>28</th>\n",
       "      <td>1230.467340</td>\n",
       "      <td>1229.595789</td>\n",
       "    </tr>\n",
       "    <tr>\n",
       "      <th>29</th>\n",
       "      <td>1230.306727</td>\n",
       "      <td>1229.594355</td>\n",
       "    </tr>\n",
       "    <tr>\n",
       "      <th>30</th>\n",
       "      <td>1230.176299</td>\n",
       "      <td>1229.593244</td>\n",
       "    </tr>\n",
       "    <tr>\n",
       "      <th>31</th>\n",
       "      <td>1230.070283</td>\n",
       "      <td>1229.592374</td>\n",
       "    </tr>\n",
       "    <tr>\n",
       "      <th>32</th>\n",
       "      <td>1229.984024</td>\n",
       "      <td>1229.591684</td>\n",
       "    </tr>\n",
       "    <tr>\n",
       "      <th>33</th>\n",
       "      <td>1229.913765</td>\n",
       "      <td>1229.591134</td>\n",
       "    </tr>\n",
       "    <tr>\n",
       "      <th>34</th>\n",
       "      <td>1229.856472</td>\n",
       "      <td>1229.590691</td>\n",
       "    </tr>\n",
       "    <tr>\n",
       "      <th>35</th>\n",
       "      <td>1229.809697</td>\n",
       "      <td>1229.590333</td>\n",
       "    </tr>\n",
       "    <tr>\n",
       "      <th>36</th>\n",
       "      <td>1229.771459</td>\n",
       "      <td>1229.590041</td>\n",
       "    </tr>\n",
       "    <tr>\n",
       "      <th>37</th>\n",
       "      <td>1229.740157</td>\n",
       "      <td>1229.589803</td>\n",
       "    </tr>\n",
       "    <tr>\n",
       "      <th>38</th>\n",
       "      <td>1229.714495</td>\n",
       "      <td>1229.589608</td>\n",
       "    </tr>\n",
       "    <tr>\n",
       "      <th>39</th>\n",
       "      <td>1229.693424</td>\n",
       "      <td>1229.589447</td>\n",
       "    </tr>\n",
       "  </tbody>\n",
       "</table>\n",
       "</div>"
      ],
      "text/plain": [
       "    Version1- alpha of 0.1  Version2- alpha of 0.2\n",
       "0              1646.836341             1642.012462\n",
       "1              1550.648822             1469.878312\n",
       "2              1478.938168             1374.701598\n",
       "3              1424.724185             1319.029019\n",
       "4              1383.242454             1285.356073\n",
       "5              1351.180304             1264.601885\n",
       "6              1326.190982             1251.674282\n",
       "7              1306.581404             1243.571684\n",
       "8              1291.108923             1238.472630\n",
       "9              1278.847132             1235.253795\n",
       "10             1269.095787             1233.216202\n",
       "11             1261.319279             1231.922683\n",
       "12             1255.103825             1231.098941\n",
       "13             1250.127116             1230.572471\n",
       "14             1246.136414             1230.234574\n",
       "15             1242.932466             1230.016629\n",
       "16             1240.357513             1229.875229\n",
       "17             1238.286221             1229.782857\n",
       "18             1236.618747             1229.722027\n",
       "19             1235.275387             1229.681594\n",
       "20             1234.192402             1229.654430\n",
       "21             1233.318748             1229.635961\n",
       "22             1232.613508             1229.623236\n",
       "23             1232.043844             1229.614340\n",
       "24             1231.583389             1229.608027\n",
       "25             1231.210951             1229.603475\n",
       "26             1230.909490             1229.600141\n",
       "27             1230.665299             1229.597661\n",
       "28             1230.467340             1229.595789\n",
       "29             1230.306727             1229.594355\n",
       "30             1230.176299             1229.593244\n",
       "31             1230.070283             1229.592374\n",
       "32             1229.984024             1229.591684\n",
       "33             1229.913765             1229.591134\n",
       "34             1229.856472             1229.590691\n",
       "35             1229.809697             1229.590333\n",
       "36             1229.771459             1229.590041\n",
       "37             1229.740157             1229.589803\n",
       "38             1229.714495             1229.589608\n",
       "39             1229.693424             1229.589447"
      ]
     },
     "execution_count": 23,
     "metadata": {},
     "output_type": "execute_result"
    }
   ],
   "source": [
    "train_MSE_versions.head(40)"
   ]
  },
  {
   "cell_type": "code",
   "execution_count": 24,
   "metadata": {},
   "outputs": [
    {
     "name": "stderr",
     "output_type": "stream",
     "text": [
      "C:\\Users\\katri\\Anaconda3\\lib\\site-packages\\ipykernel_launcher.py:7: SettingWithCopyWarning: \n",
      "A value is trying to be set on a copy of a slice from a DataFrame.\n",
      "Try using .loc[row_indexer,col_indexer] = value instead\n",
      "\n",
      "See the caveats in the documentation: http://pandas.pydata.org/pandas-docs/stable/indexing.html#indexing-view-versus-copy\n",
      "  import sys\n"
     ]
    }
   ],
   "source": [
    "coef_v2 = beta_df[49]\n",
    "\n",
    "test = X_test[['HoursReceived_39', 'PostShareCnt_37', 'CommentsFirst24h_33', 'PageCheckins_2', 'SundayPublished_40', 'FridayPublished_45', 'SaturdayPublished_46', 'MondayPublished_41', 'CommentsDiffFirstSecondDay_34', 'PagePopularity_1', 'PageTalkingAbout_3']]\n",
    "\n",
    "mm = len(X_test)\n",
    "\n",
    "test['y-int'] = 1\n",
    "testTimesBeta = test.multiply(other=coef_v2, axis=1)\n",
    "\n",
    "testTimesBeta['y-hat'] = testTimesBeta.sum(axis=1)\n",
    "\n",
    "testTimesBeta = pd.merge(testTimesBeta, y_test, left_index=True, right_index=True)\n",
    "testTimesBeta['resid'] = testTimesBeta['y-hat'] - testTimesBeta['CommentsNextH_Hours_54']\n",
    "MSE_test_v2 = sum(testTimesBeta['resid']*testTimesBeta['resid'])/mm"
   ]
  },
  {
   "cell_type": "code",
   "execution_count": 25,
   "metadata": {},
   "outputs": [
    {
     "name": "stdout",
     "output_type": "stream",
     "text": [
      "Test MSE for Version 2:  958.85\n"
     ]
    }
   ],
   "source": [
    "print(\"Test MSE for Version 2: \", round(MSE_test_v2, 2))"
   ]
  },
  {
   "cell_type": "markdown",
   "metadata": {},
   "source": [
    "### Version 3: Experimenting with a learning rate of 0.3"
   ]
  },
  {
   "cell_type": "code",
   "execution_count": 26,
   "metadata": {},
   "outputs": [
    {
     "name": "stderr",
     "output_type": "stream",
     "text": [
      "C:\\Users\\katri\\Anaconda3\\lib\\site-packages\\ipykernel_launcher.py:22: SettingWithCopyWarning: \n",
      "A value is trying to be set on a copy of a slice from a DataFrame.\n",
      "Try using .loc[row_indexer,col_indexer] = value instead\n",
      "\n",
      "See the caveats in the documentation: http://pandas.pydata.org/pandas-docs/stable/indexing.html#indexing-view-versus-copy\n"
     ]
    }
   ],
   "source": [
    "m = len(X_train)\n",
    "y = y_train\n",
    "\n",
    "alpha = .3\n",
    "\n",
    "np.random.seed(2019)\n",
    "beta_0 = rand.random()\n",
    "beta_1 = rand.random()\n",
    "beta_2 = rand.random()\n",
    "beta_3 = rand.random()\n",
    "beta_4 = rand.random()\n",
    "beta_5 = rand.random()\n",
    "beta_6 = rand.random()\n",
    "beta_7 = rand.random()\n",
    "beta_8 = rand.random()\n",
    "beta_9 = rand.random()\n",
    "beta_10 = rand.random()\n",
    "beta_11 = rand.random()\n",
    "\n",
    "X = X_train[['HoursReceived_39', 'PostShareCnt_37', 'CommentsFirst24h_33', 'PageCheckins_2', 'SundayPublished_40', 'FridayPublished_45', 'SaturdayPublished_46', 'MondayPublished_41', 'CommentsDiffFirstSecondDay_34', 'PagePopularity_1', 'PageTalkingAbout_3']]\n",
    "\n",
    "X['y-int'] = 1\n",
    "\n",
    "betas = {'HoursReceived_39': beta_1, 'PostShareCnt_37': beta_2, 'CommentsFirst24h_33': beta_3, 'PageCheckins_2': beta_4, 'SundayPublished_40': beta_5, 'FridayPublished_45': beta_6, 'SaturdayPublished_46': beta_7, 'MondayPublished_41': beta_8\n",
    "         , 'CommentsDiffFirstSecondDay_34': beta_9, 'PagePopularity_1': beta_10, 'PageTalkingAbout_3': beta_11, 'y-int': beta_0}\n",
    "beta_j = pd.Series(betas)\n",
    "beta_j\n",
    "\n",
    "beta_df = pd.DataFrame(beta_j)\n",
    "\n",
    "train_MSE = pd.Series([])"
   ]
  },
  {
   "cell_type": "code",
   "execution_count": 27,
   "metadata": {
    "collapsed": true
   },
   "outputs": [],
   "source": [
    "for i in range(50):\n",
    "\n",
    "    XtimesBeta = X.multiply(other=beta_j, axis=1)\n",
    "\n",
    "    ### y-hat: sum all of the columns for each row\n",
    "    XtimesBeta['y-hat'] = XtimesBeta.sum(axis=1)\n",
    "\n",
    "    XtimesBeta = pd.merge(XtimesBeta, y, left_index=True, right_index=True)\n",
    "\n",
    "    XtimesBeta['resid'] = XtimesBeta['y-hat'] - XtimesBeta['CommentsNextH_Hours_54']\n",
    "\n",
    "    train_MSE[i] = sum((XtimesBeta['resid']*XtimesBeta['resid']))/m\n",
    "\n",
    "    d0 = sum(XtimesBeta['resid'])/m\n",
    "    d1 = sum(XtimesBeta['resid']*X['HoursReceived_39'])/m\n",
    "    d2 = sum(XtimesBeta['resid']*X['PostShareCnt_37'])/m\n",
    "    d3 = sum(XtimesBeta['resid']*X['CommentsFirst24h_33'])/m\n",
    "    d4 = sum(XtimesBeta['resid']*X['PageCheckins_2'])/m\n",
    "    d5 = sum(XtimesBeta['resid']*X['SundayPublished_40'])/m\n",
    "    d6 = sum(XtimesBeta['resid']*X['FridayPublished_45'])/m\n",
    "    d7 = sum(XtimesBeta['resid']*X['SaturdayPublished_46'])/m\n",
    "    d8 = sum(XtimesBeta['resid']*X['MondayPublished_41'])/m\n",
    "    d9 = sum(XtimesBeta['resid']*X['CommentsDiffFirstSecondDay_34'])/m\n",
    "    d10 = sum(XtimesBeta['resid']*X['PagePopularity_1'])/m\n",
    "    d11 = sum(XtimesBeta['resid']*X['PageTalkingAbout_3'])/m\n",
    "\n",
    "    newBeta_j = pd.Series([])\n",
    "    newBeta_j['y-int'] = beta_j['y-int'] - alpha*(d0)\n",
    "    newBeta_j['HoursReceived_39'] = beta_j['HoursReceived_39'] - alpha*(d1)\n",
    "    newBeta_j['PostShareCnt_37'] = beta_j['PostShareCnt_37'] - alpha*(d2)\n",
    "    newBeta_j['CommentsFirst24h_33'] = beta_j['CommentsFirst24h_33'] - alpha*(d3)\n",
    "    newBeta_j['PageCheckins_2'] = beta_j['PageCheckins_2'] - alpha*(d4)\n",
    "    newBeta_j['SundayPublished_40'] = beta_j['SundayPublished_40'] - alpha*(d5)\n",
    "    newBeta_j['FridayPublished_45'] = beta_j['FridayPublished_45'] - alpha*(d6)\n",
    "    newBeta_j['SaturdayPublished_46'] = beta_j['SaturdayPublished_46'] - alpha*(d7)\n",
    "    newBeta_j['MondayPublished_41'] = beta_j['MondayPublished_41'] - alpha*(d8)\n",
    "    newBeta_j['CommentsDiffFirstSecondDay_34'] = beta_j['CommentsDiffFirstSecondDay_34'] - alpha*(d9)\n",
    "    newBeta_j['PagePopularity_1'] = beta_j['PagePopularity_1'] - alpha*(d10)\n",
    "    newBeta_j['PageTalkingAbout_3'] = beta_j['PageTalkingAbout_3'] - alpha*(d11)\n",
    "\n",
    "    beta_df = pd.concat([beta_df, newBeta_j], axis=1)\n",
    "    \n",
    "    beta_df = beta_df.rename(columns={beta_df.columns[-1]: i })\n",
    "\n",
    "    beta_j = newBeta_j"
   ]
  },
  {
   "cell_type": "code",
   "execution_count": 28,
   "metadata": {
    "collapsed": true
   },
   "outputs": [],
   "source": [
    "train_MSE_versions = pd.merge(pd.DataFrame(train_MSE_versions), pd.DataFrame(pd.Series(train_MSE)), right_index=True, left_index=True)\n",
    "train_MSE_versions = train_MSE_versions.rename(columns={0:'Version3- alpha of 0.3'})"
   ]
  },
  {
   "cell_type": "code",
   "execution_count": 29,
   "metadata": {},
   "outputs": [
    {
     "data": {
      "text/html": [
       "<div>\n",
       "<style>\n",
       "    .dataframe thead tr:only-child th {\n",
       "        text-align: right;\n",
       "    }\n",
       "\n",
       "    .dataframe thead th {\n",
       "        text-align: left;\n",
       "    }\n",
       "\n",
       "    .dataframe tbody tr th {\n",
       "        vertical-align: top;\n",
       "    }\n",
       "</style>\n",
       "<table border=\"1\" class=\"dataframe\">\n",
       "  <thead>\n",
       "    <tr style=\"text-align: right;\">\n",
       "      <th></th>\n",
       "      <th>Version1- alpha of 0.1</th>\n",
       "      <th>Version2- alpha of 0.2</th>\n",
       "      <th>Version3- alpha of 0.3</th>\n",
       "    </tr>\n",
       "  </thead>\n",
       "  <tbody>\n",
       "    <tr>\n",
       "      <th>0</th>\n",
       "      <td>1646.836341</td>\n",
       "      <td>1642.012462</td>\n",
       "      <td>1659.949083</td>\n",
       "    </tr>\n",
       "    <tr>\n",
       "      <th>1</th>\n",
       "      <td>1550.648822</td>\n",
       "      <td>1469.878312</td>\n",
       "      <td>1410.472431</td>\n",
       "    </tr>\n",
       "    <tr>\n",
       "      <th>2</th>\n",
       "      <td>1478.938168</td>\n",
       "      <td>1374.701598</td>\n",
       "      <td>1312.905125</td>\n",
       "    </tr>\n",
       "    <tr>\n",
       "      <th>3</th>\n",
       "      <td>1424.724185</td>\n",
       "      <td>1319.029019</td>\n",
       "      <td>1269.070964</td>\n",
       "    </tr>\n",
       "    <tr>\n",
       "      <th>4</th>\n",
       "      <td>1383.242454</td>\n",
       "      <td>1285.356073</td>\n",
       "      <td>1248.517998</td>\n",
       "    </tr>\n",
       "    <tr>\n",
       "      <th>5</th>\n",
       "      <td>1351.180304</td>\n",
       "      <td>1264.601885</td>\n",
       "      <td>1238.743537</td>\n",
       "    </tr>\n",
       "    <tr>\n",
       "      <th>6</th>\n",
       "      <td>1326.190982</td>\n",
       "      <td>1251.674282</td>\n",
       "      <td>1234.060110</td>\n",
       "    </tr>\n",
       "    <tr>\n",
       "      <th>7</th>\n",
       "      <td>1306.581404</td>\n",
       "      <td>1243.571684</td>\n",
       "      <td>1231.800517</td>\n",
       "    </tr>\n",
       "    <tr>\n",
       "      <th>8</th>\n",
       "      <td>1291.108923</td>\n",
       "      <td>1238.472630</td>\n",
       "      <td>1230.701311</td>\n",
       "    </tr>\n",
       "    <tr>\n",
       "      <th>9</th>\n",
       "      <td>1278.847132</td>\n",
       "      <td>1235.253795</td>\n",
       "      <td>1230.160873</td>\n",
       "    </tr>\n",
       "    <tr>\n",
       "      <th>10</th>\n",
       "      <td>1269.095787</td>\n",
       "      <td>1233.216202</td>\n",
       "      <td>1229.891424</td>\n",
       "    </tr>\n",
       "    <tr>\n",
       "      <th>11</th>\n",
       "      <td>1261.319279</td>\n",
       "      <td>1231.922683</td>\n",
       "      <td>1229.754597</td>\n",
       "    </tr>\n",
       "    <tr>\n",
       "      <th>12</th>\n",
       "      <td>1255.103825</td>\n",
       "      <td>1231.098941</td>\n",
       "      <td>1229.683445</td>\n",
       "    </tr>\n",
       "    <tr>\n",
       "      <th>13</th>\n",
       "      <td>1250.127116</td>\n",
       "      <td>1230.572471</td>\n",
       "      <td>1229.645319</td>\n",
       "    </tr>\n",
       "    <tr>\n",
       "      <th>14</th>\n",
       "      <td>1246.136414</td>\n",
       "      <td>1230.234574</td>\n",
       "      <td>1229.624133</td>\n",
       "    </tr>\n",
       "    <tr>\n",
       "      <th>15</th>\n",
       "      <td>1242.932466</td>\n",
       "      <td>1230.016629</td>\n",
       "      <td>1229.611860</td>\n",
       "    </tr>\n",
       "    <tr>\n",
       "      <th>16</th>\n",
       "      <td>1240.357513</td>\n",
       "      <td>1229.875229</td>\n",
       "      <td>1229.604425</td>\n",
       "    </tr>\n",
       "    <tr>\n",
       "      <th>17</th>\n",
       "      <td>1238.286221</td>\n",
       "      <td>1229.782857</td>\n",
       "      <td>1229.599715</td>\n",
       "    </tr>\n",
       "    <tr>\n",
       "      <th>18</th>\n",
       "      <td>1236.618747</td>\n",
       "      <td>1229.722027</td>\n",
       "      <td>1229.596605</td>\n",
       "    </tr>\n",
       "    <tr>\n",
       "      <th>19</th>\n",
       "      <td>1235.275387</td>\n",
       "      <td>1229.681594</td>\n",
       "      <td>1229.594478</td>\n",
       "    </tr>\n",
       "  </tbody>\n",
       "</table>\n",
       "</div>"
      ],
      "text/plain": [
       "    Version1- alpha of 0.1  Version2- alpha of 0.2  Version3- alpha of 0.3\n",
       "0              1646.836341             1642.012462             1659.949083\n",
       "1              1550.648822             1469.878312             1410.472431\n",
       "2              1478.938168             1374.701598             1312.905125\n",
       "3              1424.724185             1319.029019             1269.070964\n",
       "4              1383.242454             1285.356073             1248.517998\n",
       "5              1351.180304             1264.601885             1238.743537\n",
       "6              1326.190982             1251.674282             1234.060110\n",
       "7              1306.581404             1243.571684             1231.800517\n",
       "8              1291.108923             1238.472630             1230.701311\n",
       "9              1278.847132             1235.253795             1230.160873\n",
       "10             1269.095787             1233.216202             1229.891424\n",
       "11             1261.319279             1231.922683             1229.754597\n",
       "12             1255.103825             1231.098941             1229.683445\n",
       "13             1250.127116             1230.572471             1229.645319\n",
       "14             1246.136414             1230.234574             1229.624133\n",
       "15             1242.932466             1230.016629             1229.611860\n",
       "16             1240.357513             1229.875229             1229.604425\n",
       "17             1238.286221             1229.782857             1229.599715\n",
       "18             1236.618747             1229.722027             1229.596605\n",
       "19             1235.275387             1229.681594             1229.594478"
      ]
     },
     "execution_count": 29,
     "metadata": {},
     "output_type": "execute_result"
    }
   ],
   "source": [
    "train_MSE_versions.head(20)"
   ]
  },
  {
   "cell_type": "code",
   "execution_count": 30,
   "metadata": {},
   "outputs": [
    {
     "name": "stderr",
     "output_type": "stream",
     "text": [
      "C:\\Users\\katri\\Anaconda3\\lib\\site-packages\\ipykernel_launcher.py:7: SettingWithCopyWarning: \n",
      "A value is trying to be set on a copy of a slice from a DataFrame.\n",
      "Try using .loc[row_indexer,col_indexer] = value instead\n",
      "\n",
      "See the caveats in the documentation: http://pandas.pydata.org/pandas-docs/stable/indexing.html#indexing-view-versus-copy\n",
      "  import sys\n"
     ]
    }
   ],
   "source": [
    "coef_v3 = beta_df[49]\n",
    "\n",
    "test = X_test[['HoursReceived_39', 'PostShareCnt_37', 'CommentsFirst24h_33', 'PageCheckins_2', 'SundayPublished_40', 'FridayPublished_45', 'SaturdayPublished_46', 'MondayPublished_41', 'CommentsDiffFirstSecondDay_34', 'PagePopularity_1', 'PageTalkingAbout_3']]\n",
    "\n",
    "mm = len(X_test)\n",
    "\n",
    "test['y-int'] = 1\n",
    "testTimesBeta = test.multiply(other=coef_v3, axis=1)\n",
    "\n",
    "testTimesBeta['y-hat'] = testTimesBeta.sum(axis=1)\n",
    "\n",
    "testTimesBeta = pd.merge(testTimesBeta, y_test, left_index=True, right_index=True)\n",
    "testTimesBeta['resid'] = testTimesBeta['y-hat'] - testTimesBeta['CommentsNextH_Hours_54']\n",
    "MSE_test_v3 = sum(testTimesBeta['resid']*testTimesBeta['resid'])/mm"
   ]
  },
  {
   "cell_type": "code",
   "execution_count": 31,
   "metadata": {},
   "outputs": [
    {
     "name": "stdout",
     "output_type": "stream",
     "text": [
      "Test MSE for Version 3:  958.86\n"
     ]
    }
   ],
   "source": [
    "print(\"Test MSE for Version 3: \", round(MSE_test_v3, 2))"
   ]
  },
  {
   "cell_type": "markdown",
   "metadata": {},
   "source": [
    "### Version 4: Experimenting with a learning rate of 0.4"
   ]
  },
  {
   "cell_type": "code",
   "execution_count": 32,
   "metadata": {},
   "outputs": [
    {
     "name": "stderr",
     "output_type": "stream",
     "text": [
      "C:\\Users\\katri\\Anaconda3\\lib\\site-packages\\ipykernel_launcher.py:22: SettingWithCopyWarning: \n",
      "A value is trying to be set on a copy of a slice from a DataFrame.\n",
      "Try using .loc[row_indexer,col_indexer] = value instead\n",
      "\n",
      "See the caveats in the documentation: http://pandas.pydata.org/pandas-docs/stable/indexing.html#indexing-view-versus-copy\n"
     ]
    }
   ],
   "source": [
    "m = len(X_train)\n",
    "y = y_train\n",
    "\n",
    "alpha = .4\n",
    "\n",
    "np.random.seed(2019)\n",
    "beta_0 = rand.random()\n",
    "beta_1 = rand.random()\n",
    "beta_2 = rand.random()\n",
    "beta_3 = rand.random()\n",
    "beta_4 = rand.random()\n",
    "beta_5 = rand.random()\n",
    "beta_6 = rand.random()\n",
    "beta_7 = rand.random()\n",
    "beta_8 = rand.random()\n",
    "beta_9 = rand.random()\n",
    "beta_10 = rand.random()\n",
    "beta_11 = rand.random()\n",
    "\n",
    "X = X_train[['HoursReceived_39', 'PostShareCnt_37', 'CommentsFirst24h_33', 'PageCheckins_2', 'SundayPublished_40', 'FridayPublished_45', 'SaturdayPublished_46', 'MondayPublished_41', 'CommentsDiffFirstSecondDay_34', 'PagePopularity_1', 'PageTalkingAbout_3']]\n",
    "\n",
    "X['y-int'] = 1\n",
    "\n",
    "betas = {'HoursReceived_39': beta_1, 'PostShareCnt_37': beta_2, 'CommentsFirst24h_33': beta_3, 'PageCheckins_2': beta_4, 'SundayPublished_40': beta_5, 'FridayPublished_45': beta_6, 'SaturdayPublished_46': beta_7, 'MondayPublished_41': beta_8\n",
    "         , 'CommentsDiffFirstSecondDay_34': beta_9, 'PagePopularity_1': beta_10, 'PageTalkingAbout_3': beta_11, 'y-int': beta_0}\n",
    "beta_j = pd.Series(betas)\n",
    "beta_j\n",
    "\n",
    "beta_df = pd.DataFrame(beta_j)\n",
    "\n",
    "train_MSE = pd.Series([])"
   ]
  },
  {
   "cell_type": "code",
   "execution_count": 33,
   "metadata": {
    "collapsed": true
   },
   "outputs": [],
   "source": [
    "for i in range(50):\n",
    "\n",
    "    XtimesBeta = X.multiply(other=beta_j, axis=1)\n",
    "\n",
    "    ### y-hat: sum all of the columns for each row\n",
    "    XtimesBeta['y-hat'] = XtimesBeta.sum(axis=1)\n",
    "\n",
    "    XtimesBeta = pd.merge(XtimesBeta, y, left_index=True, right_index=True)\n",
    "\n",
    "    XtimesBeta['resid'] = XtimesBeta['y-hat'] - XtimesBeta['CommentsNextH_Hours_54']\n",
    "\n",
    "    train_MSE[i] = sum((XtimesBeta['resid']*XtimesBeta['resid']))/m\n",
    "\n",
    "    d0 = sum(XtimesBeta['resid'])/m\n",
    "    d1 = sum(XtimesBeta['resid']*X['HoursReceived_39'])/m\n",
    "    d2 = sum(XtimesBeta['resid']*X['PostShareCnt_37'])/m\n",
    "    d3 = sum(XtimesBeta['resid']*X['CommentsFirst24h_33'])/m\n",
    "    d4 = sum(XtimesBeta['resid']*X['PageCheckins_2'])/m\n",
    "    d5 = sum(XtimesBeta['resid']*X['SundayPublished_40'])/m\n",
    "    d6 = sum(XtimesBeta['resid']*X['FridayPublished_45'])/m\n",
    "    d7 = sum(XtimesBeta['resid']*X['SaturdayPublished_46'])/m\n",
    "    d8 = sum(XtimesBeta['resid']*X['MondayPublished_41'])/m\n",
    "    d9 = sum(XtimesBeta['resid']*X['CommentsDiffFirstSecondDay_34'])/m\n",
    "    d10 = sum(XtimesBeta['resid']*X['PagePopularity_1'])/m\n",
    "    d11 = sum(XtimesBeta['resid']*X['PageTalkingAbout_3'])/m\n",
    "\n",
    "    newBeta_j = pd.Series([])\n",
    "    newBeta_j['y-int'] = beta_j['y-int'] - alpha*(d0)\n",
    "    newBeta_j['HoursReceived_39'] = beta_j['HoursReceived_39'] - alpha*(d1)\n",
    "    newBeta_j['PostShareCnt_37'] = beta_j['PostShareCnt_37'] - alpha*(d2)\n",
    "    newBeta_j['CommentsFirst24h_33'] = beta_j['CommentsFirst24h_33'] - alpha*(d3)\n",
    "    newBeta_j['PageCheckins_2'] = beta_j['PageCheckins_2'] - alpha*(d4)\n",
    "    newBeta_j['SundayPublished_40'] = beta_j['SundayPublished_40'] - alpha*(d5)\n",
    "    newBeta_j['FridayPublished_45'] = beta_j['FridayPublished_45'] - alpha*(d6)\n",
    "    newBeta_j['SaturdayPublished_46'] = beta_j['SaturdayPublished_46'] - alpha*(d7)\n",
    "    newBeta_j['MondayPublished_41'] = beta_j['MondayPublished_41'] - alpha*(d8)\n",
    "    newBeta_j['CommentsDiffFirstSecondDay_34'] = beta_j['CommentsDiffFirstSecondDay_34'] - alpha*(d9)\n",
    "    newBeta_j['PagePopularity_1'] = beta_j['PagePopularity_1'] - alpha*(d10)\n",
    "    newBeta_j['PageTalkingAbout_3'] = beta_j['PageTalkingAbout_3'] - alpha*(d11)\n",
    "\n",
    "    beta_df = pd.concat([beta_df, newBeta_j], axis=1)\n",
    "    \n",
    "    beta_df = beta_df.rename(columns={beta_df.columns[-1]: i })\n",
    "\n",
    "    beta_j = newBeta_j"
   ]
  },
  {
   "cell_type": "code",
   "execution_count": 34,
   "metadata": {
    "collapsed": true
   },
   "outputs": [],
   "source": [
    "train_MSE_versions = pd.merge(pd.DataFrame(train_MSE_versions), pd.DataFrame(pd.Series(train_MSE)), right_index=True, left_index=True)\n",
    "train_MSE_versions = train_MSE_versions.rename(columns={0:'Version4- alpha of 0.4'})"
   ]
  },
  {
   "cell_type": "code",
   "execution_count": 35,
   "metadata": {},
   "outputs": [
    {
     "data": {
      "text/html": [
       "<div>\n",
       "<style>\n",
       "    .dataframe thead tr:only-child th {\n",
       "        text-align: right;\n",
       "    }\n",
       "\n",
       "    .dataframe thead th {\n",
       "        text-align: left;\n",
       "    }\n",
       "\n",
       "    .dataframe tbody tr th {\n",
       "        vertical-align: top;\n",
       "    }\n",
       "</style>\n",
       "<table border=\"1\" class=\"dataframe\">\n",
       "  <thead>\n",
       "    <tr style=\"text-align: right;\">\n",
       "      <th></th>\n",
       "      <th>Version1- alpha of 0.1</th>\n",
       "      <th>Version2- alpha of 0.2</th>\n",
       "      <th>Version3- alpha of 0.3</th>\n",
       "      <th>Version4- alpha of 0.4</th>\n",
       "    </tr>\n",
       "  </thead>\n",
       "  <tbody>\n",
       "    <tr>\n",
       "      <th>0</th>\n",
       "      <td>1646.836341</td>\n",
       "      <td>1642.012462</td>\n",
       "      <td>1659.949083</td>\n",
       "      <td>1647.474264</td>\n",
       "    </tr>\n",
       "    <tr>\n",
       "      <th>1</th>\n",
       "      <td>1550.648822</td>\n",
       "      <td>1469.878312</td>\n",
       "      <td>1410.472431</td>\n",
       "      <td>1347.481917</td>\n",
       "    </tr>\n",
       "    <tr>\n",
       "      <th>2</th>\n",
       "      <td>1478.938168</td>\n",
       "      <td>1374.701598</td>\n",
       "      <td>1312.905125</td>\n",
       "      <td>1269.825771</td>\n",
       "    </tr>\n",
       "    <tr>\n",
       "      <th>3</th>\n",
       "      <td>1424.724185</td>\n",
       "      <td>1319.029019</td>\n",
       "      <td>1269.070964</td>\n",
       "      <td>1243.603095</td>\n",
       "    </tr>\n",
       "    <tr>\n",
       "      <th>4</th>\n",
       "      <td>1383.242454</td>\n",
       "      <td>1285.356073</td>\n",
       "      <td>1248.517998</td>\n",
       "      <td>1234.545356</td>\n",
       "    </tr>\n",
       "    <tr>\n",
       "      <th>5</th>\n",
       "      <td>1351.180304</td>\n",
       "      <td>1264.601885</td>\n",
       "      <td>1238.743537</td>\n",
       "      <td>1231.377437</td>\n",
       "    </tr>\n",
       "    <tr>\n",
       "      <th>6</th>\n",
       "      <td>1326.190982</td>\n",
       "      <td>1251.674282</td>\n",
       "      <td>1234.060110</td>\n",
       "      <td>1230.252007</td>\n",
       "    </tr>\n",
       "    <tr>\n",
       "      <th>7</th>\n",
       "      <td>1306.581404</td>\n",
       "      <td>1243.571684</td>\n",
       "      <td>1231.800517</td>\n",
       "      <td>1229.843780</td>\n",
       "    </tr>\n",
       "    <tr>\n",
       "      <th>8</th>\n",
       "      <td>1291.108923</td>\n",
       "      <td>1238.472630</td>\n",
       "      <td>1230.701311</td>\n",
       "      <td>1229.691534</td>\n",
       "    </tr>\n",
       "    <tr>\n",
       "      <th>9</th>\n",
       "      <td>1278.847132</td>\n",
       "      <td>1235.253795</td>\n",
       "      <td>1230.160873</td>\n",
       "      <td>1229.632641</td>\n",
       "    </tr>\n",
       "    <tr>\n",
       "      <th>10</th>\n",
       "      <td>1269.095787</td>\n",
       "      <td>1233.216202</td>\n",
       "      <td>1229.891424</td>\n",
       "      <td>1229.608770</td>\n",
       "    </tr>\n",
       "    <tr>\n",
       "      <th>11</th>\n",
       "      <td>1261.319279</td>\n",
       "      <td>1231.922683</td>\n",
       "      <td>1229.754597</td>\n",
       "      <td>1229.598531</td>\n",
       "    </tr>\n",
       "    <tr>\n",
       "      <th>12</th>\n",
       "      <td>1255.103825</td>\n",
       "      <td>1231.098941</td>\n",
       "      <td>1229.683445</td>\n",
       "      <td>1229.593846</td>\n",
       "    </tr>\n",
       "    <tr>\n",
       "      <th>13</th>\n",
       "      <td>1250.127116</td>\n",
       "      <td>1230.572471</td>\n",
       "      <td>1229.645319</td>\n",
       "      <td>1229.591553</td>\n",
       "    </tr>\n",
       "    <tr>\n",
       "      <th>14</th>\n",
       "      <td>1246.136414</td>\n",
       "      <td>1230.234574</td>\n",
       "      <td>1229.624133</td>\n",
       "      <td>1229.590355</td>\n",
       "    </tr>\n",
       "    <tr>\n",
       "      <th>15</th>\n",
       "      <td>1242.932466</td>\n",
       "      <td>1230.016629</td>\n",
       "      <td>1229.611860</td>\n",
       "      <td>1229.589691</td>\n",
       "    </tr>\n",
       "    <tr>\n",
       "      <th>16</th>\n",
       "      <td>1240.357513</td>\n",
       "      <td>1229.875229</td>\n",
       "      <td>1229.604425</td>\n",
       "      <td>1229.589306</td>\n",
       "    </tr>\n",
       "    <tr>\n",
       "      <th>17</th>\n",
       "      <td>1238.286221</td>\n",
       "      <td>1229.782857</td>\n",
       "      <td>1229.599715</td>\n",
       "      <td>1229.589073</td>\n",
       "    </tr>\n",
       "    <tr>\n",
       "      <th>18</th>\n",
       "      <td>1236.618747</td>\n",
       "      <td>1229.722027</td>\n",
       "      <td>1229.596605</td>\n",
       "      <td>1229.588928</td>\n",
       "    </tr>\n",
       "    <tr>\n",
       "      <th>19</th>\n",
       "      <td>1235.275387</td>\n",
       "      <td>1229.681594</td>\n",
       "      <td>1229.594478</td>\n",
       "      <td>1229.588836</td>\n",
       "    </tr>\n",
       "  </tbody>\n",
       "</table>\n",
       "</div>"
      ],
      "text/plain": [
       "    Version1- alpha of 0.1  Version2- alpha of 0.2  Version3- alpha of 0.3  \\\n",
       "0              1646.836341             1642.012462             1659.949083   \n",
       "1              1550.648822             1469.878312             1410.472431   \n",
       "2              1478.938168             1374.701598             1312.905125   \n",
       "3              1424.724185             1319.029019             1269.070964   \n",
       "4              1383.242454             1285.356073             1248.517998   \n",
       "5              1351.180304             1264.601885             1238.743537   \n",
       "6              1326.190982             1251.674282             1234.060110   \n",
       "7              1306.581404             1243.571684             1231.800517   \n",
       "8              1291.108923             1238.472630             1230.701311   \n",
       "9              1278.847132             1235.253795             1230.160873   \n",
       "10             1269.095787             1233.216202             1229.891424   \n",
       "11             1261.319279             1231.922683             1229.754597   \n",
       "12             1255.103825             1231.098941             1229.683445   \n",
       "13             1250.127116             1230.572471             1229.645319   \n",
       "14             1246.136414             1230.234574             1229.624133   \n",
       "15             1242.932466             1230.016629             1229.611860   \n",
       "16             1240.357513             1229.875229             1229.604425   \n",
       "17             1238.286221             1229.782857             1229.599715   \n",
       "18             1236.618747             1229.722027             1229.596605   \n",
       "19             1235.275387             1229.681594             1229.594478   \n",
       "\n",
       "    Version4- alpha of 0.4  \n",
       "0              1647.474264  \n",
       "1              1347.481917  \n",
       "2              1269.825771  \n",
       "3              1243.603095  \n",
       "4              1234.545356  \n",
       "5              1231.377437  \n",
       "6              1230.252007  \n",
       "7              1229.843780  \n",
       "8              1229.691534  \n",
       "9              1229.632641  \n",
       "10             1229.608770  \n",
       "11             1229.598531  \n",
       "12             1229.593846  \n",
       "13             1229.591553  \n",
       "14             1229.590355  \n",
       "15             1229.589691  \n",
       "16             1229.589306  \n",
       "17             1229.589073  \n",
       "18             1229.588928  \n",
       "19             1229.588836  "
      ]
     },
     "execution_count": 35,
     "metadata": {},
     "output_type": "execute_result"
    }
   ],
   "source": [
    "train_MSE_versions.head(20)"
   ]
  },
  {
   "cell_type": "code",
   "execution_count": 36,
   "metadata": {},
   "outputs": [
    {
     "name": "stderr",
     "output_type": "stream",
     "text": [
      "C:\\Users\\katri\\Anaconda3\\lib\\site-packages\\ipykernel_launcher.py:7: SettingWithCopyWarning: \n",
      "A value is trying to be set on a copy of a slice from a DataFrame.\n",
      "Try using .loc[row_indexer,col_indexer] = value instead\n",
      "\n",
      "See the caveats in the documentation: http://pandas.pydata.org/pandas-docs/stable/indexing.html#indexing-view-versus-copy\n",
      "  import sys\n"
     ]
    }
   ],
   "source": [
    "coef_v4 = beta_df[49]\n",
    "\n",
    "test = X_test[['HoursReceived_39', 'PostShareCnt_37', 'CommentsFirst24h_33', 'PageCheckins_2', 'SundayPublished_40', 'FridayPublished_45', 'SaturdayPublished_46', 'MondayPublished_41', 'CommentsDiffFirstSecondDay_34', 'PagePopularity_1', 'PageTalkingAbout_3']]\n",
    "\n",
    "mm = len(X_test)\n",
    "\n",
    "test['y-int'] = 1\n",
    "testTimesBeta = test.multiply(other=coef_v4, axis=1)\n",
    "\n",
    "testTimesBeta['y-hat'] = testTimesBeta.sum(axis=1)\n",
    "\n",
    "testTimesBeta = pd.merge(testTimesBeta, y_test, left_index=True, right_index=True)\n",
    "testTimesBeta['resid'] = testTimesBeta['y-hat'] - testTimesBeta['CommentsNextH_Hours_54']\n",
    "MSE_test_v4 = sum(testTimesBeta['resid']*testTimesBeta['resid'])/mm"
   ]
  },
  {
   "cell_type": "code",
   "execution_count": 37,
   "metadata": {},
   "outputs": [
    {
     "name": "stdout",
     "output_type": "stream",
     "text": [
      "Test MSE for Version 4:  958.86\n"
     ]
    }
   ],
   "source": [
    "print(\"Test MSE for Version 4: \", round(MSE_test_v4, 2))"
   ]
  },
  {
   "cell_type": "markdown",
   "metadata": {},
   "source": [
    "### Version 5: Experimenting with a learning rate of 0.75"
   ]
  },
  {
   "cell_type": "code",
   "execution_count": 38,
   "metadata": {},
   "outputs": [
    {
     "name": "stderr",
     "output_type": "stream",
     "text": [
      "C:\\Users\\katri\\Anaconda3\\lib\\site-packages\\ipykernel_launcher.py:22: SettingWithCopyWarning: \n",
      "A value is trying to be set on a copy of a slice from a DataFrame.\n",
      "Try using .loc[row_indexer,col_indexer] = value instead\n",
      "\n",
      "See the caveats in the documentation: http://pandas.pydata.org/pandas-docs/stable/indexing.html#indexing-view-versus-copy\n"
     ]
    }
   ],
   "source": [
    "m = len(X_train)\n",
    "y = y_train\n",
    "\n",
    "alpha = .75\n",
    "\n",
    "np.random.seed(2019)\n",
    "beta_0 = rand.random()\n",
    "beta_1 = rand.random()\n",
    "beta_2 = rand.random()\n",
    "beta_3 = rand.random()\n",
    "beta_4 = rand.random()\n",
    "beta_5 = rand.random()\n",
    "beta_6 = rand.random()\n",
    "beta_7 = rand.random()\n",
    "beta_8 = rand.random()\n",
    "beta_9 = rand.random()\n",
    "beta_10 = rand.random()\n",
    "beta_11 = rand.random()\n",
    "\n",
    "X = X_train[['HoursReceived_39', 'PostShareCnt_37', 'CommentsFirst24h_33', 'PageCheckins_2', 'SundayPublished_40', 'FridayPublished_45', 'SaturdayPublished_46', 'MondayPublished_41', 'CommentsDiffFirstSecondDay_34', 'PagePopularity_1', 'PageTalkingAbout_3']]\n",
    "\n",
    "X['y-int'] = 1\n",
    "\n",
    "betas = {'HoursReceived_39': beta_1, 'PostShareCnt_37': beta_2, 'CommentsFirst24h_33': beta_3, 'PageCheckins_2': beta_4, 'SundayPublished_40': beta_5, 'FridayPublished_45': beta_6, 'SaturdayPublished_46': beta_7, 'MondayPublished_41': beta_8\n",
    "         , 'CommentsDiffFirstSecondDay_34': beta_9, 'PagePopularity_1': beta_10, 'PageTalkingAbout_3': beta_11, 'y-int': beta_0}\n",
    "beta_j = pd.Series(betas)\n",
    "beta_j\n",
    "\n",
    "beta_df = pd.DataFrame(beta_j)\n",
    "\n",
    "train_MSE = pd.Series([])"
   ]
  },
  {
   "cell_type": "code",
   "execution_count": 39,
   "metadata": {
    "collapsed": true
   },
   "outputs": [],
   "source": [
    "for i in range(50):\n",
    "\n",
    "    XtimesBeta = X.multiply(other=beta_j, axis=1)\n",
    "\n",
    "    ### y-hat: sum all of the columns for each row\n",
    "    XtimesBeta['y-hat'] = XtimesBeta.sum(axis=1)\n",
    "\n",
    "    XtimesBeta = pd.merge(XtimesBeta, y, left_index=True, right_index=True)\n",
    "\n",
    "    XtimesBeta['resid'] = XtimesBeta['y-hat'] - XtimesBeta['CommentsNextH_Hours_54']\n",
    "\n",
    "    train_MSE[i] = sum((XtimesBeta['resid']*XtimesBeta['resid']))/m\n",
    "\n",
    "    d0 = sum(XtimesBeta['resid'])/m\n",
    "    d1 = sum(XtimesBeta['resid']*X['HoursReceived_39'])/m\n",
    "    d2 = sum(XtimesBeta['resid']*X['PostShareCnt_37'])/m\n",
    "    d3 = sum(XtimesBeta['resid']*X['CommentsFirst24h_33'])/m\n",
    "    d4 = sum(XtimesBeta['resid']*X['PageCheckins_2'])/m\n",
    "    d5 = sum(XtimesBeta['resid']*X['SundayPublished_40'])/m\n",
    "    d6 = sum(XtimesBeta['resid']*X['FridayPublished_45'])/m\n",
    "    d7 = sum(XtimesBeta['resid']*X['SaturdayPublished_46'])/m\n",
    "    d8 = sum(XtimesBeta['resid']*X['MondayPublished_41'])/m\n",
    "    d9 = sum(XtimesBeta['resid']*X['CommentsDiffFirstSecondDay_34'])/m\n",
    "    d10 = sum(XtimesBeta['resid']*X['PagePopularity_1'])/m\n",
    "    d11 = sum(XtimesBeta['resid']*X['PageTalkingAbout_3'])/m\n",
    "\n",
    "    newBeta_j = pd.Series([])\n",
    "    newBeta_j['y-int'] = beta_j['y-int'] - alpha*(d0)\n",
    "    newBeta_j['HoursReceived_39'] = beta_j['HoursReceived_39'] - alpha*(d1)\n",
    "    newBeta_j['PostShareCnt_37'] = beta_j['PostShareCnt_37'] - alpha*(d2)\n",
    "    newBeta_j['CommentsFirst24h_33'] = beta_j['CommentsFirst24h_33'] - alpha*(d3)\n",
    "    newBeta_j['PageCheckins_2'] = beta_j['PageCheckins_2'] - alpha*(d4)\n",
    "    newBeta_j['SundayPublished_40'] = beta_j['SundayPublished_40'] - alpha*(d5)\n",
    "    newBeta_j['FridayPublished_45'] = beta_j['FridayPublished_45'] - alpha*(d6)\n",
    "    newBeta_j['SaturdayPublished_46'] = beta_j['SaturdayPublished_46'] - alpha*(d7)\n",
    "    newBeta_j['MondayPublished_41'] = beta_j['MondayPublished_41'] - alpha*(d8)\n",
    "    newBeta_j['CommentsDiffFirstSecondDay_34'] = beta_j['CommentsDiffFirstSecondDay_34'] - alpha*(d9)\n",
    "    newBeta_j['PagePopularity_1'] = beta_j['PagePopularity_1'] - alpha*(d10)\n",
    "    newBeta_j['PageTalkingAbout_3'] = beta_j['PageTalkingAbout_3'] - alpha*(d11)\n",
    "\n",
    "    beta_df = pd.concat([beta_df, newBeta_j], axis=1)\n",
    "    \n",
    "    beta_df = beta_df.rename(columns={beta_df.columns[-1]: i })\n",
    "\n",
    "    beta_j = newBeta_j"
   ]
  },
  {
   "cell_type": "code",
   "execution_count": 40,
   "metadata": {
    "collapsed": true
   },
   "outputs": [],
   "source": [
    "train_MSE_versions = pd.merge(pd.DataFrame(train_MSE_versions), pd.DataFrame(pd.Series(train_MSE)), right_index=True, left_index=True)\n",
    "train_MSE_versions = train_MSE_versions.rename(columns={0:'Version5- alpha of 0.75'})"
   ]
  },
  {
   "cell_type": "code",
   "execution_count": 41,
   "metadata": {},
   "outputs": [
    {
     "name": "stderr",
     "output_type": "stream",
     "text": [
      "C:\\Users\\katri\\Anaconda3\\lib\\site-packages\\ipykernel_launcher.py:7: SettingWithCopyWarning: \n",
      "A value is trying to be set on a copy of a slice from a DataFrame.\n",
      "Try using .loc[row_indexer,col_indexer] = value instead\n",
      "\n",
      "See the caveats in the documentation: http://pandas.pydata.org/pandas-docs/stable/indexing.html#indexing-view-versus-copy\n",
      "  import sys\n"
     ]
    }
   ],
   "source": [
    "coef_v5 = beta_df[49]\n",
    "\n",
    "test = X_test[['HoursReceived_39', 'PostShareCnt_37', 'CommentsFirst24h_33', 'PageCheckins_2', 'SundayPublished_40', 'FridayPublished_45', 'SaturdayPublished_46', 'MondayPublished_41', 'CommentsDiffFirstSecondDay_34', 'PagePopularity_1', 'PageTalkingAbout_3']]\n",
    "\n",
    "mm = len(X_test)\n",
    "\n",
    "test['y-int'] = 1\n",
    "testTimesBeta = test.multiply(other=coef_v5, axis=1)\n",
    "\n",
    "testTimesBeta['y-hat'] = testTimesBeta.sum(axis=1)\n",
    "\n",
    "testTimesBeta = pd.merge(testTimesBeta, y_test, left_index=True, right_index=True)\n",
    "testTimesBeta['resid'] = testTimesBeta['y-hat'] - testTimesBeta['CommentsNextH_Hours_54']\n",
    "MSE_test_v5 = sum(testTimesBeta['resid']*testTimesBeta['resid'])/mm"
   ]
  },
  {
   "cell_type": "code",
   "execution_count": 42,
   "metadata": {},
   "outputs": [
    {
     "name": "stdout",
     "output_type": "stream",
     "text": [
      "Test MSE for Version 5:  958.86\n"
     ]
    }
   ],
   "source": [
    "print(\"Test MSE for Version 5: \", round(MSE_test_v5, 2))"
   ]
  },
  {
   "cell_type": "code",
   "execution_count": 43,
   "metadata": {},
   "outputs": [
    {
     "data": {
      "text/html": [
       "<div>\n",
       "<style>\n",
       "    .dataframe thead tr:only-child th {\n",
       "        text-align: right;\n",
       "    }\n",
       "\n",
       "    .dataframe thead th {\n",
       "        text-align: left;\n",
       "    }\n",
       "\n",
       "    .dataframe tbody tr th {\n",
       "        vertical-align: top;\n",
       "    }\n",
       "</style>\n",
       "<table border=\"1\" class=\"dataframe\">\n",
       "  <thead>\n",
       "    <tr style=\"text-align: right;\">\n",
       "      <th></th>\n",
       "      <th>Version1- alpha of 0.1</th>\n",
       "      <th>Version2- alpha of 0.2</th>\n",
       "      <th>Version3- alpha of 0.3</th>\n",
       "      <th>Version4- alpha of 0.4</th>\n",
       "      <th>Version5- alpha of 0.75</th>\n",
       "    </tr>\n",
       "  </thead>\n",
       "  <tbody>\n",
       "    <tr>\n",
       "      <th>0</th>\n",
       "      <td>1646.836341</td>\n",
       "      <td>1642.012462</td>\n",
       "      <td>1659.949083</td>\n",
       "      <td>1647.474264</td>\n",
       "      <td>1640.250591</td>\n",
       "    </tr>\n",
       "    <tr>\n",
       "      <th>1</th>\n",
       "      <td>1550.648822</td>\n",
       "      <td>1469.878312</td>\n",
       "      <td>1410.472431</td>\n",
       "      <td>1347.481917</td>\n",
       "      <td>1272.610993</td>\n",
       "    </tr>\n",
       "    <tr>\n",
       "      <th>2</th>\n",
       "      <td>1478.938168</td>\n",
       "      <td>1374.701598</td>\n",
       "      <td>1312.905125</td>\n",
       "      <td>1269.825771</td>\n",
       "      <td>1241.279525</td>\n",
       "    </tr>\n",
       "    <tr>\n",
       "      <th>3</th>\n",
       "      <td>1424.724185</td>\n",
       "      <td>1319.029019</td>\n",
       "      <td>1269.070964</td>\n",
       "      <td>1243.603095</td>\n",
       "      <td>1234.082584</td>\n",
       "    </tr>\n",
       "    <tr>\n",
       "      <th>4</th>\n",
       "      <td>1383.242454</td>\n",
       "      <td>1285.356073</td>\n",
       "      <td>1248.517998</td>\n",
       "      <td>1234.545356</td>\n",
       "      <td>1231.425777</td>\n",
       "    </tr>\n",
       "    <tr>\n",
       "      <th>5</th>\n",
       "      <td>1351.180304</td>\n",
       "      <td>1264.601885</td>\n",
       "      <td>1238.743537</td>\n",
       "      <td>1231.377437</td>\n",
       "      <td>1230.348220</td>\n",
       "    </tr>\n",
       "    <tr>\n",
       "      <th>6</th>\n",
       "      <td>1326.190982</td>\n",
       "      <td>1251.674282</td>\n",
       "      <td>1234.060110</td>\n",
       "      <td>1230.252007</td>\n",
       "      <td>1229.903661</td>\n",
       "    </tr>\n",
       "    <tr>\n",
       "      <th>7</th>\n",
       "      <td>1306.581404</td>\n",
       "      <td>1243.571684</td>\n",
       "      <td>1231.800517</td>\n",
       "      <td>1229.843780</td>\n",
       "      <td>1229.719457</td>\n",
       "    </tr>\n",
       "    <tr>\n",
       "      <th>8</th>\n",
       "      <td>1291.108923</td>\n",
       "      <td>1238.472630</td>\n",
       "      <td>1230.701311</td>\n",
       "      <td>1229.691534</td>\n",
       "      <td>1229.643008</td>\n",
       "    </tr>\n",
       "    <tr>\n",
       "      <th>9</th>\n",
       "      <td>1278.847132</td>\n",
       "      <td>1235.253795</td>\n",
       "      <td>1230.160873</td>\n",
       "      <td>1229.632641</td>\n",
       "      <td>1229.611253</td>\n",
       "    </tr>\n",
       "    <tr>\n",
       "      <th>10</th>\n",
       "      <td>1269.095787</td>\n",
       "      <td>1233.216202</td>\n",
       "      <td>1229.891424</td>\n",
       "      <td>1229.608770</td>\n",
       "      <td>1229.598056</td>\n",
       "    </tr>\n",
       "    <tr>\n",
       "      <th>11</th>\n",
       "      <td>1261.319279</td>\n",
       "      <td>1231.922683</td>\n",
       "      <td>1229.754597</td>\n",
       "      <td>1229.598531</td>\n",
       "      <td>1229.592569</td>\n",
       "    </tr>\n",
       "    <tr>\n",
       "      <th>12</th>\n",
       "      <td>1255.103825</td>\n",
       "      <td>1231.098941</td>\n",
       "      <td>1229.683445</td>\n",
       "      <td>1229.593846</td>\n",
       "      <td>1229.590286</td>\n",
       "    </tr>\n",
       "    <tr>\n",
       "      <th>13</th>\n",
       "      <td>1250.127116</td>\n",
       "      <td>1230.572471</td>\n",
       "      <td>1229.645319</td>\n",
       "      <td>1229.591553</td>\n",
       "      <td>1229.589336</td>\n",
       "    </tr>\n",
       "    <tr>\n",
       "      <th>14</th>\n",
       "      <td>1246.136414</td>\n",
       "      <td>1230.234574</td>\n",
       "      <td>1229.624133</td>\n",
       "      <td>1229.590355</td>\n",
       "      <td>1229.588940</td>\n",
       "    </tr>\n",
       "    <tr>\n",
       "      <th>15</th>\n",
       "      <td>1242.932466</td>\n",
       "      <td>1230.016629</td>\n",
       "      <td>1229.611860</td>\n",
       "      <td>1229.589691</td>\n",
       "      <td>1229.588775</td>\n",
       "    </tr>\n",
       "    <tr>\n",
       "      <th>16</th>\n",
       "      <td>1240.357513</td>\n",
       "      <td>1229.875229</td>\n",
       "      <td>1229.604425</td>\n",
       "      <td>1229.589306</td>\n",
       "      <td>1229.588707</td>\n",
       "    </tr>\n",
       "    <tr>\n",
       "      <th>17</th>\n",
       "      <td>1238.286221</td>\n",
       "      <td>1229.782857</td>\n",
       "      <td>1229.599715</td>\n",
       "      <td>1229.589073</td>\n",
       "      <td>1229.588678</td>\n",
       "    </tr>\n",
       "    <tr>\n",
       "      <th>18</th>\n",
       "      <td>1236.618747</td>\n",
       "      <td>1229.722027</td>\n",
       "      <td>1229.596605</td>\n",
       "      <td>1229.588928</td>\n",
       "      <td>1229.588666</td>\n",
       "    </tr>\n",
       "    <tr>\n",
       "      <th>19</th>\n",
       "      <td>1235.275387</td>\n",
       "      <td>1229.681594</td>\n",
       "      <td>1229.594478</td>\n",
       "      <td>1229.588836</td>\n",
       "      <td>1229.588661</td>\n",
       "    </tr>\n",
       "  </tbody>\n",
       "</table>\n",
       "</div>"
      ],
      "text/plain": [
       "    Version1- alpha of 0.1  Version2- alpha of 0.2  Version3- alpha of 0.3  \\\n",
       "0              1646.836341             1642.012462             1659.949083   \n",
       "1              1550.648822             1469.878312             1410.472431   \n",
       "2              1478.938168             1374.701598             1312.905125   \n",
       "3              1424.724185             1319.029019             1269.070964   \n",
       "4              1383.242454             1285.356073             1248.517998   \n",
       "5              1351.180304             1264.601885             1238.743537   \n",
       "6              1326.190982             1251.674282             1234.060110   \n",
       "7              1306.581404             1243.571684             1231.800517   \n",
       "8              1291.108923             1238.472630             1230.701311   \n",
       "9              1278.847132             1235.253795             1230.160873   \n",
       "10             1269.095787             1233.216202             1229.891424   \n",
       "11             1261.319279             1231.922683             1229.754597   \n",
       "12             1255.103825             1231.098941             1229.683445   \n",
       "13             1250.127116             1230.572471             1229.645319   \n",
       "14             1246.136414             1230.234574             1229.624133   \n",
       "15             1242.932466             1230.016629             1229.611860   \n",
       "16             1240.357513             1229.875229             1229.604425   \n",
       "17             1238.286221             1229.782857             1229.599715   \n",
       "18             1236.618747             1229.722027             1229.596605   \n",
       "19             1235.275387             1229.681594             1229.594478   \n",
       "\n",
       "    Version4- alpha of 0.4  Version5- alpha of 0.75  \n",
       "0              1647.474264              1640.250591  \n",
       "1              1347.481917              1272.610993  \n",
       "2              1269.825771              1241.279525  \n",
       "3              1243.603095              1234.082584  \n",
       "4              1234.545356              1231.425777  \n",
       "5              1231.377437              1230.348220  \n",
       "6              1230.252007              1229.903661  \n",
       "7              1229.843780              1229.719457  \n",
       "8              1229.691534              1229.643008  \n",
       "9              1229.632641              1229.611253  \n",
       "10             1229.608770              1229.598056  \n",
       "11             1229.598531              1229.592569  \n",
       "12             1229.593846              1229.590286  \n",
       "13             1229.591553              1229.589336  \n",
       "14             1229.590355              1229.588940  \n",
       "15             1229.589691              1229.588775  \n",
       "16             1229.589306              1229.588707  \n",
       "17             1229.589073              1229.588678  \n",
       "18             1229.588928              1229.588666  \n",
       "19             1229.588836              1229.588661  "
      ]
     },
     "execution_count": 43,
     "metadata": {},
     "output_type": "execute_result"
    }
   ],
   "source": [
    "train_MSE_versions.head(20)"
   ]
  },
  {
   "cell_type": "markdown",
   "metadata": {},
   "source": [
    "### Version 6: Experimenting with a learning rate of 0.75"
   ]
  },
  {
   "cell_type": "code",
   "execution_count": 44,
   "metadata": {},
   "outputs": [
    {
     "name": "stderr",
     "output_type": "stream",
     "text": [
      "C:\\Users\\katri\\Anaconda3\\lib\\site-packages\\ipykernel_launcher.py:22: SettingWithCopyWarning: \n",
      "A value is trying to be set on a copy of a slice from a DataFrame.\n",
      "Try using .loc[row_indexer,col_indexer] = value instead\n",
      "\n",
      "See the caveats in the documentation: http://pandas.pydata.org/pandas-docs/stable/indexing.html#indexing-view-versus-copy\n"
     ]
    }
   ],
   "source": [
    "m = len(X_train)\n",
    "y = y_train\n",
    "\n",
    "alpha = .6\n",
    "\n",
    "np.random.seed(2019)\n",
    "beta_0 = rand.random()\n",
    "beta_1 = rand.random()\n",
    "beta_2 = rand.random()\n",
    "beta_3 = rand.random()\n",
    "beta_4 = rand.random()\n",
    "beta_5 = rand.random()\n",
    "beta_6 = rand.random()\n",
    "beta_7 = rand.random()\n",
    "beta_8 = rand.random()\n",
    "beta_9 = rand.random()\n",
    "beta_10 = rand.random()\n",
    "beta_11 = rand.random()\n",
    "\n",
    "X = X_train[['HoursReceived_39', 'PostShareCnt_37', 'CommentsFirst24h_33', 'PageCheckins_2', 'SundayPublished_40', 'FridayPublished_45', 'SaturdayPublished_46', 'MondayPublished_41', 'CommentsDiffFirstSecondDay_34', 'PagePopularity_1', 'PageTalkingAbout_3']]\n",
    "\n",
    "X['y-int'] = 1\n",
    "\n",
    "betas = {'HoursReceived_39': beta_1, 'PostShareCnt_37': beta_2, 'CommentsFirst24h_33': beta_3, 'PageCheckins_2': beta_4, 'SundayPublished_40': beta_5, 'FridayPublished_45': beta_6, 'SaturdayPublished_46': beta_7, 'MondayPublished_41': beta_8\n",
    "         , 'CommentsDiffFirstSecondDay_34': beta_9, 'PagePopularity_1': beta_10, 'PageTalkingAbout_3': beta_11, 'y-int': beta_0}\n",
    "beta_j = pd.Series(betas)\n",
    "beta_j\n",
    "\n",
    "beta_df = pd.DataFrame(beta_j)\n",
    "\n",
    "train_MSE = pd.Series([])"
   ]
  },
  {
   "cell_type": "code",
   "execution_count": 45,
   "metadata": {
    "collapsed": true
   },
   "outputs": [],
   "source": [
    "for i in range(50):\n",
    "\n",
    "    XtimesBeta = X.multiply(other=beta_j, axis=1)\n",
    "\n",
    "    ### y-hat: sum all of the columns for each row\n",
    "    XtimesBeta['y-hat'] = XtimesBeta.sum(axis=1)\n",
    "\n",
    "    XtimesBeta = pd.merge(XtimesBeta, y, left_index=True, right_index=True)\n",
    "\n",
    "    XtimesBeta['resid'] = XtimesBeta['y-hat'] - XtimesBeta['CommentsNextH_Hours_54']\n",
    "\n",
    "    train_MSE[i] = sum((XtimesBeta['resid']*XtimesBeta['resid']))/m\n",
    "\n",
    "    d0 = sum(XtimesBeta['resid'])/m\n",
    "    d1 = sum(XtimesBeta['resid']*X['HoursReceived_39'])/m\n",
    "    d2 = sum(XtimesBeta['resid']*X['PostShareCnt_37'])/m\n",
    "    d3 = sum(XtimesBeta['resid']*X['CommentsFirst24h_33'])/m\n",
    "    d4 = sum(XtimesBeta['resid']*X['PageCheckins_2'])/m\n",
    "    d5 = sum(XtimesBeta['resid']*X['SundayPublished_40'])/m\n",
    "    d6 = sum(XtimesBeta['resid']*X['FridayPublished_45'])/m\n",
    "    d7 = sum(XtimesBeta['resid']*X['SaturdayPublished_46'])/m\n",
    "    d8 = sum(XtimesBeta['resid']*X['MondayPublished_41'])/m\n",
    "    d9 = sum(XtimesBeta['resid']*X['CommentsDiffFirstSecondDay_34'])/m\n",
    "    d10 = sum(XtimesBeta['resid']*X['PagePopularity_1'])/m\n",
    "    d11 = sum(XtimesBeta['resid']*X['PageTalkingAbout_3'])/m\n",
    "\n",
    "    newBeta_j = pd.Series([])\n",
    "    newBeta_j['y-int'] = beta_j['y-int'] - alpha*(d0)\n",
    "    newBeta_j['HoursReceived_39'] = beta_j['HoursReceived_39'] - alpha*(d1)\n",
    "    newBeta_j['PostShareCnt_37'] = beta_j['PostShareCnt_37'] - alpha*(d2)\n",
    "    newBeta_j['CommentsFirst24h_33'] = beta_j['CommentsFirst24h_33'] - alpha*(d3)\n",
    "    newBeta_j['PageCheckins_2'] = beta_j['PageCheckins_2'] - alpha*(d4)\n",
    "    newBeta_j['SundayPublished_40'] = beta_j['SundayPublished_40'] - alpha*(d5)\n",
    "    newBeta_j['FridayPublished_45'] = beta_j['FridayPublished_45'] - alpha*(d6)\n",
    "    newBeta_j['SaturdayPublished_46'] = beta_j['SaturdayPublished_46'] - alpha*(d7)\n",
    "    newBeta_j['MondayPublished_41'] = beta_j['MondayPublished_41'] - alpha*(d8)\n",
    "    newBeta_j['CommentsDiffFirstSecondDay_34'] = beta_j['CommentsDiffFirstSecondDay_34'] - alpha*(d9)\n",
    "    newBeta_j['PagePopularity_1'] = beta_j['PagePopularity_1'] - alpha*(d10)\n",
    "    newBeta_j['PageTalkingAbout_3'] = beta_j['PageTalkingAbout_3'] - alpha*(d11)\n",
    "\n",
    "    beta_df = pd.concat([beta_df, newBeta_j], axis=1)\n",
    "    \n",
    "    beta_df = beta_df.rename(columns={beta_df.columns[-1]: i })\n",
    "\n",
    "    beta_j = newBeta_j"
   ]
  },
  {
   "cell_type": "code",
   "execution_count": 46,
   "metadata": {
    "collapsed": true
   },
   "outputs": [],
   "source": [
    "train_MSE_versions = pd.merge(pd.DataFrame(train_MSE_versions), pd.DataFrame(pd.Series(train_MSE)), right_index=True, left_index=True)\n",
    "train_MSE_versions = train_MSE_versions.rename(columns={0:'Version6- alpha of 0.6'})"
   ]
  },
  {
   "cell_type": "code",
   "execution_count": 47,
   "metadata": {},
   "outputs": [
    {
     "name": "stderr",
     "output_type": "stream",
     "text": [
      "C:\\Users\\katri\\Anaconda3\\lib\\site-packages\\ipykernel_launcher.py:7: SettingWithCopyWarning: \n",
      "A value is trying to be set on a copy of a slice from a DataFrame.\n",
      "Try using .loc[row_indexer,col_indexer] = value instead\n",
      "\n",
      "See the caveats in the documentation: http://pandas.pydata.org/pandas-docs/stable/indexing.html#indexing-view-versus-copy\n",
      "  import sys\n"
     ]
    }
   ],
   "source": [
    "coef_v6 = beta_df[49]\n",
    "\n",
    "test = X_test[['HoursReceived_39', 'PostShareCnt_37', 'CommentsFirst24h_33', 'PageCheckins_2', 'SundayPublished_40', 'FridayPublished_45', 'SaturdayPublished_46', 'MondayPublished_41', 'CommentsDiffFirstSecondDay_34', 'PagePopularity_1', 'PageTalkingAbout_3']]\n",
    "\n",
    "mm = len(X_test)\n",
    "\n",
    "test['y-int'] = 1\n",
    "testTimesBeta = test.multiply(other=coef_v6, axis=1)\n",
    "\n",
    "testTimesBeta['y-hat'] = testTimesBeta.sum(axis=1)\n",
    "\n",
    "testTimesBeta = pd.merge(testTimesBeta, y_test, left_index=True, right_index=True)\n",
    "testTimesBeta['resid'] = testTimesBeta['y-hat'] - testTimesBeta['CommentsNextH_Hours_54']\n",
    "MSE_test_v6 = sum(testTimesBeta['resid']*testTimesBeta['resid'])/mm"
   ]
  },
  {
   "cell_type": "code",
   "execution_count": 48,
   "metadata": {},
   "outputs": [
    {
     "name": "stdout",
     "output_type": "stream",
     "text": [
      "Test MSE for Version 6:  958.86\n"
     ]
    }
   ],
   "source": [
    "print(\"Test MSE for Version 6: \", round(MSE_test_v6, 2))"
   ]
  },
  {
   "cell_type": "code",
   "execution_count": 49,
   "metadata": {},
   "outputs": [
    {
     "data": {
      "text/html": [
       "<div>\n",
       "<style>\n",
       "    .dataframe thead tr:only-child th {\n",
       "        text-align: right;\n",
       "    }\n",
       "\n",
       "    .dataframe thead th {\n",
       "        text-align: left;\n",
       "    }\n",
       "\n",
       "    .dataframe tbody tr th {\n",
       "        vertical-align: top;\n",
       "    }\n",
       "</style>\n",
       "<table border=\"1\" class=\"dataframe\">\n",
       "  <thead>\n",
       "    <tr style=\"text-align: right;\">\n",
       "      <th></th>\n",
       "      <th>Version1- alpha of 0.1</th>\n",
       "      <th>Version2- alpha of 0.2</th>\n",
       "      <th>Version3- alpha of 0.3</th>\n",
       "      <th>Version4- alpha of 0.4</th>\n",
       "      <th>Version5- alpha of 0.75</th>\n",
       "      <th>Version6- alpha of 0.6</th>\n",
       "    </tr>\n",
       "  </thead>\n",
       "  <tbody>\n",
       "    <tr>\n",
       "      <th>0</th>\n",
       "      <td>1646.836341</td>\n",
       "      <td>1642.012462</td>\n",
       "      <td>1659.949083</td>\n",
       "      <td>1647.474264</td>\n",
       "      <td>1640.250591</td>\n",
       "      <td>1649.093494</td>\n",
       "    </tr>\n",
       "    <tr>\n",
       "      <th>1</th>\n",
       "      <td>1550.648822</td>\n",
       "      <td>1469.878312</td>\n",
       "      <td>1410.472431</td>\n",
       "      <td>1347.481917</td>\n",
       "      <td>1272.610993</td>\n",
       "      <td>1286.747743</td>\n",
       "    </tr>\n",
       "    <tr>\n",
       "      <th>2</th>\n",
       "      <td>1478.938168</td>\n",
       "      <td>1374.701598</td>\n",
       "      <td>1312.905125</td>\n",
       "      <td>1269.825771</td>\n",
       "      <td>1241.279525</td>\n",
       "      <td>1238.038168</td>\n",
       "    </tr>\n",
       "    <tr>\n",
       "      <th>3</th>\n",
       "      <td>1424.724185</td>\n",
       "      <td>1319.029019</td>\n",
       "      <td>1269.070964</td>\n",
       "      <td>1243.603095</td>\n",
       "      <td>1234.082584</td>\n",
       "      <td>1231.043747</td>\n",
       "    </tr>\n",
       "    <tr>\n",
       "      <th>4</th>\n",
       "      <td>1383.242454</td>\n",
       "      <td>1285.356073</td>\n",
       "      <td>1248.517998</td>\n",
       "      <td>1234.545356</td>\n",
       "      <td>1231.425777</td>\n",
       "      <td>1229.917059</td>\n",
       "    </tr>\n",
       "    <tr>\n",
       "      <th>5</th>\n",
       "      <td>1351.180304</td>\n",
       "      <td>1264.601885</td>\n",
       "      <td>1238.743537</td>\n",
       "      <td>1231.377437</td>\n",
       "      <td>1230.348220</td>\n",
       "      <td>1229.693133</td>\n",
       "    </tr>\n",
       "    <tr>\n",
       "      <th>6</th>\n",
       "      <td>1326.190982</td>\n",
       "      <td>1251.674282</td>\n",
       "      <td>1234.060110</td>\n",
       "      <td>1230.252007</td>\n",
       "      <td>1229.903661</td>\n",
       "      <td>1229.632344</td>\n",
       "    </tr>\n",
       "    <tr>\n",
       "      <th>7</th>\n",
       "      <td>1306.581404</td>\n",
       "      <td>1243.571684</td>\n",
       "      <td>1231.800517</td>\n",
       "      <td>1229.843780</td>\n",
       "      <td>1229.719457</td>\n",
       "      <td>1229.609881</td>\n",
       "    </tr>\n",
       "    <tr>\n",
       "      <th>8</th>\n",
       "      <td>1291.108923</td>\n",
       "      <td>1238.472630</td>\n",
       "      <td>1230.701311</td>\n",
       "      <td>1229.691534</td>\n",
       "      <td>1229.643008</td>\n",
       "      <td>1229.599721</td>\n",
       "    </tr>\n",
       "    <tr>\n",
       "      <th>9</th>\n",
       "      <td>1278.847132</td>\n",
       "      <td>1235.253795</td>\n",
       "      <td>1230.160873</td>\n",
       "      <td>1229.632641</td>\n",
       "      <td>1229.611253</td>\n",
       "      <td>1229.594623</td>\n",
       "    </tr>\n",
       "  </tbody>\n",
       "</table>\n",
       "</div>"
      ],
      "text/plain": [
       "   Version1- alpha of 0.1  Version2- alpha of 0.2  Version3- alpha of 0.3  \\\n",
       "0             1646.836341             1642.012462             1659.949083   \n",
       "1             1550.648822             1469.878312             1410.472431   \n",
       "2             1478.938168             1374.701598             1312.905125   \n",
       "3             1424.724185             1319.029019             1269.070964   \n",
       "4             1383.242454             1285.356073             1248.517998   \n",
       "5             1351.180304             1264.601885             1238.743537   \n",
       "6             1326.190982             1251.674282             1234.060110   \n",
       "7             1306.581404             1243.571684             1231.800517   \n",
       "8             1291.108923             1238.472630             1230.701311   \n",
       "9             1278.847132             1235.253795             1230.160873   \n",
       "\n",
       "   Version4- alpha of 0.4  Version5- alpha of 0.75  Version6- alpha of 0.6  \n",
       "0             1647.474264              1640.250591             1649.093494  \n",
       "1             1347.481917              1272.610993             1286.747743  \n",
       "2             1269.825771              1241.279525             1238.038168  \n",
       "3             1243.603095              1234.082584             1231.043747  \n",
       "4             1234.545356              1231.425777             1229.917059  \n",
       "5             1231.377437              1230.348220             1229.693133  \n",
       "6             1230.252007              1229.903661             1229.632344  \n",
       "7             1229.843780              1229.719457             1229.609881  \n",
       "8             1229.691534              1229.643008             1229.599721  \n",
       "9             1229.632641              1229.611253             1229.594623  "
      ]
     },
     "execution_count": 49,
     "metadata": {},
     "output_type": "execute_result"
    }
   ],
   "source": [
    "train_MSE_versions.iloc[:10,:6]"
   ]
  },
  {
   "cell_type": "markdown",
   "metadata": {
    "collapsed": true
   },
   "source": [
    "### Conclusion: Out-of-sample performance for all alphas is consistent because all converge well within 1,000 iterations tested. Alpha of 0.6 appears to be optimal. It converges in 4 - 5 iterations. "
   ]
  },
  {
   "cell_type": "markdown",
   "metadata": {},
   "source": [
    "### Visualizing Experiment #1"
   ]
  },
  {
   "cell_type": "code",
   "execution_count": 50,
   "metadata": {},
   "outputs": [
    {
     "data": {
      "image/png": "[encoded data removed]",
      "text/plain": [
       "<matplotlib.figure.Figure at 0x2542cdd8c50>"
      ]
     },
     "metadata": {},
     "output_type": "display_data"
    }
   ],
   "source": [
    "plot_MSE = train_MSE_versions.iloc[:10, :]\n",
    "\n",
    "fig, ax1 = plt.subplots(figsize=(15,5))\n",
    "\n",
    "ax1.plot(plot_MSE.index, plot_MSE['Version1- alpha of 0.1'], 'r--', label='Alpha of 0.1')\n",
    "ax1.plot(plot_MSE.index, plot_MSE['Version2- alpha of 0.2'], 'b--', label='Alpha of 0.2')\n",
    "ax1.plot(plot_MSE.index, plot_MSE['Version3- alpha of 0.3'], 'g--', label='Alpha of 0.3')\n",
    "ax1.plot(plot_MSE.index, plot_MSE['Version4- alpha of 0.4'], 'm--', label='Alpha of 0.4')\n",
    "ax1.plot(plot_MSE.index, plot_MSE['Version5- alpha of 0.75'], 'c--', label='Alpha of 0.75')\n",
    "ax1.plot(plot_MSE.index, plot_MSE['Version6- alpha of 0.6'], 'k--', label='Alpha of 0.6')\n",
    "\n",
    "ax1.set_xlabel('Exp 1- MSE at first 10 Iterations', fontsize=14, color='b')\n",
    "\n",
    "plt.legend()\n",
    "\n",
    "plt.show()"
   ]
  },
  {
   "cell_type": "markdown",
   "metadata": {},
   "source": [
    "## Experimentation Part 2: Thresholding for convergence"
   ]
  },
  {
   "cell_type": "code",
   "execution_count": 51,
   "metadata": {
    "collapsed": true
   },
   "outputs": [],
   "source": [
    "diff = train_MSE_versions.iloc[1:50,:6]\n",
    "diff = diff.shift(periods=-1, axis='index')"
   ]
  },
  {
   "cell_type": "markdown",
   "metadata": {},
   "source": [
    "### Difference in MSE of iteration and subsequent iteration"
   ]
  },
  {
   "cell_type": "code",
   "execution_count": 52,
   "metadata": {},
   "outputs": [
    {
     "data": {
      "text/html": [
       "<div>\n",
       "<style>\n",
       "    .dataframe thead tr:only-child th {\n",
       "        text-align: right;\n",
       "    }\n",
       "\n",
       "    .dataframe thead th {\n",
       "        text-align: left;\n",
       "    }\n",
       "\n",
       "    .dataframe tbody tr th {\n",
       "        vertical-align: top;\n",
       "    }\n",
       "</style>\n",
       "<table border=\"1\" class=\"dataframe\">\n",
       "  <thead>\n",
       "    <tr style=\"text-align: right;\">\n",
       "      <th></th>\n",
       "      <th>Version1- alpha of 0.1</th>\n",
       "      <th>Version2- alpha of 0.2</th>\n",
       "      <th>Version3- alpha of 0.3</th>\n",
       "      <th>Version4- alpha of 0.4</th>\n",
       "      <th>Version5- alpha of 0.75</th>\n",
       "      <th>Version6- alpha of 0.6</th>\n",
       "    </tr>\n",
       "  </thead>\n",
       "  <tbody>\n",
       "    <tr>\n",
       "      <th>0</th>\n",
       "      <td>NaN</td>\n",
       "      <td>NaN</td>\n",
       "      <td>NaN</td>\n",
       "      <td>NaN</td>\n",
       "      <td>NaN</td>\n",
       "      <td>NaN</td>\n",
       "    </tr>\n",
       "    <tr>\n",
       "      <th>1</th>\n",
       "      <td>-71.710655</td>\n",
       "      <td>-95.176715</td>\n",
       "      <td>-97.567306</td>\n",
       "      <td>-77.656146</td>\n",
       "      <td>-31.331468</td>\n",
       "      <td>-48.709575</td>\n",
       "    </tr>\n",
       "    <tr>\n",
       "      <th>2</th>\n",
       "      <td>-54.213983</td>\n",
       "      <td>-55.672578</td>\n",
       "      <td>-43.834161</td>\n",
       "      <td>-26.222676</td>\n",
       "      <td>-7.196941</td>\n",
       "      <td>-6.994421</td>\n",
       "    </tr>\n",
       "    <tr>\n",
       "      <th>3</th>\n",
       "      <td>-41.481731</td>\n",
       "      <td>-33.672946</td>\n",
       "      <td>-20.552965</td>\n",
       "      <td>-9.057739</td>\n",
       "      <td>-2.656807</td>\n",
       "      <td>-1.126688</td>\n",
       "    </tr>\n",
       "    <tr>\n",
       "      <th>4</th>\n",
       "      <td>-32.062150</td>\n",
       "      <td>-20.754188</td>\n",
       "      <td>-9.774461</td>\n",
       "      <td>-3.167919</td>\n",
       "      <td>-1.077557</td>\n",
       "      <td>-0.223926</td>\n",
       "    </tr>\n",
       "    <tr>\n",
       "      <th>5</th>\n",
       "      <td>-24.989322</td>\n",
       "      <td>-12.927603</td>\n",
       "      <td>-4.683427</td>\n",
       "      <td>-1.125430</td>\n",
       "      <td>-0.444559</td>\n",
       "      <td>-0.060788</td>\n",
       "    </tr>\n",
       "    <tr>\n",
       "      <th>6</th>\n",
       "      <td>-19.609579</td>\n",
       "      <td>-8.102597</td>\n",
       "      <td>-2.259593</td>\n",
       "      <td>-0.408227</td>\n",
       "      <td>-0.184204</td>\n",
       "      <td>-0.022464</td>\n",
       "    </tr>\n",
       "    <tr>\n",
       "      <th>7</th>\n",
       "      <td>-15.472481</td>\n",
       "      <td>-5.099055</td>\n",
       "      <td>-1.099206</td>\n",
       "      <td>-0.152246</td>\n",
       "      <td>-0.076449</td>\n",
       "      <td>-0.010160</td>\n",
       "    </tr>\n",
       "    <tr>\n",
       "      <th>8</th>\n",
       "      <td>-12.261791</td>\n",
       "      <td>-3.218835</td>\n",
       "      <td>-0.540438</td>\n",
       "      <td>-0.058894</td>\n",
       "      <td>-0.031755</td>\n",
       "      <td>-0.005098</td>\n",
       "    </tr>\n",
       "    <tr>\n",
       "      <th>9</th>\n",
       "      <td>-9.751345</td>\n",
       "      <td>-2.037594</td>\n",
       "      <td>-0.269449</td>\n",
       "      <td>-0.023870</td>\n",
       "      <td>-0.013197</td>\n",
       "      <td>-0.002691</td>\n",
       "    </tr>\n",
       "    <tr>\n",
       "      <th>10</th>\n",
       "      <td>-7.776507</td>\n",
       "      <td>-1.293519</td>\n",
       "      <td>-0.136827</td>\n",
       "      <td>-0.010239</td>\n",
       "      <td>-0.005487</td>\n",
       "      <td>-0.001458</td>\n",
       "    </tr>\n",
       "    <tr>\n",
       "      <th>11</th>\n",
       "      <td>-6.215454</td>\n",
       "      <td>-0.823742</td>\n",
       "      <td>-0.071152</td>\n",
       "      <td>-0.004685</td>\n",
       "      <td>-0.002283</td>\n",
       "      <td>-0.000802</td>\n",
       "    </tr>\n",
       "    <tr>\n",
       "      <th>12</th>\n",
       "      <td>-4.976709</td>\n",
       "      <td>-0.526470</td>\n",
       "      <td>-0.038126</td>\n",
       "      <td>-0.002293</td>\n",
       "      <td>-0.000950</td>\n",
       "      <td>-0.000445</td>\n",
       "    </tr>\n",
       "    <tr>\n",
       "      <th>13</th>\n",
       "      <td>-3.990702</td>\n",
       "      <td>-0.337897</td>\n",
       "      <td>-0.021186</td>\n",
       "      <td>-0.001198</td>\n",
       "      <td>-0.000396</td>\n",
       "      <td>-0.000249</td>\n",
       "    </tr>\n",
       "    <tr>\n",
       "      <th>14</th>\n",
       "      <td>-3.203948</td>\n",
       "      <td>-0.217945</td>\n",
       "      <td>-0.012273</td>\n",
       "      <td>-0.000663</td>\n",
       "      <td>-0.000165</td>\n",
       "      <td>-0.000140</td>\n",
       "    </tr>\n",
       "    <tr>\n",
       "      <th>15</th>\n",
       "      <td>-2.574953</td>\n",
       "      <td>-0.141400</td>\n",
       "      <td>-0.007435</td>\n",
       "      <td>-0.000386</td>\n",
       "      <td>-0.000069</td>\n",
       "      <td>-0.000079</td>\n",
       "    </tr>\n",
       "    <tr>\n",
       "      <th>16</th>\n",
       "      <td>-2.071292</td>\n",
       "      <td>-0.092372</td>\n",
       "      <td>-0.004710</td>\n",
       "      <td>-0.000233</td>\n",
       "      <td>-0.000029</td>\n",
       "      <td>-0.000044</td>\n",
       "    </tr>\n",
       "    <tr>\n",
       "      <th>17</th>\n",
       "      <td>-1.667473</td>\n",
       "      <td>-0.060830</td>\n",
       "      <td>-0.003109</td>\n",
       "      <td>-0.000145</td>\n",
       "      <td>-0.000012</td>\n",
       "      <td>-0.000025</td>\n",
       "    </tr>\n",
       "    <tr>\n",
       "      <th>18</th>\n",
       "      <td>-1.343360</td>\n",
       "      <td>-0.040433</td>\n",
       "      <td>-0.002128</td>\n",
       "      <td>-0.000092</td>\n",
       "      <td>-0.000005</td>\n",
       "      <td>-0.000014</td>\n",
       "    </tr>\n",
       "    <tr>\n",
       "      <th>19</th>\n",
       "      <td>-1.082986</td>\n",
       "      <td>-0.027164</td>\n",
       "      <td>-0.001499</td>\n",
       "      <td>-0.000060</td>\n",
       "      <td>-0.000002</td>\n",
       "      <td>-0.000008</td>\n",
       "    </tr>\n",
       "  </tbody>\n",
       "</table>\n",
       "</div>"
      ],
      "text/plain": [
       "    Version1- alpha of 0.1  Version2- alpha of 0.2  Version3- alpha of 0.3  \\\n",
       "0                      NaN                     NaN                     NaN   \n",
       "1               -71.710655              -95.176715              -97.567306   \n",
       "2               -54.213983              -55.672578              -43.834161   \n",
       "3               -41.481731              -33.672946              -20.552965   \n",
       "4               -32.062150              -20.754188               -9.774461   \n",
       "5               -24.989322              -12.927603               -4.683427   \n",
       "6               -19.609579               -8.102597               -2.259593   \n",
       "7               -15.472481               -5.099055               -1.099206   \n",
       "8               -12.261791               -3.218835               -0.540438   \n",
       "9                -9.751345               -2.037594               -0.269449   \n",
       "10               -7.776507               -1.293519               -0.136827   \n",
       "11               -6.215454               -0.823742               -0.071152   \n",
       "12               -4.976709               -0.526470               -0.038126   \n",
       "13               -3.990702               -0.337897               -0.021186   \n",
       "14               -3.203948               -0.217945               -0.012273   \n",
       "15               -2.574953               -0.141400               -0.007435   \n",
       "16               -2.071292               -0.092372               -0.004710   \n",
       "17               -1.667473               -0.060830               -0.003109   \n",
       "18               -1.343360               -0.040433               -0.002128   \n",
       "19               -1.082986               -0.027164               -0.001499   \n",
       "\n",
       "    Version4- alpha of 0.4  Version5- alpha of 0.75  Version6- alpha of 0.6  \n",
       "0                      NaN                      NaN                     NaN  \n",
       "1               -77.656146               -31.331468              -48.709575  \n",
       "2               -26.222676                -7.196941               -6.994421  \n",
       "3                -9.057739                -2.656807               -1.126688  \n",
       "4                -3.167919                -1.077557               -0.223926  \n",
       "5                -1.125430                -0.444559               -0.060788  \n",
       "6                -0.408227                -0.184204               -0.022464  \n",
       "7                -0.152246                -0.076449               -0.010160  \n",
       "8                -0.058894                -0.031755               -0.005098  \n",
       "9                -0.023870                -0.013197               -0.002691  \n",
       "10               -0.010239                -0.005487               -0.001458  \n",
       "11               -0.004685                -0.002283               -0.000802  \n",
       "12               -0.002293                -0.000950               -0.000445  \n",
       "13               -0.001198                -0.000396               -0.000249  \n",
       "14               -0.000663                -0.000165               -0.000140  \n",
       "15               -0.000386                -0.000069               -0.000079  \n",
       "16               -0.000233                -0.000029               -0.000044  \n",
       "17               -0.000145                -0.000012               -0.000025  \n",
       "18               -0.000092                -0.000005               -0.000014  \n",
       "19               -0.000060                -0.000002               -0.000008  "
      ]
     },
     "execution_count": 52,
     "metadata": {},
     "output_type": "execute_result"
    }
   ],
   "source": [
    "first_difference_train_MSE = diff - train_MSE_versions\n",
    "first_difference_train_MSE.iloc[:20, :6]"
   ]
  },
  {
   "cell_type": "code",
   "execution_count": 53,
   "metadata": {},
   "outputs": [
    {
     "data": {
      "image/png": "[encoded data removed]",
      "text/plain": [
       "<matplotlib.figure.Figure at 0x2542da2d438>"
      ]
     },
     "metadata": {},
     "output_type": "display_data"
    }
   ],
   "source": [
    "plot_fd = first_difference_train_MSE.iloc[:10, :6]\n",
    "\n",
    "fig, ax1 = plt.subplots(figsize=(15,5))\n",
    "\n",
    "ax1.plot(plot_fd.index, plot_fd['Version1- alpha of 0.1'], 'r--', label='Alpha of 0.1')\n",
    "ax1.plot(plot_fd.index, plot_fd['Version2- alpha of 0.2'], 'b--', label='Alpha of 0.2')\n",
    "ax1.plot(plot_fd.index, plot_fd['Version3- alpha of 0.3'], 'g--', label='Alpha of 0.3')\n",
    "ax1.plot(plot_fd.index, plot_fd['Version4- alpha of 0.4'], 'm--', label='Alpha of 0.4')\n",
    "ax1.plot(plot_fd.index, plot_fd['Version5- alpha of 0.75'], 'c--', label='Alpha of 0.75')\n",
    "ax1.plot(plot_fd.index, plot_fd['Version6- alpha of 0.6'], 'k--', label='Alpha of 0.6')\n",
    "\n",
    "ax1.set_xlabel('Exp 1- Change in MSE between each iteration', fontsize=14, color='b')\n",
    "\n",
    "plt.legend()\n",
    "\n",
    "plt.show()"
   ]
  },
  {
   "cell_type": "markdown",
   "metadata": {},
   "source": [
    "### Threshold: MSE within 10"
   ]
  },
  {
   "cell_type": "code",
   "execution_count": 54,
   "metadata": {},
   "outputs": [
    {
     "name": "stderr",
     "output_type": "stream",
     "text": [
      "C:\\Users\\katri\\Anaconda3\\lib\\site-packages\\ipykernel_launcher.py:22: SettingWithCopyWarning: \n",
      "A value is trying to be set on a copy of a slice from a DataFrame.\n",
      "Try using .loc[row_indexer,col_indexer] = value instead\n",
      "\n",
      "See the caveats in the documentation: http://pandas.pydata.org/pandas-docs/stable/indexing.html#indexing-view-versus-copy\n"
     ]
    }
   ],
   "source": [
    "m = len(X_train)\n",
    "y = y_train\n",
    "\n",
    "alpha = .6\n",
    "\n",
    "np.random.seed(2019)\n",
    "beta_0 = rand.random()\n",
    "beta_1 = rand.random()\n",
    "beta_2 = rand.random()\n",
    "beta_3 = rand.random()\n",
    "beta_4 = rand.random()\n",
    "beta_5 = rand.random()\n",
    "beta_6 = rand.random()\n",
    "beta_7 = rand.random()\n",
    "beta_8 = rand.random()\n",
    "beta_9 = rand.random()\n",
    "beta_10 = rand.random()\n",
    "beta_11 = rand.random()\n",
    "\n",
    "X = X_train[['HoursReceived_39', 'PostShareCnt_37', 'CommentsFirst24h_33', 'PageCheckins_2', 'SundayPublished_40', 'FridayPublished_45', 'SaturdayPublished_46', 'MondayPublished_41', 'CommentsDiffFirstSecondDay_34', 'PagePopularity_1', 'PageTalkingAbout_3']]\n",
    "\n",
    "X['y-int'] = 1\n",
    "\n",
    "betas = {'HoursReceived_39': beta_1, 'PostShareCnt_37': beta_2, 'CommentsFirst24h_33': beta_3, 'PageCheckins_2': beta_4, 'SundayPublished_40': beta_5, 'FridayPublished_45': beta_6, 'SaturdayPublished_46': beta_7, 'MondayPublished_41': beta_8\n",
    "         , 'CommentsDiffFirstSecondDay_34': beta_9, 'PagePopularity_1': beta_10, 'PageTalkingAbout_3': beta_11, 'y-int': beta_0}\n",
    "beta_j = pd.Series(betas)\n",
    "beta_j\n",
    "\n",
    "beta_df = pd.DataFrame(beta_j)\n",
    "\n",
    "train_MSE = pd.Series([])"
   ]
  },
  {
   "cell_type": "code",
   "execution_count": 55,
   "metadata": {
    "collapsed": true
   },
   "outputs": [],
   "source": [
    "first_diff = 1000\n",
    "i = 0\n",
    "\n",
    "while i < 1000 and first_diff > 10:\n",
    "\n",
    "    XtimesBeta = X.multiply(other=beta_j, axis=1)\n",
    "\n",
    "    ### y-hat: sum all of the columns for each row\n",
    "    XtimesBeta['y-hat'] = XtimesBeta.sum(axis=1)\n",
    "\n",
    "    XtimesBeta = pd.merge(XtimesBeta, y, left_index=True, right_index=True)\n",
    "\n",
    "    XtimesBeta['resid'] = XtimesBeta['y-hat'] - XtimesBeta['CommentsNextH_Hours_54']\n",
    "\n",
    "    train_MSE[i] = sum((XtimesBeta['resid']*XtimesBeta['resid']))/m\n",
    "\n",
    "    d0 = sum(XtimesBeta['resid'])/m\n",
    "    d1 = sum(XtimesBeta['resid']*X['HoursReceived_39'])/m\n",
    "    d2 = sum(XtimesBeta['resid']*X['PostShareCnt_37'])/m\n",
    "    d3 = sum(XtimesBeta['resid']*X['CommentsFirst24h_33'])/m\n",
    "    d4 = sum(XtimesBeta['resid']*X['PageCheckins_2'])/m\n",
    "    d5 = sum(XtimesBeta['resid']*X['SundayPublished_40'])/m\n",
    "    d6 = sum(XtimesBeta['resid']*X['FridayPublished_45'])/m\n",
    "    d7 = sum(XtimesBeta['resid']*X['SaturdayPublished_46'])/m\n",
    "    d8 = sum(XtimesBeta['resid']*X['MondayPublished_41'])/m\n",
    "    d9 = sum(XtimesBeta['resid']*X['CommentsDiffFirstSecondDay_34'])/m\n",
    "    d10 = sum(XtimesBeta['resid']*X['PagePopularity_1'])/m\n",
    "    d11 = sum(XtimesBeta['resid']*X['PageTalkingAbout_3'])/m\n",
    "\n",
    "    newBeta_j = pd.Series([])\n",
    "    newBeta_j['y-int'] = beta_j['y-int'] - alpha*(d0)\n",
    "    newBeta_j['HoursReceived_39'] = beta_j['HoursReceived_39'] - alpha*(d1)\n",
    "    newBeta_j['PostShareCnt_37'] = beta_j['PostShareCnt_37'] - alpha*(d2)\n",
    "    newBeta_j['CommentsFirst24h_33'] = beta_j['CommentsFirst24h_33'] - alpha*(d3)\n",
    "    newBeta_j['PageCheckins_2'] = beta_j['PageCheckins_2'] - alpha*(d4)\n",
    "    newBeta_j['SundayPublished_40'] = beta_j['SundayPublished_40'] - alpha*(d5)\n",
    "    newBeta_j['FridayPublished_45'] = beta_j['FridayPublished_45'] - alpha*(d6)\n",
    "    newBeta_j['SaturdayPublished_46'] = beta_j['SaturdayPublished_46'] - alpha*(d7)\n",
    "    newBeta_j['MondayPublished_41'] = beta_j['MondayPublished_41'] - alpha*(d8)\n",
    "    newBeta_j['CommentsDiffFirstSecondDay_34'] = beta_j['CommentsDiffFirstSecondDay_34'] - alpha*(d9)\n",
    "    newBeta_j['PagePopularity_1'] = beta_j['PagePopularity_1'] - alpha*(d10)\n",
    "    newBeta_j['PageTalkingAbout_3'] = beta_j['PageTalkingAbout_3'] - alpha*(d11)\n",
    "\n",
    "    beta_df = pd.concat([beta_df, newBeta_j], axis=1)\n",
    "    \n",
    "    beta_df = beta_df.rename(columns={beta_df.columns[-1]: i })\n",
    "\n",
    "    beta_j = newBeta_j\n",
    "    \n",
    "    if i > 0:\n",
    "        first_diff = train_MSE[(i-1)] - train_MSE[i]\n",
    "        \n",
    "    i += 1"
   ]
  },
  {
   "cell_type": "markdown",
   "metadata": {},
   "source": [
    "#### Coefficients: MSE change within 10"
   ]
  },
  {
   "cell_type": "code",
   "execution_count": 56,
   "metadata": {},
   "outputs": [
    {
     "data": {
      "text/plain": [
       "CommentsDiffFirstSecondDay_34    13.541725\n",
       "CommentsFirst24h_33              11.343995\n",
       "FridayPublished_45                0.399908\n",
       "HoursReceived_39                  0.292115\n",
       "MondayPublished_41                0.291811\n",
       "PageCheckins_2                   -0.715071\n",
       "PagePopularity_1                 -0.638383\n",
       "PageTalkingAbout_3                2.172605\n",
       "PostShareCnt_37                   1.418192\n",
       "SaturdayPublished_46              0.063138\n",
       "SundayPublished_40                0.167294\n",
       "y-int                             7.658443\n",
       "Name: 3, dtype: float64"
      ]
     },
     "execution_count": 56,
     "metadata": {},
     "output_type": "execute_result"
    }
   ],
   "source": [
    "beta_df.iloc[:, -1]"
   ]
  },
  {
   "cell_type": "code",
   "execution_count": 57,
   "metadata": {},
   "outputs": [
    {
     "name": "stderr",
     "output_type": "stream",
     "text": [
      "C:\\Users\\katri\\Anaconda3\\lib\\site-packages\\ipykernel_launcher.py:7: SettingWithCopyWarning: \n",
      "A value is trying to be set on a copy of a slice from a DataFrame.\n",
      "Try using .loc[row_indexer,col_indexer] = value instead\n",
      "\n",
      "See the caveats in the documentation: http://pandas.pydata.org/pandas-docs/stable/indexing.html#indexing-view-versus-copy\n",
      "  import sys\n"
     ]
    }
   ],
   "source": [
    "coef_v7 = beta_df.iloc[:, -1]\n",
    "\n",
    "test = X_test[['HoursReceived_39', 'PostShareCnt_37', 'CommentsFirst24h_33', 'PageCheckins_2', 'SundayPublished_40', 'FridayPublished_45', 'SaturdayPublished_46', 'MondayPublished_41', 'CommentsDiffFirstSecondDay_34', 'PagePopularity_1', 'PageTalkingAbout_3']]\n",
    "\n",
    "mm = len(X_test)\n",
    "\n",
    "test['y-int'] = 1\n",
    "testTimesBeta = test.multiply(other=coef_v7, axis=1)\n",
    "\n",
    "testTimesBeta['y-hat'] = testTimesBeta.sum(axis=1)\n",
    "\n",
    "testTimesBeta = pd.merge(testTimesBeta, y_test, left_index=True, right_index=True)\n",
    "testTimesBeta['resid'] = testTimesBeta['y-hat'] - testTimesBeta['CommentsNextH_Hours_54']\n",
    "MSE_test_v7 = sum(testTimesBeta['resid']*testTimesBeta['resid'])/mm"
   ]
  },
  {
   "cell_type": "code",
   "execution_count": 58,
   "metadata": {},
   "outputs": [
    {
     "name": "stdout",
     "output_type": "stream",
     "text": [
      "Test MSE for Version 7:  956.48\n"
     ]
    }
   ],
   "source": [
    "print(\"Test MSE for Version 7: \", round(MSE_test_v7, 2))"
   ]
  },
  {
   "cell_type": "markdown",
   "metadata": {},
   "source": [
    "### Threshold: MSE within 1"
   ]
  },
  {
   "cell_type": "code",
   "execution_count": 59,
   "metadata": {},
   "outputs": [
    {
     "name": "stderr",
     "output_type": "stream",
     "text": [
      "C:\\Users\\katri\\Anaconda3\\lib\\site-packages\\ipykernel_launcher.py:22: SettingWithCopyWarning: \n",
      "A value is trying to be set on a copy of a slice from a DataFrame.\n",
      "Try using .loc[row_indexer,col_indexer] = value instead\n",
      "\n",
      "See the caveats in the documentation: http://pandas.pydata.org/pandas-docs/stable/indexing.html#indexing-view-versus-copy\n"
     ]
    }
   ],
   "source": [
    "m = len(X_train)\n",
    "y = y_train\n",
    "\n",
    "alpha = .6\n",
    "\n",
    "np.random.seed(2019)\n",
    "beta_0 = rand.random()\n",
    "beta_1 = rand.random()\n",
    "beta_2 = rand.random()\n",
    "beta_3 = rand.random()\n",
    "beta_4 = rand.random()\n",
    "beta_5 = rand.random()\n",
    "beta_6 = rand.random()\n",
    "beta_7 = rand.random()\n",
    "beta_8 = rand.random()\n",
    "beta_9 = rand.random()\n",
    "beta_10 = rand.random()\n",
    "beta_11 = rand.random()\n",
    "\n",
    "X = X_train[['HoursReceived_39', 'PostShareCnt_37', 'CommentsFirst24h_33', 'PageCheckins_2', 'SundayPublished_40', 'FridayPublished_45', 'SaturdayPublished_46', 'MondayPublished_41', 'CommentsDiffFirstSecondDay_34', 'PagePopularity_1', 'PageTalkingAbout_3']]\n",
    "\n",
    "X['y-int'] = 1\n",
    "\n",
    "betas = {'HoursReceived_39': beta_1, 'PostShareCnt_37': beta_2, 'CommentsFirst24h_33': beta_3, 'PageCheckins_2': beta_4, 'SundayPublished_40': beta_5, 'FridayPublished_45': beta_6, 'SaturdayPublished_46': beta_7, 'MondayPublished_41': beta_8\n",
    "         , 'CommentsDiffFirstSecondDay_34': beta_9, 'PagePopularity_1': beta_10, 'PageTalkingAbout_3': beta_11, 'y-int': beta_0}\n",
    "beta_j = pd.Series(betas)\n",
    "beta_j\n",
    "\n",
    "beta_df = pd.DataFrame(beta_j)\n",
    "\n",
    "train_MSE = pd.Series([])"
   ]
  },
  {
   "cell_type": "code",
   "execution_count": 60,
   "metadata": {
    "collapsed": true
   },
   "outputs": [],
   "source": [
    "first_diff = 1000\n",
    "i = 0\n",
    "\n",
    "while i < 1000 and first_diff > 1:\n",
    "\n",
    "    XtimesBeta = X.multiply(other=beta_j, axis=1)\n",
    "\n",
    "    ### y-hat: sum all of the columns for each row\n",
    "    XtimesBeta['y-hat'] = XtimesBeta.sum(axis=1)\n",
    "\n",
    "    XtimesBeta = pd.merge(XtimesBeta, y, left_index=True, right_index=True)\n",
    "\n",
    "    XtimesBeta['resid'] = XtimesBeta['y-hat'] - XtimesBeta['CommentsNextH_Hours_54']\n",
    "\n",
    "    train_MSE[i] = sum((XtimesBeta['resid']*XtimesBeta['resid']))/m\n",
    "\n",
    "    d0 = sum(XtimesBeta['resid'])/m\n",
    "    d1 = sum(XtimesBeta['resid']*X['HoursReceived_39'])/m\n",
    "    d2 = sum(XtimesBeta['resid']*X['PostShareCnt_37'])/m\n",
    "    d3 = sum(XtimesBeta['resid']*X['CommentsFirst24h_33'])/m\n",
    "    d4 = sum(XtimesBeta['resid']*X['PageCheckins_2'])/m\n",
    "    d5 = sum(XtimesBeta['resid']*X['SundayPublished_40'])/m\n",
    "    d6 = sum(XtimesBeta['resid']*X['FridayPublished_45'])/m\n",
    "    d7 = sum(XtimesBeta['resid']*X['SaturdayPublished_46'])/m\n",
    "    d8 = sum(XtimesBeta['resid']*X['MondayPublished_41'])/m\n",
    "    d9 = sum(XtimesBeta['resid']*X['CommentsDiffFirstSecondDay_34'])/m\n",
    "    d10 = sum(XtimesBeta['resid']*X['PagePopularity_1'])/m\n",
    "    d11 = sum(XtimesBeta['resid']*X['PageTalkingAbout_3'])/m\n",
    "\n",
    "    newBeta_j = pd.Series([])\n",
    "    newBeta_j['y-int'] = beta_j['y-int'] - alpha*(d0)\n",
    "    newBeta_j['HoursReceived_39'] = beta_j['HoursReceived_39'] - alpha*(d1)\n",
    "    newBeta_j['PostShareCnt_37'] = beta_j['PostShareCnt_37'] - alpha*(d2)\n",
    "    newBeta_j['CommentsFirst24h_33'] = beta_j['CommentsFirst24h_33'] - alpha*(d3)\n",
    "    newBeta_j['PageCheckins_2'] = beta_j['PageCheckins_2'] - alpha*(d4)\n",
    "    newBeta_j['SundayPublished_40'] = beta_j['SundayPublished_40'] - alpha*(d5)\n",
    "    newBeta_j['FridayPublished_45'] = beta_j['FridayPublished_45'] - alpha*(d6)\n",
    "    newBeta_j['SaturdayPublished_46'] = beta_j['SaturdayPublished_46'] - alpha*(d7)\n",
    "    newBeta_j['MondayPublished_41'] = beta_j['MondayPublished_41'] - alpha*(d8)\n",
    "    newBeta_j['CommentsDiffFirstSecondDay_34'] = beta_j['CommentsDiffFirstSecondDay_34'] - alpha*(d9)\n",
    "    newBeta_j['PagePopularity_1'] = beta_j['PagePopularity_1'] - alpha*(d10)\n",
    "    newBeta_j['PageTalkingAbout_3'] = beta_j['PageTalkingAbout_3'] - alpha*(d11)\n",
    "\n",
    "    beta_df = pd.concat([beta_df, newBeta_j], axis=1)\n",
    "    \n",
    "    beta_df = beta_df.rename(columns={beta_df.columns[-1]: i })\n",
    "\n",
    "    beta_j = newBeta_j\n",
    "    \n",
    "    if i > 0:\n",
    "        first_diff = train_MSE[(i-1)] - train_MSE[i]\n",
    "        \n",
    "    i += 1"
   ]
  },
  {
   "cell_type": "markdown",
   "metadata": {},
   "source": [
    "#### Coefficients: MSE change within 1"
   ]
  },
  {
   "cell_type": "code",
   "execution_count": 61,
   "metadata": {},
   "outputs": [
    {
     "data": {
      "text/plain": [
       "CommentsDiffFirstSecondDay_34    13.715997\n",
       "CommentsFirst24h_33              11.641534\n",
       "FridayPublished_45                0.274323\n",
       "HoursReceived_39                  0.358174\n",
       "MondayPublished_41                0.159619\n",
       "PageCheckins_2                   -0.787010\n",
       "PagePopularity_1                 -0.562203\n",
       "PageTalkingAbout_3                2.090505\n",
       "PostShareCnt_37                   1.326042\n",
       "SaturdayPublished_46             -0.054237\n",
       "SundayPublished_40                0.016040\n",
       "y-int                             7.811166\n",
       "Name: 5, dtype: float64"
      ]
     },
     "execution_count": 61,
     "metadata": {},
     "output_type": "execute_result"
    }
   ],
   "source": [
    "beta_df.iloc[:, -1]"
   ]
  },
  {
   "cell_type": "code",
   "execution_count": 62,
   "metadata": {},
   "outputs": [
    {
     "name": "stderr",
     "output_type": "stream",
     "text": [
      "C:\\Users\\katri\\Anaconda3\\lib\\site-packages\\ipykernel_launcher.py:7: SettingWithCopyWarning: \n",
      "A value is trying to be set on a copy of a slice from a DataFrame.\n",
      "Try using .loc[row_indexer,col_indexer] = value instead\n",
      "\n",
      "See the caveats in the documentation: http://pandas.pydata.org/pandas-docs/stable/indexing.html#indexing-view-versus-copy\n",
      "  import sys\n"
     ]
    }
   ],
   "source": [
    "coef_v8 = beta_df.iloc[:, -1]\n",
    "\n",
    "test = X_test[['HoursReceived_39', 'PostShareCnt_37', 'CommentsFirst24h_33', 'PageCheckins_2', 'SundayPublished_40', 'FridayPublished_45', 'SaturdayPublished_46', 'MondayPublished_41', 'CommentsDiffFirstSecondDay_34', 'PagePopularity_1', 'PageTalkingAbout_3']]\n",
    "\n",
    "mm = len(X_test)\n",
    "\n",
    "test['y-int'] = 1\n",
    "testTimesBeta = test.multiply(other=coef_v8, axis=1)\n",
    "\n",
    "testTimesBeta['y-hat'] = testTimesBeta.sum(axis=1)\n",
    "\n",
    "testTimesBeta = pd.merge(testTimesBeta, y_test, left_index=True, right_index=True)\n",
    "testTimesBeta['resid'] = testTimesBeta['y-hat'] - testTimesBeta['CommentsNextH_Hours_54']\n",
    "MSE_test_v8 = sum(testTimesBeta['resid']*testTimesBeta['resid'])/mm"
   ]
  },
  {
   "cell_type": "code",
   "execution_count": 63,
   "metadata": {},
   "outputs": [
    {
     "name": "stdout",
     "output_type": "stream",
     "text": [
      "Test MSE for Version 8:  958.34\n"
     ]
    }
   ],
   "source": [
    "print(\"Test MSE for Version 8: \", round(MSE_test_v8, 2))"
   ]
  },
  {
   "cell_type": "markdown",
   "metadata": {},
   "source": [
    "### Threshold: MSE within 0.1"
   ]
  },
  {
   "cell_type": "code",
   "execution_count": 64,
   "metadata": {},
   "outputs": [
    {
     "name": "stderr",
     "output_type": "stream",
     "text": [
      "C:\\Users\\katri\\Anaconda3\\lib\\site-packages\\ipykernel_launcher.py:22: SettingWithCopyWarning: \n",
      "A value is trying to be set on a copy of a slice from a DataFrame.\n",
      "Try using .loc[row_indexer,col_indexer] = value instead\n",
      "\n",
      "See the caveats in the documentation: http://pandas.pydata.org/pandas-docs/stable/indexing.html#indexing-view-versus-copy\n"
     ]
    }
   ],
   "source": [
    "m = len(X_train)\n",
    "y = y_train\n",
    "\n",
    "alpha = .6\n",
    "\n",
    "np.random.seed(2019)\n",
    "beta_0 = rand.random()\n",
    "beta_1 = rand.random()\n",
    "beta_2 = rand.random()\n",
    "beta_3 = rand.random()\n",
    "beta_4 = rand.random()\n",
    "beta_5 = rand.random()\n",
    "beta_6 = rand.random()\n",
    "beta_7 = rand.random()\n",
    "beta_8 = rand.random()\n",
    "beta_9 = rand.random()\n",
    "beta_10 = rand.random()\n",
    "beta_11 = rand.random()\n",
    "\n",
    "X = X_train[['HoursReceived_39', 'PostShareCnt_37', 'CommentsFirst24h_33', 'PageCheckins_2', 'SundayPublished_40', 'FridayPublished_45', 'SaturdayPublished_46', 'MondayPublished_41', 'CommentsDiffFirstSecondDay_34', 'PagePopularity_1', 'PageTalkingAbout_3']]\n",
    "\n",
    "X['y-int'] = 1\n",
    "\n",
    "betas = {'HoursReceived_39': beta_1, 'PostShareCnt_37': beta_2, 'CommentsFirst24h_33': beta_3, 'PageCheckins_2': beta_4, 'SundayPublished_40': beta_5, 'FridayPublished_45': beta_6, 'SaturdayPublished_46': beta_7, 'MondayPublished_41': beta_8\n",
    "         , 'CommentsDiffFirstSecondDay_34': beta_9, 'PagePopularity_1': beta_10, 'PageTalkingAbout_3': beta_11, 'y-int': beta_0}\n",
    "beta_j = pd.Series(betas)\n",
    "beta_j\n",
    "\n",
    "beta_df = pd.DataFrame(beta_j)\n",
    "\n",
    "train_MSE = pd.Series([])"
   ]
  },
  {
   "cell_type": "code",
   "execution_count": 65,
   "metadata": {
    "collapsed": true
   },
   "outputs": [],
   "source": [
    "first_diff = 1000\n",
    "i = 0\n",
    "\n",
    "while i < 1000 and first_diff > 0.1:\n",
    "\n",
    "    XtimesBeta = X.multiply(other=beta_j, axis=1)\n",
    "\n",
    "    ### y-hat: sum all of the columns for each row\n",
    "    XtimesBeta['y-hat'] = XtimesBeta.sum(axis=1)\n",
    "\n",
    "    XtimesBeta = pd.merge(XtimesBeta, y, left_index=True, right_index=True)\n",
    "\n",
    "    XtimesBeta['resid'] = XtimesBeta['y-hat'] - XtimesBeta['CommentsNextH_Hours_54']\n",
    "\n",
    "    train_MSE[i] = sum((XtimesBeta['resid']*XtimesBeta['resid']))/m\n",
    "\n",
    "    d0 = sum(XtimesBeta['resid'])/m\n",
    "    d1 = sum(XtimesBeta['resid']*X['HoursReceived_39'])/m\n",
    "    d2 = sum(XtimesBeta['resid']*X['PostShareCnt_37'])/m\n",
    "    d3 = sum(XtimesBeta['resid']*X['CommentsFirst24h_33'])/m\n",
    "    d4 = sum(XtimesBeta['resid']*X['PageCheckins_2'])/m\n",
    "    d5 = sum(XtimesBeta['resid']*X['SundayPublished_40'])/m\n",
    "    d6 = sum(XtimesBeta['resid']*X['FridayPublished_45'])/m\n",
    "    d7 = sum(XtimesBeta['resid']*X['SaturdayPublished_46'])/m\n",
    "    d8 = sum(XtimesBeta['resid']*X['MondayPublished_41'])/m\n",
    "    d9 = sum(XtimesBeta['resid']*X['CommentsDiffFirstSecondDay_34'])/m\n",
    "    d10 = sum(XtimesBeta['resid']*X['PagePopularity_1'])/m\n",
    "    d11 = sum(XtimesBeta['resid']*X['PageTalkingAbout_3'])/m\n",
    "\n",
    "    newBeta_j = pd.Series([])\n",
    "    newBeta_j['y-int'] = beta_j['y-int'] - alpha*(d0)\n",
    "    newBeta_j['HoursReceived_39'] = beta_j['HoursReceived_39'] - alpha*(d1)\n",
    "    newBeta_j['PostShareCnt_37'] = beta_j['PostShareCnt_37'] - alpha*(d2)\n",
    "    newBeta_j['CommentsFirst24h_33'] = beta_j['CommentsFirst24h_33'] - alpha*(d3)\n",
    "    newBeta_j['PageCheckins_2'] = beta_j['PageCheckins_2'] - alpha*(d4)\n",
    "    newBeta_j['SundayPublished_40'] = beta_j['SundayPublished_40'] - alpha*(d5)\n",
    "    newBeta_j['FridayPublished_45'] = beta_j['FridayPublished_45'] - alpha*(d6)\n",
    "    newBeta_j['SaturdayPublished_46'] = beta_j['SaturdayPublished_46'] - alpha*(d7)\n",
    "    newBeta_j['MondayPublished_41'] = beta_j['MondayPublished_41'] - alpha*(d8)\n",
    "    newBeta_j['CommentsDiffFirstSecondDay_34'] = beta_j['CommentsDiffFirstSecondDay_34'] - alpha*(d9)\n",
    "    newBeta_j['PagePopularity_1'] = beta_j['PagePopularity_1'] - alpha*(d10)\n",
    "    newBeta_j['PageTalkingAbout_3'] = beta_j['PageTalkingAbout_3'] - alpha*(d11)\n",
    "\n",
    "    beta_df = pd.concat([beta_df, newBeta_j], axis=1)\n",
    "    \n",
    "    beta_df = beta_df.rename(columns={beta_df.columns[-1]: i })\n",
    "\n",
    "    beta_j = newBeta_j\n",
    "    \n",
    "    if i > 0:\n",
    "        first_diff = train_MSE[(i-1)] - train_MSE[i]\n",
    "        \n",
    "    i += 1"
   ]
  },
  {
   "cell_type": "markdown",
   "metadata": {},
   "source": [
    "#### Coefficients: MSE change within 0.1"
   ]
  },
  {
   "cell_type": "code",
   "execution_count": 66,
   "metadata": {},
   "outputs": [
    {
     "data": {
      "text/plain": [
       "CommentsDiffFirstSecondDay_34    13.728612\n",
       "CommentsFirst24h_33              11.685073\n",
       "FridayPublished_45                0.269466\n",
       "HoursReceived_39                  0.369437\n",
       "MondayPublished_41                0.152827\n",
       "PageCheckins_2                   -0.796204\n",
       "PagePopularity_1                 -0.545308\n",
       "PageTalkingAbout_3                2.080907\n",
       "PostShareCnt_37                   1.307971\n",
       "SaturdayPublished_46             -0.058993\n",
       "SundayPublished_40                0.008119\n",
       "y-int                             7.829751\n",
       "Name: 6, dtype: float64"
      ]
     },
     "execution_count": 66,
     "metadata": {},
     "output_type": "execute_result"
    }
   ],
   "source": [
    "beta_df.iloc[:, -1]"
   ]
  },
  {
   "cell_type": "code",
   "execution_count": 67,
   "metadata": {},
   "outputs": [
    {
     "name": "stderr",
     "output_type": "stream",
     "text": [
      "C:\\Users\\katri\\Anaconda3\\lib\\site-packages\\ipykernel_launcher.py:7: SettingWithCopyWarning: \n",
      "A value is trying to be set on a copy of a slice from a DataFrame.\n",
      "Try using .loc[row_indexer,col_indexer] = value instead\n",
      "\n",
      "See the caveats in the documentation: http://pandas.pydata.org/pandas-docs/stable/indexing.html#indexing-view-versus-copy\n",
      "  import sys\n"
     ]
    }
   ],
   "source": [
    "coef_v9 = beta_df.iloc[:, -1]\n",
    "\n",
    "test = X_test[['HoursReceived_39', 'PostShareCnt_37', 'CommentsFirst24h_33', 'PageCheckins_2', 'SundayPublished_40', 'FridayPublished_45', 'SaturdayPublished_46', 'MondayPublished_41', 'CommentsDiffFirstSecondDay_34', 'PagePopularity_1', 'PageTalkingAbout_3']]\n",
    "\n",
    "mm = len(X_test)\n",
    "\n",
    "test['y-int'] = 1\n",
    "testTimesBeta = test.multiply(other=coef_v9, axis=1)\n",
    "\n",
    "testTimesBeta['y-hat'] = testTimesBeta.sum(axis=1)\n",
    "\n",
    "testTimesBeta = pd.merge(testTimesBeta, y_test, left_index=True, right_index=True)\n",
    "testTimesBeta['resid'] = testTimesBeta['y-hat'] - testTimesBeta['CommentsNextH_Hours_54']\n",
    "MSE_test_v9 = sum(testTimesBeta['resid']*testTimesBeta['resid'])/mm"
   ]
  },
  {
   "cell_type": "code",
   "execution_count": 68,
   "metadata": {},
   "outputs": [
    {
     "name": "stdout",
     "output_type": "stream",
     "text": [
      "Test MSE for Version 9:  958.61\n"
     ]
    }
   ],
   "source": [
    "print(\"Test MSE for Version 9: \", round(MSE_test_v9, 2))"
   ]
  },
  {
   "cell_type": "markdown",
   "metadata": {},
   "source": [
    "### Threshold: MSE within 100"
   ]
  },
  {
   "cell_type": "code",
   "execution_count": 69,
   "metadata": {},
   "outputs": [
    {
     "name": "stderr",
     "output_type": "stream",
     "text": [
      "C:\\Users\\katri\\Anaconda3\\lib\\site-packages\\ipykernel_launcher.py:22: SettingWithCopyWarning: \n",
      "A value is trying to be set on a copy of a slice from a DataFrame.\n",
      "Try using .loc[row_indexer,col_indexer] = value instead\n",
      "\n",
      "See the caveats in the documentation: http://pandas.pydata.org/pandas-docs/stable/indexing.html#indexing-view-versus-copy\n"
     ]
    }
   ],
   "source": [
    "m = len(X_train)\n",
    "y = y_train\n",
    "\n",
    "alpha = .6\n",
    "\n",
    "np.random.seed(2019)\n",
    "beta_0 = rand.random()\n",
    "beta_1 = rand.random()\n",
    "beta_2 = rand.random()\n",
    "beta_3 = rand.random()\n",
    "beta_4 = rand.random()\n",
    "beta_5 = rand.random()\n",
    "beta_6 = rand.random()\n",
    "beta_7 = rand.random()\n",
    "beta_8 = rand.random()\n",
    "beta_9 = rand.random()\n",
    "beta_10 = rand.random()\n",
    "beta_11 = rand.random()\n",
    "\n",
    "X = X_train[['HoursReceived_39', 'PostShareCnt_37', 'CommentsFirst24h_33', 'PageCheckins_2', 'SundayPublished_40', 'FridayPublished_45', 'SaturdayPublished_46', 'MondayPublished_41', 'CommentsDiffFirstSecondDay_34', 'PagePopularity_1', 'PageTalkingAbout_3']]\n",
    "\n",
    "X['y-int'] = 1\n",
    "\n",
    "betas = {'HoursReceived_39': beta_1, 'PostShareCnt_37': beta_2, 'CommentsFirst24h_33': beta_3, 'PageCheckins_2': beta_4, 'SundayPublished_40': beta_5, 'FridayPublished_45': beta_6, 'SaturdayPublished_46': beta_7, 'MondayPublished_41': beta_8\n",
    "         , 'CommentsDiffFirstSecondDay_34': beta_9, 'PagePopularity_1': beta_10, 'PageTalkingAbout_3': beta_11, 'y-int': beta_0}\n",
    "beta_j = pd.Series(betas)\n",
    "beta_j\n",
    "\n",
    "beta_df = pd.DataFrame(beta_j)\n",
    "\n",
    "train_MSE = pd.Series([])"
   ]
  },
  {
   "cell_type": "code",
   "execution_count": 70,
   "metadata": {
    "collapsed": true
   },
   "outputs": [],
   "source": [
    "first_diff = 1000\n",
    "i = 0\n",
    "\n",
    "while i < 1000 and first_diff > 100:\n",
    "\n",
    "    XtimesBeta = X.multiply(other=beta_j, axis=1)\n",
    "\n",
    "    ### y-hat: sum all of the columns for each row\n",
    "    XtimesBeta['y-hat'] = XtimesBeta.sum(axis=1)\n",
    "\n",
    "    XtimesBeta = pd.merge(XtimesBeta, y, left_index=True, right_index=True)\n",
    "\n",
    "    XtimesBeta['resid'] = XtimesBeta['y-hat'] - XtimesBeta['CommentsNextH_Hours_54']\n",
    "\n",
    "    train_MSE[i] = sum((XtimesBeta['resid']*XtimesBeta['resid']))/m\n",
    "\n",
    "    d0 = sum(XtimesBeta['resid'])/m\n",
    "    d1 = sum(XtimesBeta['resid']*X['HoursReceived_39'])/m\n",
    "    d2 = sum(XtimesBeta['resid']*X['PostShareCnt_37'])/m\n",
    "    d3 = sum(XtimesBeta['resid']*X['CommentsFirst24h_33'])/m\n",
    "    d4 = sum(XtimesBeta['resid']*X['PageCheckins_2'])/m\n",
    "    d5 = sum(XtimesBeta['resid']*X['SundayPublished_40'])/m\n",
    "    d6 = sum(XtimesBeta['resid']*X['FridayPublished_45'])/m\n",
    "    d7 = sum(XtimesBeta['resid']*X['SaturdayPublished_46'])/m\n",
    "    d8 = sum(XtimesBeta['resid']*X['MondayPublished_41'])/m\n",
    "    d9 = sum(XtimesBeta['resid']*X['CommentsDiffFirstSecondDay_34'])/m\n",
    "    d10 = sum(XtimesBeta['resid']*X['PagePopularity_1'])/m\n",
    "    d11 = sum(XtimesBeta['resid']*X['PageTalkingAbout_3'])/m\n",
    "\n",
    "    newBeta_j = pd.Series([])\n",
    "    newBeta_j['y-int'] = beta_j['y-int'] - alpha*(d0)\n",
    "    newBeta_j['HoursReceived_39'] = beta_j['HoursReceived_39'] - alpha*(d1)\n",
    "    newBeta_j['PostShareCnt_37'] = beta_j['PostShareCnt_37'] - alpha*(d2)\n",
    "    newBeta_j['CommentsFirst24h_33'] = beta_j['CommentsFirst24h_33'] - alpha*(d3)\n",
    "    newBeta_j['PageCheckins_2'] = beta_j['PageCheckins_2'] - alpha*(d4)\n",
    "    newBeta_j['SundayPublished_40'] = beta_j['SundayPublished_40'] - alpha*(d5)\n",
    "    newBeta_j['FridayPublished_45'] = beta_j['FridayPublished_45'] - alpha*(d6)\n",
    "    newBeta_j['SaturdayPublished_46'] = beta_j['SaturdayPublished_46'] - alpha*(d7)\n",
    "    newBeta_j['MondayPublished_41'] = beta_j['MondayPublished_41'] - alpha*(d8)\n",
    "    newBeta_j['CommentsDiffFirstSecondDay_34'] = beta_j['CommentsDiffFirstSecondDay_34'] - alpha*(d9)\n",
    "    newBeta_j['PagePopularity_1'] = beta_j['PagePopularity_1'] - alpha*(d10)\n",
    "    newBeta_j['PageTalkingAbout_3'] = beta_j['PageTalkingAbout_3'] - alpha*(d11)\n",
    "\n",
    "    beta_df = pd.concat([beta_df, newBeta_j], axis=1)\n",
    "    \n",
    "    beta_df = beta_df.rename(columns={beta_df.columns[-1]: i })\n",
    "\n",
    "    beta_j = newBeta_j\n",
    "    \n",
    "    if i > 0:\n",
    "        first_diff = train_MSE[(i-1)] - train_MSE[i]\n",
    "        \n",
    "    i += 1"
   ]
  },
  {
   "cell_type": "markdown",
   "metadata": {},
   "source": [
    "#### Coefficients: MSE within 100"
   ]
  },
  {
   "cell_type": "code",
   "execution_count": 71,
   "metadata": {},
   "outputs": [
    {
     "data": {
      "text/plain": [
       "CommentsDiffFirstSecondDay_34    13.202582\n",
       "CommentsFirst24h_33              11.083916\n",
       "FridayPublished_45                0.318057\n",
       "HoursReceived_39                  0.190161\n",
       "MondayPublished_41                0.240362\n",
       "PageCheckins_2                   -0.560126\n",
       "PagePopularity_1                 -0.357261\n",
       "PageTalkingAbout_3                2.297071\n",
       "PostShareCnt_37                   1.615035\n",
       "SaturdayPublished_46             -0.013910\n",
       "SundayPublished_40                0.170816\n",
       "y-int                             7.364424\n",
       "Name: 2, dtype: float64"
      ]
     },
     "execution_count": 71,
     "metadata": {},
     "output_type": "execute_result"
    }
   ],
   "source": [
    "beta_df.iloc[:, -1]"
   ]
  },
  {
   "cell_type": "code",
   "execution_count": 72,
   "metadata": {},
   "outputs": [
    {
     "name": "stderr",
     "output_type": "stream",
     "text": [
      "C:\\Users\\katri\\Anaconda3\\lib\\site-packages\\ipykernel_launcher.py:7: SettingWithCopyWarning: \n",
      "A value is trying to be set on a copy of a slice from a DataFrame.\n",
      "Try using .loc[row_indexer,col_indexer] = value instead\n",
      "\n",
      "See the caveats in the documentation: http://pandas.pydata.org/pandas-docs/stable/indexing.html#indexing-view-versus-copy\n",
      "  import sys\n"
     ]
    }
   ],
   "source": [
    "coef_v10 = beta_df.iloc[:, -1]\n",
    "\n",
    "test = X_test[['HoursReceived_39', 'PostShareCnt_37', 'CommentsFirst24h_33', 'PageCheckins_2', 'SundayPublished_40', 'FridayPublished_45', 'SaturdayPublished_46', 'MondayPublished_41', 'CommentsDiffFirstSecondDay_34', 'PagePopularity_1', 'PageTalkingAbout_3']]\n",
    "\n",
    "mm = len(X_test)\n",
    "\n",
    "test['y-int'] = 1\n",
    "testTimesBeta = test.multiply(other=coef_v10, axis=1)\n",
    "\n",
    "testTimesBeta['y-hat'] = testTimesBeta.sum(axis=1)\n",
    "\n",
    "testTimesBeta = pd.merge(testTimesBeta, y_test, left_index=True, right_index=True)\n",
    "testTimesBeta['resid'] = testTimesBeta['y-hat'] - testTimesBeta['CommentsNextH_Hours_54']\n",
    "MSE_test_v10 = sum(testTimesBeta['resid']*testTimesBeta['resid'])/mm"
   ]
  },
  {
   "cell_type": "code",
   "execution_count": 73,
   "metadata": {},
   "outputs": [
    {
     "name": "stdout",
     "output_type": "stream",
     "text": [
      "Test MSE for Version 10:  954.09\n"
     ]
    }
   ],
   "source": [
    "print(\"Test MSE for Version 10: \", round(MSE_test_v10, 2))"
   ]
  },
  {
   "cell_type": "markdown",
   "metadata": {},
   "source": [
    "## Experimentation Part 3: Pick five features randomly"
   ]
  },
  {
   "cell_type": "markdown",
   "metadata": {},
   "source": [
    "Approach to randoms: I will pick every other variable in the current 11 starting from 1, HoursReceived_39."
   ]
  },
  {
   "cell_type": "code",
   "execution_count": 74,
   "metadata": {},
   "outputs": [
    {
     "name": "stderr",
     "output_type": "stream",
     "text": [
      "C:\\Users\\katri\\Anaconda3\\lib\\site-packages\\ipykernel_launcher.py:16: SettingWithCopyWarning: \n",
      "A value is trying to be set on a copy of a slice from a DataFrame.\n",
      "Try using .loc[row_indexer,col_indexer] = value instead\n",
      "\n",
      "See the caveats in the documentation: http://pandas.pydata.org/pandas-docs/stable/indexing.html#indexing-view-versus-copy\n",
      "  app.launch_new_instance()\n"
     ]
    }
   ],
   "source": [
    "m = len(X_train)\n",
    "y = y_train\n",
    "\n",
    "alpha = .6\n",
    "\n",
    "np.random.seed(2019)\n",
    "beta_0 = rand.random()\n",
    "beta_1 = rand.random()\n",
    "beta_2 = rand.random()\n",
    "beta_3 = rand.random()\n",
    "beta_4 = rand.random()\n",
    "beta_5 = rand.random()\n",
    "\n",
    "X = X_train[['HoursReceived_39', 'CommentsFirst24h_33', 'SundayPublished_40', 'SaturdayPublished_46', 'CommentsDiffFirstSecondDay_34']]\n",
    "\n",
    "X['y-int'] = 1\n",
    "\n",
    "betas = {'HoursReceived_39': beta_1, 'CommentsFirst24h_33': beta_2, 'SundayPublished_40': beta_3, 'SaturdayPublished_46': beta_4, 'CommentsDiffFirstSecondDay_34': beta_5, 'y-int': beta_0}\n",
    "beta_j = pd.Series(betas)\n",
    "beta_j\n",
    "\n",
    "beta_df = pd.DataFrame(beta_j)\n",
    "\n",
    "train_MSE = pd.Series([])"
   ]
  },
  {
   "cell_type": "code",
   "execution_count": 75,
   "metadata": {
    "collapsed": true
   },
   "outputs": [],
   "source": [
    "first_diff = 1000\n",
    "i = 0\n",
    "\n",
    "while i < 1000 and first_diff > 100:\n",
    "\n",
    "    XtimesBeta = X.multiply(other=beta_j, axis=1)\n",
    "\n",
    "    ### y-hat: sum all of the columns for each row\n",
    "    XtimesBeta['y-hat'] = XtimesBeta.sum(axis=1)\n",
    "\n",
    "    XtimesBeta = pd.merge(XtimesBeta, y, left_index=True, right_index=True)\n",
    "\n",
    "    XtimesBeta['resid'] = XtimesBeta['y-hat'] - XtimesBeta['CommentsNextH_Hours_54']\n",
    "\n",
    "    train_MSE[i] = sum((XtimesBeta['resid']*XtimesBeta['resid']))/m\n",
    "\n",
    "    d0 = sum(XtimesBeta['resid'])/m\n",
    "    d1 = sum(XtimesBeta['resid']*X['HoursReceived_39'])/m\n",
    "    d2 = sum(XtimesBeta['resid']*X['CommentsFirst24h_33'])/m\n",
    "    d3 = sum(XtimesBeta['resid']*X['SundayPublished_40'])/m\n",
    "    d4 = sum(XtimesBeta['resid']*X['SaturdayPublished_46'])/m\n",
    "    d5 = sum(XtimesBeta['resid']*X['CommentsDiffFirstSecondDay_34'])/m\n",
    "\n",
    "    newBeta_j = pd.Series([])\n",
    "    newBeta_j['y-int'] = beta_j['y-int'] - alpha*(d0)\n",
    "    newBeta_j['HoursReceived_39'] = beta_j['HoursReceived_39'] - alpha*(d1)\n",
    "    newBeta_j['CommentsFirst24h_33'] = beta_j['CommentsFirst24h_33'] - alpha*(d2)\n",
    "    newBeta_j['SundayPublished_40'] = beta_j['SundayPublished_40'] - alpha*(d3)\n",
    "    newBeta_j['SaturdayPublished_46'] = beta_j['SaturdayPublished_46'] - alpha*(d4)\n",
    "    newBeta_j['CommentsDiffFirstSecondDay_34'] = beta_j['CommentsDiffFirstSecondDay_34'] - alpha*(d5)\n",
    "\n",
    "\n",
    "    beta_df = pd.concat([beta_df, newBeta_j], axis=1)\n",
    "    \n",
    "    beta_df = beta_df.rename(columns={beta_df.columns[-1]: i })\n",
    "\n",
    "    beta_j = newBeta_j\n",
    "    \n",
    "    if i > 0:\n",
    "        first_diff = train_MSE[(i-1)] - train_MSE[i]\n",
    "        \n",
    "    i += 1"
   ]
  },
  {
   "cell_type": "code",
   "execution_count": 76,
   "metadata": {
    "collapsed": true
   },
   "outputs": [],
   "source": [
    "train_MSE_versions = pd.merge(pd.DataFrame(train_MSE_versions), pd.DataFrame(pd.Series(train_MSE)), right_index=True, left_index=True)\n",
    "train_MSE_versions = train_MSE_versions.rename(columns={0:'Version11- random 5'})"
   ]
  },
  {
   "cell_type": "markdown",
   "metadata": {},
   "source": [
    "#### Coefficients: Random 5"
   ]
  },
  {
   "cell_type": "code",
   "execution_count": 77,
   "metadata": {},
   "outputs": [
    {
     "data": {
      "text/plain": [
       "CommentsDiffFirstSecondDay_34    13.262522\n",
       "CommentsFirst24h_33              12.088333\n",
       "HoursReceived_39                 -0.268898\n",
       "SaturdayPublished_46             -0.098925\n",
       "SundayPublished_40                0.145192\n",
       "y-int                             7.404143\n",
       "Name: 2, dtype: float64"
      ]
     },
     "execution_count": 77,
     "metadata": {},
     "output_type": "execute_result"
    }
   ],
   "source": [
    "beta_df.iloc[:, -1]"
   ]
  },
  {
   "cell_type": "code",
   "execution_count": 78,
   "metadata": {},
   "outputs": [
    {
     "name": "stderr",
     "output_type": "stream",
     "text": [
      "C:\\Users\\katri\\Anaconda3\\lib\\site-packages\\ipykernel_launcher.py:7: SettingWithCopyWarning: \n",
      "A value is trying to be set on a copy of a slice from a DataFrame.\n",
      "Try using .loc[row_indexer,col_indexer] = value instead\n",
      "\n",
      "See the caveats in the documentation: http://pandas.pydata.org/pandas-docs/stable/indexing.html#indexing-view-versus-copy\n",
      "  import sys\n"
     ]
    }
   ],
   "source": [
    "coef_v11 = beta_df.iloc[:, -1]\n",
    "\n",
    "test = X_test[['HoursReceived_39', 'CommentsFirst24h_33', 'SundayPublished_40', 'SaturdayPublished_46', 'CommentsDiffFirstSecondDay_34']]\n",
    "\n",
    "mm = len(X_test)\n",
    "\n",
    "test['y-int'] = 1\n",
    "testTimesBeta = test.multiply(other=coef_v11, axis=1)\n",
    "\n",
    "testTimesBeta['y-hat'] = testTimesBeta.sum(axis=1)\n",
    "\n",
    "testTimesBeta = pd.merge(testTimesBeta, y_test, left_index=True, right_index=True)\n",
    "testTimesBeta['resid'] = testTimesBeta['y-hat'] - testTimesBeta['CommentsNextH_Hours_54']\n",
    "MSE_test_v11 = sum(testTimesBeta['resid']*testTimesBeta['resid'])/mm"
   ]
  },
  {
   "cell_type": "code",
   "execution_count": 79,
   "metadata": {},
   "outputs": [
    {
     "name": "stdout",
     "output_type": "stream",
     "text": [
      "Test MSE for Version 11  964.0\n"
     ]
    }
   ],
   "source": [
    "print(\"Test MSE for Version 11 \", round(MSE_test_v11))"
   ]
  },
  {
   "cell_type": "markdown",
   "metadata": {},
   "source": [
    "## Experimentation Part 4: Pick five features with domain knowledge"
   ]
  },
  {
   "cell_type": "markdown",
   "metadata": {},
   "source": [
    "For this experiment, I chose the five features with the most importance from Experiment #1: CommentsFirst24h, CommentsDiffFirstSecondDay, PageTalkingAbout, PostShareCnt, and HoursReceived."
   ]
  },
  {
   "cell_type": "code",
   "execution_count": 80,
   "metadata": {},
   "outputs": [
    {
     "name": "stderr",
     "output_type": "stream",
     "text": [
      "C:\\Users\\katri\\Anaconda3\\lib\\site-packages\\ipykernel_launcher.py:16: SettingWithCopyWarning: \n",
      "A value is trying to be set on a copy of a slice from a DataFrame.\n",
      "Try using .loc[row_indexer,col_indexer] = value instead\n",
      "\n",
      "See the caveats in the documentation: http://pandas.pydata.org/pandas-docs/stable/indexing.html#indexing-view-versus-copy\n",
      "  app.launch_new_instance()\n"
     ]
    }
   ],
   "source": [
    "m = len(X_train)\n",
    "y = y_train\n",
    "\n",
    "alpha = .6\n",
    "\n",
    "np.random.seed(2019)\n",
    "beta_0 = rand.random()\n",
    "beta_1 = rand.random()\n",
    "beta_2 = rand.random()\n",
    "beta_3 = rand.random()\n",
    "beta_4 = rand.random()\n",
    "beta_5 = rand.random()\n",
    "\n",
    "X = X_train[['HoursReceived_39', 'CommentsFirst24h_33', 'CommentsDiffFirstSecondDay_34', 'PageTalkingAbout_3', 'PostShareCnt_37']]\n",
    "\n",
    "X['y-int'] = 1\n",
    "\n",
    "betas = {'HoursReceived_39': beta_1, 'CommentsFirst24h_33': beta_2, 'CommentsDiffFirstSecondDay_34': beta_3, 'PageTalkingAbout_3': beta_4, 'PostShareCnt_37': beta_5, 'y-int': beta_0}\n",
    "beta_j = pd.Series(betas)\n",
    "beta_j\n",
    "\n",
    "beta_df = pd.DataFrame(beta_j)\n",
    "\n",
    "train_MSE = pd.Series([])"
   ]
  },
  {
   "cell_type": "code",
   "execution_count": 81,
   "metadata": {
    "collapsed": true
   },
   "outputs": [],
   "source": [
    "first_diff = 1000\n",
    "i = 0\n",
    "\n",
    "while i < 1000 and first_diff > 100:\n",
    "\n",
    "    XtimesBeta = X.multiply(other=beta_j, axis=1)\n",
    "\n",
    "    ### y-hat: sum all of the columns for each row\n",
    "    XtimesBeta['y-hat'] = XtimesBeta.sum(axis=1)\n",
    "\n",
    "    XtimesBeta = pd.merge(XtimesBeta, y, left_index=True, right_index=True)\n",
    "\n",
    "    XtimesBeta['resid'] = XtimesBeta['y-hat'] - XtimesBeta['CommentsNextH_Hours_54']\n",
    "\n",
    "    train_MSE[i] = sum((XtimesBeta['resid']*XtimesBeta['resid']))/m\n",
    "\n",
    "    d0 = sum(XtimesBeta['resid'])/m\n",
    "    d1 = sum(XtimesBeta['resid']*X['HoursReceived_39'])/m\n",
    "    d2 = sum(XtimesBeta['resid']*X['CommentsFirst24h_33'])/m\n",
    "    d3 = sum(XtimesBeta['resid']*X['CommentsDiffFirstSecondDay_34'])/m\n",
    "    d4 = sum(XtimesBeta['resid']*X['PageTalkingAbout_3'])/m\n",
    "    d5 = sum(XtimesBeta['resid']*X['PostShareCnt_37'])/m\n",
    "\n",
    "\n",
    "    newBeta_j = pd.Series([])\n",
    "    newBeta_j['y-int'] = beta_j['y-int'] - alpha*(d0)\n",
    "    newBeta_j['HoursReceived_39'] = beta_j['HoursReceived_39'] - alpha*(d1)\n",
    "    newBeta_j['CommentsFirst24h_33'] = beta_j['CommentsFirst24h_33'] - alpha*(d2)\n",
    "    newBeta_j['CommentsDiffFirstSecondDay_34'] = beta_j['CommentsDiffFirstSecondDay_34'] - alpha*(d3)\n",
    "    newBeta_j['PageTalkingAbout_3'] = beta_j['PageTalkingAbout_3'] - alpha*(d4)\n",
    "    newBeta_j['PostShareCnt_37'] = beta_j['PostShareCnt_37'] - alpha*(d5)\n",
    "\n",
    "\n",
    "    beta_df = pd.concat([beta_df, newBeta_j], axis=1)\n",
    "    \n",
    "    beta_df = beta_df.rename(columns={beta_df.columns[-1]: i })\n",
    "\n",
    "    beta_j = newBeta_j\n",
    "    \n",
    "    if i > 0:\n",
    "        first_diff = train_MSE[(i-1)] - train_MSE[i]\n",
    "        \n",
    "    i += 1"
   ]
  },
  {
   "cell_type": "code",
   "execution_count": 82,
   "metadata": {
    "collapsed": true
   },
   "outputs": [],
   "source": [
    "train_MSE_versions = pd.merge(pd.DataFrame(train_MSE_versions), pd.DataFrame(pd.Series(train_MSE)), right_index=True, left_index=True)\n",
    "train_MSE_versions = train_MSE_versions.rename(columns={0:'Version12- my 5'})"
   ]
  },
  {
   "cell_type": "code",
   "execution_count": 83,
   "metadata": {},
   "outputs": [
    {
     "data": {
      "text/plain": [
       "CommentsDiffFirstSecondDay_34    13.143213\n",
       "CommentsFirst24h_33              10.830122\n",
       "HoursReceived_39                  0.360191\n",
       "PageTalkingAbout_3                2.350412\n",
       "PostShareCnt_37                   1.398017\n",
       "y-int                             7.344451\n",
       "Name: 2, dtype: float64"
      ]
     },
     "execution_count": 83,
     "metadata": {},
     "output_type": "execute_result"
    }
   ],
   "source": [
    "beta_df.iloc[:, -1]"
   ]
  },
  {
   "cell_type": "code",
   "execution_count": 84,
   "metadata": {},
   "outputs": [
    {
     "name": "stderr",
     "output_type": "stream",
     "text": [
      "C:\\Users\\katri\\Anaconda3\\lib\\site-packages\\ipykernel_launcher.py:7: SettingWithCopyWarning: \n",
      "A value is trying to be set on a copy of a slice from a DataFrame.\n",
      "Try using .loc[row_indexer,col_indexer] = value instead\n",
      "\n",
      "See the caveats in the documentation: http://pandas.pydata.org/pandas-docs/stable/indexing.html#indexing-view-versus-copy\n",
      "  import sys\n"
     ]
    }
   ],
   "source": [
    "coef_v12 = beta_df.iloc[:, -1]\n",
    "\n",
    "test = X_test[['HoursReceived_39', 'CommentsFirst24h_33', 'CommentsDiffFirstSecondDay_34', 'PageTalkingAbout_3', 'PostShareCnt_37']]\n",
    "\n",
    "mm = len(X_test)\n",
    "\n",
    "test['y-int'] = 1\n",
    "testTimesBeta = test.multiply(other=coef_v12, axis=1)\n",
    "\n",
    "testTimesBeta['y-hat'] = testTimesBeta.sum(axis=1)\n",
    "\n",
    "testTimesBeta = pd.merge(testTimesBeta, y_test, left_index=True, right_index=True)\n",
    "testTimesBeta['resid'] = testTimesBeta['y-hat'] - testTimesBeta['CommentsNextH_Hours_54']\n",
    "MSE_test_v12 = sum(testTimesBeta['resid']*testTimesBeta['resid'])/mm"
   ]
  },
  {
   "cell_type": "code",
   "execution_count": 85,
   "metadata": {},
   "outputs": [
    {
     "name": "stdout",
     "output_type": "stream",
     "text": [
      "Test MSE for Version 12:  953.0\n"
     ]
    }
   ],
   "source": [
    "print(\"Test MSE for Version 12: \", round(MSE_test_v12))"
   ]
  },
  {
   "cell_type": "code",
   "execution_count": 86,
   "metadata": {},
   "outputs": [
    {
     "data": {
      "text/html": [
       "<div>\n",
       "<style>\n",
       "    .dataframe thead tr:only-child th {\n",
       "        text-align: right;\n",
       "    }\n",
       "\n",
       "    .dataframe thead th {\n",
       "        text-align: left;\n",
       "    }\n",
       "\n",
       "    .dataframe tbody tr th {\n",
       "        vertical-align: top;\n",
       "    }\n",
       "</style>\n",
       "<table border=\"1\" class=\"dataframe\">\n",
       "  <thead>\n",
       "    <tr style=\"text-align: right;\">\n",
       "      <th></th>\n",
       "      <th>Version1- alpha of 0.1</th>\n",
       "      <th>Version2- alpha of 0.2</th>\n",
       "      <th>Version3- alpha of 0.3</th>\n",
       "      <th>Version4- alpha of 0.4</th>\n",
       "      <th>Version5- alpha of 0.75</th>\n",
       "      <th>Version6- alpha of 0.6</th>\n",
       "      <th>Version11- random 5</th>\n",
       "      <th>Version12- my 5</th>\n",
       "    </tr>\n",
       "  </thead>\n",
       "  <tbody>\n",
       "    <tr>\n",
       "      <th>0</th>\n",
       "      <td>1646.836341</td>\n",
       "      <td>1642.012462</td>\n",
       "      <td>1659.949083</td>\n",
       "      <td>1647.474264</td>\n",
       "      <td>1640.250591</td>\n",
       "      <td>1649.093494</td>\n",
       "      <td>1661.111702</td>\n",
       "      <td>1654.492513</td>\n",
       "    </tr>\n",
       "    <tr>\n",
       "      <th>1</th>\n",
       "      <td>1550.648822</td>\n",
       "      <td>1469.878312</td>\n",
       "      <td>1410.472431</td>\n",
       "      <td>1347.481917</td>\n",
       "      <td>1272.610993</td>\n",
       "      <td>1286.747743</td>\n",
       "      <td>1284.651911</td>\n",
       "      <td>1280.166074</td>\n",
       "    </tr>\n",
       "    <tr>\n",
       "      <th>2</th>\n",
       "      <td>1478.938168</td>\n",
       "      <td>1374.701598</td>\n",
       "      <td>1312.905125</td>\n",
       "      <td>1269.825771</td>\n",
       "      <td>1241.279525</td>\n",
       "      <td>1238.038168</td>\n",
       "      <td>1242.180463</td>\n",
       "      <td>1239.113842</td>\n",
       "    </tr>\n",
       "  </tbody>\n",
       "</table>\n",
       "</div>"
      ],
      "text/plain": [
       "   Version1- alpha of 0.1  Version2- alpha of 0.2  Version3- alpha of 0.3  \\\n",
       "0             1646.836341             1642.012462             1659.949083   \n",
       "1             1550.648822             1469.878312             1410.472431   \n",
       "2             1478.938168             1374.701598             1312.905125   \n",
       "\n",
       "   Version4- alpha of 0.4  Version5- alpha of 0.75  Version6- alpha of 0.6  \\\n",
       "0             1647.474264              1640.250591             1649.093494   \n",
       "1             1347.481917              1272.610993             1286.747743   \n",
       "2             1269.825771              1241.279525             1238.038168   \n",
       "\n",
       "   Version11- random 5  Version12- my 5  \n",
       "0          1661.111702      1654.492513  \n",
       "1          1284.651911      1280.166074  \n",
       "2          1242.180463      1239.113842  "
      ]
     },
     "execution_count": 86,
     "metadata": {},
     "output_type": "execute_result"
    }
   ],
   "source": [
    "train_MSE_versions"
   ]
  },
  {
   "cell_type": "markdown",
   "metadata": {},
   "source": [
    "### Trying different convergence threshold"
   ]
  },
  {
   "cell_type": "code",
   "execution_count": 87,
   "metadata": {},
   "outputs": [
    {
     "name": "stderr",
     "output_type": "stream",
     "text": [
      "C:\\Users\\katri\\Anaconda3\\lib\\site-packages\\ipykernel_launcher.py:16: SettingWithCopyWarning: \n",
      "A value is trying to be set on a copy of a slice from a DataFrame.\n",
      "Try using .loc[row_indexer,col_indexer] = value instead\n",
      "\n",
      "See the caveats in the documentation: http://pandas.pydata.org/pandas-docs/stable/indexing.html#indexing-view-versus-copy\n",
      "  app.launch_new_instance()\n"
     ]
    }
   ],
   "source": [
    "m = len(X_train)\n",
    "y = y_train\n",
    "\n",
    "alpha = .6\n",
    "\n",
    "np.random.seed(2019)\n",
    "beta_0 = rand.random()\n",
    "beta_1 = rand.random()\n",
    "beta_2 = rand.random()\n",
    "beta_3 = rand.random()\n",
    "beta_4 = rand.random()\n",
    "beta_5 = rand.random()\n",
    "\n",
    "X = X_train[['HoursReceived_39', 'CommentsFirst24h_33', 'CommentsDiffFirstSecondDay_34', 'PageTalkingAbout_3', 'PostShareCnt_37']]\n",
    "\n",
    "X['y-int'] = 1\n",
    "\n",
    "betas = {'HoursReceived_39': beta_1, 'CommentsFirst24h_33': beta_2, 'CommentsDiffFirstSecondDay_34': beta_3, 'PageTalkingAbout_3': beta_4, 'PostShareCnt_37': beta_5, 'y-int': beta_0}\n",
    "beta_j = pd.Series(betas)\n",
    "beta_j\n",
    "\n",
    "beta_df = pd.DataFrame(beta_j)\n",
    "\n",
    "train_MSE = pd.Series([])"
   ]
  },
  {
   "cell_type": "code",
   "execution_count": 88,
   "metadata": {
    "collapsed": true
   },
   "outputs": [],
   "source": [
    "first_diff = 1000\n",
    "i = 0\n",
    "\n",
    "while i < 1000 and first_diff > 10:\n",
    "\n",
    "    XtimesBeta = X.multiply(other=beta_j, axis=1)\n",
    "\n",
    "    ### y-hat: sum all of the columns for each row\n",
    "    XtimesBeta['y-hat'] = XtimesBeta.sum(axis=1)\n",
    "\n",
    "    XtimesBeta = pd.merge(XtimesBeta, y, left_index=True, right_index=True)\n",
    "\n",
    "    XtimesBeta['resid'] = XtimesBeta['y-hat'] - XtimesBeta['CommentsNextH_Hours_54']\n",
    "\n",
    "    train_MSE[i] = sum((XtimesBeta['resid']*XtimesBeta['resid']))/m\n",
    "\n",
    "    d0 = sum(XtimesBeta['resid'])/m\n",
    "    d1 = sum(XtimesBeta['resid']*X['HoursReceived_39'])/m\n",
    "    d2 = sum(XtimesBeta['resid']*X['CommentsFirst24h_33'])/m\n",
    "    d3 = sum(XtimesBeta['resid']*X['CommentsDiffFirstSecondDay_34'])/m\n",
    "    d4 = sum(XtimesBeta['resid']*X['PageTalkingAbout_3'])/m\n",
    "    d5 = sum(XtimesBeta['resid']*X['PostShareCnt_37'])/m\n",
    "\n",
    "\n",
    "    newBeta_j = pd.Series([])\n",
    "    newBeta_j['y-int'] = beta_j['y-int'] - alpha*(d0)\n",
    "    newBeta_j['HoursReceived_39'] = beta_j['HoursReceived_39'] - alpha*(d1)\n",
    "    newBeta_j['CommentsFirst24h_33'] = beta_j['CommentsFirst24h_33'] - alpha*(d2)\n",
    "    newBeta_j['CommentsDiffFirstSecondDay_34'] = beta_j['CommentsDiffFirstSecondDay_34'] - alpha*(d3)\n",
    "    newBeta_j['PageTalkingAbout_3'] = beta_j['PageTalkingAbout_3'] - alpha*(d4)\n",
    "    newBeta_j['PostShareCnt_37'] = beta_j['PostShareCnt_37'] - alpha*(d5)\n",
    "\n",
    "\n",
    "    beta_df = pd.concat([beta_df, newBeta_j], axis=1)\n",
    "    \n",
    "    beta_df = beta_df.rename(columns={beta_df.columns[-1]: i })\n",
    "\n",
    "    beta_j = newBeta_j\n",
    "    \n",
    "    if i > 0:\n",
    "        first_diff = train_MSE[(i-1)] - train_MSE[i]\n",
    "        \n",
    "    i += 1"
   ]
  },
  {
   "cell_type": "code",
   "execution_count": 89,
   "metadata": {},
   "outputs": [
    {
     "name": "stderr",
     "output_type": "stream",
     "text": [
      "C:\\Users\\katri\\Anaconda3\\lib\\site-packages\\ipykernel_launcher.py:7: SettingWithCopyWarning: \n",
      "A value is trying to be set on a copy of a slice from a DataFrame.\n",
      "Try using .loc[row_indexer,col_indexer] = value instead\n",
      "\n",
      "See the caveats in the documentation: http://pandas.pydata.org/pandas-docs/stable/indexing.html#indexing-view-versus-copy\n",
      "  import sys\n"
     ]
    }
   ],
   "source": [
    "coef_v13 = beta_df.iloc[:, -1]\n",
    "\n",
    "test = X_test[['HoursReceived_39', 'CommentsFirst24h_33', 'CommentsDiffFirstSecondDay_34', 'PageTalkingAbout_3', 'PostShareCnt_37']]\n",
    "\n",
    "mm = len(X_test)\n",
    "\n",
    "test['y-int'] = 1\n",
    "testTimesBeta = test.multiply(other=coef_v13, axis=1)\n",
    "\n",
    "testTimesBeta['y-hat'] = testTimesBeta.sum(axis=1)\n",
    "\n",
    "testTimesBeta = pd.merge(testTimesBeta, y_test, left_index=True, right_index=True)\n",
    "testTimesBeta['resid'] = testTimesBeta['y-hat'] - testTimesBeta['CommentsNextH_Hours_54']\n",
    "MSE_test_v13 = sum(testTimesBeta['resid']*testTimesBeta['resid'])/mm"
   ]
  },
  {
   "cell_type": "code",
   "execution_count": 90,
   "metadata": {},
   "outputs": [
    {
     "name": "stdout",
     "output_type": "stream",
     "text": [
      "Test MSE for Version 13:  956.0\n"
     ]
    }
   ],
   "source": [
    "print(\"Test MSE for Version 13: \", round(MSE_test_v13))"
   ]
  }
 ],
 "metadata": {
  "kernelspec": {
   "display_name": "Python 3",
   "language": "python",
   "name": "python3"
  },
  "language_info": {
   "codemirror_mode": {
    "name": "ipython",
    "version": 3
   },
   "file_extension": ".py",
   "mimetype": "text/x-python",
   "name": "python",
   "nbconvert_exporter": "python",
   "pygments_lexer": "ipython3",
   "version": "3.6.8"
  }
 },
 "nbformat": 4,
 "nbformat_minor": 2
}
