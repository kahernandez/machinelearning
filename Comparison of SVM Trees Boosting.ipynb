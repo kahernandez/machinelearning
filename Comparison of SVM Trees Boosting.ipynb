{
 "cells": [
  {
   "cell_type": "markdown",
   "metadata": {},
   "source": [
    "### Import packages and data."
   ]
  },
  {
   "cell_type": "code",
   "execution_count": 1,
   "metadata": {
    "collapsed": true
   },
   "outputs": [],
   "source": [
    "import pandas as pd\n",
    "import numpy as np\n",
    "import random as rand\n",
    "import matplotlib.pyplot as plt\n",
    "import seaborn as sns\n",
    "%matplotlib inline\n",
    "##from graphviz import Graph"
   ]
  },
  {
   "cell_type": "markdown",
   "metadata": {},
   "source": [
    "<b> NOTE: python-graphviz must first be installed in order to run the above import."
   ]
  },
  {
   "cell_type": "code",
   "execution_count": 2,
   "metadata": {
    "collapsed": true
   },
   "outputs": [],
   "source": [
    "from sklearn.model_selection import KFold\n",
    "from sklearn.model_selection import cross_val_score\n",
    "from sklearn import svm\n",
    "from sklearn import tree\n",
    "from sklearn.ensemble import AdaBoostClassifier\n",
    "from sklearn.ensemble import GradientBoostingClassifier\n",
    "from sklearn.model_selection import GridSearchCV\n",
    "from sklearn.model_selection import RandomizedSearchCV\n",
    "from sklearn.metrics import confusion_matrix\n",
    "from sklearn.metrics import roc_curve\n",
    "from sklearn.metrics import classification_report"
   ]
  },
  {
   "cell_type": "code",
   "execution_count": 3,
   "metadata": {
    "collapsed": true
   },
   "outputs": [],
   "source": [
    "facebook = pd.read_csv('Features_Variant_1.csv', header=None)\n",
    "test1 = pd.read_csv('Test_Case_1.csv', header=None)\n",
    "test2 = pd.read_csv('Test_Case_2.csv', header=None)\n",
    "test3 = pd.read_csv('Test_case_3.csv', header=None)\n",
    "test4 = pd.read_csv('Test_case_4.csv', header=None)\n",
    "test5 = pd.read_csv('Test_case_5.csv', header=None)\n",
    "test6 = pd.read_csv('Test_case_6.csv', header=None)\n",
    "test7 = pd.read_csv('Test_case_7.csv', header=None)\n",
    "test8 = pd.read_csv('Test_case_8.csv', header=None)\n",
    "test9 = pd.read_csv('Test_case_9.csv', header=None)\n",
    "test10 = pd.read_csv('Test_case_10.csv', header=None)"
   ]
  },
  {
   "cell_type": "code",
   "execution_count": 4,
   "metadata": {
    "collapsed": true
   },
   "outputs": [],
   "source": [
    "facebook = facebook.append([test1, test2, test3, test4, test5, test6, test7, test8, test9, test10], ignore_index=True)"
   ]
  },
  {
   "cell_type": "code",
   "execution_count": 5,
   "metadata": {
    "collapsed": true
   },
   "outputs": [],
   "source": [
    "new_names = ['PagePopularity_1', 'PageCheckins_2', 'PageTalkingAbout_3', 'PageCategory_4']\n",
    "old_names = facebook.columns[0:4]\n",
    "facebook.rename(columns=dict(zip(old_names, new_names)), inplace=True)\n",
    "\n",
    "new_names2 = ['CommentsBeforeBase_30', 'CommentsLast24h_31', 'CommentsLast48to24h_32', 'CommentsFirst24h_33', 'CommentsDiffFirstSecondDay_34', 'BaseTime_35',\n",
    "'PostLength_36', 'PostShareCnt_37', 'PostPromoStatus_38', 'HoursReceived_39', 'SundayPublished_40', 'MondayPublished_41', 'TuesdayPublisher_42',\n",
    "'WednesdayPublished_43', 'ThursdayPublished_44', 'FridayPublished_45', 'SaturdayPublished_46', 'SundayBase_47', 'MondayBase_48', 'TuesdayBase_49',\n",
    "'WednesdayBase_50', 'ThursdayBase_51', 'FridayBase_52', 'SaturdayBase_53','CommentsNextH_Hours_54']\n",
    "old_names2 = facebook.columns[29:54]\n",
    "facebook.rename(columns=dict(zip(old_names2, new_names2)), inplace=True)\n",
    "\n",
    "facebook2 = facebook.iloc[:, np.r_[0:4, 29:54]]\n",
    "facebook2 = facebook2.drop('PostPromoStatus_38', axis=1)"
   ]
  },
  {
   "cell_type": "markdown",
   "metadata": {},
   "source": [
    "### Feature Scaling."
   ]
  },
  {
   "cell_type": "code",
   "execution_count": 6,
   "metadata": {
    "collapsed": true
   },
   "outputs": [],
   "source": [
    "mean_1 = sum(facebook2['PagePopularity_1'])/len(facebook2['PagePopularity_1'])\n",
    "sd_1 = np.std(facebook2['PagePopularity_1'])\n",
    "mean_2 = sum(facebook2['PageCheckins_2'])/len(facebook2['PageCheckins_2'])\n",
    "sd_2 = np.std(facebook2['PageCheckins_2'])\n",
    "mean_3 = sum(facebook2['PageTalkingAbout_3'])/len(facebook2['PageTalkingAbout_3'])\n",
    "sd_3 = np.std(facebook2['PageTalkingAbout_3'])\n",
    "mean_4 = sum(facebook2['PageCategory_4'])/len(facebook2['PageCategory_4'])\n",
    "sd_4 = np.std(facebook2['PageCategory_4'])\n",
    "mean_30 = sum(facebook2['CommentsBeforeBase_30'])/len(facebook2['CommentsBeforeBase_30'])\n",
    "sd_30 = np.std(facebook2['CommentsBeforeBase_30'])\n",
    "mean_31 = sum(facebook2['CommentsLast24h_31'])/len(facebook2['CommentsLast24h_31'])\n",
    "sd_31 = np.std(facebook2['CommentsLast24h_31'])\n",
    "mean_32= sum(facebook2['CommentsLast48to24h_32'])/len(facebook2['CommentsLast48to24h_32'])\n",
    "sd_32 = np.std(facebook2['CommentsLast48to24h_32'])\n",
    "mean_33= sum(facebook2['CommentsFirst24h_33'])/len(facebook2['CommentsFirst24h_33'])\n",
    "sd_33 = np.std(facebook2['CommentsFirst24h_33'])\n",
    "mean_34 = sum(facebook2['CommentsDiffFirstSecondDay_34'])/len(facebook2['CommentsDiffFirstSecondDay_34'])\n",
    "sd_34 = np.std(facebook2['CommentsDiffFirstSecondDay_34'])\n",
    "### find out if you should scale BaseTime \n",
    "mean_36 = sum(facebook2['PostLength_36'])/len(facebook2['PostLength_36'])\n",
    "sd_36 = np.std(facebook2['PostLength_36'])\n",
    "mean_37 = sum(facebook2['PostShareCnt_37'])/len(facebook2['PostShareCnt_37'])\n",
    "sd_37 = np.std(facebook2['PostShareCnt_37'])\n",
    "### find out if you should scale HoursReceived \n",
    "mean_39 = sum(facebook2['HoursReceived_39'])/len(facebook2['HoursReceived_39'])\n",
    "sd_39 = np.std(facebook2['HoursReceived_39'])\n",
    "mean_40 = sum(facebook2['SundayPublished_40'])/len(facebook2['SundayPublished_40'])\n",
    "sd_40 = np.std(facebook2['SundayPublished_40'])\n",
    "mean_41 = sum(facebook2['MondayPublished_41'])/len(facebook2['MondayPublished_41'])\n",
    "sd_41 = np.std(facebook2['MondayPublished_41'])\n",
    "mean_42 = sum(facebook2['TuesdayPublisher_42'])/len(facebook2['TuesdayPublisher_42'])\n",
    "sd_42 = np.std(facebook2['TuesdayPublisher_42'])\n",
    "mean_43 = sum(facebook2['WednesdayPublished_43'])/len(facebook2['WednesdayPublished_43'])\n",
    "sd_43 = np.std(facebook2['WednesdayPublished_43'])\n",
    "mean_44 = sum(facebook2['ThursdayPublished_44'])/len(facebook2['ThursdayPublished_44'])\n",
    "sd_44 = np.std(facebook2['ThursdayPublished_44'])\n",
    "mean_45 = sum(facebook2['FridayPublished_45'])/len(facebook2['FridayPublished_45'])\n",
    "sd_45 = np.std(facebook2['FridayPublished_45'])\n",
    "mean_46 = sum(facebook2['SaturdayPublished_46'])/len(facebook2['SaturdayPublished_46'])\n",
    "sd_46 = np.std(facebook2['SaturdayPublished_46'])\n",
    "mean_47 = sum(facebook2['SundayBase_47'])/len(facebook2['SundayBase_47'])\n",
    "sd_47 = np.std(facebook2['SundayBase_47'])\n",
    "mean_48 = sum(facebook2['MondayBase_48'])/len(facebook2['MondayBase_48'])\n",
    "sd_48 = np.std(facebook2['MondayBase_48'])\n",
    "mean_49 = sum(facebook2['TuesdayBase_49'])/len(facebook2['TuesdayBase_49'])\n",
    "sd_49 = np.std(facebook2['TuesdayBase_49'])\n",
    "mean_50 = sum(facebook2['WednesdayBase_50'])/len(facebook2['WednesdayBase_50'])\n",
    "sd_50 = np.std(facebook2['WednesdayBase_50'])\n",
    "mean_51 = sum(facebook2['ThursdayBase_51'])/len(facebook2['ThursdayBase_51'])\n",
    "sd_51 = np.std(facebook2['ThursdayBase_51'])\n",
    "mean_52 = sum(facebook2['FridayBase_52'])/len(facebook2['FridayBase_52'])\n",
    "sd_52 = np.std(facebook2['FridayBase_52'])\n",
    "mean_53 = sum(facebook2['SaturdayBase_53'])/len(facebook2['SaturdayBase_53'])\n",
    "sd_53 = np.std(facebook2['SaturdayBase_53'])\n",
    "## DO NOT scale the target (54)"
   ]
  },
  {
   "cell_type": "code",
   "execution_count": 7,
   "metadata": {
    "collapsed": true
   },
   "outputs": [],
   "source": [
    "facebook2_s = facebook2.copy()"
   ]
  },
  {
   "cell_type": "code",
   "execution_count": 8,
   "metadata": {},
   "outputs": [
    {
     "data": {
      "text/html": [
       "<div>\n",
       "<style>\n",
       "    .dataframe thead tr:only-child th {\n",
       "        text-align: right;\n",
       "    }\n",
       "\n",
       "    .dataframe thead th {\n",
       "        text-align: left;\n",
       "    }\n",
       "\n",
       "    .dataframe tbody tr th {\n",
       "        vertical-align: top;\n",
       "    }\n",
       "</style>\n",
       "<table border=\"1\" class=\"dataframe\">\n",
       "  <thead>\n",
       "    <tr style=\"text-align: right;\">\n",
       "      <th></th>\n",
       "      <th>PagePopularity_1</th>\n",
       "      <th>PageCheckins_2</th>\n",
       "      <th>PageTalkingAbout_3</th>\n",
       "      <th>PageCategory_4</th>\n",
       "      <th>CommentsBeforeBase_30</th>\n",
       "      <th>CommentsLast24h_31</th>\n",
       "      <th>CommentsLast48to24h_32</th>\n",
       "      <th>CommentsFirst24h_33</th>\n",
       "      <th>CommentsDiffFirstSecondDay_34</th>\n",
       "      <th>BaseTime_35</th>\n",
       "      <th>...</th>\n",
       "      <th>FridayPublished_45</th>\n",
       "      <th>SaturdayPublished_46</th>\n",
       "      <th>SundayBase_47</th>\n",
       "      <th>MondayBase_48</th>\n",
       "      <th>TuesdayBase_49</th>\n",
       "      <th>WednesdayBase_50</th>\n",
       "      <th>ThursdayBase_51</th>\n",
       "      <th>FridayBase_52</th>\n",
       "      <th>SaturdayBase_53</th>\n",
       "      <th>CommentsNextH_Hours_54</th>\n",
       "    </tr>\n",
       "  </thead>\n",
       "  <tbody>\n",
       "    <tr>\n",
       "      <th>0</th>\n",
       "      <td>634995</td>\n",
       "      <td>0</td>\n",
       "      <td>463</td>\n",
       "      <td>1</td>\n",
       "      <td>0</td>\n",
       "      <td>0</td>\n",
       "      <td>0</td>\n",
       "      <td>0</td>\n",
       "      <td>0</td>\n",
       "      <td>65</td>\n",
       "      <td>...</td>\n",
       "      <td>0</td>\n",
       "      <td>0</td>\n",
       "      <td>0</td>\n",
       "      <td>0</td>\n",
       "      <td>0</td>\n",
       "      <td>0</td>\n",
       "      <td>0</td>\n",
       "      <td>0</td>\n",
       "      <td>1</td>\n",
       "      <td>0</td>\n",
       "    </tr>\n",
       "    <tr>\n",
       "      <th>1</th>\n",
       "      <td>634995</td>\n",
       "      <td>0</td>\n",
       "      <td>463</td>\n",
       "      <td>1</td>\n",
       "      <td>0</td>\n",
       "      <td>0</td>\n",
       "      <td>0</td>\n",
       "      <td>0</td>\n",
       "      <td>0</td>\n",
       "      <td>10</td>\n",
       "      <td>...</td>\n",
       "      <td>0</td>\n",
       "      <td>0</td>\n",
       "      <td>0</td>\n",
       "      <td>0</td>\n",
       "      <td>0</td>\n",
       "      <td>0</td>\n",
       "      <td>0</td>\n",
       "      <td>1</td>\n",
       "      <td>0</td>\n",
       "      <td>0</td>\n",
       "    </tr>\n",
       "    <tr>\n",
       "      <th>2</th>\n",
       "      <td>634995</td>\n",
       "      <td>0</td>\n",
       "      <td>463</td>\n",
       "      <td>1</td>\n",
       "      <td>0</td>\n",
       "      <td>0</td>\n",
       "      <td>0</td>\n",
       "      <td>0</td>\n",
       "      <td>0</td>\n",
       "      <td>14</td>\n",
       "      <td>...</td>\n",
       "      <td>1</td>\n",
       "      <td>0</td>\n",
       "      <td>0</td>\n",
       "      <td>0</td>\n",
       "      <td>0</td>\n",
       "      <td>0</td>\n",
       "      <td>0</td>\n",
       "      <td>0</td>\n",
       "      <td>1</td>\n",
       "      <td>0</td>\n",
       "    </tr>\n",
       "    <tr>\n",
       "      <th>3</th>\n",
       "      <td>634995</td>\n",
       "      <td>0</td>\n",
       "      <td>463</td>\n",
       "      <td>1</td>\n",
       "      <td>7</td>\n",
       "      <td>0</td>\n",
       "      <td>3</td>\n",
       "      <td>7</td>\n",
       "      <td>-3</td>\n",
       "      <td>62</td>\n",
       "      <td>...</td>\n",
       "      <td>1</td>\n",
       "      <td>0</td>\n",
       "      <td>0</td>\n",
       "      <td>1</td>\n",
       "      <td>0</td>\n",
       "      <td>0</td>\n",
       "      <td>0</td>\n",
       "      <td>0</td>\n",
       "      <td>0</td>\n",
       "      <td>0</td>\n",
       "    </tr>\n",
       "    <tr>\n",
       "      <th>4</th>\n",
       "      <td>634995</td>\n",
       "      <td>0</td>\n",
       "      <td>463</td>\n",
       "      <td>1</td>\n",
       "      <td>1</td>\n",
       "      <td>0</td>\n",
       "      <td>0</td>\n",
       "      <td>1</td>\n",
       "      <td>0</td>\n",
       "      <td>58</td>\n",
       "      <td>...</td>\n",
       "      <td>0</td>\n",
       "      <td>0</td>\n",
       "      <td>0</td>\n",
       "      <td>0</td>\n",
       "      <td>0</td>\n",
       "      <td>1</td>\n",
       "      <td>0</td>\n",
       "      <td>0</td>\n",
       "      <td>0</td>\n",
       "      <td>0</td>\n",
       "    </tr>\n",
       "  </tbody>\n",
       "</table>\n",
       "<p>5 rows × 28 columns</p>\n",
       "</div>"
      ],
      "text/plain": [
       "   PagePopularity_1  PageCheckins_2  PageTalkingAbout_3  PageCategory_4  \\\n",
       "0            634995               0                 463               1   \n",
       "1            634995               0                 463               1   \n",
       "2            634995               0                 463               1   \n",
       "3            634995               0                 463               1   \n",
       "4            634995               0                 463               1   \n",
       "\n",
       "   CommentsBeforeBase_30  CommentsLast24h_31  CommentsLast48to24h_32  \\\n",
       "0                      0                   0                       0   \n",
       "1                      0                   0                       0   \n",
       "2                      0                   0                       0   \n",
       "3                      7                   0                       3   \n",
       "4                      1                   0                       0   \n",
       "\n",
       "   CommentsFirst24h_33  CommentsDiffFirstSecondDay_34  BaseTime_35  \\\n",
       "0                    0                              0           65   \n",
       "1                    0                              0           10   \n",
       "2                    0                              0           14   \n",
       "3                    7                             -3           62   \n",
       "4                    1                              0           58   \n",
       "\n",
       "            ...            FridayPublished_45  SaturdayPublished_46  \\\n",
       "0           ...                             0                     0   \n",
       "1           ...                             0                     0   \n",
       "2           ...                             1                     0   \n",
       "3           ...                             1                     0   \n",
       "4           ...                             0                     0   \n",
       "\n",
       "   SundayBase_47  MondayBase_48  TuesdayBase_49  WednesdayBase_50  \\\n",
       "0              0              0               0                 0   \n",
       "1              0              0               0                 0   \n",
       "2              0              0               0                 0   \n",
       "3              0              1               0                 0   \n",
       "4              0              0               0                 1   \n",
       "\n",
       "   ThursdayBase_51  FridayBase_52  SaturdayBase_53  CommentsNextH_Hours_54  \n",
       "0                0              0                1                       0  \n",
       "1                0              1                0                       0  \n",
       "2                0              0                1                       0  \n",
       "3                0              0                0                       0  \n",
       "4                0              0                0                       0  \n",
       "\n",
       "[5 rows x 28 columns]"
      ]
     },
     "execution_count": 8,
     "metadata": {},
     "output_type": "execute_result"
    }
   ],
   "source": [
    "facebook2_s.head()"
   ]
  },
  {
   "cell_type": "code",
   "execution_count": 9,
   "metadata": {
    "collapsed": true
   },
   "outputs": [],
   "source": [
    "facebook2_s['PagePopularity_1'] = (facebook2['PagePopularity_1'] - mean_1)/sd_1\n",
    "facebook2_s['PageCheckins_2'] = (facebook2['PageCheckins_2'] - mean_2)/sd_2\n",
    "facebook2_s['PageTalkingAbout_3'] = (facebook2['PageTalkingAbout_3'] - mean_3)/sd_3\n",
    "facebook2_s['PageCategory_4'] = (facebook2['PageCategory_4'] - mean_4)/sd_4\n",
    "facebook2_s['CommentsBeforeBase_30'] = (facebook2['CommentsBeforeBase_30'] - mean_30)/sd_30\n",
    "facebook2_s['CommentsLast24h_31'] = (facebook2['CommentsLast24h_31'] - mean_31)/sd_31\n",
    "facebook2_s['CommentsLast48to24h_32'] = (facebook2['CommentsLast48to24h_32'] - mean_32)/sd_32\n",
    "facebook2_s['CommentsFirst24h_33'] = (facebook2['CommentsFirst24h_33'] - mean_33)/sd_33\n",
    "facebook2_s['CommentsDiffFirstSecondDay_34'] = (facebook2['CommentsDiffFirstSecondDay_34'] - mean_34)/sd_34\n",
    "## check to see if 35 should be scaled\n",
    "facebook2_s['BaseTime_35'] = facebook2['BaseTime_35']\n",
    "facebook2_s['PostLength_36'] = (facebook2['PostLength_36'] - mean_36)/sd_36\n",
    "facebook2_s['PostShareCnt_37'] = (facebook2['PostShareCnt_37'] - mean_37)/sd_37\n",
    "##facebook2_s['PostPromoStatus_38'] = (facebook2['PostPromoStatus_38'] - mean_38)/sd_38 --- appears to be zero\n",
    "## check to see if 39 should be scaled\n",
    "facebook2_s['HoursReceived_39'] = (facebook2['HoursReceived_39'] - mean_39)/sd_39\n",
    "facebook2_s['SundayPublished_40'] = (facebook2['SundayPublished_40'] - mean_40)/sd_40\n",
    "facebook2_s['MondayPublished_41'] = (facebook2['MondayPublished_41'] - mean_41)/sd_41\n",
    "facebook2_s['TuesdayPublisher_42'] = (facebook2['TuesdayPublisher_42'] - mean_42)/sd_42\n",
    "facebook2_s['WednesdayPublished_43'] = (facebook2['WednesdayPublished_43'] - mean_43)/sd_43\n",
    "facebook2_s['ThursdayPublished_44'] = (facebook2['ThursdayPublished_44'] - mean_44)/sd_44\n",
    "facebook2_s['FridayPublished_45'] = (facebook2['FridayPublished_45'] - mean_45)/sd_45\n",
    "facebook2_s['SaturdayPublished_46'] = (facebook2['SaturdayPublished_46'] - mean_46)/sd_46\n",
    "facebook2_s['SundayBase_47'] = (facebook2['SundayBase_47'] - mean_47)/sd_47\n",
    "facebook2_s['MondayBase_48'] = (facebook2['MondayBase_48'] - mean_48)/sd_48\n",
    "facebook2_s['TuesdayBase_49'] = (facebook2['TuesdayBase_49'] - mean_49)/sd_49\n",
    "facebook2_s['WednesdayBase_50'] = (facebook2['WednesdayBase_50'] - mean_50)/sd_50\n",
    "facebook2_s['ThursdayBase_51'] = (facebook2['ThursdayBase_51'] - mean_51)/sd_51\n",
    "facebook2_s['FridayBase_52'] = (facebook2['FridayBase_52'] - mean_52)/sd_52\n",
    "facebook2_s['SaturdayBase_53'] = (facebook2['SaturdayBase_53'] - mean_53)/sd_53\n",
    "## don't scales the target\n",
    "facebook2_s['CommentsNextH_Hours_54'] = facebook2['CommentsNextH_Hours_54']"
   ]
  },
  {
   "cell_type": "markdown",
   "metadata": {},
   "source": [
    "#### Preview of Facebook data without Scaling."
   ]
  },
  {
   "cell_type": "code",
   "execution_count": 10,
   "metadata": {},
   "outputs": [
    {
     "data": {
      "text/html": [
       "<div>\n",
       "<style>\n",
       "    .dataframe thead tr:only-child th {\n",
       "        text-align: right;\n",
       "    }\n",
       "\n",
       "    .dataframe thead th {\n",
       "        text-align: left;\n",
       "    }\n",
       "\n",
       "    .dataframe tbody tr th {\n",
       "        vertical-align: top;\n",
       "    }\n",
       "</style>\n",
       "<table border=\"1\" class=\"dataframe\">\n",
       "  <thead>\n",
       "    <tr style=\"text-align: right;\">\n",
       "      <th></th>\n",
       "      <th>PagePopularity_1</th>\n",
       "      <th>PageCheckins_2</th>\n",
       "      <th>PageTalkingAbout_3</th>\n",
       "      <th>PageCategory_4</th>\n",
       "      <th>CommentsBeforeBase_30</th>\n",
       "      <th>CommentsLast24h_31</th>\n",
       "      <th>CommentsLast48to24h_32</th>\n",
       "      <th>CommentsFirst24h_33</th>\n",
       "      <th>CommentsDiffFirstSecondDay_34</th>\n",
       "      <th>BaseTime_35</th>\n",
       "      <th>...</th>\n",
       "      <th>FridayPublished_45</th>\n",
       "      <th>SaturdayPublished_46</th>\n",
       "      <th>SundayBase_47</th>\n",
       "      <th>MondayBase_48</th>\n",
       "      <th>TuesdayBase_49</th>\n",
       "      <th>WednesdayBase_50</th>\n",
       "      <th>ThursdayBase_51</th>\n",
       "      <th>FridayBase_52</th>\n",
       "      <th>SaturdayBase_53</th>\n",
       "      <th>CommentsNextH_Hours_54</th>\n",
       "    </tr>\n",
       "  </thead>\n",
       "  <tbody>\n",
       "    <tr>\n",
       "      <th>0</th>\n",
       "      <td>634995</td>\n",
       "      <td>0</td>\n",
       "      <td>463</td>\n",
       "      <td>1</td>\n",
       "      <td>0</td>\n",
       "      <td>0</td>\n",
       "      <td>0</td>\n",
       "      <td>0</td>\n",
       "      <td>0</td>\n",
       "      <td>65</td>\n",
       "      <td>...</td>\n",
       "      <td>0</td>\n",
       "      <td>0</td>\n",
       "      <td>0</td>\n",
       "      <td>0</td>\n",
       "      <td>0</td>\n",
       "      <td>0</td>\n",
       "      <td>0</td>\n",
       "      <td>0</td>\n",
       "      <td>1</td>\n",
       "      <td>0</td>\n",
       "    </tr>\n",
       "    <tr>\n",
       "      <th>1</th>\n",
       "      <td>634995</td>\n",
       "      <td>0</td>\n",
       "      <td>463</td>\n",
       "      <td>1</td>\n",
       "      <td>0</td>\n",
       "      <td>0</td>\n",
       "      <td>0</td>\n",
       "      <td>0</td>\n",
       "      <td>0</td>\n",
       "      <td>10</td>\n",
       "      <td>...</td>\n",
       "      <td>0</td>\n",
       "      <td>0</td>\n",
       "      <td>0</td>\n",
       "      <td>0</td>\n",
       "      <td>0</td>\n",
       "      <td>0</td>\n",
       "      <td>0</td>\n",
       "      <td>1</td>\n",
       "      <td>0</td>\n",
       "      <td>0</td>\n",
       "    </tr>\n",
       "    <tr>\n",
       "      <th>2</th>\n",
       "      <td>634995</td>\n",
       "      <td>0</td>\n",
       "      <td>463</td>\n",
       "      <td>1</td>\n",
       "      <td>0</td>\n",
       "      <td>0</td>\n",
       "      <td>0</td>\n",
       "      <td>0</td>\n",
       "      <td>0</td>\n",
       "      <td>14</td>\n",
       "      <td>...</td>\n",
       "      <td>1</td>\n",
       "      <td>0</td>\n",
       "      <td>0</td>\n",
       "      <td>0</td>\n",
       "      <td>0</td>\n",
       "      <td>0</td>\n",
       "      <td>0</td>\n",
       "      <td>0</td>\n",
       "      <td>1</td>\n",
       "      <td>0</td>\n",
       "    </tr>\n",
       "    <tr>\n",
       "      <th>3</th>\n",
       "      <td>634995</td>\n",
       "      <td>0</td>\n",
       "      <td>463</td>\n",
       "      <td>1</td>\n",
       "      <td>7</td>\n",
       "      <td>0</td>\n",
       "      <td>3</td>\n",
       "      <td>7</td>\n",
       "      <td>-3</td>\n",
       "      <td>62</td>\n",
       "      <td>...</td>\n",
       "      <td>1</td>\n",
       "      <td>0</td>\n",
       "      <td>0</td>\n",
       "      <td>1</td>\n",
       "      <td>0</td>\n",
       "      <td>0</td>\n",
       "      <td>0</td>\n",
       "      <td>0</td>\n",
       "      <td>0</td>\n",
       "      <td>0</td>\n",
       "    </tr>\n",
       "    <tr>\n",
       "      <th>4</th>\n",
       "      <td>634995</td>\n",
       "      <td>0</td>\n",
       "      <td>463</td>\n",
       "      <td>1</td>\n",
       "      <td>1</td>\n",
       "      <td>0</td>\n",
       "      <td>0</td>\n",
       "      <td>1</td>\n",
       "      <td>0</td>\n",
       "      <td>58</td>\n",
       "      <td>...</td>\n",
       "      <td>0</td>\n",
       "      <td>0</td>\n",
       "      <td>0</td>\n",
       "      <td>0</td>\n",
       "      <td>0</td>\n",
       "      <td>1</td>\n",
       "      <td>0</td>\n",
       "      <td>0</td>\n",
       "      <td>0</td>\n",
       "      <td>0</td>\n",
       "    </tr>\n",
       "  </tbody>\n",
       "</table>\n",
       "<p>5 rows × 28 columns</p>\n",
       "</div>"
      ],
      "text/plain": [
       "   PagePopularity_1  PageCheckins_2  PageTalkingAbout_3  PageCategory_4  \\\n",
       "0            634995               0                 463               1   \n",
       "1            634995               0                 463               1   \n",
       "2            634995               0                 463               1   \n",
       "3            634995               0                 463               1   \n",
       "4            634995               0                 463               1   \n",
       "\n",
       "   CommentsBeforeBase_30  CommentsLast24h_31  CommentsLast48to24h_32  \\\n",
       "0                      0                   0                       0   \n",
       "1                      0                   0                       0   \n",
       "2                      0                   0                       0   \n",
       "3                      7                   0                       3   \n",
       "4                      1                   0                       0   \n",
       "\n",
       "   CommentsFirst24h_33  CommentsDiffFirstSecondDay_34  BaseTime_35  \\\n",
       "0                    0                              0           65   \n",
       "1                    0                              0           10   \n",
       "2                    0                              0           14   \n",
       "3                    7                             -3           62   \n",
       "4                    1                              0           58   \n",
       "\n",
       "            ...            FridayPublished_45  SaturdayPublished_46  \\\n",
       "0           ...                             0                     0   \n",
       "1           ...                             0                     0   \n",
       "2           ...                             1                     0   \n",
       "3           ...                             1                     0   \n",
       "4           ...                             0                     0   \n",
       "\n",
       "   SundayBase_47  MondayBase_48  TuesdayBase_49  WednesdayBase_50  \\\n",
       "0              0              0               0                 0   \n",
       "1              0              0               0                 0   \n",
       "2              0              0               0                 0   \n",
       "3              0              1               0                 0   \n",
       "4              0              0               0                 1   \n",
       "\n",
       "   ThursdayBase_51  FridayBase_52  SaturdayBase_53  CommentsNextH_Hours_54  \n",
       "0                0              0                1                       0  \n",
       "1                0              1                0                       0  \n",
       "2                0              0                1                       0  \n",
       "3                0              0                0                       0  \n",
       "4                0              0                0                       0  \n",
       "\n",
       "[5 rows x 28 columns]"
      ]
     },
     "execution_count": 10,
     "metadata": {},
     "output_type": "execute_result"
    }
   ],
   "source": [
    "facebook2.head()"
   ]
  },
  {
   "cell_type": "markdown",
   "metadata": {},
   "source": [
    "#### Preview of Facebook data with Scaling."
   ]
  },
  {
   "cell_type": "code",
   "execution_count": 11,
   "metadata": {},
   "outputs": [
    {
     "data": {
      "text/html": [
       "<div>\n",
       "<style>\n",
       "    .dataframe thead tr:only-child th {\n",
       "        text-align: right;\n",
       "    }\n",
       "\n",
       "    .dataframe thead th {\n",
       "        text-align: left;\n",
       "    }\n",
       "\n",
       "    .dataframe tbody tr th {\n",
       "        vertical-align: top;\n",
       "    }\n",
       "</style>\n",
       "<table border=\"1\" class=\"dataframe\">\n",
       "  <thead>\n",
       "    <tr style=\"text-align: right;\">\n",
       "      <th></th>\n",
       "      <th>PagePopularity_1</th>\n",
       "      <th>PageCheckins_2</th>\n",
       "      <th>PageTalkingAbout_3</th>\n",
       "      <th>PageCategory_4</th>\n",
       "      <th>CommentsBeforeBase_30</th>\n",
       "      <th>CommentsLast24h_31</th>\n",
       "      <th>CommentsLast48to24h_32</th>\n",
       "      <th>CommentsFirst24h_33</th>\n",
       "      <th>CommentsDiffFirstSecondDay_34</th>\n",
       "      <th>BaseTime_35</th>\n",
       "      <th>...</th>\n",
       "      <th>FridayPublished_45</th>\n",
       "      <th>SaturdayPublished_46</th>\n",
       "      <th>SundayBase_47</th>\n",
       "      <th>MondayBase_48</th>\n",
       "      <th>TuesdayBase_49</th>\n",
       "      <th>WednesdayBase_50</th>\n",
       "      <th>ThursdayBase_51</th>\n",
       "      <th>FridayBase_52</th>\n",
       "      <th>SaturdayBase_53</th>\n",
       "      <th>CommentsNextH_Hours_54</th>\n",
       "    </tr>\n",
       "  </thead>\n",
       "  <tbody>\n",
       "    <tr>\n",
       "      <th>0</th>\n",
       "      <td>-0.107749</td>\n",
       "      <td>-0.220202</td>\n",
       "      <td>-0.359973</td>\n",
       "      <td>-1.161633</td>\n",
       "      <td>-0.396924</td>\n",
       "      <td>-0.277312</td>\n",
       "      <td>-0.269467</td>\n",
       "      <td>-0.400045</td>\n",
       "      <td>-0.036157</td>\n",
       "      <td>65</td>\n",
       "      <td>...</td>\n",
       "      <td>-0.417790</td>\n",
       "      <td>-0.40196</td>\n",
       "      <td>-0.413886</td>\n",
       "      <td>-0.393397</td>\n",
       "      <td>-0.393962</td>\n",
       "      <td>-0.411909</td>\n",
       "      <td>-0.418774</td>\n",
       "      <td>-0.411513</td>\n",
       "      <td>2.415662</td>\n",
       "      <td>0</td>\n",
       "    </tr>\n",
       "    <tr>\n",
       "      <th>1</th>\n",
       "      <td>-0.107749</td>\n",
       "      <td>-0.220202</td>\n",
       "      <td>-0.359973</td>\n",
       "      <td>-1.161633</td>\n",
       "      <td>-0.396924</td>\n",
       "      <td>-0.277312</td>\n",
       "      <td>-0.269467</td>\n",
       "      <td>-0.400045</td>\n",
       "      <td>-0.036157</td>\n",
       "      <td>10</td>\n",
       "      <td>...</td>\n",
       "      <td>-0.417790</td>\n",
       "      <td>-0.40196</td>\n",
       "      <td>-0.413886</td>\n",
       "      <td>-0.393397</td>\n",
       "      <td>-0.393962</td>\n",
       "      <td>-0.411909</td>\n",
       "      <td>-0.418774</td>\n",
       "      <td>2.430059</td>\n",
       "      <td>-0.413965</td>\n",
       "      <td>0</td>\n",
       "    </tr>\n",
       "    <tr>\n",
       "      <th>2</th>\n",
       "      <td>-0.107749</td>\n",
       "      <td>-0.220202</td>\n",
       "      <td>-0.359973</td>\n",
       "      <td>-1.161633</td>\n",
       "      <td>-0.396924</td>\n",
       "      <td>-0.277312</td>\n",
       "      <td>-0.269467</td>\n",
       "      <td>-0.400045</td>\n",
       "      <td>-0.036157</td>\n",
       "      <td>14</td>\n",
       "      <td>...</td>\n",
       "      <td>2.393547</td>\n",
       "      <td>-0.40196</td>\n",
       "      <td>-0.413886</td>\n",
       "      <td>-0.393397</td>\n",
       "      <td>-0.393962</td>\n",
       "      <td>-0.411909</td>\n",
       "      <td>-0.418774</td>\n",
       "      <td>-0.411513</td>\n",
       "      <td>2.415662</td>\n",
       "      <td>0</td>\n",
       "    </tr>\n",
       "    <tr>\n",
       "      <th>3</th>\n",
       "      <td>-0.107749</td>\n",
       "      <td>-0.220202</td>\n",
       "      <td>-0.359973</td>\n",
       "      <td>-1.161633</td>\n",
       "      <td>-0.348015</td>\n",
       "      <td>-0.277312</td>\n",
       "      <td>-0.228578</td>\n",
       "      <td>-0.347915</td>\n",
       "      <td>-0.066027</td>\n",
       "      <td>62</td>\n",
       "      <td>...</td>\n",
       "      <td>2.393547</td>\n",
       "      <td>-0.40196</td>\n",
       "      <td>-0.413886</td>\n",
       "      <td>2.541964</td>\n",
       "      <td>-0.393962</td>\n",
       "      <td>-0.411909</td>\n",
       "      <td>-0.418774</td>\n",
       "      <td>-0.411513</td>\n",
       "      <td>-0.413965</td>\n",
       "      <td>0</td>\n",
       "    </tr>\n",
       "    <tr>\n",
       "      <th>4</th>\n",
       "      <td>-0.107749</td>\n",
       "      <td>-0.220202</td>\n",
       "      <td>-0.359973</td>\n",
       "      <td>-1.161633</td>\n",
       "      <td>-0.389937</td>\n",
       "      <td>-0.277312</td>\n",
       "      <td>-0.269467</td>\n",
       "      <td>-0.392598</td>\n",
       "      <td>-0.036157</td>\n",
       "      <td>58</td>\n",
       "      <td>...</td>\n",
       "      <td>-0.417790</td>\n",
       "      <td>-0.40196</td>\n",
       "      <td>-0.413886</td>\n",
       "      <td>-0.393397</td>\n",
       "      <td>-0.393962</td>\n",
       "      <td>2.427723</td>\n",
       "      <td>-0.418774</td>\n",
       "      <td>-0.411513</td>\n",
       "      <td>-0.413965</td>\n",
       "      <td>0</td>\n",
       "    </tr>\n",
       "  </tbody>\n",
       "</table>\n",
       "<p>5 rows × 28 columns</p>\n",
       "</div>"
      ],
      "text/plain": [
       "   PagePopularity_1  PageCheckins_2  PageTalkingAbout_3  PageCategory_4  \\\n",
       "0         -0.107749       -0.220202           -0.359973       -1.161633   \n",
       "1         -0.107749       -0.220202           -0.359973       -1.161633   \n",
       "2         -0.107749       -0.220202           -0.359973       -1.161633   \n",
       "3         -0.107749       -0.220202           -0.359973       -1.161633   \n",
       "4         -0.107749       -0.220202           -0.359973       -1.161633   \n",
       "\n",
       "   CommentsBeforeBase_30  CommentsLast24h_31  CommentsLast48to24h_32  \\\n",
       "0              -0.396924           -0.277312               -0.269467   \n",
       "1              -0.396924           -0.277312               -0.269467   \n",
       "2              -0.396924           -0.277312               -0.269467   \n",
       "3              -0.348015           -0.277312               -0.228578   \n",
       "4              -0.389937           -0.277312               -0.269467   \n",
       "\n",
       "   CommentsFirst24h_33  CommentsDiffFirstSecondDay_34  BaseTime_35  \\\n",
       "0            -0.400045                      -0.036157           65   \n",
       "1            -0.400045                      -0.036157           10   \n",
       "2            -0.400045                      -0.036157           14   \n",
       "3            -0.347915                      -0.066027           62   \n",
       "4            -0.392598                      -0.036157           58   \n",
       "\n",
       "            ...            FridayPublished_45  SaturdayPublished_46  \\\n",
       "0           ...                     -0.417790              -0.40196   \n",
       "1           ...                     -0.417790              -0.40196   \n",
       "2           ...                      2.393547              -0.40196   \n",
       "3           ...                      2.393547              -0.40196   \n",
       "4           ...                     -0.417790              -0.40196   \n",
       "\n",
       "   SundayBase_47  MondayBase_48  TuesdayBase_49  WednesdayBase_50  \\\n",
       "0      -0.413886      -0.393397       -0.393962         -0.411909   \n",
       "1      -0.413886      -0.393397       -0.393962         -0.411909   \n",
       "2      -0.413886      -0.393397       -0.393962         -0.411909   \n",
       "3      -0.413886       2.541964       -0.393962         -0.411909   \n",
       "4      -0.413886      -0.393397       -0.393962          2.427723   \n",
       "\n",
       "   ThursdayBase_51  FridayBase_52  SaturdayBase_53  CommentsNextH_Hours_54  \n",
       "0        -0.418774      -0.411513         2.415662                       0  \n",
       "1        -0.418774       2.430059        -0.413965                       0  \n",
       "2        -0.418774      -0.411513         2.415662                       0  \n",
       "3        -0.418774      -0.411513        -0.413965                       0  \n",
       "4        -0.418774      -0.411513        -0.413965                       0  \n",
       "\n",
       "[5 rows x 28 columns]"
      ]
     },
     "execution_count": 11,
     "metadata": {},
     "output_type": "execute_result"
    }
   ],
   "source": [
    "facebook2_s.head()"
   ]
  },
  {
   "cell_type": "markdown",
   "metadata": {},
   "source": [
    "### Thresholding."
   ]
  },
  {
   "cell_type": "markdown",
   "metadata": {},
   "source": [
    "Searching for an interesting threshold."
   ]
  },
  {
   "cell_type": "code",
   "execution_count": 12,
   "metadata": {},
   "outputs": [
    {
     "name": "stdout",
     "output_type": "stream",
     "text": [
      "Mean: 7.782068702472049 Median: 0.0\n"
     ]
    }
   ],
   "source": [
    "print(\"Mean:\", facebook2['CommentsNextH_Hours_54'].mean(), \"Median:\", facebook2['CommentsNextH_Hours_54'].median())"
   ]
  },
  {
   "cell_type": "code",
   "execution_count": 13,
   "metadata": {
    "collapsed": true
   },
   "outputs": [],
   "source": [
    "zero = facebook2[facebook2['CommentsNextH_Hours_54']==0]['CommentsNextH_Hours_54'].count()\n",
    "nonzero = facebook2[facebook2['CommentsNextH_Hours_54']!=0]['CommentsNextH_Hours_54'].count()"
   ]
  },
  {
   "cell_type": "code",
   "execution_count": 14,
   "metadata": {},
   "outputs": [
    {
     "data": {
      "text/plain": [
       "(-1.1261263161956454,\n",
       " 1.1012441573352432,\n",
       " -1.1310040963462846,\n",
       " 1.2158602877281068)"
      ]
     },
     "execution_count": 14,
     "metadata": {},
     "output_type": "execute_result"
    },
    {
     "data": {
      "image/png": "[encoded data removed]",
      "text/plain": [
       "<matplotlib.figure.Figure at 0x234825e46d8>"
      ]
     },
     "metadata": {},
     "output_type": "display_data"
    }
   ],
   "source": [
    "fig, ax1 = plt.subplots(figsize=(20,6))\n",
    "ax1 = plt.subplot(111)\n",
    "\n",
    "labels = 'No Comments', 'Comments'\n",
    "\n",
    "sizes = [zero, nonzero]\n",
    "\n",
    "ax1.pie(sizes, labels=labels, explode=[0.1,0], autopct='%1.1f%%', shadow=True, textprops={'fontsize':'20'})\n",
    "ax1.axis('equal')"
   ]
  },
  {
   "cell_type": "markdown",
   "metadata": {},
   "source": [
    "The above histogram suggests that '>0' may be an interesting threshold. What percentage of records have 0 comments in the next H hours?"
   ]
  },
  {
   "cell_type": "code",
   "execution_count": 15,
   "metadata": {},
   "outputs": [
    {
     "name": "stdout",
     "output_type": "stream",
     "text": [
      "54.68 %\n"
     ]
    }
   ],
   "source": [
    "print((round(facebook2[facebook2['CommentsNextH_Hours_54']==0]['CommentsNextH_Hours_54'].count() / facebook2['CommentsNextH_Hours_54'].count(), 4)*100), '%')"
   ]
  },
  {
   "cell_type": "markdown",
   "metadata": {},
   "source": [
    "<b> Threshold: I will select 0 as a threshold. </b> Not only is there an even distribution between records with no comments and at least 1 comment in the next H hours, but the existence of any comments vs. no comments is a natural binary classification."
   ]
  },
  {
   "cell_type": "code",
   "execution_count": 16,
   "metadata": {
    "collapsed": true
   },
   "outputs": [],
   "source": [
    "#### Create binary variable for classification analysis. Apply to both the scaled and unscaled data sets.\n",
    "\n",
    "facebook2['Comment_Y'] = facebook2['CommentsNextH_Hours_54']>0\n",
    "facebook2['Comment_Y'] = facebook2['Comment_Y'].apply(int)\n",
    "facebook2_s['Comment_Y'] = facebook2['Comment_Y']"
   ]
  },
  {
   "cell_type": "code",
   "execution_count": 17,
   "metadata": {
    "collapsed": true
   },
   "outputs": [],
   "source": [
    "X = facebook2.iloc[:, 0:27]\n",
    "y = facebook2.iloc[:, 28:29]\n",
    "X_s = facebook2_s.iloc[:, 0:27]\n",
    "y_s = pd.DataFrame(facebook2_s.iloc[:, 28:29])"
   ]
  },
  {
   "cell_type": "code",
   "execution_count": 18,
   "metadata": {},
   "outputs": [
    {
     "data": {
      "text/html": [
       "<div>\n",
       "<style>\n",
       "    .dataframe thead tr:only-child th {\n",
       "        text-align: right;\n",
       "    }\n",
       "\n",
       "    .dataframe thead th {\n",
       "        text-align: left;\n",
       "    }\n",
       "\n",
       "    .dataframe tbody tr th {\n",
       "        vertical-align: top;\n",
       "    }\n",
       "</style>\n",
       "<table border=\"1\" class=\"dataframe\">\n",
       "  <thead>\n",
       "    <tr style=\"text-align: right;\">\n",
       "      <th></th>\n",
       "      <th>Comment_Y</th>\n",
       "    </tr>\n",
       "  </thead>\n",
       "  <tbody>\n",
       "    <tr>\n",
       "      <th>0</th>\n",
       "      <td>0</td>\n",
       "    </tr>\n",
       "    <tr>\n",
       "      <th>1</th>\n",
       "      <td>0</td>\n",
       "    </tr>\n",
       "    <tr>\n",
       "      <th>2</th>\n",
       "      <td>0</td>\n",
       "    </tr>\n",
       "    <tr>\n",
       "      <th>3</th>\n",
       "      <td>0</td>\n",
       "    </tr>\n",
       "    <tr>\n",
       "      <th>4</th>\n",
       "      <td>0</td>\n",
       "    </tr>\n",
       "  </tbody>\n",
       "</table>\n",
       "</div>"
      ],
      "text/plain": [
       "   Comment_Y\n",
       "0          0\n",
       "1          0\n",
       "2          0\n",
       "3          0\n",
       "4          0"
      ]
     },
     "execution_count": 18,
     "metadata": {},
     "output_type": "execute_result"
    }
   ],
   "source": [
    "y.head()"
   ]
  },
  {
   "cell_type": "markdown",
   "metadata": {},
   "source": [
    "### Split Data"
   ]
  },
  {
   "cell_type": "code",
   "execution_count": 19,
   "metadata": {
    "collapsed": true
   },
   "outputs": [],
   "source": [
    "from sklearn.model_selection import train_test_split\n",
    "\n",
    "Xs_train, Xs_test, ys_train, ys_test = train_test_split(X_s, y_s, test_size=0.3, random_state=4786)\n",
    "X_train, X_test, y_train, y_test = train_test_split(X, y, test_size=0.3, random_state=4786)"
   ]
  },
  {
   "cell_type": "markdown",
   "metadata": {},
   "source": [
    "## Support Vector Machine"
   ]
  },
  {
   "cell_type": "code",
   "execution_count": 20,
   "metadata": {},
   "outputs": [
    {
     "data": {
      "text/plain": [
       "array([ 0.81392577,  0.81545795,  0.80262262,  0.8102861 ,  0.8138624 ])"
      ]
     },
     "execution_count": 20,
     "metadata": {},
     "output_type": "execute_result"
    }
   ],
   "source": [
    "SVM1_best = svm.LinearSVC(random_state=3003, C=0.1)\n",
    "scores1_best = cross_val_score(SVM1_best, Xs_train, ys_train['Comment_Y'], cv=5)\n",
    "scores1_best"
   ]
  },
  {
   "cell_type": "code",
   "execution_count": 21,
   "metadata": {},
   "outputs": [
    {
     "name": "stdout",
     "output_type": "stream",
     "text": [
      "CV Accuracy for Optimal SVM (Linear):  81.12 %\n"
     ]
    }
   ],
   "source": [
    "print(\"CV Accuracy for Optimal SVM (Linear): \", (round(scores1_best.mean(), 4)*100), \"%\")"
   ]
  },
  {
   "cell_type": "code",
   "execution_count": 22,
   "metadata": {},
   "outputs": [
    {
     "data": {
      "text/plain": [
       "LinearSVC(C=0.1, class_weight=None, dual=True, fit_intercept=True,\n",
       "     intercept_scaling=1, loss='squared_hinge', max_iter=1000,\n",
       "     multi_class='ovr', penalty='l2', random_state=3003, tol=0.0001,\n",
       "     verbose=0)"
      ]
     },
     "execution_count": 22,
     "metadata": {},
     "output_type": "execute_result"
    }
   ],
   "source": [
    "SVM1_best.fit(Xs_train, ys_train['Comment_Y'])"
   ]
  },
  {
   "cell_type": "code",
   "execution_count": 23,
   "metadata": {
    "collapsed": true
   },
   "outputs": [],
   "source": [
    "y_pred_SVM_best = SVM1_best.predict(Xs_train)\n",
    "y_pred_SVM_test = SVM1_best.predict(Xs_test)"
   ]
  },
  {
   "cell_type": "code",
   "execution_count": 24,
   "metadata": {},
   "outputs": [
    {
     "name": "stdout",
     "output_type": "stream",
     "text": [
      "Classification Report for SVM- Training: \n",
      "\n",
      "              precision    recall  f1-score   support\n",
      "\n",
      "          0       0.79      0.89      0.84     16087\n",
      "          1       0.84      0.72      0.77     13277\n",
      "\n",
      "avg / total       0.81      0.81      0.81     29364\n",
      "\n"
     ]
    }
   ],
   "source": [
    "print(\"Classification Report for SVM- Training: \\n\\n\",classification_report(ys_train, y_pred_SVM_best))"
   ]
  },
  {
   "cell_type": "code",
   "execution_count": 25,
   "metadata": {},
   "outputs": [
    {
     "name": "stdout",
     "output_type": "stream",
     "text": [
      "Classification Report for SVM- Testing: \n",
      "\n",
      "              precision    recall  f1-score   support\n",
      "\n",
      "          0       0.78      0.88      0.83      6849\n",
      "          1       0.84      0.71      0.77      5736\n",
      "\n",
      "avg / total       0.81      0.80      0.80     12585\n",
      "\n"
     ]
    }
   ],
   "source": [
    "print(\"Classification Report for SVM- Testing: \\n\\n\",classification_report(ys_test, y_pred_SVM_test))"
   ]
  },
  {
   "cell_type": "code",
   "execution_count": 26,
   "metadata": {
    "collapsed": true
   },
   "outputs": [],
   "source": [
    "SVM_train_CM = pd.DataFrame(confusion_matrix(ys_train, y_pred_SVM_best))\n",
    "SVM_test_CM = pd.DataFrame(confusion_matrix(ys_test, y_pred_SVM_test))\n",
    "\n",
    "SVM_train_CM.rename(columns={0:'Positive Predicted', 1: 'Negative Predicted'}, inplace=True)\n",
    "SVM_train_CM.rename(index={0:'Positive', 1: 'Negative'}, inplace=True)\n",
    "SVM_test_CM.rename(columns={0:'Positive Predicted', 1: 'Negative Predicted'}, inplace=True)\n",
    "SVM_test_CM.rename(index={0:'Positive', 1: 'Negative'}, inplace=True)"
   ]
  },
  {
   "cell_type": "code",
   "execution_count": 27,
   "metadata": {},
   "outputs": [
    {
     "data": {
      "text/html": [
       "<div>\n",
       "<style>\n",
       "    .dataframe thead tr:only-child th {\n",
       "        text-align: right;\n",
       "    }\n",
       "\n",
       "    .dataframe thead th {\n",
       "        text-align: left;\n",
       "    }\n",
       "\n",
       "    .dataframe tbody tr th {\n",
       "        vertical-align: top;\n",
       "    }\n",
       "</style>\n",
       "<table border=\"1\" class=\"dataframe\">\n",
       "  <thead>\n",
       "    <tr style=\"text-align: right;\">\n",
       "      <th></th>\n",
       "      <th>Positive Predicted</th>\n",
       "      <th>Negative Predicted</th>\n",
       "    </tr>\n",
       "  </thead>\n",
       "  <tbody>\n",
       "    <tr>\n",
       "      <th>Positive</th>\n",
       "      <td>14268</td>\n",
       "      <td>1819</td>\n",
       "    </tr>\n",
       "    <tr>\n",
       "      <th>Negative</th>\n",
       "      <td>3751</td>\n",
       "      <td>9526</td>\n",
       "    </tr>\n",
       "  </tbody>\n",
       "</table>\n",
       "</div>"
      ],
      "text/plain": [
       "          Positive Predicted  Negative Predicted\n",
       "Positive               14268                1819\n",
       "Negative                3751                9526"
      ]
     },
     "execution_count": 27,
     "metadata": {},
     "output_type": "execute_result"
    }
   ],
   "source": [
    "SVM_train_CM"
   ]
  },
  {
   "cell_type": "code",
   "execution_count": 28,
   "metadata": {},
   "outputs": [
    {
     "data": {
      "text/html": [
       "<div>\n",
       "<style>\n",
       "    .dataframe thead tr:only-child th {\n",
       "        text-align: right;\n",
       "    }\n",
       "\n",
       "    .dataframe thead th {\n",
       "        text-align: left;\n",
       "    }\n",
       "\n",
       "    .dataframe tbody tr th {\n",
       "        vertical-align: top;\n",
       "    }\n",
       "</style>\n",
       "<table border=\"1\" class=\"dataframe\">\n",
       "  <thead>\n",
       "    <tr style=\"text-align: right;\">\n",
       "      <th></th>\n",
       "      <th>Positive Predicted</th>\n",
       "      <th>Negative Predicted</th>\n",
       "    </tr>\n",
       "  </thead>\n",
       "  <tbody>\n",
       "    <tr>\n",
       "      <th>Positive</th>\n",
       "      <td>6048</td>\n",
       "      <td>801</td>\n",
       "    </tr>\n",
       "    <tr>\n",
       "      <th>Negative</th>\n",
       "      <td>1673</td>\n",
       "      <td>4063</td>\n",
       "    </tr>\n",
       "  </tbody>\n",
       "</table>\n",
       "</div>"
      ],
      "text/plain": [
       "          Positive Predicted  Negative Predicted\n",
       "Positive                6048                 801\n",
       "Negative                1673                4063"
      ]
     },
     "execution_count": 28,
     "metadata": {},
     "output_type": "execute_result"
    }
   ],
   "source": [
    "SVM_test_CM"
   ]
  },
  {
   "cell_type": "markdown",
   "metadata": {},
   "source": [
    "## Decision Trees"
   ]
  },
  {
   "cell_type": "code",
   "execution_count": 29,
   "metadata": {},
   "outputs": [
    {
     "data": {
      "text/plain": [
       "DecisionTreeClassifier(class_weight=None, criterion='entropy', max_depth=6,\n",
       "            max_features=None, max_leaf_nodes=None,\n",
       "            min_impurity_decrease=0.0, min_impurity_split=None,\n",
       "            min_samples_leaf=71, min_samples_split=2,\n",
       "            min_weight_fraction_leaf=0.0, presort=False, random_state=3003,\n",
       "            splitter='best')"
      ]
     },
     "execution_count": 29,
     "metadata": {},
     "output_type": "execute_result"
    }
   ],
   "source": [
    "DTC6 = tree.DecisionTreeClassifier(criterion='entropy', max_depth=6, min_samples_leaf=71, random_state = 3003)\n",
    "DTC6.fit(Xs_train, ys_train)"
   ]
  },
  {
   "cell_type": "code",
   "execution_count": 30,
   "metadata": {},
   "outputs": [
    {
     "name": "stdout",
     "output_type": "stream",
     "text": [
      "<sklearn.tree._tree.Tree object at 0x00000234825CED30>\n"
     ]
    }
   ],
   "source": [
    "print(DTC6.tree_)"
   ]
  },
  {
   "cell_type": "code",
   "execution_count": 31,
   "metadata": {},
   "outputs": [
    {
     "name": "stdout",
     "output_type": "stream",
     "text": [
      "Accuracy for Optimal Decision Tree Model:  83.46 %\n"
     ]
    }
   ],
   "source": [
    "print(\"Accuracy for Optimal Decision Tree Model: \", (round(DTC6.score(Xs_train, ys_train), 4)*100), \"%\")"
   ]
  },
  {
   "cell_type": "code",
   "execution_count": 32,
   "metadata": {},
   "outputs": [
    {
     "data": {
      "text/plain": [
       "DecisionTreeClassifier(class_weight=None, criterion='entropy', max_depth=6,\n",
       "            max_features=None, max_leaf_nodes=None,\n",
       "            min_impurity_decrease=0.0, min_impurity_split=None,\n",
       "            min_samples_leaf=71, min_samples_split=2,\n",
       "            min_weight_fraction_leaf=0.0, presort=False, random_state=3003,\n",
       "            splitter='best')"
      ]
     },
     "execution_count": 32,
     "metadata": {},
     "output_type": "execute_result"
    }
   ],
   "source": [
    "DTC6.fit(Xs_train, ys_train['Comment_Y'])"
   ]
  },
  {
   "cell_type": "code",
   "execution_count": 33,
   "metadata": {
    "collapsed": true
   },
   "outputs": [],
   "source": [
    "y_pred_DT_best = DTC6.predict(Xs_train)\n",
    "y_pred_DT_test = DTC6.predict(Xs_test)"
   ]
  },
  {
   "cell_type": "code",
   "execution_count": 34,
   "metadata": {},
   "outputs": [
    {
     "name": "stdout",
     "output_type": "stream",
     "text": [
      "Classification Report for DT- Training: \n",
      "\n",
      "              precision    recall  f1-score   support\n",
      "\n",
      "          0       0.83      0.88      0.85     16087\n",
      "          1       0.84      0.78      0.81     13277\n",
      "\n",
      "avg / total       0.84      0.83      0.83     29364\n",
      "\n"
     ]
    }
   ],
   "source": [
    "print(\"Classification Report for DT- Training: \\n\\n\",classification_report(ys_train, y_pred_DT_best))"
   ]
  },
  {
   "cell_type": "code",
   "execution_count": 35,
   "metadata": {},
   "outputs": [
    {
     "name": "stdout",
     "output_type": "stream",
     "text": [
      "Classification Report for DT- Testing: \n",
      "\n",
      "              precision    recall  f1-score   support\n",
      "\n",
      "          0       0.82      0.87      0.84      6849\n",
      "          1       0.83      0.77      0.80      5736\n",
      "\n",
      "avg / total       0.83      0.83      0.82     12585\n",
      "\n"
     ]
    }
   ],
   "source": [
    "print(\"Classification Report for DT- Testing: \\n\\n\",classification_report(ys_test, y_pred_DT_test))"
   ]
  },
  {
   "cell_type": "code",
   "execution_count": 36,
   "metadata": {
    "collapsed": true
   },
   "outputs": [],
   "source": [
    "DT_train_CM = pd.DataFrame(confusion_matrix(ys_train, y_pred_DT_best))\n",
    "DT_test_CM = pd.DataFrame(confusion_matrix(ys_test, y_pred_DT_test))\n",
    "\n",
    "DT_train_CM.rename(columns={0:'Positive Predicted', 1: 'Negative Predicted'}, inplace=True)\n",
    "DT_train_CM.rename(index={0:'Positive', 1: 'Negative'}, inplace=True)\n",
    "DT_test_CM.rename(columns={0:'Positive Predicted', 1: 'Negative Predicted'}, inplace=True)\n",
    "DT_test_CM.rename(index={0:'Positive', 1: 'Negative'}, inplace=True)"
   ]
  },
  {
   "cell_type": "code",
   "execution_count": 37,
   "metadata": {},
   "outputs": [
    {
     "data": {
      "text/html": [
       "<div>\n",
       "<style>\n",
       "    .dataframe thead tr:only-child th {\n",
       "        text-align: right;\n",
       "    }\n",
       "\n",
       "    .dataframe thead th {\n",
       "        text-align: left;\n",
       "    }\n",
       "\n",
       "    .dataframe tbody tr th {\n",
       "        vertical-align: top;\n",
       "    }\n",
       "</style>\n",
       "<table border=\"1\" class=\"dataframe\">\n",
       "  <thead>\n",
       "    <tr style=\"text-align: right;\">\n",
       "      <th></th>\n",
       "      <th>Positive Predicted</th>\n",
       "      <th>Negative Predicted</th>\n",
       "    </tr>\n",
       "  </thead>\n",
       "  <tbody>\n",
       "    <tr>\n",
       "      <th>Positive</th>\n",
       "      <td>14157</td>\n",
       "      <td>1930</td>\n",
       "    </tr>\n",
       "    <tr>\n",
       "      <th>Negative</th>\n",
       "      <td>2928</td>\n",
       "      <td>10349</td>\n",
       "    </tr>\n",
       "  </tbody>\n",
       "</table>\n",
       "</div>"
      ],
      "text/plain": [
       "          Positive Predicted  Negative Predicted\n",
       "Positive               14157                1930\n",
       "Negative                2928               10349"
      ]
     },
     "execution_count": 37,
     "metadata": {},
     "output_type": "execute_result"
    }
   ],
   "source": [
    "DT_train_CM"
   ]
  },
  {
   "cell_type": "code",
   "execution_count": 38,
   "metadata": {},
   "outputs": [
    {
     "data": {
      "text/html": [
       "<div>\n",
       "<style>\n",
       "    .dataframe thead tr:only-child th {\n",
       "        text-align: right;\n",
       "    }\n",
       "\n",
       "    .dataframe thead th {\n",
       "        text-align: left;\n",
       "    }\n",
       "\n",
       "    .dataframe tbody tr th {\n",
       "        vertical-align: top;\n",
       "    }\n",
       "</style>\n",
       "<table border=\"1\" class=\"dataframe\">\n",
       "  <thead>\n",
       "    <tr style=\"text-align: right;\">\n",
       "      <th></th>\n",
       "      <th>Positive Predicted</th>\n",
       "      <th>Negative Predicted</th>\n",
       "    </tr>\n",
       "  </thead>\n",
       "  <tbody>\n",
       "    <tr>\n",
       "      <th>Positive</th>\n",
       "      <td>5959</td>\n",
       "      <td>890</td>\n",
       "    </tr>\n",
       "    <tr>\n",
       "      <th>Negative</th>\n",
       "      <td>1306</td>\n",
       "      <td>4430</td>\n",
       "    </tr>\n",
       "  </tbody>\n",
       "</table>\n",
       "</div>"
      ],
      "text/plain": [
       "          Positive Predicted  Negative Predicted\n",
       "Positive                5959                 890\n",
       "Negative                1306                4430"
      ]
     },
     "execution_count": 38,
     "metadata": {},
     "output_type": "execute_result"
    }
   ],
   "source": [
    "DT_test_CM"
   ]
  },
  {
   "cell_type": "markdown",
   "metadata": {
    "collapsed": true
   },
   "source": [
    "tree_data = tree.export_graphviz (\n",
    "    DTC6,\n",
    "    feature_names = X_train.columns\n",
    "    class_names = 'Comments', 'No_Comments'\n",
    "    filled=True\n",
    "    rounded=True\n",
    ")\n",
    "graph = graphviz.Source(tree_data)\n",
    "graph"
   ]
  },
  {
   "cell_type": "markdown",
   "metadata": {},
   "source": [
    "## Boosting"
   ]
  },
  {
   "cell_type": "markdown",
   "metadata": {},
   "source": [
    "#### GBM"
   ]
  },
  {
   "cell_type": "code",
   "execution_count": 39,
   "metadata": {},
   "outputs": [
    {
     "data": {
      "text/plain": [
       "array([ 0.84116445,  0.84354784,  0.83617166,  0.83787466,  0.83583106])"
      ]
     },
     "execution_count": 39,
     "metadata": {},
     "output_type": "execute_result"
    }
   ],
   "source": [
    "GBM3 = GradientBoostingClassifier(min_samples_leaf=171, max_depth=6, random_state=3003, learning_rate = 0.05)\n",
    "scoresG3 = cross_val_score(GBM3, Xs_train, ys_train['Comment_Y'], cv=5)\n",
    "scoresG3"
   ]
  },
  {
   "cell_type": "code",
   "execution_count": 40,
   "metadata": {},
   "outputs": [
    {
     "data": {
      "text/plain": [
       "0.8389179351300099"
      ]
     },
     "execution_count": 40,
     "metadata": {},
     "output_type": "execute_result"
    }
   ],
   "source": [
    "scoresG3.mean()"
   ]
  },
  {
   "cell_type": "code",
   "execution_count": 41,
   "metadata": {},
   "outputs": [
    {
     "data": {
      "text/plain": [
       "GradientBoostingClassifier(criterion='friedman_mse', init=None,\n",
       "              learning_rate=0.05, loss='deviance', max_depth=6,\n",
       "              max_features=None, max_leaf_nodes=None,\n",
       "              min_impurity_decrease=0.0, min_impurity_split=None,\n",
       "              min_samples_leaf=171, min_samples_split=2,\n",
       "              min_weight_fraction_leaf=0.0, n_estimators=100,\n",
       "              presort='auto', random_state=3003, subsample=1.0, verbose=0,\n",
       "              warm_start=False)"
      ]
     },
     "execution_count": 41,
     "metadata": {},
     "output_type": "execute_result"
    }
   ],
   "source": [
    "GBM3.fit(Xs_train, ys_train['Comment_Y'])"
   ]
  },
  {
   "cell_type": "code",
   "execution_count": 42,
   "metadata": {
    "collapsed": true
   },
   "outputs": [],
   "source": [
    "y_pred_GBM_best = GBM3.predict(Xs_train)\n",
    "y_pred_GBM_test = GBM3.predict(Xs_test)"
   ]
  },
  {
   "cell_type": "code",
   "execution_count": 43,
   "metadata": {},
   "outputs": [
    {
     "name": "stdout",
     "output_type": "stream",
     "text": [
      "Classification Report for GBM- Training: \n",
      "\n",
      "              precision    recall  f1-score   support\n",
      "\n",
      "          0       0.84      0.90      0.87     16087\n",
      "          1       0.86      0.79      0.82     13277\n",
      "\n",
      "avg / total       0.85      0.85      0.85     29364\n",
      "\n"
     ]
    }
   ],
   "source": [
    "print(\"Classification Report for GBM- Training: \\n\\n\",classification_report(ys_train, y_pred_GBM_best))"
   ]
  },
  {
   "cell_type": "code",
   "execution_count": 44,
   "metadata": {},
   "outputs": [
    {
     "name": "stdout",
     "output_type": "stream",
     "text": [
      "Classification Report for GBM- Testing: \n",
      "\n",
      "              precision    recall  f1-score   support\n",
      "\n",
      "          0       0.82      0.88      0.85      6849\n",
      "          1       0.85      0.77      0.81      5736\n",
      "\n",
      "avg / total       0.83      0.83      0.83     12585\n",
      "\n"
     ]
    }
   ],
   "source": [
    "print(\"Classification Report for GBM- Testing: \\n\\n\",classification_report(ys_test, y_pred_GBM_test))"
   ]
  },
  {
   "cell_type": "code",
   "execution_count": 45,
   "metadata": {
    "collapsed": true
   },
   "outputs": [],
   "source": [
    "GBM_train_CM = pd.DataFrame(confusion_matrix(ys_train, y_pred_GBM_best))\n",
    "GBM_test_CM = pd.DataFrame(confusion_matrix(ys_test, y_pred_GBM_test))\n",
    "\n",
    "GBM_train_CM.rename(columns={0:'Positive Predicted', 1: 'Negative Predicted'}, inplace=True)\n",
    "GBM_train_CM.rename(index={0:'Positive', 1: 'Negative'}, inplace=True)\n",
    "GBM_test_CM.rename(columns={0:'Positive Predicted', 1: 'Negative Predicted'}, inplace=True)\n",
    "GBM_test_CM.rename(index={0:'Positive', 1: 'Negative'}, inplace=True)"
   ]
  },
  {
   "cell_type": "code",
   "execution_count": 46,
   "metadata": {},
   "outputs": [
    {
     "data": {
      "text/html": [
       "<div>\n",
       "<style>\n",
       "    .dataframe thead tr:only-child th {\n",
       "        text-align: right;\n",
       "    }\n",
       "\n",
       "    .dataframe thead th {\n",
       "        text-align: left;\n",
       "    }\n",
       "\n",
       "    .dataframe tbody tr th {\n",
       "        vertical-align: top;\n",
       "    }\n",
       "</style>\n",
       "<table border=\"1\" class=\"dataframe\">\n",
       "  <thead>\n",
       "    <tr style=\"text-align: right;\">\n",
       "      <th></th>\n",
       "      <th>Positive Predicted</th>\n",
       "      <th>Negative Predicted</th>\n",
       "    </tr>\n",
       "  </thead>\n",
       "  <tbody>\n",
       "    <tr>\n",
       "      <th>Positive</th>\n",
       "      <td>14434</td>\n",
       "      <td>1653</td>\n",
       "    </tr>\n",
       "    <tr>\n",
       "      <th>Negative</th>\n",
       "      <td>2808</td>\n",
       "      <td>10469</td>\n",
       "    </tr>\n",
       "  </tbody>\n",
       "</table>\n",
       "</div>"
      ],
      "text/plain": [
       "          Positive Predicted  Negative Predicted\n",
       "Positive               14434                1653\n",
       "Negative                2808               10469"
      ]
     },
     "execution_count": 46,
     "metadata": {},
     "output_type": "execute_result"
    }
   ],
   "source": [
    "GBM_train_CM"
   ]
  },
  {
   "cell_type": "code",
   "execution_count": 47,
   "metadata": {},
   "outputs": [
    {
     "data": {
      "text/html": [
       "<div>\n",
       "<style>\n",
       "    .dataframe thead tr:only-child th {\n",
       "        text-align: right;\n",
       "    }\n",
       "\n",
       "    .dataframe thead th {\n",
       "        text-align: left;\n",
       "    }\n",
       "\n",
       "    .dataframe tbody tr th {\n",
       "        vertical-align: top;\n",
       "    }\n",
       "</style>\n",
       "<table border=\"1\" class=\"dataframe\">\n",
       "  <thead>\n",
       "    <tr style=\"text-align: right;\">\n",
       "      <th></th>\n",
       "      <th>Positive Predicted</th>\n",
       "      <th>Negative Predicted</th>\n",
       "    </tr>\n",
       "  </thead>\n",
       "  <tbody>\n",
       "    <tr>\n",
       "      <th>Positive</th>\n",
       "      <td>6060</td>\n",
       "      <td>789</td>\n",
       "    </tr>\n",
       "    <tr>\n",
       "      <th>Negative</th>\n",
       "      <td>1317</td>\n",
       "      <td>4419</td>\n",
       "    </tr>\n",
       "  </tbody>\n",
       "</table>\n",
       "</div>"
      ],
      "text/plain": [
       "          Positive Predicted  Negative Predicted\n",
       "Positive                6060                 789\n",
       "Negative                1317                4419"
      ]
     },
     "execution_count": 47,
     "metadata": {},
     "output_type": "execute_result"
    }
   ],
   "source": [
    "GBM_test_CM"
   ]
  }
 ],
 "metadata": {
  "kernelspec": {
   "display_name": "Python 3",
   "language": "python",
   "name": "python3"
  },
  "language_info": {
   "codemirror_mode": {
    "name": "ipython",
    "version": 3
   },
   "file_extension": ".py",
   "mimetype": "text/x-python",
   "name": "python",
   "nbconvert_exporter": "python",
   "pygments_lexer": "ipython3",
   "version": "3.6.8"
  }
 },
 "nbformat": 4,
 "nbformat_minor": 2
}
