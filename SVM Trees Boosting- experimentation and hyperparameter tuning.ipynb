{
 "cells": [
  {
   "cell_type": "markdown",
   "metadata": {},
   "source": [
    "### Import packages and data."
   ]
  },
  {
   "cell_type": "code",
   "execution_count": 1,
   "metadata": {
    "collapsed": true
   },
   "outputs": [],
   "source": [
    "import pandas as pd\n",
    "import numpy as np\n",
    "import random as rand\n",
    "import matplotlib.pyplot as plt\n",
    "import seaborn as sns\n",
    "%matplotlib inline\n",
    "##from graphviz import Graph"
   ]
  },
  {
   "cell_type": "markdown",
   "metadata": {},
   "source": [
    "<b> NOTE: python-graphviz must first be installed in order to run the above import."
   ]
  },
  {
   "cell_type": "code",
   "execution_count": 2,
   "metadata": {
    "collapsed": true
   },
   "outputs": [],
   "source": [
    "from sklearn.model_selection import KFold\n",
    "from sklearn.model_selection import cross_val_score\n",
    "from sklearn import svm\n",
    "from sklearn import tree\n",
    "from sklearn.ensemble import AdaBoostClassifier\n",
    "from sklearn.ensemble import GradientBoostingClassifier\n",
    "from sklearn.model_selection import GridSearchCV\n",
    "from sklearn.model_selection import RandomizedSearchCV\n",
    "from sklearn.metrics import confusion_matrix\n",
    "from sklearn.metrics import roc_curve\n",
    "from sklearn.metrics import classification_report"
   ]
  },
  {
   "cell_type": "code",
   "execution_count": 3,
   "metadata": {
    "collapsed": true
   },
   "outputs": [],
   "source": [
    "facebook = pd.read_csv('Features_Variant_1.csv', header=None)\n",
    "test1 = pd.read_csv('Test_Case_1.csv', header=None)\n",
    "test2 = pd.read_csv('Test_Case_2.csv', header=None)\n",
    "test3 = pd.read_csv('Test_case_3.csv', header=None)\n",
    "test4 = pd.read_csv('Test_case_4.csv', header=None)\n",
    "test5 = pd.read_csv('Test_case_5.csv', header=None)\n",
    "test6 = pd.read_csv('Test_case_6.csv', header=None)\n",
    "test7 = pd.read_csv('Test_case_7.csv', header=None)\n",
    "test8 = pd.read_csv('Test_case_8.csv', header=None)\n",
    "test9 = pd.read_csv('Test_case_9.csv', header=None)\n",
    "test10 = pd.read_csv('Test_case_10.csv', header=None)"
   ]
  },
  {
   "cell_type": "code",
   "execution_count": 4,
   "metadata": {
    "collapsed": true
   },
   "outputs": [],
   "source": [
    "facebook = facebook.append([test1, test2, test3, test4, test5, test6, test7, test8, test9, test10], ignore_index=True)"
   ]
  },
  {
   "cell_type": "code",
   "execution_count": 5,
   "metadata": {
    "collapsed": true
   },
   "outputs": [],
   "source": [
    "new_names = ['PagePopularity_1', 'PageCheckins_2', 'PageTalkingAbout_3', 'PageCategory_4']\n",
    "old_names = facebook.columns[0:4]\n",
    "facebook.rename(columns=dict(zip(old_names, new_names)), inplace=True)\n",
    "\n",
    "new_names2 = ['CommentsBeforeBase_30', 'CommentsLast24h_31', 'CommentsLast48to24h_32', 'CommentsFirst24h_33', 'CommentsDiffFirstSecondDay_34', 'BaseTime_35',\n",
    "'PostLength_36', 'PostShareCnt_37', 'PostPromoStatus_38', 'HoursReceived_39', 'SundayPublished_40', 'MondayPublished_41', 'TuesdayPublisher_42',\n",
    "'WednesdayPublished_43', 'ThursdayPublished_44', 'FridayPublished_45', 'SaturdayPublished_46', 'SundayBase_47', 'MondayBase_48', 'TuesdayBase_49',\n",
    "'WednesdayBase_50', 'ThursdayBase_51', 'FridayBase_52', 'SaturdayBase_53','CommentsNextH_Hours_54']\n",
    "old_names2 = facebook.columns[29:54]\n",
    "facebook.rename(columns=dict(zip(old_names2, new_names2)), inplace=True)\n",
    "\n",
    "facebook2 = facebook.iloc[:, np.r_[0:4, 29:54]]\n",
    "facebook2 = facebook2.drop('PostPromoStatus_38', axis=1)"
   ]
  },
  {
   "cell_type": "markdown",
   "metadata": {},
   "source": [
    "### Feature Scaling."
   ]
  },
  {
   "cell_type": "code",
   "execution_count": 6,
   "metadata": {
    "collapsed": true
   },
   "outputs": [],
   "source": [
    "mean_1 = sum(facebook2['PagePopularity_1'])/len(facebook2['PagePopularity_1'])\n",
    "sd_1 = np.std(facebook2['PagePopularity_1'])\n",
    "mean_2 = sum(facebook2['PageCheckins_2'])/len(facebook2['PageCheckins_2'])\n",
    "sd_2 = np.std(facebook2['PageCheckins_2'])\n",
    "mean_3 = sum(facebook2['PageTalkingAbout_3'])/len(facebook2['PageTalkingAbout_3'])\n",
    "sd_3 = np.std(facebook2['PageTalkingAbout_3'])\n",
    "mean_4 = sum(facebook2['PageCategory_4'])/len(facebook2['PageCategory_4'])\n",
    "sd_4 = np.std(facebook2['PageCategory_4'])\n",
    "mean_30 = sum(facebook2['CommentsBeforeBase_30'])/len(facebook2['CommentsBeforeBase_30'])\n",
    "sd_30 = np.std(facebook2['CommentsBeforeBase_30'])\n",
    "mean_31 = sum(facebook2['CommentsLast24h_31'])/len(facebook2['CommentsLast24h_31'])\n",
    "sd_31 = np.std(facebook2['CommentsLast24h_31'])\n",
    "mean_32= sum(facebook2['CommentsLast48to24h_32'])/len(facebook2['CommentsLast48to24h_32'])\n",
    "sd_32 = np.std(facebook2['CommentsLast48to24h_32'])\n",
    "mean_33= sum(facebook2['CommentsFirst24h_33'])/len(facebook2['CommentsFirst24h_33'])\n",
    "sd_33 = np.std(facebook2['CommentsFirst24h_33'])\n",
    "mean_34 = sum(facebook2['CommentsDiffFirstSecondDay_34'])/len(facebook2['CommentsDiffFirstSecondDay_34'])\n",
    "sd_34 = np.std(facebook2['CommentsDiffFirstSecondDay_34'])\n",
    "### find out if you should scale BaseTime \n",
    "mean_36 = sum(facebook2['PostLength_36'])/len(facebook2['PostLength_36'])\n",
    "sd_36 = np.std(facebook2['PostLength_36'])\n",
    "mean_37 = sum(facebook2['PostShareCnt_37'])/len(facebook2['PostShareCnt_37'])\n",
    "sd_37 = np.std(facebook2['PostShareCnt_37'])\n",
    "### find out if you should scale HoursReceived \n",
    "mean_39 = sum(facebook2['HoursReceived_39'])/len(facebook2['HoursReceived_39'])\n",
    "sd_39 = np.std(facebook2['HoursReceived_39'])\n",
    "mean_40 = sum(facebook2['SundayPublished_40'])/len(facebook2['SundayPublished_40'])\n",
    "sd_40 = np.std(facebook2['SundayPublished_40'])\n",
    "mean_41 = sum(facebook2['MondayPublished_41'])/len(facebook2['MondayPublished_41'])\n",
    "sd_41 = np.std(facebook2['MondayPublished_41'])\n",
    "mean_42 = sum(facebook2['TuesdayPublisher_42'])/len(facebook2['TuesdayPublisher_42'])\n",
    "sd_42 = np.std(facebook2['TuesdayPublisher_42'])\n",
    "mean_43 = sum(facebook2['WednesdayPublished_43'])/len(facebook2['WednesdayPublished_43'])\n",
    "sd_43 = np.std(facebook2['WednesdayPublished_43'])\n",
    "mean_44 = sum(facebook2['ThursdayPublished_44'])/len(facebook2['ThursdayPublished_44'])\n",
    "sd_44 = np.std(facebook2['ThursdayPublished_44'])\n",
    "mean_45 = sum(facebook2['FridayPublished_45'])/len(facebook2['FridayPublished_45'])\n",
    "sd_45 = np.std(facebook2['FridayPublished_45'])\n",
    "mean_46 = sum(facebook2['SaturdayPublished_46'])/len(facebook2['SaturdayPublished_46'])\n",
    "sd_46 = np.std(facebook2['SaturdayPublished_46'])\n",
    "mean_47 = sum(facebook2['SundayBase_47'])/len(facebook2['SundayBase_47'])\n",
    "sd_47 = np.std(facebook2['SundayBase_47'])\n",
    "mean_48 = sum(facebook2['MondayBase_48'])/len(facebook2['MondayBase_48'])\n",
    "sd_48 = np.std(facebook2['MondayBase_48'])\n",
    "mean_49 = sum(facebook2['TuesdayBase_49'])/len(facebook2['TuesdayBase_49'])\n",
    "sd_49 = np.std(facebook2['TuesdayBase_49'])\n",
    "mean_50 = sum(facebook2['WednesdayBase_50'])/len(facebook2['WednesdayBase_50'])\n",
    "sd_50 = np.std(facebook2['WednesdayBase_50'])\n",
    "mean_51 = sum(facebook2['ThursdayBase_51'])/len(facebook2['ThursdayBase_51'])\n",
    "sd_51 = np.std(facebook2['ThursdayBase_51'])\n",
    "mean_52 = sum(facebook2['FridayBase_52'])/len(facebook2['FridayBase_52'])\n",
    "sd_52 = np.std(facebook2['FridayBase_52'])\n",
    "mean_53 = sum(facebook2['SaturdayBase_53'])/len(facebook2['SaturdayBase_53'])\n",
    "sd_53 = np.std(facebook2['SaturdayBase_53'])\n",
    "## DO NOT scale the target (54)"
   ]
  },
  {
   "cell_type": "code",
   "execution_count": 7,
   "metadata": {
    "collapsed": true
   },
   "outputs": [],
   "source": [
    "facebook2_s = facebook2.copy()"
   ]
  },
  {
   "cell_type": "code",
   "execution_count": 8,
   "metadata": {},
   "outputs": [
    {
     "data": {
      "text/html": [
       "<div>\n",
       "<style>\n",
       "    .dataframe thead tr:only-child th {\n",
       "        text-align: right;\n",
       "    }\n",
       "\n",
       "    .dataframe thead th {\n",
       "        text-align: left;\n",
       "    }\n",
       "\n",
       "    .dataframe tbody tr th {\n",
       "        vertical-align: top;\n",
       "    }\n",
       "</style>\n",
       "<table border=\"1\" class=\"dataframe\">\n",
       "  <thead>\n",
       "    <tr style=\"text-align: right;\">\n",
       "      <th></th>\n",
       "      <th>PagePopularity_1</th>\n",
       "      <th>PageCheckins_2</th>\n",
       "      <th>PageTalkingAbout_3</th>\n",
       "      <th>PageCategory_4</th>\n",
       "      <th>CommentsBeforeBase_30</th>\n",
       "      <th>CommentsLast24h_31</th>\n",
       "      <th>CommentsLast48to24h_32</th>\n",
       "      <th>CommentsFirst24h_33</th>\n",
       "      <th>CommentsDiffFirstSecondDay_34</th>\n",
       "      <th>BaseTime_35</th>\n",
       "      <th>...</th>\n",
       "      <th>FridayPublished_45</th>\n",
       "      <th>SaturdayPublished_46</th>\n",
       "      <th>SundayBase_47</th>\n",
       "      <th>MondayBase_48</th>\n",
       "      <th>TuesdayBase_49</th>\n",
       "      <th>WednesdayBase_50</th>\n",
       "      <th>ThursdayBase_51</th>\n",
       "      <th>FridayBase_52</th>\n",
       "      <th>SaturdayBase_53</th>\n",
       "      <th>CommentsNextH_Hours_54</th>\n",
       "    </tr>\n",
       "  </thead>\n",
       "  <tbody>\n",
       "    <tr>\n",
       "      <th>0</th>\n",
       "      <td>634995</td>\n",
       "      <td>0</td>\n",
       "      <td>463</td>\n",
       "      <td>1</td>\n",
       "      <td>0</td>\n",
       "      <td>0</td>\n",
       "      <td>0</td>\n",
       "      <td>0</td>\n",
       "      <td>0</td>\n",
       "      <td>65</td>\n",
       "      <td>...</td>\n",
       "      <td>0</td>\n",
       "      <td>0</td>\n",
       "      <td>0</td>\n",
       "      <td>0</td>\n",
       "      <td>0</td>\n",
       "      <td>0</td>\n",
       "      <td>0</td>\n",
       "      <td>0</td>\n",
       "      <td>1</td>\n",
       "      <td>0</td>\n",
       "    </tr>\n",
       "    <tr>\n",
       "      <th>1</th>\n",
       "      <td>634995</td>\n",
       "      <td>0</td>\n",
       "      <td>463</td>\n",
       "      <td>1</td>\n",
       "      <td>0</td>\n",
       "      <td>0</td>\n",
       "      <td>0</td>\n",
       "      <td>0</td>\n",
       "      <td>0</td>\n",
       "      <td>10</td>\n",
       "      <td>...</td>\n",
       "      <td>0</td>\n",
       "      <td>0</td>\n",
       "      <td>0</td>\n",
       "      <td>0</td>\n",
       "      <td>0</td>\n",
       "      <td>0</td>\n",
       "      <td>0</td>\n",
       "      <td>1</td>\n",
       "      <td>0</td>\n",
       "      <td>0</td>\n",
       "    </tr>\n",
       "    <tr>\n",
       "      <th>2</th>\n",
       "      <td>634995</td>\n",
       "      <td>0</td>\n",
       "      <td>463</td>\n",
       "      <td>1</td>\n",
       "      <td>0</td>\n",
       "      <td>0</td>\n",
       "      <td>0</td>\n",
       "      <td>0</td>\n",
       "      <td>0</td>\n",
       "      <td>14</td>\n",
       "      <td>...</td>\n",
       "      <td>1</td>\n",
       "      <td>0</td>\n",
       "      <td>0</td>\n",
       "      <td>0</td>\n",
       "      <td>0</td>\n",
       "      <td>0</td>\n",
       "      <td>0</td>\n",
       "      <td>0</td>\n",
       "      <td>1</td>\n",
       "      <td>0</td>\n",
       "    </tr>\n",
       "    <tr>\n",
       "      <th>3</th>\n",
       "      <td>634995</td>\n",
       "      <td>0</td>\n",
       "      <td>463</td>\n",
       "      <td>1</td>\n",
       "      <td>7</td>\n",
       "      <td>0</td>\n",
       "      <td>3</td>\n",
       "      <td>7</td>\n",
       "      <td>-3</td>\n",
       "      <td>62</td>\n",
       "      <td>...</td>\n",
       "      <td>1</td>\n",
       "      <td>0</td>\n",
       "      <td>0</td>\n",
       "      <td>1</td>\n",
       "      <td>0</td>\n",
       "      <td>0</td>\n",
       "      <td>0</td>\n",
       "      <td>0</td>\n",
       "      <td>0</td>\n",
       "      <td>0</td>\n",
       "    </tr>\n",
       "    <tr>\n",
       "      <th>4</th>\n",
       "      <td>634995</td>\n",
       "      <td>0</td>\n",
       "      <td>463</td>\n",
       "      <td>1</td>\n",
       "      <td>1</td>\n",
       "      <td>0</td>\n",
       "      <td>0</td>\n",
       "      <td>1</td>\n",
       "      <td>0</td>\n",
       "      <td>58</td>\n",
       "      <td>...</td>\n",
       "      <td>0</td>\n",
       "      <td>0</td>\n",
       "      <td>0</td>\n",
       "      <td>0</td>\n",
       "      <td>0</td>\n",
       "      <td>1</td>\n",
       "      <td>0</td>\n",
       "      <td>0</td>\n",
       "      <td>0</td>\n",
       "      <td>0</td>\n",
       "    </tr>\n",
       "  </tbody>\n",
       "</table>\n",
       "<p>5 rows × 28 columns</p>\n",
       "</div>"
      ],
      "text/plain": [
       "   PagePopularity_1  PageCheckins_2  PageTalkingAbout_3  PageCategory_4  \\\n",
       "0            634995               0                 463               1   \n",
       "1            634995               0                 463               1   \n",
       "2            634995               0                 463               1   \n",
       "3            634995               0                 463               1   \n",
       "4            634995               0                 463               1   \n",
       "\n",
       "   CommentsBeforeBase_30  CommentsLast24h_31  CommentsLast48to24h_32  \\\n",
       "0                      0                   0                       0   \n",
       "1                      0                   0                       0   \n",
       "2                      0                   0                       0   \n",
       "3                      7                   0                       3   \n",
       "4                      1                   0                       0   \n",
       "\n",
       "   CommentsFirst24h_33  CommentsDiffFirstSecondDay_34  BaseTime_35  \\\n",
       "0                    0                              0           65   \n",
       "1                    0                              0           10   \n",
       "2                    0                              0           14   \n",
       "3                    7                             -3           62   \n",
       "4                    1                              0           58   \n",
       "\n",
       "            ...            FridayPublished_45  SaturdayPublished_46  \\\n",
       "0           ...                             0                     0   \n",
       "1           ...                             0                     0   \n",
       "2           ...                             1                     0   \n",
       "3           ...                             1                     0   \n",
       "4           ...                             0                     0   \n",
       "\n",
       "   SundayBase_47  MondayBase_48  TuesdayBase_49  WednesdayBase_50  \\\n",
       "0              0              0               0                 0   \n",
       "1              0              0               0                 0   \n",
       "2              0              0               0                 0   \n",
       "3              0              1               0                 0   \n",
       "4              0              0               0                 1   \n",
       "\n",
       "   ThursdayBase_51  FridayBase_52  SaturdayBase_53  CommentsNextH_Hours_54  \n",
       "0                0              0                1                       0  \n",
       "1                0              1                0                       0  \n",
       "2                0              0                1                       0  \n",
       "3                0              0                0                       0  \n",
       "4                0              0                0                       0  \n",
       "\n",
       "[5 rows x 28 columns]"
      ]
     },
     "execution_count": 8,
     "metadata": {},
     "output_type": "execute_result"
    }
   ],
   "source": [
    "facebook2_s.head()"
   ]
  },
  {
   "cell_type": "code",
   "execution_count": 9,
   "metadata": {
    "collapsed": true
   },
   "outputs": [],
   "source": [
    "facebook2_s['PagePopularity_1'] = (facebook2['PagePopularity_1'] - mean_1)/sd_1\n",
    "facebook2_s['PageCheckins_2'] = (facebook2['PageCheckins_2'] - mean_2)/sd_2\n",
    "facebook2_s['PageTalkingAbout_3'] = (facebook2['PageTalkingAbout_3'] - mean_3)/sd_3\n",
    "facebook2_s['PageCategory_4'] = (facebook2['PageCategory_4'] - mean_4)/sd_4\n",
    "facebook2_s['CommentsBeforeBase_30'] = (facebook2['CommentsBeforeBase_30'] - mean_30)/sd_30\n",
    "facebook2_s['CommentsLast24h_31'] = (facebook2['CommentsLast24h_31'] - mean_31)/sd_31\n",
    "facebook2_s['CommentsLast48to24h_32'] = (facebook2['CommentsLast48to24h_32'] - mean_32)/sd_32\n",
    "facebook2_s['CommentsFirst24h_33'] = (facebook2['CommentsFirst24h_33'] - mean_33)/sd_33\n",
    "facebook2_s['CommentsDiffFirstSecondDay_34'] = (facebook2['CommentsDiffFirstSecondDay_34'] - mean_34)/sd_34\n",
    "## check to see if 35 should be scaled\n",
    "facebook2_s['BaseTime_35'] = facebook2['BaseTime_35']\n",
    "facebook2_s['PostLength_36'] = (facebook2['PostLength_36'] - mean_36)/sd_36\n",
    "facebook2_s['PostShareCnt_37'] = (facebook2['PostShareCnt_37'] - mean_37)/sd_37\n",
    "##facebook2_s['PostPromoStatus_38'] = (facebook2['PostPromoStatus_38'] - mean_38)/sd_38 --- appears to be zero\n",
    "## check to see if 39 should be scaled\n",
    "facebook2_s['HoursReceived_39'] = (facebook2['HoursReceived_39'] - mean_39)/sd_39\n",
    "facebook2_s['SundayPublished_40'] = (facebook2['SundayPublished_40'] - mean_40)/sd_40\n",
    "facebook2_s['MondayPublished_41'] = (facebook2['MondayPublished_41'] - mean_41)/sd_41\n",
    "facebook2_s['TuesdayPublisher_42'] = (facebook2['TuesdayPublisher_42'] - mean_42)/sd_42\n",
    "facebook2_s['WednesdayPublished_43'] = (facebook2['WednesdayPublished_43'] - mean_43)/sd_43\n",
    "facebook2_s['ThursdayPublished_44'] = (facebook2['ThursdayPublished_44'] - mean_44)/sd_44\n",
    "facebook2_s['FridayPublished_45'] = (facebook2['FridayPublished_45'] - mean_45)/sd_45\n",
    "facebook2_s['SaturdayPublished_46'] = (facebook2['SaturdayPublished_46'] - mean_46)/sd_46\n",
    "facebook2_s['SundayBase_47'] = (facebook2['SundayBase_47'] - mean_47)/sd_47\n",
    "facebook2_s['MondayBase_48'] = (facebook2['MondayBase_48'] - mean_48)/sd_48\n",
    "facebook2_s['TuesdayBase_49'] = (facebook2['TuesdayBase_49'] - mean_49)/sd_49\n",
    "facebook2_s['WednesdayBase_50'] = (facebook2['WednesdayBase_50'] - mean_50)/sd_50\n",
    "facebook2_s['ThursdayBase_51'] = (facebook2['ThursdayBase_51'] - mean_51)/sd_51\n",
    "facebook2_s['FridayBase_52'] = (facebook2['FridayBase_52'] - mean_52)/sd_52\n",
    "facebook2_s['SaturdayBase_53'] = (facebook2['SaturdayBase_53'] - mean_53)/sd_53\n",
    "## don't scales the target\n",
    "facebook2_s['CommentsNextH_Hours_54'] = facebook2['CommentsNextH_Hours_54']"
   ]
  },
  {
   "cell_type": "markdown",
   "metadata": {},
   "source": [
    "#### Preview of Facebook data without Scaling."
   ]
  },
  {
   "cell_type": "code",
   "execution_count": 10,
   "metadata": {},
   "outputs": [
    {
     "data": {
      "text/html": [
       "<div>\n",
       "<style>\n",
       "    .dataframe thead tr:only-child th {\n",
       "        text-align: right;\n",
       "    }\n",
       "\n",
       "    .dataframe thead th {\n",
       "        text-align: left;\n",
       "    }\n",
       "\n",
       "    .dataframe tbody tr th {\n",
       "        vertical-align: top;\n",
       "    }\n",
       "</style>\n",
       "<table border=\"1\" class=\"dataframe\">\n",
       "  <thead>\n",
       "    <tr style=\"text-align: right;\">\n",
       "      <th></th>\n",
       "      <th>PagePopularity_1</th>\n",
       "      <th>PageCheckins_2</th>\n",
       "      <th>PageTalkingAbout_3</th>\n",
       "      <th>PageCategory_4</th>\n",
       "      <th>CommentsBeforeBase_30</th>\n",
       "      <th>CommentsLast24h_31</th>\n",
       "      <th>CommentsLast48to24h_32</th>\n",
       "      <th>CommentsFirst24h_33</th>\n",
       "      <th>CommentsDiffFirstSecondDay_34</th>\n",
       "      <th>BaseTime_35</th>\n",
       "      <th>...</th>\n",
       "      <th>FridayPublished_45</th>\n",
       "      <th>SaturdayPublished_46</th>\n",
       "      <th>SundayBase_47</th>\n",
       "      <th>MondayBase_48</th>\n",
       "      <th>TuesdayBase_49</th>\n",
       "      <th>WednesdayBase_50</th>\n",
       "      <th>ThursdayBase_51</th>\n",
       "      <th>FridayBase_52</th>\n",
       "      <th>SaturdayBase_53</th>\n",
       "      <th>CommentsNextH_Hours_54</th>\n",
       "    </tr>\n",
       "  </thead>\n",
       "  <tbody>\n",
       "    <tr>\n",
       "      <th>0</th>\n",
       "      <td>634995</td>\n",
       "      <td>0</td>\n",
       "      <td>463</td>\n",
       "      <td>1</td>\n",
       "      <td>0</td>\n",
       "      <td>0</td>\n",
       "      <td>0</td>\n",
       "      <td>0</td>\n",
       "      <td>0</td>\n",
       "      <td>65</td>\n",
       "      <td>...</td>\n",
       "      <td>0</td>\n",
       "      <td>0</td>\n",
       "      <td>0</td>\n",
       "      <td>0</td>\n",
       "      <td>0</td>\n",
       "      <td>0</td>\n",
       "      <td>0</td>\n",
       "      <td>0</td>\n",
       "      <td>1</td>\n",
       "      <td>0</td>\n",
       "    </tr>\n",
       "    <tr>\n",
       "      <th>1</th>\n",
       "      <td>634995</td>\n",
       "      <td>0</td>\n",
       "      <td>463</td>\n",
       "      <td>1</td>\n",
       "      <td>0</td>\n",
       "      <td>0</td>\n",
       "      <td>0</td>\n",
       "      <td>0</td>\n",
       "      <td>0</td>\n",
       "      <td>10</td>\n",
       "      <td>...</td>\n",
       "      <td>0</td>\n",
       "      <td>0</td>\n",
       "      <td>0</td>\n",
       "      <td>0</td>\n",
       "      <td>0</td>\n",
       "      <td>0</td>\n",
       "      <td>0</td>\n",
       "      <td>1</td>\n",
       "      <td>0</td>\n",
       "      <td>0</td>\n",
       "    </tr>\n",
       "    <tr>\n",
       "      <th>2</th>\n",
       "      <td>634995</td>\n",
       "      <td>0</td>\n",
       "      <td>463</td>\n",
       "      <td>1</td>\n",
       "      <td>0</td>\n",
       "      <td>0</td>\n",
       "      <td>0</td>\n",
       "      <td>0</td>\n",
       "      <td>0</td>\n",
       "      <td>14</td>\n",
       "      <td>...</td>\n",
       "      <td>1</td>\n",
       "      <td>0</td>\n",
       "      <td>0</td>\n",
       "      <td>0</td>\n",
       "      <td>0</td>\n",
       "      <td>0</td>\n",
       "      <td>0</td>\n",
       "      <td>0</td>\n",
       "      <td>1</td>\n",
       "      <td>0</td>\n",
       "    </tr>\n",
       "    <tr>\n",
       "      <th>3</th>\n",
       "      <td>634995</td>\n",
       "      <td>0</td>\n",
       "      <td>463</td>\n",
       "      <td>1</td>\n",
       "      <td>7</td>\n",
       "      <td>0</td>\n",
       "      <td>3</td>\n",
       "      <td>7</td>\n",
       "      <td>-3</td>\n",
       "      <td>62</td>\n",
       "      <td>...</td>\n",
       "      <td>1</td>\n",
       "      <td>0</td>\n",
       "      <td>0</td>\n",
       "      <td>1</td>\n",
       "      <td>0</td>\n",
       "      <td>0</td>\n",
       "      <td>0</td>\n",
       "      <td>0</td>\n",
       "      <td>0</td>\n",
       "      <td>0</td>\n",
       "    </tr>\n",
       "    <tr>\n",
       "      <th>4</th>\n",
       "      <td>634995</td>\n",
       "      <td>0</td>\n",
       "      <td>463</td>\n",
       "      <td>1</td>\n",
       "      <td>1</td>\n",
       "      <td>0</td>\n",
       "      <td>0</td>\n",
       "      <td>1</td>\n",
       "      <td>0</td>\n",
       "      <td>58</td>\n",
       "      <td>...</td>\n",
       "      <td>0</td>\n",
       "      <td>0</td>\n",
       "      <td>0</td>\n",
       "      <td>0</td>\n",
       "      <td>0</td>\n",
       "      <td>1</td>\n",
       "      <td>0</td>\n",
       "      <td>0</td>\n",
       "      <td>0</td>\n",
       "      <td>0</td>\n",
       "    </tr>\n",
       "  </tbody>\n",
       "</table>\n",
       "<p>5 rows × 28 columns</p>\n",
       "</div>"
      ],
      "text/plain": [
       "   PagePopularity_1  PageCheckins_2  PageTalkingAbout_3  PageCategory_4  \\\n",
       "0            634995               0                 463               1   \n",
       "1            634995               0                 463               1   \n",
       "2            634995               0                 463               1   \n",
       "3            634995               0                 463               1   \n",
       "4            634995               0                 463               1   \n",
       "\n",
       "   CommentsBeforeBase_30  CommentsLast24h_31  CommentsLast48to24h_32  \\\n",
       "0                      0                   0                       0   \n",
       "1                      0                   0                       0   \n",
       "2                      0                   0                       0   \n",
       "3                      7                   0                       3   \n",
       "4                      1                   0                       0   \n",
       "\n",
       "   CommentsFirst24h_33  CommentsDiffFirstSecondDay_34  BaseTime_35  \\\n",
       "0                    0                              0           65   \n",
       "1                    0                              0           10   \n",
       "2                    0                              0           14   \n",
       "3                    7                             -3           62   \n",
       "4                    1                              0           58   \n",
       "\n",
       "            ...            FridayPublished_45  SaturdayPublished_46  \\\n",
       "0           ...                             0                     0   \n",
       "1           ...                             0                     0   \n",
       "2           ...                             1                     0   \n",
       "3           ...                             1                     0   \n",
       "4           ...                             0                     0   \n",
       "\n",
       "   SundayBase_47  MondayBase_48  TuesdayBase_49  WednesdayBase_50  \\\n",
       "0              0              0               0                 0   \n",
       "1              0              0               0                 0   \n",
       "2              0              0               0                 0   \n",
       "3              0              1               0                 0   \n",
       "4              0              0               0                 1   \n",
       "\n",
       "   ThursdayBase_51  FridayBase_52  SaturdayBase_53  CommentsNextH_Hours_54  \n",
       "0                0              0                1                       0  \n",
       "1                0              1                0                       0  \n",
       "2                0              0                1                       0  \n",
       "3                0              0                0                       0  \n",
       "4                0              0                0                       0  \n",
       "\n",
       "[5 rows x 28 columns]"
      ]
     },
     "execution_count": 10,
     "metadata": {},
     "output_type": "execute_result"
    }
   ],
   "source": [
    "facebook2.head()"
   ]
  },
  {
   "cell_type": "markdown",
   "metadata": {},
   "source": [
    "#### Preview of Facebook data with Scaling."
   ]
  },
  {
   "cell_type": "code",
   "execution_count": 11,
   "metadata": {},
   "outputs": [
    {
     "data": {
      "text/html": [
       "<div>\n",
       "<style>\n",
       "    .dataframe thead tr:only-child th {\n",
       "        text-align: right;\n",
       "    }\n",
       "\n",
       "    .dataframe thead th {\n",
       "        text-align: left;\n",
       "    }\n",
       "\n",
       "    .dataframe tbody tr th {\n",
       "        vertical-align: top;\n",
       "    }\n",
       "</style>\n",
       "<table border=\"1\" class=\"dataframe\">\n",
       "  <thead>\n",
       "    <tr style=\"text-align: right;\">\n",
       "      <th></th>\n",
       "      <th>PagePopularity_1</th>\n",
       "      <th>PageCheckins_2</th>\n",
       "      <th>PageTalkingAbout_3</th>\n",
       "      <th>PageCategory_4</th>\n",
       "      <th>CommentsBeforeBase_30</th>\n",
       "      <th>CommentsLast24h_31</th>\n",
       "      <th>CommentsLast48to24h_32</th>\n",
       "      <th>CommentsFirst24h_33</th>\n",
       "      <th>CommentsDiffFirstSecondDay_34</th>\n",
       "      <th>BaseTime_35</th>\n",
       "      <th>...</th>\n",
       "      <th>FridayPublished_45</th>\n",
       "      <th>SaturdayPublished_46</th>\n",
       "      <th>SundayBase_47</th>\n",
       "      <th>MondayBase_48</th>\n",
       "      <th>TuesdayBase_49</th>\n",
       "      <th>WednesdayBase_50</th>\n",
       "      <th>ThursdayBase_51</th>\n",
       "      <th>FridayBase_52</th>\n",
       "      <th>SaturdayBase_53</th>\n",
       "      <th>CommentsNextH_Hours_54</th>\n",
       "    </tr>\n",
       "  </thead>\n",
       "  <tbody>\n",
       "    <tr>\n",
       "      <th>0</th>\n",
       "      <td>-0.107749</td>\n",
       "      <td>-0.220202</td>\n",
       "      <td>-0.359973</td>\n",
       "      <td>-1.161633</td>\n",
       "      <td>-0.396924</td>\n",
       "      <td>-0.277312</td>\n",
       "      <td>-0.269467</td>\n",
       "      <td>-0.400045</td>\n",
       "      <td>-0.036157</td>\n",
       "      <td>65</td>\n",
       "      <td>...</td>\n",
       "      <td>-0.417790</td>\n",
       "      <td>-0.40196</td>\n",
       "      <td>-0.413886</td>\n",
       "      <td>-0.393397</td>\n",
       "      <td>-0.393962</td>\n",
       "      <td>-0.411909</td>\n",
       "      <td>-0.418774</td>\n",
       "      <td>-0.411513</td>\n",
       "      <td>2.415662</td>\n",
       "      <td>0</td>\n",
       "    </tr>\n",
       "    <tr>\n",
       "      <th>1</th>\n",
       "      <td>-0.107749</td>\n",
       "      <td>-0.220202</td>\n",
       "      <td>-0.359973</td>\n",
       "      <td>-1.161633</td>\n",
       "      <td>-0.396924</td>\n",
       "      <td>-0.277312</td>\n",
       "      <td>-0.269467</td>\n",
       "      <td>-0.400045</td>\n",
       "      <td>-0.036157</td>\n",
       "      <td>10</td>\n",
       "      <td>...</td>\n",
       "      <td>-0.417790</td>\n",
       "      <td>-0.40196</td>\n",
       "      <td>-0.413886</td>\n",
       "      <td>-0.393397</td>\n",
       "      <td>-0.393962</td>\n",
       "      <td>-0.411909</td>\n",
       "      <td>-0.418774</td>\n",
       "      <td>2.430059</td>\n",
       "      <td>-0.413965</td>\n",
       "      <td>0</td>\n",
       "    </tr>\n",
       "    <tr>\n",
       "      <th>2</th>\n",
       "      <td>-0.107749</td>\n",
       "      <td>-0.220202</td>\n",
       "      <td>-0.359973</td>\n",
       "      <td>-1.161633</td>\n",
       "      <td>-0.396924</td>\n",
       "      <td>-0.277312</td>\n",
       "      <td>-0.269467</td>\n",
       "      <td>-0.400045</td>\n",
       "      <td>-0.036157</td>\n",
       "      <td>14</td>\n",
       "      <td>...</td>\n",
       "      <td>2.393547</td>\n",
       "      <td>-0.40196</td>\n",
       "      <td>-0.413886</td>\n",
       "      <td>-0.393397</td>\n",
       "      <td>-0.393962</td>\n",
       "      <td>-0.411909</td>\n",
       "      <td>-0.418774</td>\n",
       "      <td>-0.411513</td>\n",
       "      <td>2.415662</td>\n",
       "      <td>0</td>\n",
       "    </tr>\n",
       "    <tr>\n",
       "      <th>3</th>\n",
       "      <td>-0.107749</td>\n",
       "      <td>-0.220202</td>\n",
       "      <td>-0.359973</td>\n",
       "      <td>-1.161633</td>\n",
       "      <td>-0.348015</td>\n",
       "      <td>-0.277312</td>\n",
       "      <td>-0.228578</td>\n",
       "      <td>-0.347915</td>\n",
       "      <td>-0.066027</td>\n",
       "      <td>62</td>\n",
       "      <td>...</td>\n",
       "      <td>2.393547</td>\n",
       "      <td>-0.40196</td>\n",
       "      <td>-0.413886</td>\n",
       "      <td>2.541964</td>\n",
       "      <td>-0.393962</td>\n",
       "      <td>-0.411909</td>\n",
       "      <td>-0.418774</td>\n",
       "      <td>-0.411513</td>\n",
       "      <td>-0.413965</td>\n",
       "      <td>0</td>\n",
       "    </tr>\n",
       "    <tr>\n",
       "      <th>4</th>\n",
       "      <td>-0.107749</td>\n",
       "      <td>-0.220202</td>\n",
       "      <td>-0.359973</td>\n",
       "      <td>-1.161633</td>\n",
       "      <td>-0.389937</td>\n",
       "      <td>-0.277312</td>\n",
       "      <td>-0.269467</td>\n",
       "      <td>-0.392598</td>\n",
       "      <td>-0.036157</td>\n",
       "      <td>58</td>\n",
       "      <td>...</td>\n",
       "      <td>-0.417790</td>\n",
       "      <td>-0.40196</td>\n",
       "      <td>-0.413886</td>\n",
       "      <td>-0.393397</td>\n",
       "      <td>-0.393962</td>\n",
       "      <td>2.427723</td>\n",
       "      <td>-0.418774</td>\n",
       "      <td>-0.411513</td>\n",
       "      <td>-0.413965</td>\n",
       "      <td>0</td>\n",
       "    </tr>\n",
       "  </tbody>\n",
       "</table>\n",
       "<p>5 rows × 28 columns</p>\n",
       "</div>"
      ],
      "text/plain": [
       "   PagePopularity_1  PageCheckins_2  PageTalkingAbout_3  PageCategory_4  \\\n",
       "0         -0.107749       -0.220202           -0.359973       -1.161633   \n",
       "1         -0.107749       -0.220202           -0.359973       -1.161633   \n",
       "2         -0.107749       -0.220202           -0.359973       -1.161633   \n",
       "3         -0.107749       -0.220202           -0.359973       -1.161633   \n",
       "4         -0.107749       -0.220202           -0.359973       -1.161633   \n",
       "\n",
       "   CommentsBeforeBase_30  CommentsLast24h_31  CommentsLast48to24h_32  \\\n",
       "0              -0.396924           -0.277312               -0.269467   \n",
       "1              -0.396924           -0.277312               -0.269467   \n",
       "2              -0.396924           -0.277312               -0.269467   \n",
       "3              -0.348015           -0.277312               -0.228578   \n",
       "4              -0.389937           -0.277312               -0.269467   \n",
       "\n",
       "   CommentsFirst24h_33  CommentsDiffFirstSecondDay_34  BaseTime_35  \\\n",
       "0            -0.400045                      -0.036157           65   \n",
       "1            -0.400045                      -0.036157           10   \n",
       "2            -0.400045                      -0.036157           14   \n",
       "3            -0.347915                      -0.066027           62   \n",
       "4            -0.392598                      -0.036157           58   \n",
       "\n",
       "            ...            FridayPublished_45  SaturdayPublished_46  \\\n",
       "0           ...                     -0.417790              -0.40196   \n",
       "1           ...                     -0.417790              -0.40196   \n",
       "2           ...                      2.393547              -0.40196   \n",
       "3           ...                      2.393547              -0.40196   \n",
       "4           ...                     -0.417790              -0.40196   \n",
       "\n",
       "   SundayBase_47  MondayBase_48  TuesdayBase_49  WednesdayBase_50  \\\n",
       "0      -0.413886      -0.393397       -0.393962         -0.411909   \n",
       "1      -0.413886      -0.393397       -0.393962         -0.411909   \n",
       "2      -0.413886      -0.393397       -0.393962         -0.411909   \n",
       "3      -0.413886       2.541964       -0.393962         -0.411909   \n",
       "4      -0.413886      -0.393397       -0.393962          2.427723   \n",
       "\n",
       "   ThursdayBase_51  FridayBase_52  SaturdayBase_53  CommentsNextH_Hours_54  \n",
       "0        -0.418774      -0.411513         2.415662                       0  \n",
       "1        -0.418774       2.430059        -0.413965                       0  \n",
       "2        -0.418774      -0.411513         2.415662                       0  \n",
       "3        -0.418774      -0.411513        -0.413965                       0  \n",
       "4        -0.418774      -0.411513        -0.413965                       0  \n",
       "\n",
       "[5 rows x 28 columns]"
      ]
     },
     "execution_count": 11,
     "metadata": {},
     "output_type": "execute_result"
    }
   ],
   "source": [
    "facebook2_s.head()"
   ]
  },
  {
   "cell_type": "markdown",
   "metadata": {},
   "source": [
    "### Thresholding."
   ]
  },
  {
   "cell_type": "markdown",
   "metadata": {},
   "source": [
    "Searching for an interesting threshold."
   ]
  },
  {
   "cell_type": "code",
   "execution_count": 12,
   "metadata": {},
   "outputs": [
    {
     "name": "stdout",
     "output_type": "stream",
     "text": [
      "Mean: 7.782068702472049 Median: 0.0\n"
     ]
    }
   ],
   "source": [
    "print(\"Mean:\", facebook2['CommentsNextH_Hours_54'].mean(), \"Median:\", facebook2['CommentsNextH_Hours_54'].median())"
   ]
  },
  {
   "cell_type": "code",
   "execution_count": 13,
   "metadata": {},
   "outputs": [
    {
     "data": {
      "text/plain": [
       "381"
      ]
     },
     "execution_count": 13,
     "metadata": {},
     "output_type": "execute_result"
    }
   ],
   "source": [
    "uni = facebook2['CommentsNextH_Hours_54'].unique()\n",
    "len(uni)"
   ]
  },
  {
   "cell_type": "code",
   "execution_count": 14,
   "metadata": {
    "collapsed": true
   },
   "outputs": [],
   "source": [
    "zero = facebook2[facebook2['CommentsNextH_Hours_54']==0]['CommentsNextH_Hours_54'].count()\n",
    "nonzero = facebook2[facebook2['CommentsNextH_Hours_54']!=0]['CommentsNextH_Hours_54'].count()"
   ]
  },
  {
   "cell_type": "code",
   "execution_count": 15,
   "metadata": {},
   "outputs": [
    {
     "data": {
      "text/plain": [
       "(-1.1261263161956454,\n",
       " 1.1012441573352432,\n",
       " -1.1310040963462846,\n",
       " 1.2158602877281068)"
      ]
     },
     "execution_count": 15,
     "metadata": {},
     "output_type": "execute_result"
    },
    {
     "data": {
      "image/png": "[encoded data removed]",
      "text/plain": [
       "<matplotlib.figure.Figure at 0x1fcd21060f0>"
      ]
     },
     "metadata": {},
     "output_type": "display_data"
    }
   ],
   "source": [
    "fig, ax1 = plt.subplots(figsize=(20,6))\n",
    "ax1 = plt.subplot(111)\n",
    "\n",
    "labels = 'No Comments', 'Comments'\n",
    "\n",
    "sizes = [zero, nonzero]\n",
    "\n",
    "ax1.pie(sizes, labels=labels, explode=[0.1,0], autopct='%1.1f%%', shadow=True, textprops={'fontsize':'20'})\n",
    "ax1.axis('equal')"
   ]
  },
  {
   "cell_type": "markdown",
   "metadata": {},
   "source": [
    "The above histogram suggests that '>0' may be an interesting threshold. What percentage of records have 0 comments in the next H hours?"
   ]
  },
  {
   "cell_type": "code",
   "execution_count": 16,
   "metadata": {},
   "outputs": [
    {
     "name": "stdout",
     "output_type": "stream",
     "text": [
      "54.68 %\n"
     ]
    }
   ],
   "source": [
    "print((round(facebook2[facebook2['CommentsNextH_Hours_54']==0]['CommentsNextH_Hours_54'].count() / facebook2['CommentsNextH_Hours_54'].count(), 4)*100), '%')"
   ]
  },
  {
   "cell_type": "markdown",
   "metadata": {},
   "source": [
    "<b> Threshold: I will select 0 as a threshold. </b> Not only is there an even distribution between records with no comments and at least 1 comment in the next H hours, but the existence of any comments vs. no comments is a natural binary classification."
   ]
  },
  {
   "cell_type": "code",
   "execution_count": 17,
   "metadata": {
    "collapsed": true
   },
   "outputs": [],
   "source": [
    "#### Create binary variable for classification analysis. Apply to both the scaled and unscaled data sets.\n",
    "\n",
    "facebook2['Comment_Y'] = facebook2['CommentsNextH_Hours_54']>0\n",
    "facebook2['Comment_Y'] = facebook2['Comment_Y'].apply(int)\n",
    "facebook2_s['Comment_Y'] = facebook2['Comment_Y']"
   ]
  },
  {
   "cell_type": "code",
   "execution_count": 18,
   "metadata": {
    "collapsed": true
   },
   "outputs": [],
   "source": [
    "X = facebook2.iloc[:, 0:27]\n",
    "y = facebook2.iloc[:, 28:29]\n",
    "X_s = facebook2_s.iloc[:, 0:27]\n",
    "y_s = pd.DataFrame(facebook2_s.iloc[:, 28:29])"
   ]
  },
  {
   "cell_type": "code",
   "execution_count": 19,
   "metadata": {},
   "outputs": [
    {
     "data": {
      "text/html": [
       "<div>\n",
       "<style>\n",
       "    .dataframe thead tr:only-child th {\n",
       "        text-align: right;\n",
       "    }\n",
       "\n",
       "    .dataframe thead th {\n",
       "        text-align: left;\n",
       "    }\n",
       "\n",
       "    .dataframe tbody tr th {\n",
       "        vertical-align: top;\n",
       "    }\n",
       "</style>\n",
       "<table border=\"1\" class=\"dataframe\">\n",
       "  <thead>\n",
       "    <tr style=\"text-align: right;\">\n",
       "      <th></th>\n",
       "      <th>Comment_Y</th>\n",
       "    </tr>\n",
       "  </thead>\n",
       "  <tbody>\n",
       "    <tr>\n",
       "      <th>0</th>\n",
       "      <td>0</td>\n",
       "    </tr>\n",
       "    <tr>\n",
       "      <th>1</th>\n",
       "      <td>0</td>\n",
       "    </tr>\n",
       "    <tr>\n",
       "      <th>2</th>\n",
       "      <td>0</td>\n",
       "    </tr>\n",
       "    <tr>\n",
       "      <th>3</th>\n",
       "      <td>0</td>\n",
       "    </tr>\n",
       "    <tr>\n",
       "      <th>4</th>\n",
       "      <td>0</td>\n",
       "    </tr>\n",
       "  </tbody>\n",
       "</table>\n",
       "</div>"
      ],
      "text/plain": [
       "   Comment_Y\n",
       "0          0\n",
       "1          0\n",
       "2          0\n",
       "3          0\n",
       "4          0"
      ]
     },
     "execution_count": 19,
     "metadata": {},
     "output_type": "execute_result"
    }
   ],
   "source": [
    "y.head()"
   ]
  },
  {
   "cell_type": "markdown",
   "metadata": {},
   "source": [
    "### Split Data"
   ]
  },
  {
   "cell_type": "code",
   "execution_count": 20,
   "metadata": {
    "collapsed": true
   },
   "outputs": [],
   "source": [
    "from sklearn.model_selection import train_test_split\n",
    "\n",
    "Xs_train, Xs_test, ys_train, ys_test = train_test_split(X_s, y_s, test_size=0.3, random_state=4786)\n",
    "X_train, X_test, y_train, y_test = train_test_split(X, y, test_size=0.3, random_state=4786)"
   ]
  },
  {
   "cell_type": "markdown",
   "metadata": {},
   "source": [
    "### Support Vector Machine"
   ]
  },
  {
   "cell_type": "markdown",
   "metadata": {},
   "source": [
    "I initially ran svm.SVC with a linear kernel, but it ran for several minutes without returning. I read a recommendation on Stack Exchange that led me to test Linear SVC instead. When SVC finished in Spyder, I noticed that the  scores1 returned very similar outputs to LinearSVC so I decided to stick with LinearSVC for my baseline."
   ]
  },
  {
   "cell_type": "markdown",
   "metadata": {},
   "source": [
    "The performance of the following improved greatly when I added a random state."
   ]
  },
  {
   "cell_type": "code",
   "execution_count": 21,
   "metadata": {
    "collapsed": true
   },
   "outputs": [],
   "source": [
    "from sklearn.model_selection import learning_curve"
   ]
  },
  {
   "cell_type": "markdown",
   "metadata": {},
   "source": [
    "#### Linear kernel"
   ]
  },
  {
   "cell_type": "code",
   "execution_count": 22,
   "metadata": {},
   "outputs": [
    {
     "data": {
      "text/plain": [
       "array([ 0.78651685,  0.81086142,  0.80160082,  0.80364441,  0.80858311])"
      ]
     },
     "execution_count": 22,
     "metadata": {},
     "output_type": "execute_result"
    }
   ],
   "source": [
    "SVM1 = svm.LinearSVC(random_state=3003)\n",
    "scores1 = cross_val_score(SVM1, Xs_train, ys_train['Comment_Y'], cv=5)\n",
    "scores1"
   ]
  },
  {
   "cell_type": "code",
   "execution_count": 23,
   "metadata": {},
   "outputs": [
    {
     "data": {
      "text/plain": [
       "0.80224132300564344"
      ]
     },
     "execution_count": 23,
     "metadata": {},
     "output_type": "execute_result"
    }
   ],
   "source": [
    "scores1.mean()"
   ]
  },
  {
   "cell_type": "code",
   "execution_count": 24,
   "metadata": {},
   "outputs": [
    {
     "data": {
      "text/plain": [
       "LinearSVC(C=1.0, class_weight=None, dual=True, fit_intercept=True,\n",
       "     intercept_scaling=1, loss='squared_hinge', max_iter=1000,\n",
       "     multi_class='ovr', penalty='l2', random_state=3003, tol=0.0001,\n",
       "     verbose=0)"
      ]
     },
     "execution_count": 24,
     "metadata": {},
     "output_type": "execute_result"
    }
   ],
   "source": [
    "SVM1"
   ]
  },
  {
   "cell_type": "markdown",
   "metadata": {},
   "source": [
    "#### Experimentation with validation set size"
   ]
  },
  {
   "cell_type": "code",
   "execution_count": 25,
   "metadata": {
    "collapsed": true
   },
   "outputs": [],
   "source": [
    "train_sizes, train_scores, valid_scores = learning_curve(SVM1, Xs_train, ys_train['Comment_Y'], train_sizes=[1000, 2500, 5000, 7500, 10000], cv=5)"
   ]
  },
  {
   "cell_type": "code",
   "execution_count": 26,
   "metadata": {
    "collapsed": true
   },
   "outputs": [],
   "source": [
    "training = pd.DataFrame((train_scores))\n",
    "validation = pd.DataFrame((valid_scores))"
   ]
  },
  {
   "cell_type": "code",
   "execution_count": 27,
   "metadata": {
    "collapsed": true
   },
   "outputs": [],
   "source": [
    "new_names = ['Fold 1', 'Fold 2', 'Fold 3', 'Fold 4', 'Fold 5']\n",
    "old_names_t = training.columns[0:5]\n",
    "old_names_v = validation.columns[0:5]"
   ]
  },
  {
   "cell_type": "code",
   "execution_count": 28,
   "metadata": {
    "collapsed": true
   },
   "outputs": [],
   "source": [
    "training.rename(columns=dict(zip(old_names_t, new_names)), inplace=True)\n",
    "validation.rename(columns=dict(zip(old_names_v, new_names)), inplace=True)"
   ]
  },
  {
   "cell_type": "code",
   "execution_count": 29,
   "metadata": {
    "collapsed": true
   },
   "outputs": [],
   "source": [
    "train_total = pd.Series(training.mean(axis=1))\n",
    "val_total = pd.Series(validation.mean(axis=1))"
   ]
  },
  {
   "cell_type": "code",
   "execution_count": 30,
   "metadata": {
    "collapsed": true
   },
   "outputs": [],
   "source": [
    "train_total = pd.DataFrame(train_total)\n",
    "train_total.rename(columns=({0:'Average'}), inplace=True)\n",
    "\n",
    "val_total = pd.DataFrame(val_total)\n",
    "val_total.rename(columns=({0:'Average'}), inplace=True)"
   ]
  },
  {
   "cell_type": "code",
   "execution_count": 31,
   "metadata": {
    "collapsed": true
   },
   "outputs": [],
   "source": [
    "training = pd.merge(training, train_total, left_index=True, right_index=True)\n",
    "validation = pd.merge(validation, val_total, left_index=True, right_index=True)"
   ]
  },
  {
   "cell_type": "code",
   "execution_count": 32,
   "metadata": {
    "collapsed": true
   },
   "outputs": [],
   "source": [
    "validation.rename(index={0:train_sizes[0],1:train_sizes[1], 2:train_sizes[2], 3:train_sizes[3], 4:train_sizes[4]}, inplace=True)"
   ]
  },
  {
   "cell_type": "code",
   "execution_count": 33,
   "metadata": {
    "collapsed": true
   },
   "outputs": [],
   "source": [
    "training.rename(index={0:train_sizes[0],1:train_sizes[1], 2:train_sizes[2], 3:train_sizes[3], 4:train_sizes[4]}, inplace=True)"
   ]
  },
  {
   "cell_type": "code",
   "execution_count": 34,
   "metadata": {},
   "outputs": [
    {
     "data": {
      "image/png": "[encoded data removed]",
      "text/plain": [
       "<matplotlib.figure.Figure at 0x1fcd481bc88>"
      ]
     },
     "metadata": {},
     "output_type": "display_data"
    }
   ],
   "source": [
    "fig, ax1 = plt.subplots(figsize=(15,5))\n",
    "\n",
    "ax1.plot(validation.index, validation['Fold 1'], 'r--', label='Fold 1')\n",
    "ax1.plot(validation.index, validation['Fold 2'], 'b--', label='Fold 2')\n",
    "ax1.plot(validation.index, validation['Fold 3'], 'g--', label='Fold 3')\n",
    "ax1.plot(validation.index, validation['Fold 4'], 'm--', label='Fold 4')\n",
    "ax1.plot(validation.index, validation['Fold 5'], 'c--', label='Fold 5')\n",
    "\n",
    "ax1.set_xlabel('Learning Curve- Validation Size', fontsize=14, color='b')\n",
    "\n",
    "plt.legend()\n",
    "\n",
    "plt.show()"
   ]
  },
  {
   "cell_type": "code",
   "execution_count": 35,
   "metadata": {},
   "outputs": [
    {
     "data": {
      "image/png": "[encoded data removed]",
      "text/plain": [
       "<matplotlib.figure.Figure at 0x1fcd481b6d8>"
      ]
     },
     "metadata": {},
     "output_type": "display_data"
    }
   ],
   "source": [
    "fig, ax1 = plt.subplots(figsize=(15,5))\n",
    "\n",
    "ax1.plot(validation.index, validation['Average'], 'k-', label='Average of Folds')\n",
    "\n",
    "ax1.set_xlabel('Learning Curve- Validation Size', fontsize=14, color='b')\n",
    "\n",
    "plt.legend()\n",
    "\n",
    "plt.show()"
   ]
  },
  {
   "cell_type": "code",
   "execution_count": 36,
   "metadata": {},
   "outputs": [
    {
     "data": {
      "image/png": "[encoded data removed]",
      "text/plain": [
       "<matplotlib.figure.Figure at 0x1fcd4953ef0>"
      ]
     },
     "metadata": {},
     "output_type": "display_data"
    }
   ],
   "source": [
    "fig, ax1 = plt.subplots(figsize=(15,5))\n",
    "\n",
    "ax1.plot(training.index, training['Fold 1'], 'r--', label='Fold 1')\n",
    "ax1.plot(training.index, training['Fold 2'], 'b--', label='Fold 2')\n",
    "ax1.plot(training.index, training['Fold 3'], 'g--', label='Fold 3')\n",
    "ax1.plot(training.index, training['Fold 4'], 'm--', label='Fold 4')\n",
    "ax1.plot(training.index, training['Fold 5'], 'c--', label='Fold 5')\n",
    "\n",
    "ax1.set_xlabel('Learning Curve- Validation Size: Training Set', fontsize=14, color='b')\n",
    "\n",
    "plt.legend()\n",
    "\n",
    "plt.show()"
   ]
  },
  {
   "cell_type": "code",
   "execution_count": 37,
   "metadata": {},
   "outputs": [
    {
     "data": {
      "image/png": "[encoded data removed]",
      "text/plain": [
       "<matplotlib.figure.Figure at 0x1fcd49ceb38>"
      ]
     },
     "metadata": {},
     "output_type": "display_data"
    }
   ],
   "source": [
    "fig, ax1 = plt.subplots(figsize=(8,5))\n",
    "\n",
    "ax1.plot(training.index, training['Average'], 'b--', label='Average of Folds- Training')\n",
    "ax1.plot(validation.index, validation['Average'], 'r--', label='Average of Folds- Validation')\n",
    "\n",
    "ax1.set_xlabel('Validation Set Size', fontsize=14, color='b')\n",
    "ax1.set_ylabel('Accuracy', fontsize=14, color='b')\n",
    "plt.title('Learning Curve- Validation Size', fontsize=18, color='b')\n",
    "\n",
    "plt.legend()\n",
    "\n",
    "plt.show()"
   ]
  },
  {
   "cell_type": "markdown",
   "metadata": {},
   "source": [
    "Testing with C."
   ]
  },
  {
   "cell_type": "code",
   "execution_count": 38,
   "metadata": {
    "collapsed": true
   },
   "outputs": [],
   "source": [
    "C_vals = np.array(range(1,6))"
   ]
  },
  {
   "cell_type": "code",
   "execution_count": 39,
   "metadata": {},
   "outputs": [
    {
     "data": {
      "text/plain": [
       "{'C': array([1, 2, 3, 4, 5])}"
      ]
     },
     "execution_count": 39,
     "metadata": {},
     "output_type": "execute_result"
    }
   ],
   "source": [
    "param_grid = dict(C = C_vals)\n",
    "param_grid"
   ]
  },
  {
   "cell_type": "code",
   "execution_count": 40,
   "metadata": {
    "collapsed": true
   },
   "outputs": [],
   "source": [
    "SVM_C = GridSearchCV(SVM1, param_grid, cv=5)"
   ]
  },
  {
   "cell_type": "code",
   "execution_count": 41,
   "metadata": {},
   "outputs": [
    {
     "data": {
      "text/plain": [
       "GridSearchCV(cv=5, error_score='raise',\n",
       "       estimator=LinearSVC(C=1.0, class_weight=None, dual=True, fit_intercept=True,\n",
       "     intercept_scaling=1, loss='squared_hinge', max_iter=1000,\n",
       "     multi_class='ovr', penalty='l2', random_state=3003, tol=0.0001,\n",
       "     verbose=0),\n",
       "       fit_params=None, iid=True, n_jobs=1,\n",
       "       param_grid={'C': array([1, 2, 3, 4, 5])}, pre_dispatch='2*n_jobs',\n",
       "       refit=True, return_train_score='warn', scoring=None, verbose=0)"
      ]
     },
     "execution_count": 41,
     "metadata": {},
     "output_type": "execute_result"
    }
   ],
   "source": [
    "SVM_C.fit(Xs_train, ys_train['Comment_Y'])"
   ]
  },
  {
   "cell_type": "code",
   "execution_count": 42,
   "metadata": {},
   "outputs": [
    {
     "name": "stderr",
     "output_type": "stream",
     "text": [
      "C:\\Users\\katri\\Anaconda3\\lib\\site-packages\\sklearn\\utils\\deprecation.py:122: FutureWarning: You are accessing a training score ('mean_train_score'), which will not be available by default any more in 0.21. If you need training scores, please set return_train_score=True\n",
      "  warnings.warn(*warn_args, **warn_kwargs)\n",
      "C:\\Users\\katri\\Anaconda3\\lib\\site-packages\\sklearn\\utils\\deprecation.py:122: FutureWarning: You are accessing a training score ('split0_train_score'), which will not be available by default any more in 0.21. If you need training scores, please set return_train_score=True\n",
      "  warnings.warn(*warn_args, **warn_kwargs)\n",
      "C:\\Users\\katri\\Anaconda3\\lib\\site-packages\\sklearn\\utils\\deprecation.py:122: FutureWarning: You are accessing a training score ('split1_train_score'), which will not be available by default any more in 0.21. If you need training scores, please set return_train_score=True\n",
      "  warnings.warn(*warn_args, **warn_kwargs)\n",
      "C:\\Users\\katri\\Anaconda3\\lib\\site-packages\\sklearn\\utils\\deprecation.py:122: FutureWarning: You are accessing a training score ('split2_train_score'), which will not be available by default any more in 0.21. If you need training scores, please set return_train_score=True\n",
      "  warnings.warn(*warn_args, **warn_kwargs)\n",
      "C:\\Users\\katri\\Anaconda3\\lib\\site-packages\\sklearn\\utils\\deprecation.py:122: FutureWarning: You are accessing a training score ('split3_train_score'), which will not be available by default any more in 0.21. If you need training scores, please set return_train_score=True\n",
      "  warnings.warn(*warn_args, **warn_kwargs)\n",
      "C:\\Users\\katri\\Anaconda3\\lib\\site-packages\\sklearn\\utils\\deprecation.py:122: FutureWarning: You are accessing a training score ('split4_train_score'), which will not be available by default any more in 0.21. If you need training scores, please set return_train_score=True\n",
      "  warnings.warn(*warn_args, **warn_kwargs)\n",
      "C:\\Users\\katri\\Anaconda3\\lib\\site-packages\\sklearn\\utils\\deprecation.py:122: FutureWarning: You are accessing a training score ('std_train_score'), which will not be available by default any more in 0.21. If you need training scores, please set return_train_score=True\n",
      "  warnings.warn(*warn_args, **warn_kwargs)\n"
     ]
    },
    {
     "data": {
      "text/plain": [
       "{'mean_fit_time': array([ 8.49875016,  8.25132246,  9.24464822,  8.42495804,  8.89387598]),\n",
       " 'mean_score_time': array([ 0.00367036,  0.0036181 ,  0.00426555,  0.00525837,  0.00436873]),\n",
       " 'mean_test_score': array([ 0.80224084,  0.7230282 ,  0.73906825,  0.61268901,  0.6414998 ]),\n",
       " 'mean_train_score': array([ 0.8042329 ,  0.72549911,  0.73767706,  0.61223583,  0.64234227]),\n",
       " 'param_C': masked_array(data = [1 2 3 4 5],\n",
       "              mask = [False False False False False],\n",
       "        fill_value = ?),\n",
       " 'params': [{'C': 1}, {'C': 2}, {'C': 3}, {'C': 4}, {'C': 5}],\n",
       " 'rank_test_score': array([1, 3, 2, 5, 4]),\n",
       " 'split0_test_score': array([ 0.78651685,  0.7597889 ,  0.81477698,  0.81171263,  0.45216207]),\n",
       " 'split0_train_score': array([ 0.78957003,  0.76441039,  0.81519796,  0.81013197,  0.45227756]),\n",
       " 'split1_test_score': array([ 0.81086142,  0.7989445 ,  0.4588015 ,  0.8030303 ,  0.81477698]),\n",
       " 'split1_train_score': array([ 0.80851426,  0.79816943,  0.4584504 ,  0.800298  ,  0.80936569]),\n",
       " 'split2_test_score': array([ 0.80160082,  0.79291553,  0.79478883,  0.45231608,  0.78048365]),\n",
       " 'split2_train_score': array([ 0.81095692,  0.80244338,  0.79988932,  0.45223906,  0.78571429]),\n",
       " 'split3_test_score': array([ 0.80364441,  0.8111376 ,  0.8150545 ,  0.54359673,  0.46066076]),\n",
       " 'split3_train_score': array([ 0.80406096,  0.81044611,  0.81048868,  0.54593053,  0.46185936]),\n",
       " 'split4_test_score': array([ 0.80858311,  0.45231608,  0.8119891 ,  0.45265668,  0.69942098]),\n",
       " 'split4_train_score': array([ 0.80806232,  0.45202622,  0.80435893,  0.4525796 ,  0.70249447]),\n",
       " 'std_fit_time': array([ 0.18074562,  0.53165214,  0.52483949,  0.28353527,  0.56698999]),\n",
       " 'std_score_time': array([ 0.00059516,  0.00058459,  0.00050517,  0.0021413 ,  0.00058066]),\n",
       " 'std_test_score': array([ 0.00853489,  0.1364089 ,  0.14035148,  0.162451  ,  0.15572656]),\n",
       " 'std_train_score': array([ 0.00765815,  0.1376364 ,  0.13971069,  0.16125491,  0.15541513])}"
      ]
     },
     "execution_count": 42,
     "metadata": {},
     "output_type": "execute_result"
    }
   ],
   "source": [
    "SVM_C.cv_results_"
   ]
  },
  {
   "cell_type": "code",
   "execution_count": 43,
   "metadata": {
    "collapsed": true
   },
   "outputs": [],
   "source": [
    "C_vals= [1,.1, .01, .001, .0001]"
   ]
  },
  {
   "cell_type": "code",
   "execution_count": 44,
   "metadata": {},
   "outputs": [
    {
     "data": {
      "text/plain": [
       "{'C': [1, 0.1, 0.01, 0.001, 0.0001]}"
      ]
     },
     "execution_count": 44,
     "metadata": {},
     "output_type": "execute_result"
    }
   ],
   "source": [
    "param_grid = dict(C = C_vals)\n",
    "param_grid"
   ]
  },
  {
   "cell_type": "code",
   "execution_count": 45,
   "metadata": {
    "collapsed": true
   },
   "outputs": [],
   "source": [
    "SVM_C2 = GridSearchCV(SVM1, param_grid, cv=5)"
   ]
  },
  {
   "cell_type": "code",
   "execution_count": 46,
   "metadata": {},
   "outputs": [
    {
     "data": {
      "text/plain": [
       "GridSearchCV(cv=5, error_score='raise',\n",
       "       estimator=LinearSVC(C=1.0, class_weight=None, dual=True, fit_intercept=True,\n",
       "     intercept_scaling=1, loss='squared_hinge', max_iter=1000,\n",
       "     multi_class='ovr', penalty='l2', random_state=3003, tol=0.0001,\n",
       "     verbose=0),\n",
       "       fit_params=None, iid=True, n_jobs=1,\n",
       "       param_grid={'C': [1, 0.1, 0.01, 0.001, 0.0001]},\n",
       "       pre_dispatch='2*n_jobs', refit=True, return_train_score='warn',\n",
       "       scoring=None, verbose=0)"
      ]
     },
     "execution_count": 46,
     "metadata": {},
     "output_type": "execute_result"
    }
   ],
   "source": [
    "SVM_C2.fit(Xs_train, ys_train['Comment_Y'])"
   ]
  },
  {
   "cell_type": "code",
   "execution_count": 47,
   "metadata": {},
   "outputs": [
    {
     "name": "stderr",
     "output_type": "stream",
     "text": [
      "C:\\Users\\katri\\Anaconda3\\lib\\site-packages\\sklearn\\utils\\deprecation.py:122: FutureWarning: You are accessing a training score ('mean_train_score'), which will not be available by default any more in 0.21. If you need training scores, please set return_train_score=True\n",
      "  warnings.warn(*warn_args, **warn_kwargs)\n",
      "C:\\Users\\katri\\Anaconda3\\lib\\site-packages\\sklearn\\utils\\deprecation.py:122: FutureWarning: You are accessing a training score ('split0_train_score'), which will not be available by default any more in 0.21. If you need training scores, please set return_train_score=True\n",
      "  warnings.warn(*warn_args, **warn_kwargs)\n",
      "C:\\Users\\katri\\Anaconda3\\lib\\site-packages\\sklearn\\utils\\deprecation.py:122: FutureWarning: You are accessing a training score ('split1_train_score'), which will not be available by default any more in 0.21. If you need training scores, please set return_train_score=True\n",
      "  warnings.warn(*warn_args, **warn_kwargs)\n",
      "C:\\Users\\katri\\Anaconda3\\lib\\site-packages\\sklearn\\utils\\deprecation.py:122: FutureWarning: You are accessing a training score ('split2_train_score'), which will not be available by default any more in 0.21. If you need training scores, please set return_train_score=True\n",
      "  warnings.warn(*warn_args, **warn_kwargs)\n",
      "C:\\Users\\katri\\Anaconda3\\lib\\site-packages\\sklearn\\utils\\deprecation.py:122: FutureWarning: You are accessing a training score ('split3_train_score'), which will not be available by default any more in 0.21. If you need training scores, please set return_train_score=True\n",
      "  warnings.warn(*warn_args, **warn_kwargs)\n",
      "C:\\Users\\katri\\Anaconda3\\lib\\site-packages\\sklearn\\utils\\deprecation.py:122: FutureWarning: You are accessing a training score ('split4_train_score'), which will not be available by default any more in 0.21. If you need training scores, please set return_train_score=True\n",
      "  warnings.warn(*warn_args, **warn_kwargs)\n",
      "C:\\Users\\katri\\Anaconda3\\lib\\site-packages\\sklearn\\utils\\deprecation.py:122: FutureWarning: You are accessing a training score ('std_train_score'), which will not be available by default any more in 0.21. If you need training scores, please set return_train_score=True\n",
      "  warnings.warn(*warn_args, **warn_kwargs)\n"
     ]
    },
    {
     "data": {
      "text/plain": [
       "{'mean_fit_time': array([ 7.86233096,  4.44297824,  6.30039229,  1.26003628,  0.26317391]),\n",
       " 'mean_score_time': array([ 0.00367093,  0.00218768,  0.00337868,  0.00477624,  0.00416245]),\n",
       " 'mean_test_score': array([ 0.80224084,  0.81123144,  0.80884757,  0.80019752,  0.7753712 ]),\n",
       " 'mean_train_score': array([ 0.8042329 ,  0.8116402 ,  0.80969902,  0.80039335,  0.77567772]),\n",
       " 'param_C': masked_array(data = [1 0.1 0.01 0.001 0.0001],\n",
       "              mask = [False False False False False],\n",
       "        fill_value = ?),\n",
       " 'params': [{'C': 1}, {'C': 0.1}, {'C': 0.01}, {'C': 0.001}, {'C': 0.0001}],\n",
       " 'rank_test_score': array([3, 1, 2, 4, 5]),\n",
       " 'split0_test_score': array([ 0.78651685,  0.81392577,  0.81528771,  0.80371127,  0.77562138]),\n",
       " 'split0_train_score': array([ 0.78957003,  0.81715624,  0.81502767,  0.80170285,  0.77530864]),\n",
       " 'split1_test_score': array([ 0.81086142,  0.81545795,  0.80694586,  0.80047668,  0.77306776]),\n",
       " 'split1_train_score': array([ 0.80851426,  0.81204768,  0.8085994 ,  0.79991486,  0.77730949]),\n",
       " 'split2_test_score': array([ 0.80160082,  0.80262262,  0.79972752,  0.79121253,  0.77264986]),\n",
       " 'split2_train_score': array([ 0.81095692,  0.81010557,  0.80801975,  0.80091095,  0.77588115]),\n",
       " 'split3_test_score': array([ 0.80364441,  0.8102861 ,  0.8104564 ,  0.79938692,  0.77384196]),\n",
       " 'split3_train_score': array([ 0.80406096,  0.81044611,  0.80950962,  0.80040014,  0.77583858]),\n",
       " 'split4_test_score': array([ 0.80858311,  0.8138624 ,  0.8118188 ,  0.80619891,  0.78167575]),\n",
       " 'split4_train_score': array([ 0.80806232,  0.80844543,  0.80733867,  0.79903797,  0.77405074]),\n",
       " 'std_fit_time': array([ 1.90469434,  0.1500034 ,  1.34992662,  0.24949798,  0.04130363]),\n",
       " 'std_score_time': array([ 0.00161789,  0.00025007,  0.00119602,  0.00085982,  0.00050018]),\n",
       " 'std_test_score': array([ 0.00853489,  0.00462697,  0.00528545,  0.00509538,  0.00331223]),\n",
       " 'std_train_score': array([ 0.00765815,  0.00298597,  0.00275793,  0.00089986,  0.00105007])}"
      ]
     },
     "execution_count": 47,
     "metadata": {},
     "output_type": "execute_result"
    }
   ],
   "source": [
    "SVM_C2.cv_results_"
   ]
  },
  {
   "cell_type": "code",
   "execution_count": 48,
   "metadata": {
    "collapsed": true
   },
   "outputs": [],
   "source": [
    "y_pred = SVM_C2.best_estimator_.predict(X_train)"
   ]
  },
  {
   "cell_type": "code",
   "execution_count": null,
   "metadata": {
    "collapsed": true
   },
   "outputs": [],
   "source": [
    "y_pred_test = SVM_C2.best_estimator_.predict(X_test)"
   ]
  },
  {
   "cell_type": "code",
   "execution_count": 49,
   "metadata": {
    "collapsed": true
   },
   "outputs": [],
   "source": [
    "SVM_C2Results = SVM_C2.cv_results_"
   ]
  },
  {
   "cell_type": "code",
   "execution_count": 50,
   "metadata": {},
   "outputs": [
    {
     "data": {
      "text/plain": [
       "array([[ 7113,  8974],\n",
       "       [ 2999, 10278]], dtype=int64)"
      ]
     },
     "execution_count": 50,
     "metadata": {},
     "output_type": "execute_result"
    }
   ],
   "source": [
    "conf_matrix_SVMC2 = confusion_matrix(y_train, y_pred)\n",
    "conf_matrix_SVMC2"
   ]
  },
  {
   "cell_type": "code",
   "execution_count": 51,
   "metadata": {
    "collapsed": true
   },
   "outputs": [],
   "source": [
    "conf_matrix_SVMC2 = pd.DataFrame(conf_matrix_SVMC2)"
   ]
  },
  {
   "cell_type": "code",
   "execution_count": 52,
   "metadata": {
    "collapsed": true
   },
   "outputs": [],
   "source": [
    "conf_matrix_SVMC2.rename(columns={0:'Positive Predicted', 1: 'Negative Predicted'}, inplace=True)\n",
    "conf_matrix_SVMC2.rename(index={0:'Positive', 1: 'Negative'}, inplace=True)"
   ]
  },
  {
   "cell_type": "code",
   "execution_count": 53,
   "metadata": {},
   "outputs": [
    {
     "data": {
      "text/html": [
       "<div>\n",
       "<style>\n",
       "    .dataframe thead tr:only-child th {\n",
       "        text-align: right;\n",
       "    }\n",
       "\n",
       "    .dataframe thead th {\n",
       "        text-align: left;\n",
       "    }\n",
       "\n",
       "    .dataframe tbody tr th {\n",
       "        vertical-align: top;\n",
       "    }\n",
       "</style>\n",
       "<table border=\"1\" class=\"dataframe\">\n",
       "  <thead>\n",
       "    <tr style=\"text-align: right;\">\n",
       "      <th></th>\n",
       "      <th>Positive Predicted</th>\n",
       "      <th>Negative Predicted</th>\n",
       "    </tr>\n",
       "  </thead>\n",
       "  <tbody>\n",
       "    <tr>\n",
       "      <th>Positive</th>\n",
       "      <td>7113</td>\n",
       "      <td>8974</td>\n",
       "    </tr>\n",
       "    <tr>\n",
       "      <th>Negative</th>\n",
       "      <td>2999</td>\n",
       "      <td>10278</td>\n",
       "    </tr>\n",
       "  </tbody>\n",
       "</table>\n",
       "</div>"
      ],
      "text/plain": [
       "          Positive Predicted  Negative Predicted\n",
       "Positive                7113                8974\n",
       "Negative                2999               10278"
      ]
     },
     "execution_count": 53,
     "metadata": {},
     "output_type": "execute_result"
    }
   ],
   "source": [
    "conf_matrix_SVMC2"
   ]
  },
  {
   "cell_type": "code",
   "execution_count": 54,
   "metadata": {
    "collapsed": true
   },
   "outputs": [],
   "source": [
    "sensitivity_SVMC2 = conf_matrix_SVMC2['Positive Predicted'][0]/(conf_matrix_SVMC2['Positive Predicted'][0] + conf_matrix_SVMC2['Negative Predicted'][0])\n",
    "specificity_SVMC2 = conf_matrix_SVMC2['Negative Predicted'][1]/(conf_matrix_SVMC2['Negative Predicted'][1] + conf_matrix_SVMC2['Positive Predicted'][1])"
   ]
  },
  {
   "cell_type": "code",
   "execution_count": 55,
   "metadata": {},
   "outputs": [
    {
     "name": "stdout",
     "output_type": "stream",
     "text": [
      "Sensitivity for SVM- C2: 44.22 % | Specificity for SVM- C2: 77.41 %\n"
     ]
    }
   ],
   "source": [
    "print(\"Sensitivity for SVM- C2:\", (round(sensitivity_SVMC2,4)*100), \"% | Specificity for SVM- C2:\", (round(specificity_SVMC2, 4)*100), \"%\")"
   ]
  },
  {
   "cell_type": "code",
   "execution_count": 56,
   "metadata": {},
   "outputs": [
    {
     "name": "stdout",
     "output_type": "stream",
     "text": [
      "(array([ 0.        ,  0.55784174,  1.        ]), array([ 0.        ,  0.77412066,  1.        ]), array([2, 1, 0], dtype=int64))\n"
     ]
    }
   ],
   "source": [
    "print(roc_curve(y_train, y_pred))"
   ]
  },
  {
   "cell_type": "code",
   "execution_count": 57,
   "metadata": {},
   "outputs": [
    {
     "name": "stdout",
     "output_type": "stream",
     "text": [
      "Classification Report for SVM-C2: \n",
      "\n",
      "              precision    recall  f1-score   support\n",
      "\n",
      "          0       0.70      0.44      0.54     16087\n",
      "          1       0.53      0.77      0.63     13277\n",
      "\n",
      "avg / total       0.63      0.59      0.58     29364\n",
      "\n"
     ]
    }
   ],
   "source": [
    "print(\"Classification Report for SVM-C2: \\n\\n\", classification_report(y_train,y_pred))"
   ]
  },
  {
   "cell_type": "code",
   "execution_count": 58,
   "metadata": {
    "collapsed": true
   },
   "outputs": [],
   "source": [
    "C_vals = param_grid['C']"
   ]
  },
  {
   "cell_type": "code",
   "execution_count": 59,
   "metadata": {
    "collapsed": true
   },
   "outputs": [],
   "source": [
    "Avg = SVM_C2Results['mean_test_score']"
   ]
  },
  {
   "cell_type": "code",
   "execution_count": 60,
   "metadata": {},
   "outputs": [
    {
     "data": {
      "image/png": "[encoded data removed]",
      "text/plain": [
       "<matplotlib.figure.Figure at 0x1fcd49f5550>"
      ]
     },
     "metadata": {},
     "output_type": "display_data"
    }
   ],
   "source": [
    "fig, ax1 = plt.subplots(figsize=(15,5))\n",
    "\n",
    "ax1.plot(C_vals, Avg, 'b--', label='Average of Folds- Training')\n",
    "\n",
    "ax1.set_xlabel('C values', fontsize=18, color='b')\n",
    "ax1.set_ylabel('Accuracy', fontsize=18, color='b')\n",
    "plt.title('Learning Curve- Validation Size', fontsize=24, color='b')\n",
    "\n",
    "plt.legend()\n",
    "\n",
    "plt.show()"
   ]
  },
  {
   "cell_type": "markdown",
   "metadata": {},
   "source": [
    "C of 0.1 appears to have the best performance so far. Testing values of more similar size."
   ]
  },
  {
   "cell_type": "code",
   "execution_count": 61,
   "metadata": {
    "collapsed": true
   },
   "outputs": [],
   "source": [
    "C_vals = [0.1, 0.2, 0.5, 0.75, 1]"
   ]
  },
  {
   "cell_type": "code",
   "execution_count": 62,
   "metadata": {},
   "outputs": [
    {
     "data": {
      "text/plain": [
       "{'C': [0.1, 0.2, 0.5, 0.75, 1]}"
      ]
     },
     "execution_count": 62,
     "metadata": {},
     "output_type": "execute_result"
    }
   ],
   "source": [
    "param_grid = dict(C = C_vals)\n",
    "param_grid"
   ]
  },
  {
   "cell_type": "code",
   "execution_count": 63,
   "metadata": {
    "collapsed": true
   },
   "outputs": [],
   "source": [
    "SVM_C3 = GridSearchCV(SVM1, param_grid, cv=5)"
   ]
  },
  {
   "cell_type": "code",
   "execution_count": 64,
   "metadata": {},
   "outputs": [
    {
     "data": {
      "text/plain": [
       "GridSearchCV(cv=5, error_score='raise',\n",
       "       estimator=LinearSVC(C=1.0, class_weight=None, dual=True, fit_intercept=True,\n",
       "     intercept_scaling=1, loss='squared_hinge', max_iter=1000,\n",
       "     multi_class='ovr', penalty='l2', random_state=3003, tol=0.0001,\n",
       "     verbose=0),\n",
       "       fit_params=None, iid=True, n_jobs=1,\n",
       "       param_grid={'C': [0.1, 0.2, 0.5, 0.75, 1]}, pre_dispatch='2*n_jobs',\n",
       "       refit=True, return_train_score='warn', scoring=None, verbose=0)"
      ]
     },
     "execution_count": 64,
     "metadata": {},
     "output_type": "execute_result"
    }
   ],
   "source": [
    "SVM_C3.fit(Xs_train, ys_train['Comment_Y'])"
   ]
  },
  {
   "cell_type": "code",
   "execution_count": 65,
   "metadata": {},
   "outputs": [
    {
     "name": "stderr",
     "output_type": "stream",
     "text": [
      "C:\\Users\\katri\\Anaconda3\\lib\\site-packages\\sklearn\\utils\\deprecation.py:122: FutureWarning: You are accessing a training score ('mean_train_score'), which will not be available by default any more in 0.21. If you need training scores, please set return_train_score=True\n",
      "  warnings.warn(*warn_args, **warn_kwargs)\n",
      "C:\\Users\\katri\\Anaconda3\\lib\\site-packages\\sklearn\\utils\\deprecation.py:122: FutureWarning: You are accessing a training score ('split0_train_score'), which will not be available by default any more in 0.21. If you need training scores, please set return_train_score=True\n",
      "  warnings.warn(*warn_args, **warn_kwargs)\n",
      "C:\\Users\\katri\\Anaconda3\\lib\\site-packages\\sklearn\\utils\\deprecation.py:122: FutureWarning: You are accessing a training score ('split1_train_score'), which will not be available by default any more in 0.21. If you need training scores, please set return_train_score=True\n",
      "  warnings.warn(*warn_args, **warn_kwargs)\n",
      "C:\\Users\\katri\\Anaconda3\\lib\\site-packages\\sklearn\\utils\\deprecation.py:122: FutureWarning: You are accessing a training score ('split2_train_score'), which will not be available by default any more in 0.21. If you need training scores, please set return_train_score=True\n",
      "  warnings.warn(*warn_args, **warn_kwargs)\n",
      "C:\\Users\\katri\\Anaconda3\\lib\\site-packages\\sklearn\\utils\\deprecation.py:122: FutureWarning: You are accessing a training score ('split3_train_score'), which will not be available by default any more in 0.21. If you need training scores, please set return_train_score=True\n",
      "  warnings.warn(*warn_args, **warn_kwargs)\n",
      "C:\\Users\\katri\\Anaconda3\\lib\\site-packages\\sklearn\\utils\\deprecation.py:122: FutureWarning: You are accessing a training score ('split4_train_score'), which will not be available by default any more in 0.21. If you need training scores, please set return_train_score=True\n",
      "  warnings.warn(*warn_args, **warn_kwargs)\n",
      "C:\\Users\\katri\\Anaconda3\\lib\\site-packages\\sklearn\\utils\\deprecation.py:122: FutureWarning: You are accessing a training score ('std_train_score'), which will not be available by default any more in 0.21. If you need training scores, please set return_train_score=True\n",
      "  warnings.warn(*warn_args, **warn_kwargs)\n"
     ]
    },
    {
     "data": {
      "text/plain": [
       "{'mean_fit_time': array([ 8.52955995,  9.65196333,  8.51472673,  8.61094499,  7.41829271]),\n",
       " 'mean_score_time': array([ 0.00406713,  0.00437727,  0.00480175,  0.00417905,  0.00366006]),\n",
       " 'mean_test_score': array([ 0.81123144,  0.79675793,  0.79985697,  0.79668982,  0.80224084]),\n",
       " 'mean_train_score': array([ 0.8116402 ,  0.79824831,  0.80064919,  0.79628977,  0.8042329 ]),\n",
       " 'param_C': masked_array(data = [0.1 0.2 0.5 0.75 1],\n",
       "              mask = [False False False False False],\n",
       "        fill_value = ?),\n",
       " 'params': [{'C': 0.1}, {'C': 0.2}, {'C': 0.5}, {'C': 0.75}, {'C': 1}],\n",
       " 'rank_test_score': array([1, 4, 3, 5, 2]),\n",
       " 'split0_test_score': array([ 0.81392577,  0.81273408,  0.81716037,  0.81375553,  0.78651685]),\n",
       " 'split0_train_score': array([ 0.81715624,  0.81328225,  0.81698595,  0.80966369,  0.78957003]),\n",
       " 'split1_test_score': array([ 0.81545795,  0.8123936 ,  0.81103166,  0.78719782,  0.81086142]),\n",
       " 'split1_train_score': array([ 0.81204768,  0.81017454,  0.8100894 ,  0.78859089,  0.80851426]),\n",
       " 'split2_test_score': array([ 0.80262262,  0.79802452,  0.79955722,  0.79887602,  0.80160082]),\n",
       " 'split2_train_score': array([ 0.81010557,  0.8046569 ,  0.80414609,  0.80631704,  0.81095692]),\n",
       " 'split3_test_score': array([ 0.8102861 ,  0.80466621,  0.76158038,  0.79104223,  0.80364441]),\n",
       " 'split3_train_score': array([ 0.81044611,  0.80372042,  0.76787843,  0.78963051,  0.80406096]),\n",
       " 'split4_test_score': array([ 0.8138624 ,  0.75596049,  0.8099455 ,  0.79257493,  0.80858311]),\n",
       " 'split4_train_score': array([ 0.80844543,  0.75940746,  0.80414609,  0.78724672,  0.80806232]),\n",
       " 'std_fit_time': array([ 0.29422896,  1.2050785 ,  0.09754907,  0.11533236,  1.52107877]),\n",
       " 'std_score_time': array([ 0.00048644,  0.00037639,  0.00068222,  0.00068285,  0.00178232]),\n",
       " 'std_test_score': array([ 0.00462697,  0.02110997,  0.01995555,  0.00932753,  0.00853489]),\n",
       " 'std_train_score': array([ 0.00298597,  0.01973768,  0.01705513,  0.00964161,  0.00765815])}"
      ]
     },
     "execution_count": 65,
     "metadata": {},
     "output_type": "execute_result"
    }
   ],
   "source": [
    "SVM_C3.cv_results_"
   ]
  },
  {
   "cell_type": "markdown",
   "metadata": {},
   "source": [
    "C = 0.1 again results in the best accuracy."
   ]
  },
  {
   "cell_type": "code",
   "execution_count": 66,
   "metadata": {},
   "outputs": [
    {
     "data": {
      "text/plain": [
       "array([ 0.81392577,  0.81545795,  0.80262262,  0.8102861 ,  0.8138624 ])"
      ]
     },
     "execution_count": 66,
     "metadata": {},
     "output_type": "execute_result"
    }
   ],
   "source": [
    "SVM1_best = svm.LinearSVC(random_state=3003, C=0.1)\n",
    "scores1_best = cross_val_score(SVM1_best, Xs_train, ys_train['Comment_Y'], cv=5)\n",
    "scores1_best"
   ]
  },
  {
   "cell_type": "code",
   "execution_count": 67,
   "metadata": {},
   "outputs": [
    {
     "name": "stdout",
     "output_type": "stream",
     "text": [
      "CV Accuracy for Optimal SVM (Linear):  81.12 %\n"
     ]
    }
   ],
   "source": [
    "print(\"CV Accuracy for Optimal SVM (Linear): \", (round(scores1_best.mean(), 4)*100), \"%\")"
   ]
  },
  {
   "cell_type": "code",
   "execution_count": 68,
   "metadata": {
    "collapsed": true
   },
   "outputs": [],
   "source": [
    "###stopped here"
   ]
  },
  {
   "cell_type": "code",
   "execution_count": 69,
   "metadata": {
    "collapsed": true
   },
   "outputs": [],
   "source": [
    "##y_pred_SVM_best = SVM1_best.predict(X_train)"
   ]
  },
  {
   "cell_type": "code",
   "execution_count": 70,
   "metadata": {
    "collapsed": true
   },
   "outputs": [],
   "source": [
    "##print(classification_report(y_train,Y_pred_SVM_best))"
   ]
  },
  {
   "cell_type": "markdown",
   "metadata": {},
   "source": [
    "#### Sigmoid kernel"
   ]
  },
  {
   "cell_type": "markdown",
   "metadata": {},
   "source": [
    "It doesn't look like the data fits the sigmoid function. Performance worsened significantly."
   ]
  },
  {
   "cell_type": "code",
   "execution_count": 71,
   "metadata": {},
   "outputs": [
    {
     "data": {
      "text/plain": [
       "array([ 0.65355805,  0.64521621,  0.64117847,  0.65122616,  0.3094346 ])"
      ]
     },
     "execution_count": 71,
     "metadata": {},
     "output_type": "execute_result"
    }
   ],
   "source": [
    "SVM2 = svm.SVC(random_state=3003, kernel = 'sigmoid')\n",
    "scores2 = cross_val_score(SVM2, Xs_train, ys_train['Comment_Y'], cv=5)\n",
    "scores2"
   ]
  },
  {
   "cell_type": "code",
   "execution_count": 72,
   "metadata": {},
   "outputs": [
    {
     "data": {
      "text/plain": [
       "0.58012269930112759"
      ]
     },
     "execution_count": 72,
     "metadata": {},
     "output_type": "execute_result"
    }
   ],
   "source": [
    "scores2.mean()"
   ]
  },
  {
   "cell_type": "markdown",
   "metadata": {},
   "source": [
    "#### Gaussian radial basis kernel"
   ]
  },
  {
   "cell_type": "code",
   "execution_count": 73,
   "metadata": {},
   "outputs": [
    {
     "data": {
      "text/plain": [
       "array([ 0.79673136,  0.79605039,  0.79308583,  0.79853542,  0.79751362])"
      ]
     },
     "execution_count": 73,
     "metadata": {},
     "output_type": "execute_result"
    }
   ],
   "source": [
    "SVM3 = svm.SVC(random_state=3003, kernel = 'rbf')\n",
    "scores3 = cross_val_score(SVM3, Xs_train, ys_train['Comment_Y'], cv=5)\n",
    "scores3"
   ]
  },
  {
   "cell_type": "code",
   "execution_count": 74,
   "metadata": {},
   "outputs": [
    {
     "data": {
      "text/plain": [
       "0.79638332549386337"
      ]
     },
     "execution_count": 74,
     "metadata": {},
     "output_type": "execute_result"
    }
   ],
   "source": [
    "scores3.mean()"
   ]
  },
  {
   "cell_type": "code",
   "execution_count": 75,
   "metadata": {},
   "outputs": [
    {
     "data": {
      "text/plain": [
       "array([ 0.78804903,  0.78413347,  0.78116485,  0.78763624,  0.78831744])"
      ]
     },
     "execution_count": 75,
     "metadata": {},
     "output_type": "execute_result"
    }
   ],
   "source": [
    "SVM4 = svm.SVC(random_state=3003, kernel = 'rbf', gamma=.001)\n",
    "scores4 = cross_val_score(SVM4, Xs_train, ys_train['Comment_Y'], cv=5)\n",
    "scores4"
   ]
  },
  {
   "cell_type": "code",
   "execution_count": 76,
   "metadata": {},
   "outputs": [
    {
     "data": {
      "text/plain": [
       "0.78586020555182912"
      ]
     },
     "execution_count": 76,
     "metadata": {},
     "output_type": "execute_result"
    }
   ],
   "source": [
    "scores4.mean()"
   ]
  },
  {
   "cell_type": "code",
   "execution_count": 77,
   "metadata": {},
   "outputs": [
    {
     "data": {
      "text/plain": [
       "array([ 0.79945523,  0.79945523,  0.79274523,  0.80126022,  0.80177112])"
      ]
     },
     "execution_count": 77,
     "metadata": {},
     "output_type": "execute_result"
    }
   ],
   "source": [
    "SVM5 = svm.SVC(random_state=3003, kernel = 'rbf', gamma=.01)\n",
    "scores5 = cross_val_score(SVM5, Xs_train, ys_train['Comment_Y'], cv=5)\n",
    "scores5"
   ]
  },
  {
   "cell_type": "code",
   "execution_count": 78,
   "metadata": {},
   "outputs": [
    {
     "data": {
      "text/plain": [
       "0.79893740392010604"
      ]
     },
     "execution_count": 78,
     "metadata": {},
     "output_type": "execute_result"
    }
   ],
   "source": [
    "scores5.mean()"
   ]
  },
  {
   "cell_type": "code",
   "execution_count": 79,
   "metadata": {},
   "outputs": [
    {
     "data": {
      "text/plain": [
       "array([ 0.78413347,  0.7834525 ,  0.77861035,  0.78848774,  0.79036104])"
      ]
     },
     "execution_count": 79,
     "metadata": {},
     "output_type": "execute_result"
    }
   ],
   "source": [
    "SVM6 = svm.SVC(random_state=3003, kernel = 'rbf', gamma=.1)\n",
    "scores6 = cross_val_score(SVM6, Xs_train, ys_train['Comment_Y'], cv=5)\n",
    "scores6"
   ]
  },
  {
   "cell_type": "code",
   "execution_count": 80,
   "metadata": {},
   "outputs": [
    {
     "data": {
      "text/plain": [
       "0.78500902002914985"
      ]
     },
     "execution_count": 80,
     "metadata": {},
     "output_type": "execute_result"
    }
   ],
   "source": [
    "scores6.mean()"
   ]
  },
  {
   "cell_type": "markdown",
   "metadata": {
    "collapsed": true
   },
   "source": [
    "#### Summary of SVM results"
   ]
  },
  {
   "cell_type": "code",
   "execution_count": 81,
   "metadata": {
    "collapsed": true
   },
   "outputs": [],
   "source": [
    "functs = ['Linear', 'Logistic', 'Radial Basis']"
   ]
  },
  {
   "cell_type": "code",
   "execution_count": 82,
   "metadata": {
    "collapsed": true
   },
   "outputs": [],
   "source": [
    "res = [scores1.mean(), scores2.mean(), scores3.mean()]"
   ]
  },
  {
   "cell_type": "code",
   "execution_count": 83,
   "metadata": {},
   "outputs": [
    {
     "data": {
      "text/plain": [
       "Text(0.5,1,'Baseline of Accuracy by Kernel Type')"
      ]
     },
     "execution_count": 83,
     "metadata": {},
     "output_type": "execute_result"
    },
    {
     "data": {
      "image/png": "[encoded data removed]",
      "text/plain": [
       "<matplotlib.figure.Figure at 0x1fcd6ce8160>"
      ]
     },
     "metadata": {},
     "output_type": "display_data"
    }
   ],
   "source": [
    "plt.bar(functs, res)\n",
    "plt.title('Baseline of Accuracy by Kernel Type', fontsize = 18)"
   ]
  },
  {
   "cell_type": "code",
   "execution_count": 84,
   "metadata": {
    "collapsed": true
   },
   "outputs": [],
   "source": [
    "functs_rbf = ['gamma=.001', 'gamma=.01', 'gamma=.1']"
   ]
  },
  {
   "cell_type": "code",
   "execution_count": 85,
   "metadata": {
    "collapsed": true
   },
   "outputs": [],
   "source": [
    "res_rbf = [scores4.mean(), scores5.mean(), scores6.mean()]"
   ]
  },
  {
   "cell_type": "code",
   "execution_count": 86,
   "metadata": {},
   "outputs": [
    {
     "data": {
      "text/plain": [
       "Text(0.5,1,'Performance of Gaussian RBF by gamma')"
      ]
     },
     "execution_count": 86,
     "metadata": {},
     "output_type": "execute_result"
    },
    {
     "data": {
      "image/png": "[encoded data removed]",
      "text/plain": [
       "<matplotlib.figure.Figure at 0x1fcd6cfc7f0>"
      ]
     },
     "metadata": {},
     "output_type": "display_data"
    }
   ],
   "source": [
    "plt.bar(functs_rbf, res_rbf)\n",
    "plt.title('Performance of Gaussian RBF by gamma', fontsize = 18)"
   ]
  },
  {
   "cell_type": "markdown",
   "metadata": {},
   "source": [
    "## Decision Trees"
   ]
  },
  {
   "cell_type": "markdown",
   "metadata": {},
   "source": [
    "First, run the baseline model and read the default parameters for ideas about further testing."
   ]
  },
  {
   "cell_type": "code",
   "execution_count": 87,
   "metadata": {},
   "outputs": [
    {
     "data": {
      "text/plain": [
       "array([ 0.76625809,  0.75553286,  0.76362398,  0.75834469,  0.76822207])"
      ]
     },
     "execution_count": 87,
     "metadata": {},
     "output_type": "execute_result"
    }
   ],
   "source": [
    "DTC = tree.DecisionTreeClassifier()\n",
    "scoresDT1 = cross_val_score(DTC, Xs_train, ys_train['Comment_Y'], cv=5)\n",
    "scoresDT1"
   ]
  },
  {
   "cell_type": "code",
   "execution_count": 88,
   "metadata": {},
   "outputs": [
    {
     "data": {
      "text/plain": [
       "0.7623963357668162"
      ]
     },
     "execution_count": 88,
     "metadata": {},
     "output_type": "execute_result"
    }
   ],
   "source": [
    "scoresDT1.mean()"
   ]
  },
  {
   "cell_type": "code",
   "execution_count": 89,
   "metadata": {},
   "outputs": [
    {
     "data": {
      "text/plain": [
       "DecisionTreeClassifier(class_weight=None, criterion='gini', max_depth=None,\n",
       "            max_features=None, max_leaf_nodes=None,\n",
       "            min_impurity_decrease=0.0, min_impurity_split=None,\n",
       "            min_samples_leaf=1, min_samples_split=2,\n",
       "            min_weight_fraction_leaf=0.0, presort=False, random_state=None,\n",
       "            splitter='best')"
      ]
     },
     "execution_count": 89,
     "metadata": {},
     "output_type": "execute_result"
    }
   ],
   "source": [
    "DTC"
   ]
  },
  {
   "cell_type": "markdown",
   "metadata": {},
   "source": [
    "Test and see if entropy yields better results than gini."
   ]
  },
  {
   "cell_type": "code",
   "execution_count": 90,
   "metadata": {},
   "outputs": [
    {
     "data": {
      "text/plain": [
       "array([ 0.77238679,  0.76898195,  0.76907357,  0.77435286,  0.76651907])"
      ]
     },
     "execution_count": 90,
     "metadata": {},
     "output_type": "execute_result"
    }
   ],
   "source": [
    "### try switching from gini index to information gain\n",
    "DTC2 = tree.DecisionTreeClassifier(criterion='entropy')\n",
    "scoresDT2 = cross_val_score(DTC2, Xs_train, ys_train['Comment_Y'], cv=5)\n",
    "scoresDT2"
   ]
  },
  {
   "cell_type": "code",
   "execution_count": 91,
   "metadata": {},
   "outputs": [
    {
     "data": {
      "text/plain": [
       "0.77026284954062552"
      ]
     },
     "execution_count": 91,
     "metadata": {},
     "output_type": "execute_result"
    }
   ],
   "source": [
    "scoresDT2.mean()"
   ]
  },
  {
   "cell_type": "code",
   "execution_count": 92,
   "metadata": {},
   "outputs": [
    {
     "data": {
      "text/plain": [
       "Text(0.5,0,'Fold')"
      ]
     },
     "execution_count": 92,
     "metadata": {},
     "output_type": "execute_result"
    },
    {
     "data": {
      "image/png": "[encoded data removed]",
      "text/plain": [
       "<matplotlib.figure.Figure at 0x1fcd6cf0f60>"
      ]
     },
     "metadata": {},
     "output_type": "display_data"
    }
   ],
   "source": [
    "scoresDT1 = pd.Series(scoresDT1)\n",
    "scoresDT2 = pd.Series(scoresDT2)\n",
    "\n",
    "fig, ax1 = plt.subplots(figsize=(8,6))\n",
    "ax1 = plt.subplot(111)\n",
    "ax2 = ax1.twinx()\n",
    "\n",
    "ax1 = scoresDT1.plot(kind='bar', color='b', ax=ax1, width=0.2, position=1)\n",
    "ax2 = scoresDT2.plot(kind='bar', color='g', ax=ax2, width=0.2, position=0)\n",
    "\n",
    "ax1.set_title(\"Accuracy by Criterion\", fontsize=18)\n",
    "ax1.set_ylabel(\"Decision Tree- Gini\", fontsize=14, color='b')\n",
    "ax2.set_ylabel(\"Decision Tree- Entropy\", fontsize=14, color='g')\n",
    "ax1.set_xlabel(\"Fold\", fontsize=14)"
   ]
  },
  {
   "cell_type": "markdown",
   "metadata": {
    "collapsed": true
   },
   "source": [
    "Experiment with max depth."
   ]
  },
  {
   "cell_type": "code",
   "execution_count": 93,
   "metadata": {
    "collapsed": true
   },
   "outputs": [],
   "source": [
    "m_depth = np.array(range(1,31))"
   ]
  },
  {
   "cell_type": "code",
   "execution_count": 94,
   "metadata": {},
   "outputs": [
    {
     "data": {
      "text/plain": [
       "{'max_depth': array([ 1,  2,  3,  4,  5,  6,  7,  8,  9, 10, 11, 12, 13, 14, 15, 16, 17,\n",
       "        18, 19, 20, 21, 22, 23, 24, 25, 26, 27, 28, 29, 30])}"
      ]
     },
     "execution_count": 94,
     "metadata": {},
     "output_type": "execute_result"
    }
   ],
   "source": [
    "param_grid = dict(max_depth = m_depth)\n",
    "param_grid"
   ]
  },
  {
   "cell_type": "code",
   "execution_count": 95,
   "metadata": {
    "collapsed": true
   },
   "outputs": [],
   "source": [
    "DTC3 = GridSearchCV(DTC2, param_grid, cv=5)"
   ]
  },
  {
   "cell_type": "code",
   "execution_count": 96,
   "metadata": {},
   "outputs": [
    {
     "data": {
      "text/plain": [
       "GridSearchCV(cv=5, error_score='raise',\n",
       "       estimator=DecisionTreeClassifier(class_weight=None, criterion='entropy', max_depth=None,\n",
       "            max_features=None, max_leaf_nodes=None,\n",
       "            min_impurity_decrease=0.0, min_impurity_split=None,\n",
       "            min_samples_leaf=1, min_samples_split=2,\n",
       "            min_weight_fraction_leaf=0.0, presort=False, random_state=None,\n",
       "            splitter='best'),\n",
       "       fit_params=None, iid=True, n_jobs=1,\n",
       "       param_grid={'max_depth': array([ 1,  2,  3,  4,  5,  6,  7,  8,  9, 10, 11, 12, 13, 14, 15, 16, 17,\n",
       "       18, 19, 20, 21, 22, 23, 24, 25, 26, 27, 28, 29, 30])},\n",
       "       pre_dispatch='2*n_jobs', refit=True, return_train_score='warn',\n",
       "       scoring=None, verbose=0)"
      ]
     },
     "execution_count": 96,
     "metadata": {},
     "output_type": "execute_result"
    }
   ],
   "source": [
    "DTC3.fit(Xs_train, ys_train)"
   ]
  },
  {
   "cell_type": "code",
   "execution_count": 97,
   "metadata": {},
   "outputs": [
    {
     "name": "stderr",
     "output_type": "stream",
     "text": [
      "C:\\Users\\katri\\Anaconda3\\lib\\site-packages\\sklearn\\utils\\deprecation.py:122: FutureWarning: You are accessing a training score ('mean_train_score'), which will not be available by default any more in 0.21. If you need training scores, please set return_train_score=True\n",
      "  warnings.warn(*warn_args, **warn_kwargs)\n",
      "C:\\Users\\katri\\Anaconda3\\lib\\site-packages\\sklearn\\utils\\deprecation.py:122: FutureWarning: You are accessing a training score ('split0_train_score'), which will not be available by default any more in 0.21. If you need training scores, please set return_train_score=True\n",
      "  warnings.warn(*warn_args, **warn_kwargs)\n",
      "C:\\Users\\katri\\Anaconda3\\lib\\site-packages\\sklearn\\utils\\deprecation.py:122: FutureWarning: You are accessing a training score ('split1_train_score'), which will not be available by default any more in 0.21. If you need training scores, please set return_train_score=True\n",
      "  warnings.warn(*warn_args, **warn_kwargs)\n",
      "C:\\Users\\katri\\Anaconda3\\lib\\site-packages\\sklearn\\utils\\deprecation.py:122: FutureWarning: You are accessing a training score ('split2_train_score'), which will not be available by default any more in 0.21. If you need training scores, please set return_train_score=True\n",
      "  warnings.warn(*warn_args, **warn_kwargs)\n",
      "C:\\Users\\katri\\Anaconda3\\lib\\site-packages\\sklearn\\utils\\deprecation.py:122: FutureWarning: You are accessing a training score ('split3_train_score'), which will not be available by default any more in 0.21. If you need training scores, please set return_train_score=True\n",
      "  warnings.warn(*warn_args, **warn_kwargs)\n",
      "C:\\Users\\katri\\Anaconda3\\lib\\site-packages\\sklearn\\utils\\deprecation.py:122: FutureWarning: You are accessing a training score ('split4_train_score'), which will not be available by default any more in 0.21. If you need training scores, please set return_train_score=True\n",
      "  warnings.warn(*warn_args, **warn_kwargs)\n",
      "C:\\Users\\katri\\Anaconda3\\lib\\site-packages\\sklearn\\utils\\deprecation.py:122: FutureWarning: You are accessing a training score ('std_train_score'), which will not be available by default any more in 0.21. If you need training scores, please set return_train_score=True\n",
      "  warnings.warn(*warn_args, **warn_kwargs)\n"
     ]
    },
    {
     "data": {
      "text/plain": [
       "{'mean_fit_time': array([ 0.04702187,  0.08035135,  0.1096971 ,  0.14086499,  0.17221279,\n",
       "         0.20891404,  0.28067293,  0.27651782,  0.29710436,  0.36505618,\n",
       "         0.35808625,  0.38827062,  0.43995214,  0.42546411,  0.48568506,\n",
       "         0.47596931,  0.52080016,  0.51038389,  0.53944826,  0.53062119,\n",
       "         0.5644486 ,  0.53261776,  0.58061213,  0.52873626,  0.59692826,\n",
       "         0.58656912,  0.59807072,  0.55829821,  0.59270048,  0.5704318 ]),\n",
       " 'mean_score_time': array([ 0.00318131,  0.00397496,  0.00386925,  0.00413408,  0.00398116,\n",
       "         0.00407481,  0.00462694,  0.00431771,  0.00427942,  0.00527163,\n",
       "         0.00479503,  0.00456762,  0.00550346,  0.00498314,  0.00585227,\n",
       "         0.00526156,  0.00556774,  0.00517235,  0.00526485,  0.00526576,\n",
       "         0.00555611,  0.0053575 ,  0.00555468,  0.00570254,  0.00642776,\n",
       "         0.00565529,  0.0056673 ,  0.00537581,  0.00605493,  0.00602202]),\n",
       " 'mean_test_score': array([ 0.80656586,  0.80809835,  0.82597739,  0.82727149,  0.82849748,\n",
       "         0.83057485,  0.8296213 ,  0.82836126,  0.82621577,  0.82338918,\n",
       "         0.81957499,  0.81579485,  0.81150388,  0.80758752,  0.80220678,\n",
       "         0.79880125,  0.79522545,  0.79185397,  0.78718839,  0.78558779,\n",
       "         0.7817736 ,  0.7785724 ,  0.77755074,  0.77520093,  0.77383871,\n",
       "         0.77390682,  0.77223811,  0.77060346,  0.77005858,  0.77077374]),\n",
       " 'mean_train_score': array([ 0.80656586,  0.80897519,  0.82613917,  0.82854858,  0.83267775,\n",
       "         0.83715605,  0.84120864,  0.84635949,  0.8524554 ,  0.86045839,\n",
       "         0.86951711,  0.87953787,  0.89019716,  0.90142689,  0.91200103,\n",
       "         0.92232829,  0.93273221,  0.94231026,  0.95117317,  0.95889522,\n",
       "         0.96660873,  0.97270463,  0.97821307,  0.98247852,  0.98604581,\n",
       "         0.98932363,  0.99178414,  0.99338474,  0.99497682,  0.99655189]),\n",
       " 'param_max_depth': masked_array(data = [1 2 3 4 5 6 7 8 9 10 11 12 13 14 15 16 17 18 19 20 21 22 23 24 25 26 27 28\n",
       "  29 30],\n",
       "              mask = [False False False False False False False False False False False False\n",
       "  False False False False False False False False False False False False\n",
       "  False False False False False False],\n",
       "        fill_value = ?),\n",
       " 'params': [{'max_depth': 1},\n",
       "  {'max_depth': 2},\n",
       "  {'max_depth': 3},\n",
       "  {'max_depth': 4},\n",
       "  {'max_depth': 5},\n",
       "  {'max_depth': 6},\n",
       "  {'max_depth': 7},\n",
       "  {'max_depth': 8},\n",
       "  {'max_depth': 9},\n",
       "  {'max_depth': 10},\n",
       "  {'max_depth': 11},\n",
       "  {'max_depth': 12},\n",
       "  {'max_depth': 13},\n",
       "  {'max_depth': 14},\n",
       "  {'max_depth': 15},\n",
       "  {'max_depth': 16},\n",
       "  {'max_depth': 17},\n",
       "  {'max_depth': 18},\n",
       "  {'max_depth': 19},\n",
       "  {'max_depth': 20},\n",
       "  {'max_depth': 21},\n",
       "  {'max_depth': 22},\n",
       "  {'max_depth': 23},\n",
       "  {'max_depth': 24},\n",
       "  {'max_depth': 25},\n",
       "  {'max_depth': 26},\n",
       "  {'max_depth': 27},\n",
       "  {'max_depth': 28},\n",
       "  {'max_depth': 29},\n",
       "  {'max_depth': 30}],\n",
       " 'rank_test_score': array([14, 12,  7,  5,  3,  1,  2,  4,  6,  8,  9, 10, 11, 13, 15, 16, 17,\n",
       "        18, 19, 20, 21, 22, 23, 24, 26, 25, 27, 29, 30, 28]),\n",
       " 'split0_test_score': array([ 0.80660538,  0.80660538,  0.82720463,  0.82839632,  0.82924753,\n",
       "         0.82958801,  0.82907729,  0.82686415,  0.82737487,  0.82431052,\n",
       "         0.82294859,  0.81869254,  0.81716037,  0.81188287,  0.80592441,\n",
       "         0.80115764,  0.79911474,  0.79179435,  0.78617637,  0.7834525 ,\n",
       "         0.77902622,  0.77545114,  0.77834525,  0.7773238 ,  0.77068437,\n",
       "         0.77221655,  0.7691522 ,  0.773238  ,  0.77034389,  0.77034389]),\n",
       " 'split0_train_score': array([ 0.80655598,  0.80655598,  0.82716049,  0.82882077,  0.83239676,\n",
       "         0.83793103,  0.84206045,  0.84738186,  0.85376756,  0.86151554,\n",
       "         0.87134951,  0.88165177,  0.89318859,  0.90472542,  0.91502767,\n",
       "         0.92550021,  0.93750532,  0.94648787,  0.95555556,  0.9633461 ,\n",
       "         0.97045551,  0.97705407,  0.98194977,  0.9850149 ,  0.98773946,\n",
       "         0.99033631,  0.99369945,  0.99395487,  0.99535973,  0.99744572]),\n",
       " 'split1_test_score': array([ 0.80677562,  0.80677562,  0.82975826,  0.82873681,  0.83129043,\n",
       "         0.83265237,  0.83282261,  0.83180116,  0.83060947,  0.82601294,\n",
       "         0.81869254,  0.81784133,  0.81511747,  0.81137215,  0.80575417,\n",
       "         0.80694586,  0.79622063,  0.79622063,  0.79026217,  0.78702758,\n",
       "         0.78396323,  0.78498468,  0.7793667 ,  0.77221655,  0.77068437,\n",
       "         0.77579162,  0.77204631,  0.77374872,  0.77204631,  0.77187606]),\n",
       " 'split1_train_score': array([ 0.80651341,  0.80651341,  0.82652192,  0.82899106,  0.83209877,\n",
       "         0.83707961,  0.84133674,  0.84529587,  0.85189442,  0.85972754,\n",
       "         0.86845466,  0.87722435,  0.88616433,  0.89655172,  0.90523627,\n",
       "         0.91502767,  0.92528736,  0.9351639 ,  0.94491273,  0.95270328,\n",
       "         0.96028097,  0.96577267,  0.97186037,  0.97871435,  0.98241805,\n",
       "         0.9862069 ,  0.98910175,  0.99174117,  0.99314602,  0.99531716]),\n",
       " 'split2_test_score': array([ 0.80568801,  0.8133515 ,  0.82016349,  0.82493188,  0.82782698,\n",
       "         0.83072207,  0.82901907,  0.82782698,  0.82595368,  0.82459128,\n",
       "         0.81743869,  0.8138624 ,  0.8118188 ,  0.80500681,  0.80074932,\n",
       "         0.79223433,  0.79019074,  0.78831744,  0.78354905,  0.78235695,\n",
       "         0.77861035,  0.77350136,  0.77401226,  0.77452316,  0.77247956,\n",
       "         0.77230926,  0.77486376,  0.76822207,  0.76822207,  0.77111717]),\n",
       " 'split2_train_score': array([ 0.80678529,  0.81883194,  0.82321641,  0.82772859,  0.83441171,\n",
       "         0.83717861,  0.84045633,  0.84488336,  0.85054487,  0.85999489,\n",
       "         0.86940235,  0.88046995,  0.88970713,  0.90264771,  0.91311936,\n",
       "         0.92563426,  0.93606334,  0.94593904,  0.95530393,  0.96368977,\n",
       "         0.97199046,  0.97846075,  0.98356887,  0.98803848,  0.99123106,\n",
       "         0.99399796,  0.99553039,  0.99663715,  0.99791418,  0.99906351]),\n",
       " 'split3_test_score': array([ 0.80619891,  0.80619891,  0.82782698,  0.82663488,  0.82595368,\n",
       "         0.83140327,  0.82918937,  0.82646458,  0.82050409,  0.81846049,\n",
       "         0.81675749,  0.8111376 ,  0.80602861,  0.80534741,  0.80126022,\n",
       "         0.79581063,  0.79223433,  0.79087193,  0.78916894,  0.78627384,\n",
       "         0.78576294,  0.77844005,  0.77809946,  0.77724796,  0.78031335,\n",
       "         0.77639646,  0.77861035,  0.77247956,  0.77316076,  0.77162807]),\n",
       " 'split3_train_score': array([ 0.80665759,  0.80665759,  0.82730291,  0.82764345,  0.83109144,\n",
       "         0.83602929,  0.83969011,  0.84701175,  0.85250298,  0.86059084,\n",
       "         0.86931721,  0.879874  ,  0.89123957,  0.90085987,  0.91286395,\n",
       "         0.92316533,  0.93312617,  0.9428316 ,  0.94972757,  0.95704921,\n",
       "         0.96539247,  0.97033033,  0.97535331,  0.97875873,  0.9832709 ,\n",
       "         0.98765537,  0.9903797 ,  0.99255066,  0.99489188,  0.99608377]),\n",
       " 'split4_test_score': array([ 0.80756131,  0.80756131,  0.82493188,  0.82765668,  0.82816757,\n",
       "         0.82850817,  0.82799728,  0.82884877,  0.82663488,  0.82356948,\n",
       "         0.82203678,  0.81743869,  0.80739101,  0.80432561,  0.79734332,\n",
       "         0.79785422,  0.79836512,  0.79206403,  0.78678474,  0.78882834,\n",
       "         0.78150545,  0.78048365,  0.77792916,  0.77469346,  0.77503406,\n",
       "         0.77282016,  0.76651907,  0.76532698,  0.76651907,  0.76890327]),\n",
       " 'split4_train_score': array([ 0.80631704,  0.80631704,  0.82649413,  0.829559  ,  0.83339009,\n",
       "         0.83756172,  0.84249957,  0.84722459,  0.85356717,  0.86046314,\n",
       "         0.86906181,  0.87846927,  0.89068619,  0.90234974,  0.91375788,\n",
       "         0.92231398,  0.93167887,  0.94112889,  0.95036608,  0.95768772,\n",
       "         0.96492423,  0.97190533,  0.97833305,  0.98186617,  0.98556956,\n",
       "         0.98842159,  0.99020943,  0.99203984,  0.99357228,  0.99484931]),\n",
       " 'std_fit_time': array([ 0.00543743,  0.00390565,  0.00087006,  0.00083105,  0.00138142,\n",
       "         0.00361041,  0.02879802,  0.01063831,  0.00470366,  0.04355458,\n",
       "         0.00624775,  0.00431907,  0.05354176,  0.00729297,  0.04680569,\n",
       "         0.01214963,  0.05972081,  0.01263688,  0.05318681,  0.0094382 ,\n",
       "         0.05564767,  0.01303434,  0.10362784,  0.02876408,  0.04994623,\n",
       "         0.02962458,  0.0517991 ,  0.01127146,  0.04604052,  0.02528415]),\n",
       " 'std_score_time': array([  5.98376956e-04,   3.13914704e-04,   1.98578913e-04,\n",
       "          2.00205497e-04,   3.03939064e-04,   2.11358736e-04,\n",
       "          1.11912875e-03,   4.28024487e-04,   5.15971681e-04,\n",
       "          5.94736135e-04,   2.09848899e-04,   7.96245940e-04,\n",
       "          6.57173356e-04,   1.18514900e-05,   1.10460086e-03,\n",
       "          2.46543837e-04,   7.23423518e-04,   3.90407773e-04,\n",
       "          2.49042539e-04,   2.34714023e-04,   4.84724872e-04,\n",
       "          2.15414584e-04,   4.86139821e-04,   5.07922733e-04,\n",
       "          8.03600140e-04,   3.96610206e-04,   9.12114161e-04,\n",
       "          1.92041120e-04,   1.22635787e-03,   9.19331621e-04]),\n",
       " 'std_test_score': array([ 0.00062314,  0.00266334,  0.00328982,  0.00137402,  0.00175461,\n",
       "         0.00143314,  0.00165727,  0.00190773,  0.00327156,  0.00258846,\n",
       "         0.0024788 ,  0.00285342,  0.00429069,  0.0033195 ,  0.00325822,\n",
       "         0.0049972 ,  0.0034718 ,  0.002553  ,  0.00235807,  0.00236817,\n",
       "         0.00276891,  0.00400629,  0.0018381 ,  0.00191428,  0.00360818,\n",
       "         0.0018078 ,  0.00423692,  0.00328219,  0.00243122,  0.00107201]),\n",
       " 'std_train_score': array([ 0.00015577,  0.00492962,  0.00149749,  0.00074598,  0.00113531,\n",
       "         0.00063892,  0.00102766,  0.0010516 ,  0.00117685,  0.00061386,\n",
       "         0.00097436,  0.00154561,  0.00231423,  0.00273171,  0.00346423,\n",
       "         0.00387274,  0.00425605,  0.0040831 ,  0.00395481,  0.00414738,\n",
       "         0.00419805,  0.00461257,  0.00427076,  0.00362567,  0.00318882,\n",
       "         0.00269019,  0.00242282,  0.00179494,  0.00167967,  0.00153295])}"
      ]
     },
     "execution_count": 97,
     "metadata": {},
     "output_type": "execute_result"
    }
   ],
   "source": [
    "DTC3.cv_results_"
   ]
  },
  {
   "cell_type": "markdown",
   "metadata": {},
   "source": [
    "It looks like the best performance is with depat @~6 so there was definitely overfitting going on previously."
   ]
  },
  {
   "cell_type": "code",
   "execution_count": 98,
   "metadata": {
    "collapsed": true
   },
   "outputs": [],
   "source": [
    "DTC3_mean_scores = DTC3.cv_results_['mean_test_score']"
   ]
  },
  {
   "cell_type": "code",
   "execution_count": 99,
   "metadata": {},
   "outputs": [
    {
     "data": {
      "text/plain": [
       "Text(0.5,1,'Accuracy at Max Depth- Model DTC-3')"
      ]
     },
     "execution_count": 99,
     "metadata": {},
     "output_type": "execute_result"
    },
    {
     "data": {
      "image/png": "[encoded data removed]",
      "text/plain": [
       "<matplotlib.figure.Figure at 0x1fcd6d165c0>"
      ]
     },
     "metadata": {},
     "output_type": "display_data"
    }
   ],
   "source": [
    "plt.plot(m_depth, DTC3_mean_scores, color='b')\n",
    "plt.xlabel('Value Assigned to Max Depth', fontsize=14, color='b')\n",
    "plt.ylabel('CV Mean Accuracy', fontsize=14, color='b')\n",
    "plt.title('Accuracy at Max Depth- Model DTC-3', fontsize=18, color='b')"
   ]
  },
  {
   "cell_type": "markdown",
   "metadata": {},
   "source": [
    "Also testing with min_leaf_samples since this is another method for pruning DecisionTreeClassifier.\n",
    "<br> Here I first tested max leafs 1:101 by 5. Since performance was improving, I tried 1:1001 by 51.\n",
    "<br> I finally settled on a search of 1:201 by 10."
   ]
  },
  {
   "cell_type": "code",
   "execution_count": 100,
   "metadata": {
    "collapsed": true
   },
   "outputs": [],
   "source": [
    "leafs = np.array(range(1,202,10))"
   ]
  },
  {
   "cell_type": "code",
   "execution_count": 101,
   "metadata": {},
   "outputs": [
    {
     "data": {
      "text/plain": [
       "{'min_samples_leaf': array([  1,  11,  21,  31,  41,  51,  61,  71,  81,  91, 101, 111, 121,\n",
       "        131, 141, 151, 161, 171, 181, 191, 201])}"
      ]
     },
     "execution_count": 101,
     "metadata": {},
     "output_type": "execute_result"
    }
   ],
   "source": [
    "param_grid = dict(min_samples_leaf = leafs)\n",
    "param_grid"
   ]
  },
  {
   "cell_type": "code",
   "execution_count": 102,
   "metadata": {
    "collapsed": true
   },
   "outputs": [],
   "source": [
    "DTC4 = GridSearchCV(DTC2, param_grid, cv=5)"
   ]
  },
  {
   "cell_type": "code",
   "execution_count": 103,
   "metadata": {},
   "outputs": [
    {
     "data": {
      "text/plain": [
       "GridSearchCV(cv=5, error_score='raise',\n",
       "       estimator=DecisionTreeClassifier(class_weight=None, criterion='entropy', max_depth=None,\n",
       "            max_features=None, max_leaf_nodes=None,\n",
       "            min_impurity_decrease=0.0, min_impurity_split=None,\n",
       "            min_samples_leaf=1, min_samples_split=2,\n",
       "            min_weight_fraction_leaf=0.0, presort=False, random_state=None,\n",
       "            splitter='best'),\n",
       "       fit_params=None, iid=True, n_jobs=1,\n",
       "       param_grid={'min_samples_leaf': array([  1,  11,  21,  31,  41,  51,  61,  71,  81,  91, 101, 111, 121,\n",
       "       131, 141, 151, 161, 171, 181, 191, 201])},\n",
       "       pre_dispatch='2*n_jobs', refit=True, return_train_score='warn',\n",
       "       scoring=None, verbose=0)"
      ]
     },
     "execution_count": 103,
     "metadata": {},
     "output_type": "execute_result"
    }
   ],
   "source": [
    "DTC4.fit(Xs_train, ys_train)"
   ]
  },
  {
   "cell_type": "code",
   "execution_count": 104,
   "metadata": {},
   "outputs": [
    {
     "name": "stderr",
     "output_type": "stream",
     "text": [
      "C:\\Users\\katri\\Anaconda3\\lib\\site-packages\\sklearn\\utils\\deprecation.py:122: FutureWarning: You are accessing a training score ('mean_train_score'), which will not be available by default any more in 0.21. If you need training scores, please set return_train_score=True\n",
      "  warnings.warn(*warn_args, **warn_kwargs)\n",
      "C:\\Users\\katri\\Anaconda3\\lib\\site-packages\\sklearn\\utils\\deprecation.py:122: FutureWarning: You are accessing a training score ('split0_train_score'), which will not be available by default any more in 0.21. If you need training scores, please set return_train_score=True\n",
      "  warnings.warn(*warn_args, **warn_kwargs)\n",
      "C:\\Users\\katri\\Anaconda3\\lib\\site-packages\\sklearn\\utils\\deprecation.py:122: FutureWarning: You are accessing a training score ('split1_train_score'), which will not be available by default any more in 0.21. If you need training scores, please set return_train_score=True\n",
      "  warnings.warn(*warn_args, **warn_kwargs)\n",
      "C:\\Users\\katri\\Anaconda3\\lib\\site-packages\\sklearn\\utils\\deprecation.py:122: FutureWarning: You are accessing a training score ('split2_train_score'), which will not be available by default any more in 0.21. If you need training scores, please set return_train_score=True\n",
      "  warnings.warn(*warn_args, **warn_kwargs)\n",
      "C:\\Users\\katri\\Anaconda3\\lib\\site-packages\\sklearn\\utils\\deprecation.py:122: FutureWarning: You are accessing a training score ('split3_train_score'), which will not be available by default any more in 0.21. If you need training scores, please set return_train_score=True\n",
      "  warnings.warn(*warn_args, **warn_kwargs)\n",
      "C:\\Users\\katri\\Anaconda3\\lib\\site-packages\\sklearn\\utils\\deprecation.py:122: FutureWarning: You are accessing a training score ('split4_train_score'), which will not be available by default any more in 0.21. If you need training scores, please set return_train_score=True\n",
      "  warnings.warn(*warn_args, **warn_kwargs)\n",
      "C:\\Users\\katri\\Anaconda3\\lib\\site-packages\\sklearn\\utils\\deprecation.py:122: FutureWarning: You are accessing a training score ('std_train_score'), which will not be available by default any more in 0.21. If you need training scores, please set return_train_score=True\n",
      "  warnings.warn(*warn_args, **warn_kwargs)\n"
     ]
    },
    {
     "data": {
      "text/plain": [
       "{'mean_fit_time': array([ 0.56454735,  0.47773976,  0.39600606,  0.36842146,  0.37557106,\n",
       "         0.32021832,  0.31674705,  0.3443346 ,  0.29968553,  0.29571328,\n",
       "         0.31530061,  0.28052726,  0.27230434,  0.26893854,  0.29571481,\n",
       "         0.25848689,  0.2554409 ,  0.24893932,  0.28738112,  0.26486411,\n",
       "         0.24988599]),\n",
       " 'mean_score_time': array([ 0.00576067,  0.00536451,  0.00466962,  0.0046834 ,  0.00526323,\n",
       "         0.00487437,  0.00476165,  0.0052485 ,  0.00467381,  0.00497384,\n",
       "         0.00596585,  0.00446362,  0.00466352,  0.00496092,  0.00583873,\n",
       "         0.00458307,  0.00447049,  0.00453362,  0.0050724 ,  0.00456362,\n",
       "         0.00466928]),\n",
       " 'mean_test_score': array([ 0.76913908,  0.80203651,  0.81623757,  0.82168642,  0.82454706,\n",
       "         0.82631794,  0.82621577,  0.82856559,  0.82859965,  0.82856559,\n",
       "         0.82897425,  0.83009808,  0.83098352,  0.8305408 ,  0.83020025,\n",
       "         0.83013213,  0.82951914,  0.82897425,  0.82900831,  0.82897425,\n",
       "         0.82866776]),\n",
       " 'mean_train_score': array([ 0.99997446,  0.87878013,  0.85863642,  0.85065043,  0.84644463,\n",
       "         0.84403521,  0.84225582,  0.84131931,  0.84023802,  0.83912272,\n",
       "         0.8384842 ,  0.83787119,  0.83749657,  0.83700276,  0.83657707,\n",
       "         0.83629611,  0.83577679,  0.83531706,  0.83495946,  0.83438903,\n",
       "         0.83426984]),\n",
       " 'param_min_samples_leaf': masked_array(data = [1 11 21 31 41 51 61 71 81 91 101 111 121 131 141 151 161 171 181 191 201],\n",
       "              mask = [False False False False False False False False False False False False\n",
       "  False False False False False False False False False],\n",
       "        fill_value = ?),\n",
       " 'params': [{'min_samples_leaf': 1},\n",
       "  {'min_samples_leaf': 11},\n",
       "  {'min_samples_leaf': 21},\n",
       "  {'min_samples_leaf': 31},\n",
       "  {'min_samples_leaf': 41},\n",
       "  {'min_samples_leaf': 51},\n",
       "  {'min_samples_leaf': 61},\n",
       "  {'min_samples_leaf': 71},\n",
       "  {'min_samples_leaf': 81},\n",
       "  {'min_samples_leaf': 91},\n",
       "  {'min_samples_leaf': 101},\n",
       "  {'min_samples_leaf': 111},\n",
       "  {'min_samples_leaf': 121},\n",
       "  {'min_samples_leaf': 131},\n",
       "  {'min_samples_leaf': 141},\n",
       "  {'min_samples_leaf': 151},\n",
       "  {'min_samples_leaf': 161},\n",
       "  {'min_samples_leaf': 171},\n",
       "  {'min_samples_leaf': 181},\n",
       "  {'min_samples_leaf': 191},\n",
       "  {'min_samples_leaf': 201}],\n",
       " 'rank_test_score': array([21, 20, 19, 18, 17, 15, 16, 13, 12, 13,  8,  5,  1,  2,  3,  4,  6,\n",
       "         8,  7,  8, 11]),\n",
       " 'split0_test_score': array([ 0.77051413,  0.80354103,  0.81273408,  0.82192714,  0.82482125,\n",
       "         0.82294859,  0.82414028,  0.82907729,  0.83077971,  0.83060947,\n",
       "         0.82890705,  0.83077971,  0.83026898,  0.83094995,  0.83060947,\n",
       "         0.83026898,  0.83060947,  0.83129043,  0.82924753,  0.82907729,\n",
       "         0.82907729]),\n",
       " 'split0_train_score': array([ 0.99995743,  0.8789272 ,  0.8584504 ,  0.850149  ,  0.84593444,\n",
       "         0.84333759,  0.84146445,  0.84099617,  0.8394636 ,  0.8385696 ,\n",
       "         0.83835675,  0.83742018,  0.83712218,  0.83618561,  0.83614304,\n",
       "         0.83529161,  0.83524904,  0.83550447,  0.83444019,  0.83414219,\n",
       "         0.83414219]),\n",
       " 'split1_test_score': array([ 0.7711951 ,  0.80320054,  0.8226081 ,  0.82856656,  0.8299285 ,\n",
       "         0.83009874,  0.82686415,  0.8299285 ,  0.83009874,  0.83129043,\n",
       "         0.82907729,  0.83350358,  0.83486551,  0.83214164,  0.83146067,\n",
       "         0.83214164,  0.82941777,  0.82975826,  0.83043922,  0.83043922,\n",
       "         0.83043922]),\n",
       " 'split1_train_score': array([ 1.        ,  0.87820349,  0.85836526,  0.84972329,  0.84712644,\n",
       "         0.84469987,  0.84291188,  0.84210302,  0.8394636 ,  0.83903789,\n",
       "         0.83844189,  0.83742018,  0.83669647,  0.83593018,  0.83541933,\n",
       "         0.83541933,  0.83533418,  0.83529161,  0.83465304,  0.83341848,\n",
       "         0.83341848]),\n",
       " 'split2_test_score': array([ 0.76890327,  0.80347411,  0.8128406 ,  0.81931199,  0.82169619,\n",
       "         0.82322888,  0.82731608,  0.82884877,  0.82918937,  0.82867847,\n",
       "         0.82935967,  0.82748638,  0.83038147,  0.83021117,  0.83004087,\n",
       "         0.82901907,  0.82901907,  0.82629428,  0.82629428,  0.82646458,\n",
       "         0.82629428]),\n",
       " 'split2_train_score': array([ 0.99995743,  0.87915035,  0.85859016,  0.85199217,  0.8462881 ,\n",
       "         0.84398944,  0.84203133,  0.84079687,  0.84037119,  0.83849821,\n",
       "         0.83832794,  0.83764686,  0.83777456,  0.83764686,  0.83743402,\n",
       "         0.83688064,  0.83530564,  0.83483739,  0.83483739,  0.83449685,\n",
       "         0.83415631]),\n",
       " 'split3_test_score': array([ 0.76771117,  0.80023842,  0.82067439,  0.82152589,  0.82646458,\n",
       "         0.83259537,  0.82816757,  0.82748638,  0.82731608,  0.82629428,\n",
       "         0.82867847,  0.82935967,  0.83089237,  0.83123297,  0.83123297,\n",
       "         0.83123297,  0.82987057,  0.82952997,  0.83276567,  0.83293597,\n",
       "         0.83106267]),\n",
       " 'split3_train_score': array([ 0.99995743,  0.87757534,  0.85854759,  0.85088541,  0.8464158 ,\n",
       "         0.84411715,  0.84143538,  0.84041376,  0.83977524,  0.83824281,\n",
       "         0.83756172,  0.83722118,  0.83688064,  0.83692321,  0.83696578,\n",
       "         0.83696578,  0.83636983,  0.8353482 ,  0.83513537,  0.83492253,\n",
       "         0.83466712]),\n",
       " 'split4_test_score': array([ 0.76737057,  0.79972752,  0.8123297 ,  0.81709809,  0.81982289,\n",
       "         0.82271798,  0.82459128,  0.82748638,  0.82561308,  0.82595368,\n",
       "         0.82884877,  0.82935967,  0.82850817,  0.82816757,  0.82765668,\n",
       "         0.82799728,  0.82867847,  0.82799728,  0.82629428,  0.82595368,\n",
       "         0.82646458]),\n",
       " 'split4_train_score': array([ 1.        ,  0.88004427,  0.85922867,  0.8505023 ,  0.84645837,\n",
       "         0.84403201,  0.84343606,  0.84228674,  0.84211647,  0.84126511,\n",
       "         0.83973267,  0.83964754,  0.83900902,  0.83832794,  0.83692321,\n",
       "         0.83692321,  0.83662523,  0.83560361,  0.83573131,  0.83496509,\n",
       "         0.83496509]),\n",
       " 'std_fit_time': array([ 0.00650663,  0.06537845,  0.00978326,  0.00572679,  0.03296735,\n",
       "         0.01185295,  0.00592479,  0.04203704,  0.00506035,  0.00597176,\n",
       "         0.04069958,  0.00621351,  0.00567384,  0.00714505,  0.03866388,\n",
       "         0.00137417,  0.00232588,  0.00298487,  0.02881664,  0.01295171,\n",
       "         0.00298136]),\n",
       " 'std_score_time': array([  5.08887644e-04,   5.74259220e-04,   2.37921788e-04,\n",
       "          2.53419216e-04,   1.11178992e-03,   3.75655588e-04,\n",
       "          2.55672659e-04,   8.97896592e-04,   4.02232807e-04,\n",
       "          3.03626202e-04,   1.99091775e-03,   1.27414601e-06,\n",
       "          2.42618776e-04,   3.14097439e-04,   1.63764838e-03,\n",
       "          4.89162218e-04,   3.13874944e-04,   4.31451831e-04,\n",
       "          8.00227977e-04,   3.71029116e-04,   4.09793965e-04]),\n",
       " 'std_test_score': array([ 0.00150603,  0.00168814,  0.00445777,  0.00385011,  0.00355411,\n",
       "         0.00418454,  0.00157399,  0.00095174,  0.00189287,  0.0021724 ,\n",
       "         0.00023103,  0.00199874,  0.00210147,  0.00133789,  0.00136507,\n",
       "         0.00148762,  0.0006752 ,  0.00169853,  0.00248801,  0.00257955,\n",
       "         0.00197622]),\n",
       " 'std_train_score': array([  2.08544123e-05,   8.41518111e-04,   3.06242930e-04,\n",
       "          7.73103439e-04,   3.87472898e-04,   4.32958972e-04,\n",
       "          7.96638108e-04,   7.41284017e-04,   9.95982069e-04,\n",
       "          1.10156558e-03,   7.00300544e-04,   8.98340192e-04,\n",
       "          8.39583298e-04,   8.93918474e-04,   7.11901302e-04,\n",
       "          7.69563569e-04,   5.94635158e-04,   2.64171393e-04,\n",
       "          4.48360365e-04,   5.71139278e-04,   5.28245384e-04])}"
      ]
     },
     "execution_count": 104,
     "metadata": {},
     "output_type": "execute_result"
    }
   ],
   "source": [
    "DTC4.cv_results_"
   ]
  },
  {
   "cell_type": "markdown",
   "metadata": {},
   "source": [
    "Best performance appears to be somewhere around 120."
   ]
  },
  {
   "cell_type": "code",
   "execution_count": 105,
   "metadata": {
    "collapsed": true
   },
   "outputs": [],
   "source": [
    "DTC4_mean_scores = DTC4.cv_results_['mean_test_score']"
   ]
  },
  {
   "cell_type": "code",
   "execution_count": 106,
   "metadata": {},
   "outputs": [
    {
     "data": {
      "text/plain": [
       "Text(0.5,1,'Accuracy at Min. Samples for Leaf- Model DTC-4')"
      ]
     },
     "execution_count": 106,
     "metadata": {},
     "output_type": "execute_result"
    },
    {
     "data": {
      "image/png": "[encoded data removed]",
      "text/plain": [
       "<matplotlib.figure.Figure at 0x1fcd877be80>"
      ]
     },
     "metadata": {},
     "output_type": "display_data"
    }
   ],
   "source": [
    "plt.plot(leafs, DTC4_mean_scores, color='b')\n",
    "plt.xlabel('Value Assigned to Min Samples at Leaf', fontsize=14, color='b')\n",
    "plt.ylabel('CV Mean Accuracy', fontsize=14, color='b')\n",
    "plt.title('Accuracy at Min. Samples for Leaf- Model DTC-4', fontsize=18, color='b')"
   ]
  },
  {
   "cell_type": "markdown",
   "metadata": {},
   "source": [
    "Optimization of Max Depth and Minimum Samples at the Leaf Node will be best if combined."
   ]
  },
  {
   "cell_type": "code",
   "execution_count": 107,
   "metadata": {
    "collapsed": true
   },
   "outputs": [],
   "source": [
    "param_grid = dict(max_depth = m_depth, min_samples_leaf = leafs)"
   ]
  },
  {
   "cell_type": "code",
   "execution_count": 108,
   "metadata": {},
   "outputs": [
    {
     "data": {
      "text/plain": [
       "GridSearchCV(cv=5, error_score='raise',\n",
       "       estimator=DecisionTreeClassifier(class_weight=None, criterion='entropy', max_depth=None,\n",
       "            max_features=None, max_leaf_nodes=None,\n",
       "            min_impurity_decrease=0.0, min_impurity_split=None,\n",
       "            min_samples_leaf=1, min_samples_split=2,\n",
       "            min_weight_fraction_leaf=0.0, presort=False, random_state=None,\n",
       "            splitter='best'),\n",
       "       fit_params=None, iid=True, n_jobs=1,\n",
       "       param_grid={'max_depth': array([ 1,  2,  3,  4,  5,  6,  7,  8,  9, 10, 11, 12, 13, 14, 15, 16, 17,\n",
       "       18, 19, 20, 21, 22, 23, 24, 25, 26, 27, 28, 29, 30]), 'min_samples_leaf': array([  1,  11,  21,  31,  41,  51,  61,  71,  81,  91, 101, 111, 121,\n",
       "       131, 141, 151, 161, 171, 181, 191, 201])},\n",
       "       pre_dispatch='2*n_jobs', refit=True, return_train_score='warn',\n",
       "       scoring=None, verbose=0)"
      ]
     },
     "execution_count": 108,
     "metadata": {},
     "output_type": "execute_result"
    }
   ],
   "source": [
    "DTC5 = GridSearchCV(DTC2, param_grid, cv=5)\n",
    "DTC5.fit(Xs_train, ys_train)"
   ]
  },
  {
   "cell_type": "code",
   "execution_count": 109,
   "metadata": {},
   "outputs": [
    {
     "name": "stderr",
     "output_type": "stream",
     "text": [
      "C:\\Users\\katri\\Anaconda3\\lib\\site-packages\\sklearn\\utils\\deprecation.py:122: FutureWarning: You are accessing a training score ('mean_train_score'), which will not be available by default any more in 0.21. If you need training scores, please set return_train_score=True\n",
      "  warnings.warn(*warn_args, **warn_kwargs)\n",
      "C:\\Users\\katri\\Anaconda3\\lib\\site-packages\\sklearn\\utils\\deprecation.py:122: FutureWarning: You are accessing a training score ('split0_train_score'), which will not be available by default any more in 0.21. If you need training scores, please set return_train_score=True\n",
      "  warnings.warn(*warn_args, **warn_kwargs)\n",
      "C:\\Users\\katri\\Anaconda3\\lib\\site-packages\\sklearn\\utils\\deprecation.py:122: FutureWarning: You are accessing a training score ('split1_train_score'), which will not be available by default any more in 0.21. If you need training scores, please set return_train_score=True\n",
      "  warnings.warn(*warn_args, **warn_kwargs)\n",
      "C:\\Users\\katri\\Anaconda3\\lib\\site-packages\\sklearn\\utils\\deprecation.py:122: FutureWarning: You are accessing a training score ('split2_train_score'), which will not be available by default any more in 0.21. If you need training scores, please set return_train_score=True\n",
      "  warnings.warn(*warn_args, **warn_kwargs)\n",
      "C:\\Users\\katri\\Anaconda3\\lib\\site-packages\\sklearn\\utils\\deprecation.py:122: FutureWarning: You are accessing a training score ('split3_train_score'), which will not be available by default any more in 0.21. If you need training scores, please set return_train_score=True\n",
      "  warnings.warn(*warn_args, **warn_kwargs)\n",
      "C:\\Users\\katri\\Anaconda3\\lib\\site-packages\\sklearn\\utils\\deprecation.py:122: FutureWarning: You are accessing a training score ('split4_train_score'), which will not be available by default any more in 0.21. If you need training scores, please set return_train_score=True\n",
      "  warnings.warn(*warn_args, **warn_kwargs)\n",
      "C:\\Users\\katri\\Anaconda3\\lib\\site-packages\\sklearn\\utils\\deprecation.py:122: FutureWarning: You are accessing a training score ('std_train_score'), which will not be available by default any more in 0.21. If you need training scores, please set return_train_score=True\n",
      "  warnings.warn(*warn_args, **warn_kwargs)\n"
     ]
    },
    {
     "data": {
      "text/html": [
       "<div>\n",
       "<style>\n",
       "    .dataframe thead tr:only-child th {\n",
       "        text-align: right;\n",
       "    }\n",
       "\n",
       "    .dataframe thead th {\n",
       "        text-align: left;\n",
       "    }\n",
       "\n",
       "    .dataframe tbody tr th {\n",
       "        vertical-align: top;\n",
       "    }\n",
       "</style>\n",
       "<table border=\"1\" class=\"dataframe\">\n",
       "  <thead>\n",
       "    <tr style=\"text-align: right;\">\n",
       "      <th></th>\n",
       "      <th>mean_test_score</th>\n",
       "      <th>params</th>\n",
       "    </tr>\n",
       "  </thead>\n",
       "  <tbody>\n",
       "    <tr>\n",
       "      <th>0</th>\n",
       "      <td>0.806566</td>\n",
       "      <td>{'max_depth': 1, 'min_samples_leaf': 1}</td>\n",
       "    </tr>\n",
       "    <tr>\n",
       "      <th>1</th>\n",
       "      <td>0.806566</td>\n",
       "      <td>{'max_depth': 1, 'min_samples_leaf': 11}</td>\n",
       "    </tr>\n",
       "    <tr>\n",
       "      <th>2</th>\n",
       "      <td>0.806566</td>\n",
       "      <td>{'max_depth': 1, 'min_samples_leaf': 21}</td>\n",
       "    </tr>\n",
       "    <tr>\n",
       "      <th>3</th>\n",
       "      <td>0.806566</td>\n",
       "      <td>{'max_depth': 1, 'min_samples_leaf': 31}</td>\n",
       "    </tr>\n",
       "    <tr>\n",
       "      <th>4</th>\n",
       "      <td>0.806566</td>\n",
       "      <td>{'max_depth': 1, 'min_samples_leaf': 41}</td>\n",
       "    </tr>\n",
       "    <tr>\n",
       "      <th>5</th>\n",
       "      <td>0.806566</td>\n",
       "      <td>{'max_depth': 1, 'min_samples_leaf': 51}</td>\n",
       "    </tr>\n",
       "    <tr>\n",
       "      <th>6</th>\n",
       "      <td>0.806566</td>\n",
       "      <td>{'max_depth': 1, 'min_samples_leaf': 61}</td>\n",
       "    </tr>\n",
       "    <tr>\n",
       "      <th>7</th>\n",
       "      <td>0.806566</td>\n",
       "      <td>{'max_depth': 1, 'min_samples_leaf': 71}</td>\n",
       "    </tr>\n",
       "    <tr>\n",
       "      <th>8</th>\n",
       "      <td>0.806566</td>\n",
       "      <td>{'max_depth': 1, 'min_samples_leaf': 81}</td>\n",
       "    </tr>\n",
       "    <tr>\n",
       "      <th>9</th>\n",
       "      <td>0.806566</td>\n",
       "      <td>{'max_depth': 1, 'min_samples_leaf': 91}</td>\n",
       "    </tr>\n",
       "    <tr>\n",
       "      <th>10</th>\n",
       "      <td>0.806566</td>\n",
       "      <td>{'max_depth': 1, 'min_samples_leaf': 101}</td>\n",
       "    </tr>\n",
       "    <tr>\n",
       "      <th>11</th>\n",
       "      <td>0.806566</td>\n",
       "      <td>{'max_depth': 1, 'min_samples_leaf': 111}</td>\n",
       "    </tr>\n",
       "    <tr>\n",
       "      <th>12</th>\n",
       "      <td>0.806566</td>\n",
       "      <td>{'max_depth': 1, 'min_samples_leaf': 121}</td>\n",
       "    </tr>\n",
       "    <tr>\n",
       "      <th>13</th>\n",
       "      <td>0.806566</td>\n",
       "      <td>{'max_depth': 1, 'min_samples_leaf': 131}</td>\n",
       "    </tr>\n",
       "    <tr>\n",
       "      <th>14</th>\n",
       "      <td>0.806566</td>\n",
       "      <td>{'max_depth': 1, 'min_samples_leaf': 141}</td>\n",
       "    </tr>\n",
       "    <tr>\n",
       "      <th>15</th>\n",
       "      <td>0.806566</td>\n",
       "      <td>{'max_depth': 1, 'min_samples_leaf': 151}</td>\n",
       "    </tr>\n",
       "    <tr>\n",
       "      <th>16</th>\n",
       "      <td>0.806566</td>\n",
       "      <td>{'max_depth': 1, 'min_samples_leaf': 161}</td>\n",
       "    </tr>\n",
       "    <tr>\n",
       "      <th>17</th>\n",
       "      <td>0.806566</td>\n",
       "      <td>{'max_depth': 1, 'min_samples_leaf': 171}</td>\n",
       "    </tr>\n",
       "    <tr>\n",
       "      <th>18</th>\n",
       "      <td>0.806566</td>\n",
       "      <td>{'max_depth': 1, 'min_samples_leaf': 181}</td>\n",
       "    </tr>\n",
       "    <tr>\n",
       "      <th>19</th>\n",
       "      <td>0.806566</td>\n",
       "      <td>{'max_depth': 1, 'min_samples_leaf': 191}</td>\n",
       "    </tr>\n",
       "    <tr>\n",
       "      <th>20</th>\n",
       "      <td>0.806566</td>\n",
       "      <td>{'max_depth': 1, 'min_samples_leaf': 201}</td>\n",
       "    </tr>\n",
       "    <tr>\n",
       "      <th>21</th>\n",
       "      <td>0.808098</td>\n",
       "      <td>{'max_depth': 2, 'min_samples_leaf': 1}</td>\n",
       "    </tr>\n",
       "    <tr>\n",
       "      <th>22</th>\n",
       "      <td>0.808098</td>\n",
       "      <td>{'max_depth': 2, 'min_samples_leaf': 11}</td>\n",
       "    </tr>\n",
       "    <tr>\n",
       "      <th>23</th>\n",
       "      <td>0.808098</td>\n",
       "      <td>{'max_depth': 2, 'min_samples_leaf': 21}</td>\n",
       "    </tr>\n",
       "    <tr>\n",
       "      <th>24</th>\n",
       "      <td>0.808098</td>\n",
       "      <td>{'max_depth': 2, 'min_samples_leaf': 31}</td>\n",
       "    </tr>\n",
       "    <tr>\n",
       "      <th>25</th>\n",
       "      <td>0.808098</td>\n",
       "      <td>{'max_depth': 2, 'min_samples_leaf': 41}</td>\n",
       "    </tr>\n",
       "    <tr>\n",
       "      <th>26</th>\n",
       "      <td>0.808098</td>\n",
       "      <td>{'max_depth': 2, 'min_samples_leaf': 51}</td>\n",
       "    </tr>\n",
       "    <tr>\n",
       "      <th>27</th>\n",
       "      <td>0.808098</td>\n",
       "      <td>{'max_depth': 2, 'min_samples_leaf': 61}</td>\n",
       "    </tr>\n",
       "    <tr>\n",
       "      <th>28</th>\n",
       "      <td>0.808098</td>\n",
       "      <td>{'max_depth': 2, 'min_samples_leaf': 71}</td>\n",
       "    </tr>\n",
       "    <tr>\n",
       "      <th>29</th>\n",
       "      <td>0.808098</td>\n",
       "      <td>{'max_depth': 2, 'min_samples_leaf': 81}</td>\n",
       "    </tr>\n",
       "    <tr>\n",
       "      <th>...</th>\n",
       "      <td>...</td>\n",
       "      <td>...</td>\n",
       "    </tr>\n",
       "    <tr>\n",
       "      <th>600</th>\n",
       "      <td>0.830984</td>\n",
       "      <td>{'max_depth': 29, 'min_samples_leaf': 121}</td>\n",
       "    </tr>\n",
       "    <tr>\n",
       "      <th>601</th>\n",
       "      <td>0.830541</td>\n",
       "      <td>{'max_depth': 29, 'min_samples_leaf': 131}</td>\n",
       "    </tr>\n",
       "    <tr>\n",
       "      <th>602</th>\n",
       "      <td>0.830200</td>\n",
       "      <td>{'max_depth': 29, 'min_samples_leaf': 141}</td>\n",
       "    </tr>\n",
       "    <tr>\n",
       "      <th>603</th>\n",
       "      <td>0.830132</td>\n",
       "      <td>{'max_depth': 29, 'min_samples_leaf': 151}</td>\n",
       "    </tr>\n",
       "    <tr>\n",
       "      <th>604</th>\n",
       "      <td>0.829519</td>\n",
       "      <td>{'max_depth': 29, 'min_samples_leaf': 161}</td>\n",
       "    </tr>\n",
       "    <tr>\n",
       "      <th>605</th>\n",
       "      <td>0.829008</td>\n",
       "      <td>{'max_depth': 29, 'min_samples_leaf': 171}</td>\n",
       "    </tr>\n",
       "    <tr>\n",
       "      <th>606</th>\n",
       "      <td>0.829008</td>\n",
       "      <td>{'max_depth': 29, 'min_samples_leaf': 181}</td>\n",
       "    </tr>\n",
       "    <tr>\n",
       "      <th>607</th>\n",
       "      <td>0.828974</td>\n",
       "      <td>{'max_depth': 29, 'min_samples_leaf': 191}</td>\n",
       "    </tr>\n",
       "    <tr>\n",
       "      <th>608</th>\n",
       "      <td>0.828668</td>\n",
       "      <td>{'max_depth': 29, 'min_samples_leaf': 201}</td>\n",
       "    </tr>\n",
       "    <tr>\n",
       "      <th>609</th>\n",
       "      <td>0.771591</td>\n",
       "      <td>{'max_depth': 30, 'min_samples_leaf': 1}</td>\n",
       "    </tr>\n",
       "    <tr>\n",
       "      <th>610</th>\n",
       "      <td>0.801730</td>\n",
       "      <td>{'max_depth': 30, 'min_samples_leaf': 11}</td>\n",
       "    </tr>\n",
       "    <tr>\n",
       "      <th>611</th>\n",
       "      <td>0.815931</td>\n",
       "      <td>{'max_depth': 30, 'min_samples_leaf': 21}</td>\n",
       "    </tr>\n",
       "    <tr>\n",
       "      <th>612</th>\n",
       "      <td>0.821789</td>\n",
       "      <td>{'max_depth': 30, 'min_samples_leaf': 31}</td>\n",
       "    </tr>\n",
       "    <tr>\n",
       "      <th>613</th>\n",
       "      <td>0.824717</td>\n",
       "      <td>{'max_depth': 30, 'min_samples_leaf': 41}</td>\n",
       "    </tr>\n",
       "    <tr>\n",
       "      <th>614</th>\n",
       "      <td>0.826318</td>\n",
       "      <td>{'max_depth': 30, 'min_samples_leaf': 51}</td>\n",
       "    </tr>\n",
       "    <tr>\n",
       "      <th>615</th>\n",
       "      <td>0.826284</td>\n",
       "      <td>{'max_depth': 30, 'min_samples_leaf': 61}</td>\n",
       "    </tr>\n",
       "    <tr>\n",
       "      <th>616</th>\n",
       "      <td>0.828600</td>\n",
       "      <td>{'max_depth': 30, 'min_samples_leaf': 71}</td>\n",
       "    </tr>\n",
       "    <tr>\n",
       "      <th>617</th>\n",
       "      <td>0.828566</td>\n",
       "      <td>{'max_depth': 30, 'min_samples_leaf': 81}</td>\n",
       "    </tr>\n",
       "    <tr>\n",
       "      <th>618</th>\n",
       "      <td>0.828532</td>\n",
       "      <td>{'max_depth': 30, 'min_samples_leaf': 91}</td>\n",
       "    </tr>\n",
       "    <tr>\n",
       "      <th>619</th>\n",
       "      <td>0.828940</td>\n",
       "      <td>{'max_depth': 30, 'min_samples_leaf': 101}</td>\n",
       "    </tr>\n",
       "    <tr>\n",
       "      <th>620</th>\n",
       "      <td>0.830098</td>\n",
       "      <td>{'max_depth': 30, 'min_samples_leaf': 111}</td>\n",
       "    </tr>\n",
       "    <tr>\n",
       "      <th>621</th>\n",
       "      <td>0.830984</td>\n",
       "      <td>{'max_depth': 30, 'min_samples_leaf': 121}</td>\n",
       "    </tr>\n",
       "    <tr>\n",
       "      <th>622</th>\n",
       "      <td>0.830541</td>\n",
       "      <td>{'max_depth': 30, 'min_samples_leaf': 131}</td>\n",
       "    </tr>\n",
       "    <tr>\n",
       "      <th>623</th>\n",
       "      <td>0.830200</td>\n",
       "      <td>{'max_depth': 30, 'min_samples_leaf': 141}</td>\n",
       "    </tr>\n",
       "    <tr>\n",
       "      <th>624</th>\n",
       "      <td>0.830132</td>\n",
       "      <td>{'max_depth': 30, 'min_samples_leaf': 151}</td>\n",
       "    </tr>\n",
       "    <tr>\n",
       "      <th>625</th>\n",
       "      <td>0.829519</td>\n",
       "      <td>{'max_depth': 30, 'min_samples_leaf': 161}</td>\n",
       "    </tr>\n",
       "    <tr>\n",
       "      <th>626</th>\n",
       "      <td>0.829008</td>\n",
       "      <td>{'max_depth': 30, 'min_samples_leaf': 171}</td>\n",
       "    </tr>\n",
       "    <tr>\n",
       "      <th>627</th>\n",
       "      <td>0.829008</td>\n",
       "      <td>{'max_depth': 30, 'min_samples_leaf': 181}</td>\n",
       "    </tr>\n",
       "    <tr>\n",
       "      <th>628</th>\n",
       "      <td>0.828974</td>\n",
       "      <td>{'max_depth': 30, 'min_samples_leaf': 191}</td>\n",
       "    </tr>\n",
       "    <tr>\n",
       "      <th>629</th>\n",
       "      <td>0.828668</td>\n",
       "      <td>{'max_depth': 30, 'min_samples_leaf': 201}</td>\n",
       "    </tr>\n",
       "  </tbody>\n",
       "</table>\n",
       "<p>630 rows × 2 columns</p>\n",
       "</div>"
      ],
      "text/plain": [
       "     mean_test_score                                      params\n",
       "0           0.806566     {'max_depth': 1, 'min_samples_leaf': 1}\n",
       "1           0.806566    {'max_depth': 1, 'min_samples_leaf': 11}\n",
       "2           0.806566    {'max_depth': 1, 'min_samples_leaf': 21}\n",
       "3           0.806566    {'max_depth': 1, 'min_samples_leaf': 31}\n",
       "4           0.806566    {'max_depth': 1, 'min_samples_leaf': 41}\n",
       "5           0.806566    {'max_depth': 1, 'min_samples_leaf': 51}\n",
       "6           0.806566    {'max_depth': 1, 'min_samples_leaf': 61}\n",
       "7           0.806566    {'max_depth': 1, 'min_samples_leaf': 71}\n",
       "8           0.806566    {'max_depth': 1, 'min_samples_leaf': 81}\n",
       "9           0.806566    {'max_depth': 1, 'min_samples_leaf': 91}\n",
       "10          0.806566   {'max_depth': 1, 'min_samples_leaf': 101}\n",
       "11          0.806566   {'max_depth': 1, 'min_samples_leaf': 111}\n",
       "12          0.806566   {'max_depth': 1, 'min_samples_leaf': 121}\n",
       "13          0.806566   {'max_depth': 1, 'min_samples_leaf': 131}\n",
       "14          0.806566   {'max_depth': 1, 'min_samples_leaf': 141}\n",
       "15          0.806566   {'max_depth': 1, 'min_samples_leaf': 151}\n",
       "16          0.806566   {'max_depth': 1, 'min_samples_leaf': 161}\n",
       "17          0.806566   {'max_depth': 1, 'min_samples_leaf': 171}\n",
       "18          0.806566   {'max_depth': 1, 'min_samples_leaf': 181}\n",
       "19          0.806566   {'max_depth': 1, 'min_samples_leaf': 191}\n",
       "20          0.806566   {'max_depth': 1, 'min_samples_leaf': 201}\n",
       "21          0.808098     {'max_depth': 2, 'min_samples_leaf': 1}\n",
       "22          0.808098    {'max_depth': 2, 'min_samples_leaf': 11}\n",
       "23          0.808098    {'max_depth': 2, 'min_samples_leaf': 21}\n",
       "24          0.808098    {'max_depth': 2, 'min_samples_leaf': 31}\n",
       "25          0.808098    {'max_depth': 2, 'min_samples_leaf': 41}\n",
       "26          0.808098    {'max_depth': 2, 'min_samples_leaf': 51}\n",
       "27          0.808098    {'max_depth': 2, 'min_samples_leaf': 61}\n",
       "28          0.808098    {'max_depth': 2, 'min_samples_leaf': 71}\n",
       "29          0.808098    {'max_depth': 2, 'min_samples_leaf': 81}\n",
       "..               ...                                         ...\n",
       "600         0.830984  {'max_depth': 29, 'min_samples_leaf': 121}\n",
       "601         0.830541  {'max_depth': 29, 'min_samples_leaf': 131}\n",
       "602         0.830200  {'max_depth': 29, 'min_samples_leaf': 141}\n",
       "603         0.830132  {'max_depth': 29, 'min_samples_leaf': 151}\n",
       "604         0.829519  {'max_depth': 29, 'min_samples_leaf': 161}\n",
       "605         0.829008  {'max_depth': 29, 'min_samples_leaf': 171}\n",
       "606         0.829008  {'max_depth': 29, 'min_samples_leaf': 181}\n",
       "607         0.828974  {'max_depth': 29, 'min_samples_leaf': 191}\n",
       "608         0.828668  {'max_depth': 29, 'min_samples_leaf': 201}\n",
       "609         0.771591    {'max_depth': 30, 'min_samples_leaf': 1}\n",
       "610         0.801730   {'max_depth': 30, 'min_samples_leaf': 11}\n",
       "611         0.815931   {'max_depth': 30, 'min_samples_leaf': 21}\n",
       "612         0.821789   {'max_depth': 30, 'min_samples_leaf': 31}\n",
       "613         0.824717   {'max_depth': 30, 'min_samples_leaf': 41}\n",
       "614         0.826318   {'max_depth': 30, 'min_samples_leaf': 51}\n",
       "615         0.826284   {'max_depth': 30, 'min_samples_leaf': 61}\n",
       "616         0.828600   {'max_depth': 30, 'min_samples_leaf': 71}\n",
       "617         0.828566   {'max_depth': 30, 'min_samples_leaf': 81}\n",
       "618         0.828532   {'max_depth': 30, 'min_samples_leaf': 91}\n",
       "619         0.828940  {'max_depth': 30, 'min_samples_leaf': 101}\n",
       "620         0.830098  {'max_depth': 30, 'min_samples_leaf': 111}\n",
       "621         0.830984  {'max_depth': 30, 'min_samples_leaf': 121}\n",
       "622         0.830541  {'max_depth': 30, 'min_samples_leaf': 131}\n",
       "623         0.830200  {'max_depth': 30, 'min_samples_leaf': 141}\n",
       "624         0.830132  {'max_depth': 30, 'min_samples_leaf': 151}\n",
       "625         0.829519  {'max_depth': 30, 'min_samples_leaf': 161}\n",
       "626         0.829008  {'max_depth': 30, 'min_samples_leaf': 171}\n",
       "627         0.829008  {'max_depth': 30, 'min_samples_leaf': 181}\n",
       "628         0.828974  {'max_depth': 30, 'min_samples_leaf': 191}\n",
       "629         0.828668  {'max_depth': 30, 'min_samples_leaf': 201}\n",
       "\n",
       "[630 rows x 2 columns]"
      ]
     },
     "execution_count": 109,
     "metadata": {},
     "output_type": "execute_result"
    }
   ],
   "source": [
    "pd.DataFrame(DTC5.cv_results_)[['mean_test_score', 'params']]"
   ]
  },
  {
   "cell_type": "code",
   "execution_count": 110,
   "metadata": {},
   "outputs": [
    {
     "data": {
      "text/plain": [
       "{'max_depth': 6, 'min_samples_leaf': 71}"
      ]
     },
     "execution_count": 110,
     "metadata": {},
     "output_type": "execute_result"
    }
   ],
   "source": [
    "DTC5.best_params_"
   ]
  },
  {
   "cell_type": "markdown",
   "metadata": {},
   "source": [
    "Best Parameters: Depth of 6; Minimum Samples of 71\n",
    "<br>\n",
    "<br> Modeling on Best Parameters."
   ]
  },
  {
   "cell_type": "code",
   "execution_count": 111,
   "metadata": {},
   "outputs": [
    {
     "data": {
      "text/plain": [
       "DecisionTreeClassifier(class_weight=None, criterion='entropy', max_depth=6,\n",
       "            max_features=None, max_leaf_nodes=None,\n",
       "            min_impurity_decrease=0.0, min_impurity_split=None,\n",
       "            min_samples_leaf=71, min_samples_split=2,\n",
       "            min_weight_fraction_leaf=0.0, presort=False, random_state=3003,\n",
       "            splitter='best')"
      ]
     },
     "execution_count": 111,
     "metadata": {},
     "output_type": "execute_result"
    }
   ],
   "source": [
    "DTC6 = tree.DecisionTreeClassifier(criterion='entropy', max_depth=6, min_samples_leaf=71, random_state = 3003)\n",
    "DTC6.fit(Xs_train, ys_train)"
   ]
  },
  {
   "cell_type": "code",
   "execution_count": 112,
   "metadata": {},
   "outputs": [
    {
     "name": "stdout",
     "output_type": "stream",
     "text": [
      "<sklearn.tree._tree.Tree object at 0x000001FCD6E62718>\n"
     ]
    }
   ],
   "source": [
    "print(DTC6.tree_)"
   ]
  },
  {
   "cell_type": "code",
   "execution_count": 113,
   "metadata": {},
   "outputs": [
    {
     "name": "stdout",
     "output_type": "stream",
     "text": [
      "Accuracy for Optimal Decision Tree Model:  83.46 %\n"
     ]
    }
   ],
   "source": [
    "print(\"Accuracy for Optimal Decision Tree Model: \", (round(DTC6.score(Xs_train, ys_train), 4)*100), \"%\")"
   ]
  },
  {
   "cell_type": "markdown",
   "metadata": {
    "collapsed": true
   },
   "source": [
    "tree_data = tree.export_graphviz (\n",
    "    DTC6,\n",
    "    feature_names = X_train.columns\n",
    "    class_names = 'Comments', 'No_Comments'\n",
    "    filled=True\n",
    "    rounded=True\n",
    ")\n",
    "graph = graphviz.Source(tree_data)\n",
    "graph"
   ]
  },
  {
   "cell_type": "markdown",
   "metadata": {},
   "source": [
    "## Boosting"
   ]
  },
  {
   "cell_type": "markdown",
   "metadata": {},
   "source": [
    "#### AdaBoost"
   ]
  },
  {
   "cell_type": "code",
   "execution_count": 114,
   "metadata": {
    "collapsed": true
   },
   "outputs": [],
   "source": [
    "ABT = AdaBoostClassifier(random_state=3003)\n",
    "scoresBase = cross_val_score(ABT, Xs_train, ys_train['Comment_Y'], cv=5)"
   ]
  },
  {
   "cell_type": "code",
   "execution_count": 115,
   "metadata": {},
   "outputs": [
    {
     "data": {
      "text/plain": [
       "array([ 0.83418454,  0.83282261,  0.83021117,  0.83378747,  0.82663488])"
      ]
     },
     "execution_count": 115,
     "metadata": {},
     "output_type": "execute_result"
    }
   ],
   "source": [
    "scoresBase"
   ]
  },
  {
   "cell_type": "code",
   "execution_count": 116,
   "metadata": {},
   "outputs": [
    {
     "data": {
      "text/plain": [
       "0.83152813302791873"
      ]
     },
     "execution_count": 116,
     "metadata": {},
     "output_type": "execute_result"
    }
   ],
   "source": [
    "scoresBase.mean()"
   ]
  },
  {
   "cell_type": "code",
   "execution_count": 125,
   "metadata": {
    "collapsed": true
   },
   "outputs": [],
   "source": [
    "n = [5, 10, 25]"
   ]
  },
  {
   "cell_type": "code",
   "execution_count": 126,
   "metadata": {
    "collapsed": true
   },
   "outputs": [],
   "source": [
    "ABT = AdaBoostClassifier(random_state=3003)\n",
    "param_grid = dict(n_estimators = n)\n",
    "ABT2 = GridSearchCV(ABT, param_grid, cv=5)"
   ]
  },
  {
   "cell_type": "markdown",
   "metadata": {},
   "source": [
    "#### GBM"
   ]
  },
  {
   "cell_type": "code",
   "execution_count": 130,
   "metadata": {},
   "outputs": [
    {
     "data": {
      "text/plain": [
       "array([ 0.84252639,  0.84048349,  0.83480926,  0.84145095,  0.83617166])"
      ]
     },
     "execution_count": 130,
     "metadata": {},
     "output_type": "execute_result"
    }
   ],
   "source": [
    "GBMbase = GradientBoostingClassifier(random_state=3003)\n",
    "scoresGBase = cross_val_score(GBMbase, Xs_train, ys_train['Comment_Y'], cv=5)\n",
    "scoresGBase"
   ]
  },
  {
   "cell_type": "code",
   "execution_count": 134,
   "metadata": {},
   "outputs": [
    {
     "data": {
      "text/plain": [
       "array([ 0.84252639,  0.84048349,  0.83480926,  0.84145095,  0.83617166])"
      ]
     },
     "execution_count": 134,
     "metadata": {},
     "output_type": "execute_result"
    }
   ],
   "source": [
    "scoresGBase"
   ]
  },
  {
   "cell_type": "code",
   "execution_count": 135,
   "metadata": {},
   "outputs": [
    {
     "data": {
      "text/plain": [
       "0.83908835082602029"
      ]
     },
     "execution_count": 135,
     "metadata": {},
     "output_type": "execute_result"
    }
   ],
   "source": [
    "scoresGBase.mean()"
   ]
  },
  {
   "cell_type": "code",
   "execution_count": 136,
   "metadata": {},
   "outputs": [
    {
     "data": {
      "text/plain": [
       "array([ 0.83248212,  0.83741914,  0.82850817,  0.83685286,  0.82833787])"
      ]
     },
     "execution_count": 136,
     "metadata": {},
     "output_type": "execute_result"
    }
   ],
   "source": [
    "GBM = GradientBoostingClassifier(learning_rate=0.2, max_depth=6, random_state=3003)\n",
    "scoresG1 = cross_val_score(GBM, Xs_train, ys_train['Comment_Y'], cv=5)\n",
    "scoresG1"
   ]
  },
  {
   "cell_type": "code",
   "execution_count": 137,
   "metadata": {},
   "outputs": [
    {
     "data": {
      "text/plain": [
       "0.83272003397412886"
      ]
     },
     "execution_count": 137,
     "metadata": {},
     "output_type": "execute_result"
    }
   ],
   "source": [
    "scoresG1.mean()"
   ]
  },
  {
   "cell_type": "code",
   "execution_count": 138,
   "metadata": {},
   "outputs": [
    {
     "data": {
      "text/plain": [
       "GradientBoostingClassifier(criterion='friedman_mse', init=None,\n",
       "              learning_rate=0.2, loss='deviance', max_depth=6,\n",
       "              max_features=None, max_leaf_nodes=None,\n",
       "              min_impurity_decrease=0.0, min_impurity_split=None,\n",
       "              min_samples_leaf=1, min_samples_split=2,\n",
       "              min_weight_fraction_leaf=0.0, n_estimators=100,\n",
       "              presort='auto', random_state=3003, subsample=1.0, verbose=0,\n",
       "              warm_start=False)"
      ]
     },
     "execution_count": 138,
     "metadata": {},
     "output_type": "execute_result"
    }
   ],
   "source": [
    "GBM"
   ]
  },
  {
   "cell_type": "code",
   "execution_count": 139,
   "metadata": {},
   "outputs": [
    {
     "data": {
      "text/plain": [
       "array([ 0.84031324,  0.84320735,  0.83549046,  0.83855586,  0.83446866])"
      ]
     },
     "execution_count": 139,
     "metadata": {},
     "output_type": "execute_result"
    }
   ],
   "source": [
    "GBM2 = GradientBoostingClassifier(learning_rate=0.05, max_depth=6, random_state=3003)\n",
    "scoresG2 = cross_val_score(GBM2, Xs_train, ys_train['Comment_Y'], cv=5)\n",
    "scoresG2"
   ]
  },
  {
   "cell_type": "code",
   "execution_count": 140,
   "metadata": {},
   "outputs": [
    {
     "data": {
      "text/plain": [
       "0.83840711712539162"
      ]
     },
     "execution_count": 140,
     "metadata": {},
     "output_type": "execute_result"
    }
   ],
   "source": [
    "scoresG2.mean()"
   ]
  },
  {
   "cell_type": "code",
   "execution_count": 141,
   "metadata": {},
   "outputs": [
    {
     "data": {
      "text/plain": [
       "array([ 0.84116445,  0.84354784,  0.83617166,  0.83787466,  0.83583106])"
      ]
     },
     "execution_count": 141,
     "metadata": {},
     "output_type": "execute_result"
    }
   ],
   "source": [
    "GBM3 = GradientBoostingClassifier(min_samples_leaf=171, max_depth=6, random_state=3003, learning_rate = 0.05)\n",
    "scoresG3 = cross_val_score(GBM3, Xs_train, ys_train['Comment_Y'], cv=5)\n",
    "scoresG3"
   ]
  },
  {
   "cell_type": "code",
   "execution_count": 142,
   "metadata": {},
   "outputs": [
    {
     "data": {
      "text/plain": [
       "0.8389179351300099"
      ]
     },
     "execution_count": 142,
     "metadata": {},
     "output_type": "execute_result"
    }
   ],
   "source": [
    "scoresG3.mean()"
   ]
  }
 ],
 "metadata": {
  "kernelspec": {
   "display_name": "Python 3",
   "language": "python",
   "name": "python3"
  },
  "language_info": {
   "codemirror_mode": {
    "name": "ipython",
    "version": 3
   },
   "file_extension": ".py",
   "mimetype": "text/x-python",
   "name": "python",
   "nbconvert_exporter": "python",
   "pygments_lexer": "ipython3",
   "version": "3.6.8"
  }
 },
 "nbformat": 4,
 "nbformat_minor": 2
}
