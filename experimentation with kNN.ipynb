{
 "cells": [
  {
   "cell_type": "markdown",
   "metadata": {},
   "source": [
    "## Project 3: Neural Networks and kNN\n",
    "### Experimentation with kNN- First Dataset (Facebook Comments)"
   ]
  },
  {
   "cell_type": "markdown",
   "metadata": {},
   "source": [
    "Research on kNN:\n",
    "<br> https://www.kaggle.com/amolbhivarkar/knn-for-classification-using-scikit-learn"
   ]
  },
  {
   "cell_type": "markdown",
   "metadata": {},
   "source": [
    "#### Import packages."
   ]
  },
  {
   "cell_type": "code",
   "execution_count": 1,
   "metadata": {},
   "outputs": [],
   "source": [
    "import pandas as pd\n",
    "import numpy as np\n",
    "import random as rand\n",
    "import matplotlib.pyplot as plt\n",
    "import seaborn as sns\n",
    "%matplotlib inline"
   ]
  },
  {
   "cell_type": "code",
   "execution_count": 2,
   "metadata": {},
   "outputs": [],
   "source": [
    "from sklearn.model_selection import KFold\n",
    "from sklearn.model_selection import cross_val_score\n",
    "from sklearn.model_selection import GridSearchCV\n",
    "from sklearn.model_selection import RandomizedSearchCV\n",
    "from sklearn.metrics import confusion_matrix\n",
    "from sklearn.metrics import roc_curve\n",
    "from sklearn.metrics import classification_report"
   ]
  },
  {
   "cell_type": "markdown",
   "metadata": {},
   "source": [
    "#### Import Data Set 1."
   ]
  },
  {
   "cell_type": "code",
   "execution_count": 3,
   "metadata": {},
   "outputs": [],
   "source": [
    "facebook = pd.read_csv('Features_Variant_1.csv', header=None)\n",
    "test1 = pd.read_csv('Test_Case_1.csv', header=None)\n",
    "test2 = pd.read_csv('Test_Case_2.csv', header=None)\n",
    "test3 = pd.read_csv('Test_case_3.csv', header=None)\n",
    "test4 = pd.read_csv('Test_case_4.csv', header=None)\n",
    "test5 = pd.read_csv('Test_case_5.csv', header=None)\n",
    "test6 = pd.read_csv('Test_case_6.csv', header=None)\n",
    "test7 = pd.read_csv('Test_case_7.csv', header=None)\n",
    "test8 = pd.read_csv('Test_case_8.csv', header=None)\n",
    "test9 = pd.read_csv('Test_case_9.csv', header=None)\n",
    "test10 = pd.read_csv('Test_case_10.csv', header=None)"
   ]
  },
  {
   "cell_type": "code",
   "execution_count": 4,
   "metadata": {},
   "outputs": [],
   "source": [
    "facebook = facebook.append([test1, test2, test3, test4, test5, test6, test7, test8, test9, test10], ignore_index=True)"
   ]
  },
  {
   "cell_type": "code",
   "execution_count": 5,
   "metadata": {},
   "outputs": [],
   "source": [
    "new_names = ['PagePopularity_1', 'PageCheckins_2', 'PageTalkingAbout_3', 'PageCategory_4']\n",
    "old_names = facebook.columns[0:4]\n",
    "facebook.rename(columns=dict(zip(old_names, new_names)), inplace=True)\n",
    "\n",
    "new_names2 = ['CommentsBeforeBase_30', 'CommentsLast24h_31', 'CommentsLast48to24h_32', 'CommentsFirst24h_33', 'CommentsDiffFirstSecondDay_34', 'BaseTime_35',\n",
    "'PostLength_36', 'PostShareCnt_37', 'PostPromoStatus_38', 'HoursReceived_39', 'SundayPublished_40', 'MondayPublished_41', 'TuesdayPublisher_42',\n",
    "'WednesdayPublished_43', 'ThursdayPublished_44', 'FridayPublished_45', 'SaturdayPublished_46', 'SundayBase_47', 'MondayBase_48', 'TuesdayBase_49',\n",
    "'WednesdayBase_50', 'ThursdayBase_51', 'FridayBase_52', 'SaturdayBase_53','CommentsNextH_Hours_54']\n",
    "old_names2 = facebook.columns[29:54]\n",
    "facebook.rename(columns=dict(zip(old_names2, new_names2)), inplace=True)\n",
    "\n",
    "facebook2 = facebook.iloc[:, np.r_[0:4, 29:54]]\n",
    "facebook2 = facebook2.drop('PostPromoStatus_38', axis=1)"
   ]
  },
  {
   "cell_type": "markdown",
   "metadata": {},
   "source": [
    "#### Scale features for use in kNN."
   ]
  },
  {
   "cell_type": "code",
   "execution_count": 6,
   "metadata": {},
   "outputs": [],
   "source": [
    "mean_1 = sum(facebook2['PagePopularity_1'])/len(facebook2['PagePopularity_1'])\n",
    "sd_1 = np.std(facebook2['PagePopularity_1'])\n",
    "mean_2 = sum(facebook2['PageCheckins_2'])/len(facebook2['PageCheckins_2'])\n",
    "sd_2 = np.std(facebook2['PageCheckins_2'])\n",
    "mean_3 = sum(facebook2['PageTalkingAbout_3'])/len(facebook2['PageTalkingAbout_3'])\n",
    "sd_3 = np.std(facebook2['PageTalkingAbout_3'])\n",
    "mean_4 = sum(facebook2['PageCategory_4'])/len(facebook2['PageCategory_4'])\n",
    "sd_4 = np.std(facebook2['PageCategory_4'])\n",
    "mean_30 = sum(facebook2['CommentsBeforeBase_30'])/len(facebook2['CommentsBeforeBase_30'])\n",
    "sd_30 = np.std(facebook2['CommentsBeforeBase_30'])\n",
    "mean_31 = sum(facebook2['CommentsLast24h_31'])/len(facebook2['CommentsLast24h_31'])\n",
    "sd_31 = np.std(facebook2['CommentsLast24h_31'])\n",
    "mean_32= sum(facebook2['CommentsLast48to24h_32'])/len(facebook2['CommentsLast48to24h_32'])\n",
    "sd_32 = np.std(facebook2['CommentsLast48to24h_32'])\n",
    "mean_33= sum(facebook2['CommentsFirst24h_33'])/len(facebook2['CommentsFirst24h_33'])\n",
    "sd_33 = np.std(facebook2['CommentsFirst24h_33'])\n",
    "mean_34 = sum(facebook2['CommentsDiffFirstSecondDay_34'])/len(facebook2['CommentsDiffFirstSecondDay_34'])\n",
    "sd_34 = np.std(facebook2['CommentsDiffFirstSecondDay_34'])\n",
    "### find out if you should scale BaseTime \n",
    "mean_36 = sum(facebook2['PostLength_36'])/len(facebook2['PostLength_36'])\n",
    "sd_36 = np.std(facebook2['PostLength_36'])\n",
    "mean_37 = sum(facebook2['PostShareCnt_37'])/len(facebook2['PostShareCnt_37'])\n",
    "sd_37 = np.std(facebook2['PostShareCnt_37'])\n",
    "### find out if you should scale HoursReceived \n",
    "mean_39 = sum(facebook2['HoursReceived_39'])/len(facebook2['HoursReceived_39'])\n",
    "sd_39 = np.std(facebook2['HoursReceived_39'])\n",
    "mean_40 = sum(facebook2['SundayPublished_40'])/len(facebook2['SundayPublished_40'])\n",
    "sd_40 = np.std(facebook2['SundayPublished_40'])\n",
    "mean_41 = sum(facebook2['MondayPublished_41'])/len(facebook2['MondayPublished_41'])\n",
    "sd_41 = np.std(facebook2['MondayPublished_41'])\n",
    "mean_42 = sum(facebook2['TuesdayPublisher_42'])/len(facebook2['TuesdayPublisher_42'])\n",
    "sd_42 = np.std(facebook2['TuesdayPublisher_42'])\n",
    "mean_43 = sum(facebook2['WednesdayPublished_43'])/len(facebook2['WednesdayPublished_43'])\n",
    "sd_43 = np.std(facebook2['WednesdayPublished_43'])\n",
    "mean_44 = sum(facebook2['ThursdayPublished_44'])/len(facebook2['ThursdayPublished_44'])\n",
    "sd_44 = np.std(facebook2['ThursdayPublished_44'])\n",
    "mean_45 = sum(facebook2['FridayPublished_45'])/len(facebook2['FridayPublished_45'])\n",
    "sd_45 = np.std(facebook2['FridayPublished_45'])\n",
    "mean_46 = sum(facebook2['SaturdayPublished_46'])/len(facebook2['SaturdayPublished_46'])\n",
    "sd_46 = np.std(facebook2['SaturdayPublished_46'])\n",
    "mean_47 = sum(facebook2['SundayBase_47'])/len(facebook2['SundayBase_47'])\n",
    "sd_47 = np.std(facebook2['SundayBase_47'])\n",
    "mean_48 = sum(facebook2['MondayBase_48'])/len(facebook2['MondayBase_48'])\n",
    "sd_48 = np.std(facebook2['MondayBase_48'])\n",
    "mean_49 = sum(facebook2['TuesdayBase_49'])/len(facebook2['TuesdayBase_49'])\n",
    "sd_49 = np.std(facebook2['TuesdayBase_49'])\n",
    "mean_50 = sum(facebook2['WednesdayBase_50'])/len(facebook2['WednesdayBase_50'])\n",
    "sd_50 = np.std(facebook2['WednesdayBase_50'])\n",
    "mean_51 = sum(facebook2['ThursdayBase_51'])/len(facebook2['ThursdayBase_51'])\n",
    "sd_51 = np.std(facebook2['ThursdayBase_51'])\n",
    "mean_52 = sum(facebook2['FridayBase_52'])/len(facebook2['FridayBase_52'])\n",
    "sd_52 = np.std(facebook2['FridayBase_52'])\n",
    "mean_53 = sum(facebook2['SaturdayBase_53'])/len(facebook2['SaturdayBase_53'])\n",
    "sd_53 = np.std(facebook2['SaturdayBase_53'])\n",
    "## DO NOT scale the target (54)"
   ]
  },
  {
   "cell_type": "code",
   "execution_count": 7,
   "metadata": {},
   "outputs": [],
   "source": [
    "facebook2_s = facebook2.copy()"
   ]
  },
  {
   "cell_type": "code",
   "execution_count": 8,
   "metadata": {},
   "outputs": [
    {
     "data": {
      "text/html": [
       "<div>\n",
       "<style scoped>\n",
       "    .dataframe tbody tr th:only-of-type {\n",
       "        vertical-align: middle;\n",
       "    }\n",
       "\n",
       "    .dataframe tbody tr th {\n",
       "        vertical-align: top;\n",
       "    }\n",
       "\n",
       "    .dataframe thead th {\n",
       "        text-align: right;\n",
       "    }\n",
       "</style>\n",
       "<table border=\"1\" class=\"dataframe\">\n",
       "  <thead>\n",
       "    <tr style=\"text-align: right;\">\n",
       "      <th></th>\n",
       "      <th>PagePopularity_1</th>\n",
       "      <th>PageCheckins_2</th>\n",
       "      <th>PageTalkingAbout_3</th>\n",
       "      <th>PageCategory_4</th>\n",
       "      <th>CommentsBeforeBase_30</th>\n",
       "      <th>CommentsLast24h_31</th>\n",
       "      <th>CommentsLast48to24h_32</th>\n",
       "      <th>CommentsFirst24h_33</th>\n",
       "      <th>CommentsDiffFirstSecondDay_34</th>\n",
       "      <th>BaseTime_35</th>\n",
       "      <th>...</th>\n",
       "      <th>FridayPublished_45</th>\n",
       "      <th>SaturdayPublished_46</th>\n",
       "      <th>SundayBase_47</th>\n",
       "      <th>MondayBase_48</th>\n",
       "      <th>TuesdayBase_49</th>\n",
       "      <th>WednesdayBase_50</th>\n",
       "      <th>ThursdayBase_51</th>\n",
       "      <th>FridayBase_52</th>\n",
       "      <th>SaturdayBase_53</th>\n",
       "      <th>CommentsNextH_Hours_54</th>\n",
       "    </tr>\n",
       "  </thead>\n",
       "  <tbody>\n",
       "    <tr>\n",
       "      <th>0</th>\n",
       "      <td>634995</td>\n",
       "      <td>0</td>\n",
       "      <td>463</td>\n",
       "      <td>1</td>\n",
       "      <td>0</td>\n",
       "      <td>0</td>\n",
       "      <td>0</td>\n",
       "      <td>0</td>\n",
       "      <td>0</td>\n",
       "      <td>65</td>\n",
       "      <td>...</td>\n",
       "      <td>0</td>\n",
       "      <td>0</td>\n",
       "      <td>0</td>\n",
       "      <td>0</td>\n",
       "      <td>0</td>\n",
       "      <td>0</td>\n",
       "      <td>0</td>\n",
       "      <td>0</td>\n",
       "      <td>1</td>\n",
       "      <td>0</td>\n",
       "    </tr>\n",
       "    <tr>\n",
       "      <th>1</th>\n",
       "      <td>634995</td>\n",
       "      <td>0</td>\n",
       "      <td>463</td>\n",
       "      <td>1</td>\n",
       "      <td>0</td>\n",
       "      <td>0</td>\n",
       "      <td>0</td>\n",
       "      <td>0</td>\n",
       "      <td>0</td>\n",
       "      <td>10</td>\n",
       "      <td>...</td>\n",
       "      <td>0</td>\n",
       "      <td>0</td>\n",
       "      <td>0</td>\n",
       "      <td>0</td>\n",
       "      <td>0</td>\n",
       "      <td>0</td>\n",
       "      <td>0</td>\n",
       "      <td>1</td>\n",
       "      <td>0</td>\n",
       "      <td>0</td>\n",
       "    </tr>\n",
       "    <tr>\n",
       "      <th>2</th>\n",
       "      <td>634995</td>\n",
       "      <td>0</td>\n",
       "      <td>463</td>\n",
       "      <td>1</td>\n",
       "      <td>0</td>\n",
       "      <td>0</td>\n",
       "      <td>0</td>\n",
       "      <td>0</td>\n",
       "      <td>0</td>\n",
       "      <td>14</td>\n",
       "      <td>...</td>\n",
       "      <td>1</td>\n",
       "      <td>0</td>\n",
       "      <td>0</td>\n",
       "      <td>0</td>\n",
       "      <td>0</td>\n",
       "      <td>0</td>\n",
       "      <td>0</td>\n",
       "      <td>0</td>\n",
       "      <td>1</td>\n",
       "      <td>0</td>\n",
       "    </tr>\n",
       "    <tr>\n",
       "      <th>3</th>\n",
       "      <td>634995</td>\n",
       "      <td>0</td>\n",
       "      <td>463</td>\n",
       "      <td>1</td>\n",
       "      <td>7</td>\n",
       "      <td>0</td>\n",
       "      <td>3</td>\n",
       "      <td>7</td>\n",
       "      <td>-3</td>\n",
       "      <td>62</td>\n",
       "      <td>...</td>\n",
       "      <td>1</td>\n",
       "      <td>0</td>\n",
       "      <td>0</td>\n",
       "      <td>1</td>\n",
       "      <td>0</td>\n",
       "      <td>0</td>\n",
       "      <td>0</td>\n",
       "      <td>0</td>\n",
       "      <td>0</td>\n",
       "      <td>0</td>\n",
       "    </tr>\n",
       "    <tr>\n",
       "      <th>4</th>\n",
       "      <td>634995</td>\n",
       "      <td>0</td>\n",
       "      <td>463</td>\n",
       "      <td>1</td>\n",
       "      <td>1</td>\n",
       "      <td>0</td>\n",
       "      <td>0</td>\n",
       "      <td>1</td>\n",
       "      <td>0</td>\n",
       "      <td>58</td>\n",
       "      <td>...</td>\n",
       "      <td>0</td>\n",
       "      <td>0</td>\n",
       "      <td>0</td>\n",
       "      <td>0</td>\n",
       "      <td>0</td>\n",
       "      <td>1</td>\n",
       "      <td>0</td>\n",
       "      <td>0</td>\n",
       "      <td>0</td>\n",
       "      <td>0</td>\n",
       "    </tr>\n",
       "  </tbody>\n",
       "</table>\n",
       "<p>5 rows × 28 columns</p>\n",
       "</div>"
      ],
      "text/plain": [
       "   PagePopularity_1  PageCheckins_2  PageTalkingAbout_3  PageCategory_4  \\\n",
       "0            634995               0                 463               1   \n",
       "1            634995               0                 463               1   \n",
       "2            634995               0                 463               1   \n",
       "3            634995               0                 463               1   \n",
       "4            634995               0                 463               1   \n",
       "\n",
       "   CommentsBeforeBase_30  CommentsLast24h_31  CommentsLast48to24h_32  \\\n",
       "0                      0                   0                       0   \n",
       "1                      0                   0                       0   \n",
       "2                      0                   0                       0   \n",
       "3                      7                   0                       3   \n",
       "4                      1                   0                       0   \n",
       "\n",
       "   CommentsFirst24h_33  CommentsDiffFirstSecondDay_34  BaseTime_35  ...  \\\n",
       "0                    0                              0           65  ...   \n",
       "1                    0                              0           10  ...   \n",
       "2                    0                              0           14  ...   \n",
       "3                    7                             -3           62  ...   \n",
       "4                    1                              0           58  ...   \n",
       "\n",
       "   FridayPublished_45  SaturdayPublished_46  SundayBase_47  MondayBase_48  \\\n",
       "0                   0                     0              0              0   \n",
       "1                   0                     0              0              0   \n",
       "2                   1                     0              0              0   \n",
       "3                   1                     0              0              1   \n",
       "4                   0                     0              0              0   \n",
       "\n",
       "   TuesdayBase_49  WednesdayBase_50  ThursdayBase_51  FridayBase_52  \\\n",
       "0               0                 0                0              0   \n",
       "1               0                 0                0              1   \n",
       "2               0                 0                0              0   \n",
       "3               0                 0                0              0   \n",
       "4               0                 1                0              0   \n",
       "\n",
       "   SaturdayBase_53  CommentsNextH_Hours_54  \n",
       "0                1                       0  \n",
       "1                0                       0  \n",
       "2                1                       0  \n",
       "3                0                       0  \n",
       "4                0                       0  \n",
       "\n",
       "[5 rows x 28 columns]"
      ]
     },
     "execution_count": 8,
     "metadata": {},
     "output_type": "execute_result"
    }
   ],
   "source": [
    "facebook2_s.head()"
   ]
  },
  {
   "cell_type": "code",
   "execution_count": 9,
   "metadata": {},
   "outputs": [],
   "source": [
    "facebook2_s['PagePopularity_1'] = (facebook2['PagePopularity_1'] - mean_1)/sd_1\n",
    "facebook2_s['PageCheckins_2'] = (facebook2['PageCheckins_2'] - mean_2)/sd_2\n",
    "facebook2_s['PageTalkingAbout_3'] = (facebook2['PageTalkingAbout_3'] - mean_3)/sd_3\n",
    "facebook2_s['PageCategory_4'] = (facebook2['PageCategory_4'] - mean_4)/sd_4\n",
    "facebook2_s['CommentsBeforeBase_30'] = (facebook2['CommentsBeforeBase_30'] - mean_30)/sd_30\n",
    "facebook2_s['CommentsLast24h_31'] = (facebook2['CommentsLast24h_31'] - mean_31)/sd_31\n",
    "facebook2_s['CommentsLast48to24h_32'] = (facebook2['CommentsLast48to24h_32'] - mean_32)/sd_32\n",
    "facebook2_s['CommentsFirst24h_33'] = (facebook2['CommentsFirst24h_33'] - mean_33)/sd_33\n",
    "facebook2_s['CommentsDiffFirstSecondDay_34'] = (facebook2['CommentsDiffFirstSecondDay_34'] - mean_34)/sd_34\n",
    "## check to see if 35 should be scaled\n",
    "facebook2_s['BaseTime_35'] = facebook2['BaseTime_35']\n",
    "facebook2_s['PostLength_36'] = (facebook2['PostLength_36'] - mean_36)/sd_36\n",
    "facebook2_s['PostShareCnt_37'] = (facebook2['PostShareCnt_37'] - mean_37)/sd_37\n",
    "##facebook2_s['PostPromoStatus_38'] = (facebook2['PostPromoStatus_38'] - mean_38)/sd_38 --- appears to be zero\n",
    "## check to see if 39 should be scaled\n",
    "facebook2_s['HoursReceived_39'] = (facebook2['HoursReceived_39'] - mean_39)/sd_39\n",
    "facebook2_s['SundayPublished_40'] = (facebook2['SundayPublished_40'] - mean_40)/sd_40\n",
    "facebook2_s['MondayPublished_41'] = (facebook2['MondayPublished_41'] - mean_41)/sd_41\n",
    "facebook2_s['TuesdayPublisher_42'] = (facebook2['TuesdayPublisher_42'] - mean_42)/sd_42\n",
    "facebook2_s['WednesdayPublished_43'] = (facebook2['WednesdayPublished_43'] - mean_43)/sd_43\n",
    "facebook2_s['ThursdayPublished_44'] = (facebook2['ThursdayPublished_44'] - mean_44)/sd_44\n",
    "facebook2_s['FridayPublished_45'] = (facebook2['FridayPublished_45'] - mean_45)/sd_45\n",
    "facebook2_s['SaturdayPublished_46'] = (facebook2['SaturdayPublished_46'] - mean_46)/sd_46\n",
    "facebook2_s['SundayBase_47'] = (facebook2['SundayBase_47'] - mean_47)/sd_47\n",
    "facebook2_s['MondayBase_48'] = (facebook2['MondayBase_48'] - mean_48)/sd_48\n",
    "facebook2_s['TuesdayBase_49'] = (facebook2['TuesdayBase_49'] - mean_49)/sd_49\n",
    "facebook2_s['WednesdayBase_50'] = (facebook2['WednesdayBase_50'] - mean_50)/sd_50\n",
    "facebook2_s['ThursdayBase_51'] = (facebook2['ThursdayBase_51'] - mean_51)/sd_51\n",
    "facebook2_s['FridayBase_52'] = (facebook2['FridayBase_52'] - mean_52)/sd_52\n",
    "facebook2_s['SaturdayBase_53'] = (facebook2['SaturdayBase_53'] - mean_53)/sd_53\n",
    "## don't scales the target\n",
    "facebook2_s['CommentsNextH_Hours_54'] = facebook2['CommentsNextH_Hours_54']"
   ]
  },
  {
   "cell_type": "code",
   "execution_count": 10,
   "metadata": {},
   "outputs": [
    {
     "data": {
      "text/html": [
       "<div>\n",
       "<style scoped>\n",
       "    .dataframe tbody tr th:only-of-type {\n",
       "        vertical-align: middle;\n",
       "    }\n",
       "\n",
       "    .dataframe tbody tr th {\n",
       "        vertical-align: top;\n",
       "    }\n",
       "\n",
       "    .dataframe thead th {\n",
       "        text-align: right;\n",
       "    }\n",
       "</style>\n",
       "<table border=\"1\" class=\"dataframe\">\n",
       "  <thead>\n",
       "    <tr style=\"text-align: right;\">\n",
       "      <th></th>\n",
       "      <th>PagePopularity_1</th>\n",
       "      <th>PageCheckins_2</th>\n",
       "      <th>PageTalkingAbout_3</th>\n",
       "      <th>PageCategory_4</th>\n",
       "      <th>CommentsBeforeBase_30</th>\n",
       "      <th>CommentsLast24h_31</th>\n",
       "      <th>CommentsLast48to24h_32</th>\n",
       "      <th>CommentsFirst24h_33</th>\n",
       "      <th>CommentsDiffFirstSecondDay_34</th>\n",
       "      <th>BaseTime_35</th>\n",
       "      <th>...</th>\n",
       "      <th>FridayPublished_45</th>\n",
       "      <th>SaturdayPublished_46</th>\n",
       "      <th>SundayBase_47</th>\n",
       "      <th>MondayBase_48</th>\n",
       "      <th>TuesdayBase_49</th>\n",
       "      <th>WednesdayBase_50</th>\n",
       "      <th>ThursdayBase_51</th>\n",
       "      <th>FridayBase_52</th>\n",
       "      <th>SaturdayBase_53</th>\n",
       "      <th>CommentsNextH_Hours_54</th>\n",
       "    </tr>\n",
       "  </thead>\n",
       "  <tbody>\n",
       "    <tr>\n",
       "      <th>0</th>\n",
       "      <td>-0.107749</td>\n",
       "      <td>-0.220202</td>\n",
       "      <td>-0.359973</td>\n",
       "      <td>-1.161633</td>\n",
       "      <td>-0.396924</td>\n",
       "      <td>-0.277312</td>\n",
       "      <td>-0.269467</td>\n",
       "      <td>-0.400045</td>\n",
       "      <td>-0.036157</td>\n",
       "      <td>65</td>\n",
       "      <td>...</td>\n",
       "      <td>-0.417790</td>\n",
       "      <td>-0.40196</td>\n",
       "      <td>-0.413886</td>\n",
       "      <td>-0.393397</td>\n",
       "      <td>-0.393962</td>\n",
       "      <td>-0.411909</td>\n",
       "      <td>-0.418774</td>\n",
       "      <td>-0.411513</td>\n",
       "      <td>2.415662</td>\n",
       "      <td>0</td>\n",
       "    </tr>\n",
       "    <tr>\n",
       "      <th>1</th>\n",
       "      <td>-0.107749</td>\n",
       "      <td>-0.220202</td>\n",
       "      <td>-0.359973</td>\n",
       "      <td>-1.161633</td>\n",
       "      <td>-0.396924</td>\n",
       "      <td>-0.277312</td>\n",
       "      <td>-0.269467</td>\n",
       "      <td>-0.400045</td>\n",
       "      <td>-0.036157</td>\n",
       "      <td>10</td>\n",
       "      <td>...</td>\n",
       "      <td>-0.417790</td>\n",
       "      <td>-0.40196</td>\n",
       "      <td>-0.413886</td>\n",
       "      <td>-0.393397</td>\n",
       "      <td>-0.393962</td>\n",
       "      <td>-0.411909</td>\n",
       "      <td>-0.418774</td>\n",
       "      <td>2.430059</td>\n",
       "      <td>-0.413965</td>\n",
       "      <td>0</td>\n",
       "    </tr>\n",
       "    <tr>\n",
       "      <th>2</th>\n",
       "      <td>-0.107749</td>\n",
       "      <td>-0.220202</td>\n",
       "      <td>-0.359973</td>\n",
       "      <td>-1.161633</td>\n",
       "      <td>-0.396924</td>\n",
       "      <td>-0.277312</td>\n",
       "      <td>-0.269467</td>\n",
       "      <td>-0.400045</td>\n",
       "      <td>-0.036157</td>\n",
       "      <td>14</td>\n",
       "      <td>...</td>\n",
       "      <td>2.393547</td>\n",
       "      <td>-0.40196</td>\n",
       "      <td>-0.413886</td>\n",
       "      <td>-0.393397</td>\n",
       "      <td>-0.393962</td>\n",
       "      <td>-0.411909</td>\n",
       "      <td>-0.418774</td>\n",
       "      <td>-0.411513</td>\n",
       "      <td>2.415662</td>\n",
       "      <td>0</td>\n",
       "    </tr>\n",
       "    <tr>\n",
       "      <th>3</th>\n",
       "      <td>-0.107749</td>\n",
       "      <td>-0.220202</td>\n",
       "      <td>-0.359973</td>\n",
       "      <td>-1.161633</td>\n",
       "      <td>-0.348015</td>\n",
       "      <td>-0.277312</td>\n",
       "      <td>-0.228578</td>\n",
       "      <td>-0.347915</td>\n",
       "      <td>-0.066027</td>\n",
       "      <td>62</td>\n",
       "      <td>...</td>\n",
       "      <td>2.393547</td>\n",
       "      <td>-0.40196</td>\n",
       "      <td>-0.413886</td>\n",
       "      <td>2.541964</td>\n",
       "      <td>-0.393962</td>\n",
       "      <td>-0.411909</td>\n",
       "      <td>-0.418774</td>\n",
       "      <td>-0.411513</td>\n",
       "      <td>-0.413965</td>\n",
       "      <td>0</td>\n",
       "    </tr>\n",
       "    <tr>\n",
       "      <th>4</th>\n",
       "      <td>-0.107749</td>\n",
       "      <td>-0.220202</td>\n",
       "      <td>-0.359973</td>\n",
       "      <td>-1.161633</td>\n",
       "      <td>-0.389937</td>\n",
       "      <td>-0.277312</td>\n",
       "      <td>-0.269467</td>\n",
       "      <td>-0.392598</td>\n",
       "      <td>-0.036157</td>\n",
       "      <td>58</td>\n",
       "      <td>...</td>\n",
       "      <td>-0.417790</td>\n",
       "      <td>-0.40196</td>\n",
       "      <td>-0.413886</td>\n",
       "      <td>-0.393397</td>\n",
       "      <td>-0.393962</td>\n",
       "      <td>2.427723</td>\n",
       "      <td>-0.418774</td>\n",
       "      <td>-0.411513</td>\n",
       "      <td>-0.413965</td>\n",
       "      <td>0</td>\n",
       "    </tr>\n",
       "  </tbody>\n",
       "</table>\n",
       "<p>5 rows × 28 columns</p>\n",
       "</div>"
      ],
      "text/plain": [
       "   PagePopularity_1  PageCheckins_2  PageTalkingAbout_3  PageCategory_4  \\\n",
       "0         -0.107749       -0.220202           -0.359973       -1.161633   \n",
       "1         -0.107749       -0.220202           -0.359973       -1.161633   \n",
       "2         -0.107749       -0.220202           -0.359973       -1.161633   \n",
       "3         -0.107749       -0.220202           -0.359973       -1.161633   \n",
       "4         -0.107749       -0.220202           -0.359973       -1.161633   \n",
       "\n",
       "   CommentsBeforeBase_30  CommentsLast24h_31  CommentsLast48to24h_32  \\\n",
       "0              -0.396924           -0.277312               -0.269467   \n",
       "1              -0.396924           -0.277312               -0.269467   \n",
       "2              -0.396924           -0.277312               -0.269467   \n",
       "3              -0.348015           -0.277312               -0.228578   \n",
       "4              -0.389937           -0.277312               -0.269467   \n",
       "\n",
       "   CommentsFirst24h_33  CommentsDiffFirstSecondDay_34  BaseTime_35  ...  \\\n",
       "0            -0.400045                      -0.036157           65  ...   \n",
       "1            -0.400045                      -0.036157           10  ...   \n",
       "2            -0.400045                      -0.036157           14  ...   \n",
       "3            -0.347915                      -0.066027           62  ...   \n",
       "4            -0.392598                      -0.036157           58  ...   \n",
       "\n",
       "   FridayPublished_45  SaturdayPublished_46  SundayBase_47  MondayBase_48  \\\n",
       "0           -0.417790              -0.40196      -0.413886      -0.393397   \n",
       "1           -0.417790              -0.40196      -0.413886      -0.393397   \n",
       "2            2.393547              -0.40196      -0.413886      -0.393397   \n",
       "3            2.393547              -0.40196      -0.413886       2.541964   \n",
       "4           -0.417790              -0.40196      -0.413886      -0.393397   \n",
       "\n",
       "   TuesdayBase_49  WednesdayBase_50  ThursdayBase_51  FridayBase_52  \\\n",
       "0       -0.393962         -0.411909        -0.418774      -0.411513   \n",
       "1       -0.393962         -0.411909        -0.418774       2.430059   \n",
       "2       -0.393962         -0.411909        -0.418774      -0.411513   \n",
       "3       -0.393962         -0.411909        -0.418774      -0.411513   \n",
       "4       -0.393962          2.427723        -0.418774      -0.411513   \n",
       "\n",
       "   SaturdayBase_53  CommentsNextH_Hours_54  \n",
       "0         2.415662                       0  \n",
       "1        -0.413965                       0  \n",
       "2         2.415662                       0  \n",
       "3        -0.413965                       0  \n",
       "4        -0.413965                       0  \n",
       "\n",
       "[5 rows x 28 columns]"
      ]
     },
     "execution_count": 10,
     "metadata": {},
     "output_type": "execute_result"
    }
   ],
   "source": [
    "facebook2_s.head()"
   ]
  },
  {
   "cell_type": "markdown",
   "metadata": {},
   "source": [
    "#### Estalish binary classification label."
   ]
  },
  {
   "cell_type": "code",
   "execution_count": 11,
   "metadata": {},
   "outputs": [],
   "source": [
    "#### Create binary variable for classification analysis. Apply to both the scaled and unscaled data sets.\n",
    "\n",
    "facebook2['Comment_Y'] = facebook2['CommentsNextH_Hours_54']>0\n",
    "facebook2['Comment_Y'] = facebook2['Comment_Y'].apply(int)\n",
    "facebook2_s['Comment_Y'] = facebook2['Comment_Y']"
   ]
  },
  {
   "cell_type": "code",
   "execution_count": 12,
   "metadata": {},
   "outputs": [],
   "source": [
    "X = facebook2.iloc[:, 0:27]\n",
    "y = facebook2.iloc[:, 28:29]\n",
    "X_s = facebook2_s.iloc[:, 0:27]\n",
    "y_s = pd.DataFrame(facebook2_s.iloc[:, 28:29])"
   ]
  },
  {
   "cell_type": "code",
   "execution_count": 13,
   "metadata": {},
   "outputs": [
    {
     "data": {
      "text/plain": [
       "Index(['PagePopularity_1', 'PageCheckins_2', 'PageTalkingAbout_3',\n",
       "       'PageCategory_4', 'CommentsBeforeBase_30', 'CommentsLast24h_31',\n",
       "       'CommentsLast48to24h_32', 'CommentsFirst24h_33',\n",
       "       'CommentsDiffFirstSecondDay_34', 'BaseTime_35', 'PostLength_36',\n",
       "       'PostShareCnt_37', 'HoursReceived_39', 'SundayPublished_40',\n",
       "       'MondayPublished_41', 'TuesdayPublisher_42', 'WednesdayPublished_43',\n",
       "       'ThursdayPublished_44', 'FridayPublished_45', 'SaturdayPublished_46',\n",
       "       'SundayBase_47', 'MondayBase_48', 'TuesdayBase_49', 'WednesdayBase_50',\n",
       "       'ThursdayBase_51', 'FridayBase_52', 'SaturdayBase_53',\n",
       "       'CommentsNextH_Hours_54', 'Comment_Y'],\n",
       "      dtype='object')"
      ]
     },
     "execution_count": 13,
     "metadata": {},
     "output_type": "execute_result"
    }
   ],
   "source": [
    "facebook2_s.columns"
   ]
  },
  {
   "cell_type": "markdown",
   "metadata": {},
   "source": [
    "#### Split Data into testing and training."
   ]
  },
  {
   "cell_type": "code",
   "execution_count": 14,
   "metadata": {},
   "outputs": [],
   "source": [
    "from sklearn.model_selection import train_test_split\n",
    "\n",
    "Xs_train, Xs_test, ys_train, ys_test = train_test_split(X_s, y_s, test_size=0.3, random_state=4786)\n",
    "X_train, X_test, y_train, y_test = train_test_split(X, y, test_size=0.3, random_state=4786)"
   ]
  },
  {
   "cell_type": "markdown",
   "metadata": {},
   "source": [
    "## kNN"
   ]
  },
  {
   "cell_type": "code",
   "execution_count": 15,
   "metadata": {},
   "outputs": [],
   "source": [
    "#import KNeighborsClassifier\n",
    "from sklearn.neighbors import KNeighborsClassifier"
   ]
  },
  {
   "cell_type": "code",
   "execution_count": 16,
   "metadata": {},
   "outputs": [],
   "source": [
    "### default"
   ]
  },
  {
   "cell_type": "code",
   "execution_count": 17,
   "metadata": {},
   "outputs": [],
   "source": [
    "#Setup arrays to store training and test accuracies\n",
    "neighbors = np.arange(1,21)\n",
    "train_accuracy =np.empty(len(neighbors))\n",
    "test_accuracy = np.empty(len(neighbors))\n",
    "\n",
    "for i,k in enumerate(neighbors):\n",
    "    #Setup a knn classifier with k neighbors\n",
    "    knn = KNeighborsClassifier(n_neighbors=k)\n",
    "    \n",
    "    #Fit the model\n",
    "    knn.fit(Xs_train, ys_train['Comment_Y'])\n",
    "    \n",
    "    #Compute accuracy on the training set\n",
    "    train_accuracy[i] = knn.score(Xs_train, ys_train['Comment_Y'])\n",
    "    \n",
    "    #Compute accuracy on the test set\n",
    "    test_accuracy[i] = knn.score(Xs_test, ys_test['Comment_Y'])"
   ]
  },
  {
   "cell_type": "code",
   "execution_count": 18,
   "metadata": {},
   "outputs": [
    {
     "data": {
      "image/png": "[encoded data removed]",
      "text/plain": [
       "<Figure size 432x288 with 1 Axes>"
      ]
     },
     "metadata": {
      "needs_background": "light"
     },
     "output_type": "display_data"
    }
   ],
   "source": [
    "#Generate plot\n",
    "plt.title('Accuracy after K nearest neighbors, Default Parameters')\n",
    "plt.plot(neighbors, test_accuracy, label='Testing Accuracy', color='m')\n",
    "plt.plot(neighbors, train_accuracy, label='Training Accuracy', color='b')\n",
    "plt.legend()\n",
    "plt.xlabel('Number of neighbors')\n",
    "plt.ylabel('Accuracy')\n",
    "plt.show()"
   ]
  },
  {
   "cell_type": "code",
   "execution_count": 19,
   "metadata": {},
   "outputs": [
    {
     "data": {
      "text/plain": [
       "array([0.99996594, 0.84872633, 0.85999864, 0.82345729, 0.82917859,\n",
       "       0.80837079, 0.81351315, 0.80026563, 0.8048631 , 0.795566  ,\n",
       "       0.7987672 , 0.79008309, 0.79355674, 0.78776733, 0.78841438,\n",
       "       0.78204604, 0.78517913, 0.77942378, 0.78201199, 0.77765291])"
      ]
     },
     "execution_count": 19,
     "metadata": {},
     "output_type": "execute_result"
    }
   ],
   "source": [
    "train_accuracy"
   ]
  },
  {
   "cell_type": "code",
   "execution_count": 20,
   "metadata": {},
   "outputs": [
    {
     "data": {
      "text/plain": [
       "array([0.71998411, 0.72896305, 0.74255066, 0.74358363, 0.75224474,\n",
       "       0.74978149, 0.75923719, 0.75343663, 0.75987286, 0.75423123,\n",
       "       0.76170044, 0.75661502, 0.76170044, 0.7552642 , 0.760588  ,\n",
       "       0.75733015, 0.75995232, 0.75431069, 0.75891935, 0.7552642 ])"
      ]
     },
     "execution_count": 20,
     "metadata": {},
     "output_type": "execute_result"
    }
   ],
   "source": [
    "test_accuracy"
   ]
  },
  {
   "cell_type": "markdown",
   "metadata": {},
   "source": [
    "In both Euclidean and Manhattan distances, k of 11 and 13 yield strong performance of the test set. Performance overall is slightly better with Manhattan distance."
   ]
  },
  {
   "cell_type": "code",
   "execution_count": 21,
   "metadata": {},
   "outputs": [
    {
     "data": {
      "text/plain": [
       "KNeighborsClassifier(algorithm='auto', leaf_size=30, metric='minkowski',\n",
       "           metric_params=None, n_jobs=None, n_neighbors=11, p=2,\n",
       "           weights='uniform')"
      ]
     },
     "execution_count": 21,
     "metadata": {},
     "output_type": "execute_result"
    }
   ],
   "source": [
    "knn_minkowski = KNeighborsClassifier(n_neighbors=11, metric='minkowski')\n",
    "knn_minkowski.fit(Xs_train, ys_train['Comment_Y'])"
   ]
  },
  {
   "cell_type": "code",
   "execution_count": 22,
   "metadata": {},
   "outputs": [],
   "source": [
    "mink = knn_minkowski.score(Xs_train, ys_train['Comment_Y'])"
   ]
  },
  {
   "cell_type": "code",
   "execution_count": 23,
   "metadata": {},
   "outputs": [
    {
     "data": {
      "text/plain": [
       "KNeighborsClassifier(algorithm='auto', leaf_size=30, metric='manhattan',\n",
       "           metric_params=None, n_jobs=None, n_neighbors=11, p=2,\n",
       "           weights='uniform')"
      ]
     },
     "execution_count": 23,
     "metadata": {},
     "output_type": "execute_result"
    }
   ],
   "source": [
    "knn_manhattan = KNeighborsClassifier(n_neighbors=11, metric='manhattan')\n",
    "knn_manhattan.fit(Xs_train, ys_train['Comment_Y'])"
   ]
  },
  {
   "cell_type": "code",
   "execution_count": 24,
   "metadata": {},
   "outputs": [],
   "source": [
    "manh = knn_manhattan.score(Xs_train, ys_train['Comment_Y'])"
   ]
  },
  {
   "cell_type": "code",
   "execution_count": 25,
   "metadata": {},
   "outputs": [
    {
     "data": {
      "text/plain": [
       "KNeighborsClassifier(algorithm='auto', leaf_size=30, metric='euclidean',\n",
       "           metric_params=None, n_jobs=None, n_neighbors=11, p=2,\n",
       "           weights='uniform')"
      ]
     },
     "execution_count": 25,
     "metadata": {},
     "output_type": "execute_result"
    }
   ],
   "source": [
    "knn_euclidean = KNeighborsClassifier(n_neighbors=11, metric='euclidean')\n",
    "knn_euclidean.fit(Xs_train, ys_train['Comment_Y'])"
   ]
  },
  {
   "cell_type": "code",
   "execution_count": 26,
   "metadata": {},
   "outputs": [],
   "source": [
    "eucl = knn_euclidean.score(Xs_train, ys_train['Comment_Y'])"
   ]
  },
  {
   "cell_type": "code",
   "execution_count": 27,
   "metadata": {},
   "outputs": [
    {
     "data": {
      "text/plain": [
       "Text(0.5, 1.0, 'Accuracy by Measurement Type')"
      ]
     },
     "execution_count": 27,
     "metadata": {},
     "output_type": "execute_result"
    },
    {
     "data": {
      "image/png": "[encoded data removed]",
      "text/plain": [
       "<Figure size 432x288 with 1 Axes>"
      ]
     },
     "metadata": {
      "needs_background": "light"
     },
     "output_type": "display_data"
    }
   ],
   "source": [
    "functs = ['Minkowski', 'Manhattan', 'Euclidean']\n",
    "\n",
    "res = [mink, manh, eucl]\n",
    "\n",
    "plt.bar(functs, res)\n",
    "plt.title('Accuracy by Measurement Type', fontsize = 16)"
   ]
  },
  {
   "cell_type": "code",
   "execution_count": 28,
   "metadata": {},
   "outputs": [
    {
     "name": "stdout",
     "output_type": "stream",
     "text": [
      "0.7987671979294374 0.8169527312355265 0.7987671979294374\n"
     ]
    }
   ],
   "source": [
    "print(mink, manh, eucl)"
   ]
  },
  {
   "cell_type": "markdown",
   "metadata": {},
   "source": [
    "Checking to see if p will make a difference."
   ]
  },
  {
   "cell_type": "code",
   "execution_count": 29,
   "metadata": {},
   "outputs": [
    {
     "data": {
      "text/plain": [
       "KNeighborsClassifier(algorithm='auto', leaf_size=30, metric='manhattan',\n",
       "           metric_params=None, n_jobs=None, n_neighbors=11, p=1,\n",
       "           weights='uniform')"
      ]
     },
     "execution_count": 29,
     "metadata": {},
     "output_type": "execute_result"
    }
   ],
   "source": [
    "knn_manhattan_p1 = KNeighborsClassifier(n_neighbors=11, metric='manhattan', p=1)\n",
    "knn_manhattan_p1.fit(Xs_train, ys_train['Comment_Y'])"
   ]
  },
  {
   "cell_type": "code",
   "execution_count": 30,
   "metadata": {},
   "outputs": [
    {
     "data": {
      "text/plain": [
       "0.8169527312355265"
      ]
     },
     "execution_count": 30,
     "metadata": {},
     "output_type": "execute_result"
    }
   ],
   "source": [
    "knn_manhattan.score(Xs_train, ys_train['Comment_Y'])"
   ]
  },
  {
   "cell_type": "code",
   "execution_count": 31,
   "metadata": {},
   "outputs": [],
   "source": [
    "knn_manhattan_train_pred = knn_manhattan.predict(Xs_train)"
   ]
  },
  {
   "cell_type": "code",
   "execution_count": 32,
   "metadata": {},
   "outputs": [],
   "source": [
    "knn_manhattan_test_pred = knn_manhattan.predict(Xs_test)"
   ]
  },
  {
   "cell_type": "code",
   "execution_count": 33,
   "metadata": {
    "scrolled": true
   },
   "outputs": [
    {
     "name": "stdout",
     "output_type": "stream",
     "text": [
      "In-Sample Classification Report for kNN-Manhattan: \n",
      "\n",
      "               precision    recall  f1-score   support\n",
      "\n",
      "           0       0.79      0.91      0.84     16087\n",
      "           1       0.87      0.70      0.78     13277\n",
      "\n",
      "   micro avg       0.82      0.82      0.82     29364\n",
      "   macro avg       0.83      0.81      0.81     29364\n",
      "weighted avg       0.82      0.82      0.81     29364\n",
      "\n"
     ]
    }
   ],
   "source": [
    "print(\"In-Sample Classification Report for kNN-Manhattan: \\n\\n\", classification_report(ys_train['Comment_Y'],knn_manhattan_train_pred))"
   ]
  },
  {
   "cell_type": "code",
   "execution_count": 34,
   "metadata": {},
   "outputs": [
    {
     "name": "stdout",
     "output_type": "stream",
     "text": [
      "Out-of-Sample Classification Report for kNN-Manhattan: \n",
      "\n",
      "               precision    recall  f1-score   support\n",
      "\n",
      "           0       0.76      0.89      0.82      6849\n",
      "           1       0.83      0.66      0.74      5736\n",
      "\n",
      "   micro avg       0.78      0.78      0.78     12585\n",
      "   macro avg       0.79      0.77      0.78     12585\n",
      "weighted avg       0.79      0.78      0.78     12585\n",
      "\n"
     ]
    }
   ],
   "source": [
    "print(\"Out-of-Sample Classification Report for kNN-Manhattan: \\n\\n\", classification_report(ys_test['Comment_Y'],knn_manhattan_test_pred))"
   ]
  },
  {
   "cell_type": "code",
   "execution_count": 35,
   "metadata": {},
   "outputs": [],
   "source": [
    "knn_manhattan_train = pd.DataFrame(confusion_matrix(ys_train, knn_manhattan_train_pred))\n",
    "knn_manhattan_test = pd.DataFrame(confusion_matrix(ys_test, knn_manhattan_test_pred))\n",
    "\n",
    "knn_manhattan_train.rename(columns={0:'Positive Predicted', 1: 'Negative Predicted'}, inplace=True)\n",
    "knn_manhattan_train.rename(index={0:'Positive', 1: 'Negative'}, inplace=True)\n",
    "knn_manhattan_test.rename(columns={0:'Positive Predicted', 1: 'Negative Predicted'}, inplace=True)\n",
    "knn_manhattan_test.rename(index={0:'Positive', 1: 'Negative'}, inplace=True)"
   ]
  },
  {
   "cell_type": "code",
   "execution_count": 36,
   "metadata": {},
   "outputs": [
    {
     "data": {
      "text/html": [
       "<div>\n",
       "<style scoped>\n",
       "    .dataframe tbody tr th:only-of-type {\n",
       "        vertical-align: middle;\n",
       "    }\n",
       "\n",
       "    .dataframe tbody tr th {\n",
       "        vertical-align: top;\n",
       "    }\n",
       "\n",
       "    .dataframe thead th {\n",
       "        text-align: right;\n",
       "    }\n",
       "</style>\n",
       "<table border=\"1\" class=\"dataframe\">\n",
       "  <thead>\n",
       "    <tr style=\"text-align: right;\">\n",
       "      <th></th>\n",
       "      <th>Positive Predicted</th>\n",
       "      <th>Negative Predicted</th>\n",
       "    </tr>\n",
       "  </thead>\n",
       "  <tbody>\n",
       "    <tr>\n",
       "      <th>Positive</th>\n",
       "      <td>14645</td>\n",
       "      <td>1442</td>\n",
       "    </tr>\n",
       "    <tr>\n",
       "      <th>Negative</th>\n",
       "      <td>3933</td>\n",
       "      <td>9344</td>\n",
       "    </tr>\n",
       "  </tbody>\n",
       "</table>\n",
       "</div>"
      ],
      "text/plain": [
       "          Positive Predicted  Negative Predicted\n",
       "Positive               14645                1442\n",
       "Negative                3933                9344"
      ]
     },
     "execution_count": 36,
     "metadata": {},
     "output_type": "execute_result"
    }
   ],
   "source": [
    "knn_manhattan_train"
   ]
  },
  {
   "cell_type": "code",
   "execution_count": 37,
   "metadata": {},
   "outputs": [
    {
     "data": {
      "text/html": [
       "<div>\n",
       "<style scoped>\n",
       "    .dataframe tbody tr th:only-of-type {\n",
       "        vertical-align: middle;\n",
       "    }\n",
       "\n",
       "    .dataframe tbody tr th {\n",
       "        vertical-align: top;\n",
       "    }\n",
       "\n",
       "    .dataframe thead th {\n",
       "        text-align: right;\n",
       "    }\n",
       "</style>\n",
       "<table border=\"1\" class=\"dataframe\">\n",
       "  <thead>\n",
       "    <tr style=\"text-align: right;\">\n",
       "      <th></th>\n",
       "      <th>Positive Predicted</th>\n",
       "      <th>Negative Predicted</th>\n",
       "    </tr>\n",
       "  </thead>\n",
       "  <tbody>\n",
       "    <tr>\n",
       "      <th>Positive</th>\n",
       "      <td>6070</td>\n",
       "      <td>779</td>\n",
       "    </tr>\n",
       "    <tr>\n",
       "      <th>Negative</th>\n",
       "      <td>1935</td>\n",
       "      <td>3801</td>\n",
       "    </tr>\n",
       "  </tbody>\n",
       "</table>\n",
       "</div>"
      ],
      "text/plain": [
       "          Positive Predicted  Negative Predicted\n",
       "Positive                6070                 779\n",
       "Negative                1935                3801"
      ]
     },
     "execution_count": 37,
     "metadata": {},
     "output_type": "execute_result"
    }
   ],
   "source": [
    "knn_manhattan_test"
   ]
  },
  {
   "cell_type": "code",
   "execution_count": 38,
   "metadata": {},
   "outputs": [
    {
     "data": {
      "text/plain": [
       "0.21565355582042114"
      ]
     },
     "execution_count": 38,
     "metadata": {},
     "output_type": "execute_result"
    }
   ],
   "source": [
    "(779+1935)/len(ys_test)"
   ]
  }
 ],
 "metadata": {
  "kernelspec": {
   "display_name": "Python 3",
   "language": "python",
   "name": "python3"
  },
  "language_info": {
   "codemirror_mode": {
    "name": "ipython",
    "version": 3
   },
   "file_extension": ".py",
   "mimetype": "text/x-python",
   "name": "python",
   "nbconvert_exporter": "python",
   "pygments_lexer": "ipython3",
   "version": "3.6.8"
  }
 },
 "nbformat": 4,
 "nbformat_minor": 2
}
